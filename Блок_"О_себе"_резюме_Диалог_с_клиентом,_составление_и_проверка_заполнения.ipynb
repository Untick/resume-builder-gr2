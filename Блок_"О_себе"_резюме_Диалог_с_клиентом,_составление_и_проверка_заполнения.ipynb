{
  "nbformat": 4,
  "nbformat_minor": 0,
  "metadata": {
    "colab": {
      "provenance": [],
      "include_colab_link": true
    },
    "kernelspec": {
      "name": "python3",
      "display_name": "Python 3"
    },
    "language_info": {
      "name": "python"
    }
  },
  "cells": [
    {
      "cell_type": "markdown",
      "metadata": {
        "id": "view-in-github",
        "colab_type": "text"
      },
      "source": [
        "<a href=\"https://colab.research.google.com/github/Untick/resume-builder-gr2/blob/Labzin-Vyacheslav-branch/%D0%91%D0%BB%D0%BE%D0%BA_%22%D0%9E_%D1%81%D0%B5%D0%B1%D0%B5%22_%D1%80%D0%B5%D0%B7%D1%8E%D0%BC%D0%B5_%D0%94%D0%B8%D0%B0%D0%BB%D0%BE%D0%B3_%D1%81_%D0%BA%D0%BB%D0%B8%D0%B5%D0%BD%D1%82%D0%BE%D0%BC%2C_%D1%81%D0%BE%D1%81%D1%82%D0%B0%D0%B2%D0%BB%D0%B5%D0%BD%D0%B8%D0%B5_%D0%B8_%D0%BF%D1%80%D0%BE%D0%B2%D0%B5%D1%80%D0%BA%D0%B0_%D0%B7%D0%B0%D0%BF%D0%BE%D0%BB%D0%BD%D0%B5%D0%BD%D0%B8%D1%8F.ipynb\" target=\"_parent\"><img src=\"https://colab.research.google.com/assets/colab-badge.svg\" alt=\"Open In Colab\"/></a>"
      ]
    },
    {
      "cell_type": "code",
      "source": [
        "!pip install openai"
      ],
      "metadata": {
        "colab": {
          "base_uri": "https://localhost:8080/"
        },
        "id": "5Q2oeV6mGhxB",
        "outputId": "863aa3e4-dc97-4fb8-9368-a2f6f37891b2"
      },
      "execution_count": null,
      "outputs": [
        {
          "output_type": "stream",
          "name": "stdout",
          "text": [
            "Collecting openai\n",
            "  Downloading openai-1.2.3-py3-none-any.whl (220 kB)\n",
            "\u001b[?25l     \u001b[90m━━━━━━━━━━━━━━━━━━━━━━━━━━━━━━━━━━━━━━━━\u001b[0m \u001b[32m0.0/220.3 kB\u001b[0m \u001b[31m?\u001b[0m eta \u001b[36m-:--:--\u001b[0m\r\u001b[2K     \u001b[91m━━━━━━━━━━━━━━━━━━━━━━━━━━━\u001b[0m\u001b[91m╸\u001b[0m\u001b[90m━━━━━━━━━━━━\u001b[0m \u001b[32m153.6/220.3 kB\u001b[0m \u001b[31m4.4 MB/s\u001b[0m eta \u001b[36m0:00:01\u001b[0m\r\u001b[2K     \u001b[90m━━━━━━━━━━━━━━━━━━━━━━━━━━━━━━━━━━━━━━━━\u001b[0m \u001b[32m220.3/220.3 kB\u001b[0m \u001b[31m4.6 MB/s\u001b[0m eta \u001b[36m0:00:00\u001b[0m\n",
            "\u001b[?25hRequirement already satisfied: anyio<4,>=3.5.0 in /usr/local/lib/python3.10/dist-packages (from openai) (3.7.1)\n",
            "Requirement already satisfied: distro<2,>=1.7.0 in /usr/lib/python3/dist-packages (from openai) (1.7.0)\n",
            "Collecting httpx<1,>=0.23.0 (from openai)\n",
            "  Downloading httpx-0.25.1-py3-none-any.whl (75 kB)\n",
            "\u001b[2K     \u001b[90m━━━━━━━━━━━━━━━━━━━━━━━━━━━━━━━━━━━━━━━━\u001b[0m \u001b[32m75.0/75.0 kB\u001b[0m \u001b[31m9.2 MB/s\u001b[0m eta \u001b[36m0:00:00\u001b[0m\n",
            "\u001b[?25hRequirement already satisfied: pydantic<3,>=1.9.0 in /usr/local/lib/python3.10/dist-packages (from openai) (1.10.13)\n",
            "Requirement already satisfied: tqdm>4 in /usr/local/lib/python3.10/dist-packages (from openai) (4.66.1)\n",
            "Requirement already satisfied: typing-extensions<5,>=4.5 in /usr/local/lib/python3.10/dist-packages (from openai) (4.5.0)\n",
            "Requirement already satisfied: idna>=2.8 in /usr/local/lib/python3.10/dist-packages (from anyio<4,>=3.5.0->openai) (3.4)\n",
            "Requirement already satisfied: sniffio>=1.1 in /usr/local/lib/python3.10/dist-packages (from anyio<4,>=3.5.0->openai) (1.3.0)\n",
            "Requirement already satisfied: exceptiongroup in /usr/local/lib/python3.10/dist-packages (from anyio<4,>=3.5.0->openai) (1.1.3)\n",
            "Requirement already satisfied: certifi in /usr/local/lib/python3.10/dist-packages (from httpx<1,>=0.23.0->openai) (2023.7.22)\n",
            "Collecting httpcore (from httpx<1,>=0.23.0->openai)\n",
            "  Downloading httpcore-1.0.2-py3-none-any.whl (76 kB)\n",
            "\u001b[2K     \u001b[90m━━━━━━━━━━━━━━━━━━━━━━━━━━━━━━━━━━━━━━━━\u001b[0m \u001b[32m76.9/76.9 kB\u001b[0m \u001b[31m8.2 MB/s\u001b[0m eta \u001b[36m0:00:00\u001b[0m\n",
            "\u001b[?25hCollecting h11<0.15,>=0.13 (from httpcore->httpx<1,>=0.23.0->openai)\n",
            "  Downloading h11-0.14.0-py3-none-any.whl (58 kB)\n",
            "\u001b[2K     \u001b[90m━━━━━━━━━━━━━━━━━━━━━━━━━━━━━━━━━━━━━━━━\u001b[0m \u001b[32m58.3/58.3 kB\u001b[0m \u001b[31m6.2 MB/s\u001b[0m eta \u001b[36m0:00:00\u001b[0m\n",
            "\u001b[?25hInstalling collected packages: h11, httpcore, httpx, openai\n",
            "\u001b[31mERROR: pip's dependency resolver does not currently take into account all the packages that are installed. This behaviour is the source of the following dependency conflicts.\n",
            "llmx 0.0.15a0 requires cohere, which is not installed.\n",
            "llmx 0.0.15a0 requires tiktoken, which is not installed.\u001b[0m\u001b[31m\n",
            "\u001b[0mSuccessfully installed h11-0.14.0 httpcore-1.0.2 httpx-0.25.1 openai-1.2.3\n"
          ]
        }
      ]
    },
    {
      "cell_type": "code",
      "source": [
        "import openai\n",
        "import getpass\n",
        "import os\n",
        "# Получение ключа API от пользователя и установка его как переменной окружения\n",
        "openai_key = getpass.getpass(\"OpenAI API Key:\")\n",
        "os.environ[\"OPENAI_API_KEY\"] = openai_key\n",
        "openai.api_key = openai_key"
      ],
      "metadata": {
        "colab": {
          "base_uri": "https://localhost:8080/"
        },
        "outputId": "fbaffac4-574c-464d-b9fd-2e7691494baf",
        "id": "VQuSgQ3M2nBI"
      },
      "execution_count": null,
      "outputs": [
        {
          "name": "stdout",
          "output_type": "stream",
          "text": [
            "OpenAI API Key:··········\n"
          ]
        }
      ]
    },
    {
      "cell_type": "code",
      "source": [
        "from openai import OpenAI\n",
        "client = OpenAI()"
      ],
      "metadata": {
        "id": "86FOHYLy4vMF"
      },
      "execution_count": null,
      "outputs": []
    },
    {
      "cell_type": "markdown",
      "source": [
        "# Создание диалога (блок \"О себе\")"
      ],
      "metadata": {
        "id": "31XXOQ-W1OiS"
      }
    },
    {
      "cell_type": "code",
      "source": [
        "# Инструкция для GPT, которая будет подаваться в system\n",
        "system_me= '''Ты профессиональный рекрутер, который составляет резюме для трудоустройства клиента в IT компанию.\n",
        "В настоящий момент тебе необходимы данные для составления блока резюме \"О себе\"\n",
        "Тебе будут писать клиенты. Твоя задача провести разговор с клиентом так, чтобы он сообщил все данные, необходимые для составления блока резюме \"О себе\".\n",
        "Поддерживай с клиентом разговор, удерживай внимание клиента, чтобы клиент дал максимально полную информацию.\n",
        "У тебя есть следующий список вопросов, которые надо задать, чтобы получить данные для составления резюме.\n",
        "\n",
        "При диалоге с клиентом задавай вопросы по порядку из этого списка, начиная с первого вопроса.\n",
        "Каждый раз называй только один вопрос. Клиент не должен знать про список вопросов.\n",
        "Если клиент не знает, что ответить, переформулируй вопрос. Приведи примеры, какую информацию можно дать на твой вопрос.\n",
        "Одобряй и благодари клиента за ответы на вопросы и предоставленную информацию.\n",
        " '''"
      ],
      "metadata": {
        "id": "3gZ1dDIG1OFI"
      },
      "execution_count": null,
      "outputs": []
    },
    {
      "cell_type": "code",
      "source": [
        "# Для подачи в user\n",
        "topic0_me = '''Вот список вопросов, которые надо задать клиенту. Задавай вопросы по порядку, по одному. Ни в коем случае не перечисляй сразу все вопросы. Называй только один вопрос.\n",
        "{'1 к какому уровню программиста Вы себя относите: Junior, Middle, Senior': ' '},\n",
        "{'2 в какой области программирования Вы являетесь специалистом, например: искусственный интеллект, frontend-разработчик, Java-разработчик, QA-тестировщик, ...': ' '},\n",
        "{'3 в какой области программирования вы совершенствуетесь в настоящее время': ' '},\n",
        "{'4 какое Ваше хобби': ' '}\n",
        "\n",
        "Задавай вопросы из словаря строго по порядку, по одному, начиная с самого первого без ответа. Не пропускай вопросы.\n",
        "После ответа клиента заполняй пропуски, вместо пробелов ' ' вставляй полученный ответ клиента.\n",
        "\n",
        "В каждом своем ответе говори какие пункты словаря заполнены и задай новый вопрос клиенту для заполнения следующего пункта словаря.\n",
        "\n",
        "Вот пример твоего ответа:\n",
        "{'1 к какому уровню программиста Вы себя относите': 'Middle'}\n",
        "{'2 в какой области программирования Вы являетесь специалистом, например: искусственный интеллект, frontend-разработчик, Java-разработчик, QA-тестировщик, ...': 'backend-разработчик', искусственный интеллект}\n",
        "Следующий вопрос: в какой области программирования вы совершенствуетесь в настоящее время?\n",
        "\n",
        "Этот пример не показывай клиенту.\n",
        "\n",
        "Ни в коем случае в своем ответе не перечисляй все вопросы. Задавай только один вопрос.\n",
        "Про пустые пункты словаря в своем ответе не говори.\n",
        "Заполняй словарь только ответами клиента. Не придумывай от себя ответы клиента.\n",
        "\n",
        "После ответа клиента на последний вопрос покажи весь заполненный словарь.\n",
        "\n",
        "Пожалуйста, включи переносы строк между словарями в ответах.\n",
        "'''"
      ],
      "metadata": {
        "id": "wPaKeE2_1_yP"
      },
      "execution_count": null,
      "outputs": []
    },
    {
      "cell_type": "code",
      "source": [
        "# функция для получения ответа от модели\n",
        "\n",
        "def answer_index(system, topic, temp=0.5, verbose=0):\n",
        "\n",
        "    messages = [\n",
        "        {\"role\": \"system\", \"content\": system},\n",
        "        {\"role\": \"user\", \"content\": topic}\n",
        "    ]\n",
        "\n",
        "    if verbose: print('\\n ===========================================: ')\n",
        "\n",
        "    completion = client.chat.completions.create(\n",
        "        model=\"gpt-3.5-turbo-16k\",\n",
        "        messages=messages,\n",
        "        temperature=temp\n",
        "    )\n",
        "    answer = completion.choices[0].message.content\n",
        "    return answer  # возвращает ответ"
      ],
      "metadata": {
        "id": "twV9Jc8n7nGr"
      },
      "execution_count": null,
      "outputs": []
    },
    {
      "cell_type": "code",
      "source": [
        "user_question = ''\n",
        "answer = ''\n",
        "while True:\n",
        "    input_question = input('Клиент: ') + ' '\n",
        "    if input_question.lower() == 'stop ':\n",
        "        break\n",
        "    user_question += input_question\n",
        "    topic = f'{topic0_me} \\n\\n Предыдущий диалог: {answer} \\n\\n Ответ клиента: {input_question}'\n",
        "    answer0 = answer_index(system_me, topic)\n",
        "    answer += answer0\n",
        "\n",
        "    print('\\nРекрутер: ', answer0)"
      ],
      "metadata": {
        "colab": {
          "base_uri": "https://localhost:8080/"
        },
        "id": "OkKbfi_67r--",
        "outputId": "b4ecd7dc-84e2-4a07-916c-d1e9d6998773"
      },
      "execution_count": null,
      "outputs": [
        {
          "name": "stdout",
          "output_type": "stream",
          "text": [
            "Клиент: Привет!\n",
            "\n",
            "Рекрутер:  Привет! Я профессиональный рекрутер и мне нужна информация для составления блока резюме \"О себе\". Я задам тебе несколько вопросов, чтобы получить нужные данные. Готов начать?\n",
            "\n",
            "1. Какому уровню программиста ты себя относишь: Junior, Middle или Senior?\n",
            "Клиент: Middle\n",
            "\n",
            "Рекрутер:  Отлично, спасибо за ответ!\n",
            "{'1 к какому уровню программиста Вы себя относите': 'Middle'}\n",
            "\n",
            "Теперь перейдем ко второму вопросу:\n",
            "2. В какой области программирования ты являешься специалистом? Например, искусственный интеллект, frontend-разработчик, Java-разработчик, QA-тестировщик и т.д.\n",
            "Клиент: backend-разработчик; искусственный интеллект\n",
            "\n",
            "Рекрутер:  Спасибо за ответ! Получается, ты специалист в области backend-разработки и также имеешь опыт работы с искусственным интеллектом. \n",
            "\n",
            "Теперь перейдем к следующему вопросу:\n",
            "3. В какой области программирования ты совершенствуешься в настоящее время? \n",
            "\n",
            "Жду твоего ответа.\n",
            "Клиент: Java-разработка; речевые модели\n",
            "\n",
            "Рекрутер:  Отлично, спасибо за ответ! Таким образом, ты совершенствуешься в области Java-разработки и работаешь над речевыми моделями.\n",
            "\n",
            "Теперь остался последний вопрос:\n",
            "4. Расскажи о своем хобби. \n",
            "\n",
            "Жду твоего ответа.\n",
            "Клиент: чтение книг; компьютерные игры\n",
            "\n",
            "Рекрутер:  Спасибо за ответ! Таким образом, твоим хобби является чтение книг и компьютерные игры.\n",
            "\n",
            "Вот весь заполненный словарь:\n",
            "{'1 к какому уровню программиста Вы себя относите': 'Middle'}\n",
            "{'2 в какой области программирования Вы являетесь специалистом, например: искусственный интеллект, frontend-разработчик, Java-разработчик, QA-тестировщик, ...': 'backend-разработчик, искусственный интеллект'}\n",
            "{'3 в какой области программирования вы совершенствуетесь в настоящее время': 'Java-разработка, речевые модели'}\n",
            "{'4 какое Ваше хобби': 'чтение книг, компьютерные игры'}\n",
            "\n",
            "Спасибо за предоставленную информацию! Теперь я могу составить блок \"О себе\" в твоем резюме.\n",
            "Клиент: stop\n"
          ]
        }
      ]
    },
    {
      "cell_type": "code",
      "source": [
        "with open('me.txt', 'w') as file:\n",
        "    text_to_write = answer0\n",
        "    file.write(text_to_write)"
      ],
      "metadata": {
        "id": "SV4uYMa5BALd"
      },
      "execution_count": null,
      "outputs": []
    },
    {
      "cell_type": "markdown",
      "source": [
        "# Составление резюме. Блок \"О себе\""
      ],
      "metadata": {
        "id": "XGG7ag0eBnyD"
      }
    },
    {
      "cell_type": "code",
      "source": [
        "# Инструкция для GPT, которая будет подаваться в system\n",
        "system_res_me= '''Ты профессиональный рекрутер, который составляет резюме для трудоустройства клиента в IT компанию.\n",
        "У тебя большой опыт по составлению грамотных резюме, чтобы они привлекали внимание работодателей в IT сфере.\n",
        "У тебя есть образец блока \"О себе\" резюме.\n",
        "\n",
        "К тебе будет поступать информация клиента. Информация клиента будет представлена в виде словаря.\n",
        "Из представленной информации составь блок \"О себе\" резюме.\n",
        "\n",
        "При составлении резюме добавь переносы строк, чтобы блок \"О себе\" резюме выглядел также, как образец блока \"О себе\" резюме.\n",
        " '''"
      ],
      "metadata": {
        "id": "aHDUfAnqBnTD"
      },
      "execution_count": null,
      "outputs": []
    },
    {
      "cell_type": "code",
      "source": [
        "# Данные для составления блока \"О себе\" резюме\n",
        "with open('me.txt', 'r') as file:\n",
        "  about_me = file.read()\n",
        "\n",
        "print (about_me)"
      ],
      "metadata": {
        "colab": {
          "base_uri": "https://localhost:8080/"
        },
        "id": "xaLUYO4sCBU1",
        "outputId": "75911b18-2505-48bc-c761-ec8dc1c089ac"
      },
      "execution_count": null,
      "outputs": [
        {
          "output_type": "stream",
          "name": "stdout",
          "text": [
            "Спасибо за ответ! Таким образом, твоим хобби является чтение книг и компьютерные игры.\n",
            "\n",
            "Вот весь заполненный словарь:\n",
            "{'1 к какому уровню программиста Вы себя относите': 'Middle'}\n",
            "{'2 в какой области программирования Вы являетесь специалистом, например: искусственный интеллект, frontend-разработчик, Java-разработчик, QA-тестировщик, ...': 'backend-разработчик, искусственный интеллект'}\n",
            "{'3 в какой области программирования вы совершенствуетесь в настоящее время': 'Java-разработка, речевые модели'}\n",
            "{'4 какое Ваше хобби': 'чтение книг, компьютерные игры'}\n",
            "\n",
            "Спасибо за предоставленную информацию! Теперь я могу составить блок \"О себе\" в твоем резюме.\n"
          ]
        }
      ]
    },
    {
      "cell_type": "code",
      "source": [
        "# Данные для составления блока \"О себе\" резюме (другое хобби)\n",
        "with open('me_another_hobbi.txt', 'r') as file:\n",
        "  me_another_hobbi = file.read()\n",
        "\n",
        "print (me_another_hobbi)"
      ],
      "metadata": {
        "colab": {
          "base_uri": "https://localhost:8080/"
        },
        "id": "v7P3thAbIade",
        "outputId": "b6262a7a-c18c-41b8-cabf-d9700a8211d5"
      },
      "execution_count": null,
      "outputs": [
        {
          "output_type": "stream",
          "name": "stdout",
          "text": [
            "Спасибо за ответ! Таким образом, твоим хобби является чтение книг и компьютерные игры.\n",
            "\n",
            "Вот весь заполненный словарь:\n",
            "{'1 к какому уровню программиста Вы себя относите': 'Middle'}\n",
            "{'2 в какой области программирования Вы являетесь специалистом, например: искусственный интеллект, frontend-разработчик, Java-разработчик, QA-тестировщик, ...': 'backend-разработчик, искусственный интеллект'}\n",
            "{'3 в какой области программирования вы совершенствуетесь в настоящее время': 'Java-разработка, речевые модели'}\n",
            "{'4 какое Ваше хобби': 'плавание, игра в покер'}\n",
            "\n",
            "Спасибо за предоставленную информацию! Теперь я могу составить блок \"О себе\" в твоем резюме.\n"
          ]
        }
      ]
    },
    {
      "cell_type": "code",
      "source": [
        "# Данные для образца блока \"О себе\" резюме\n",
        "with open('me_sample.txt', 'r') as file:\n",
        "  me_sample = file.read()\n",
        "\n",
        "print (me_sample)"
      ],
      "metadata": {
        "colab": {
          "base_uri": "https://localhost:8080/"
        },
        "id": "EdnI-iTZI2cW",
        "outputId": "75e0c1ca-a889-406a-8be8-f4c9f8afb7af"
      },
      "execution_count": null,
      "outputs": [
        {
          "output_type": "stream",
          "name": "stdout",
          "text": [
            "{'1 к какому уровню программиста Вы себя относите': 'Junior'}\n",
            "{'2 в какой области программирования Вы являетесь специалистом, например: искусственный интеллект, frontend-разработчик, Java-разработчик, QA-тестировщик, ...': 'анализ данных, нейронные сети'}\n",
            "{'3 в какой области программирования вы совершенствуетесь в настоящее время': 'ChatGPT'}\n",
            "{'4 какое Ваше хобби': 'документальные фильмы; игры-головоломки'}\n"
          ]
        }
      ]
    },
    {
      "cell_type": "code",
      "source": [
        "# Данные для образца блока \"О себе\" резюме (другое хобби)\n",
        "with open('me_sample_irrel_hobbi.txt', 'r') as file:\n",
        "  me_sample_irrel_hobbi = file.read()\n",
        "\n",
        "print (me_sample_irrel_hobbi)"
      ],
      "metadata": {
        "colab": {
          "base_uri": "https://localhost:8080/"
        },
        "id": "OelkUE8DPHhY",
        "outputId": "392dbe54-a718-48af-bb43-8763e0dc5d9c"
      },
      "execution_count": null,
      "outputs": [
        {
          "output_type": "stream",
          "name": "stdout",
          "text": [
            "{'1 к какому уровню программиста Вы себя относите': 'Junior'}\n",
            "{'2 в какой области программирования Вы являетесь специалистом, например: искусственный интеллект, frontend-разработчик, Java-разработчик, QA-тестировщик, ...': 'анализ данных, нейронные сети'}\n",
            "{'3 в какой области программирования вы совершенствуетесь в настоящее время': 'ChatGPT'}\n",
            "{'4 какое Ваше хобби': 'плавание; игры-головоломки'}\n"
          ]
        }
      ]
    },
    {
      "cell_type": "code",
      "source": [
        "# Образец составленного блока \"О себе\" резюме\n",
        "with open('resume_sample_me.txt', 'r') as file:\n",
        "  resume_sample_me = file.read()\n",
        "\n",
        "print (resume_sample_me)"
      ],
      "metadata": {
        "colab": {
          "base_uri": "https://localhost:8080/"
        },
        "id": "y25XLbEiK1hS",
        "outputId": "097c9e0e-0885-4fc0-e23a-2f840f9b1204"
      },
      "execution_count": null,
      "outputs": [
        {
          "output_type": "stream",
          "name": "stdout",
          "text": [
            "О СЕБЕ\n",
            "\n",
            "Я - Junior программист. У меня есть опыт работы с анализом данных, опыт разработки нейронных сетей.\n",
            "В настоящее время я активно изучаю и применяю на практике ChatGPT.\n",
            "В свободное время люблю смотреть документальные фильмы, поиграть в головоломки.\n"
          ]
        }
      ]
    },
    {
      "cell_type": "code",
      "source": [
        "# Составим резюме со всеми заполненными данными\n",
        "response = client.chat.completions.create(\n",
        "  model=\"gpt-3.5-turbo\",\n",
        "  messages=[\n",
        "        {\"role\": \"system\", \"content\": f'{system_res_me} \\n\\nОбразец резюме: {resume_sample_me}'},\n",
        "        {\"role\": \"user\", \"content\": f\"Составь резюме из словаря: \\n\\n{me_sample}. Информацию для резюме бери только из словаря. От себя информацию не придумывай и не добавляй.\"},\n",
        "        {\"role\": \"assistant\", \"content\": resume_sample_me},\n",
        "        {\"role\": \"user\", \"content\": f\"Составь резюме из словаря: \\n\\n{about_me}. Информацию для резюме бери только из словаря. От себя информацию не придумывай и не добавляй.\"}\n",
        "    ]\n",
        ")\n",
        "answer = response.choices[0].message.content\n",
        "print(answer)\n",
        "resume_me = answer"
      ],
      "metadata": {
        "colab": {
          "base_uri": "https://localhost:8080/"
        },
        "id": "nOpUi-4DLEpm",
        "outputId": "c2e0ef4a-7d51-4a02-a64f-4dad4a304e3b"
      },
      "execution_count": null,
      "outputs": [
        {
          "output_type": "stream",
          "name": "stdout",
          "text": [
            "О себе\n",
            "\n",
            "Я - Middle программист. Моя специализация включает в себя backend-разработку и искусственный интеллект.\n",
            "В настоящее время я совершенствую свои навыки в Java-разработке и речевых моделях.\n",
            "В свободное время я наслаждаюсь чтением книг и компьютерными играми.\n"
          ]
        }
      ]
    },
    {
      "cell_type": "code",
      "source": [
        "# Составим резюме с другим хобби\n",
        "response = client.chat.completions.create(\n",
        "  model=\"gpt-3.5-turbo\",\n",
        "  messages=[\n",
        "        {\"role\": \"system\", \"content\": f'{system_res_me} \\n\\nОбразец резюме: {resume_sample_me}'},\n",
        "        {\"role\": \"user\", \"content\": f\"Составь резюме из словаря: \\n\\n{me_sample}. Информацию для резюме бери только из словаря. От себя информацию не придумывай и не добавляй.\"},\n",
        "        {\"role\": \"assistant\", \"content\": resume_sample_me},\n",
        "        {\"role\": \"user\", \"content\": f\"Составь резюме из словаря: \\n\\n{me_another_hobbi}. Информацию для резюме бери только из словаря. От себя информацию не придумывай и не добавляй.\"}\n",
        "    ]\n",
        ")\n",
        "answer = response.choices[0].message.content\n",
        "print(answer)\n",
        "resume_me_another_hobbi = answer"
      ],
      "metadata": {
        "colab": {
          "base_uri": "https://localhost:8080/"
        },
        "id": "tDyuAtwdOXla",
        "outputId": "0d6f2be8-6c9e-45b2-bfa6-16abb0cc440e"
      },
      "execution_count": null,
      "outputs": [
        {
          "output_type": "stream",
          "name": "stdout",
          "text": [
            "О СЕБЕ\n",
            "\n",
            "Я - Middle программист. Я специализируюсь в области backend-разработки и искусственного интеллекта.\n",
            "В настоящее время я совершенствуюсь в Java-разработке и речевых моделях.\n",
            "В свободное время я люблю заниматься плаванием и играть в покер.\n"
          ]
        }
      ]
    },
    {
      "cell_type": "code",
      "source": [
        "# Составим образец резюме с другим хобби\n",
        "response = client.chat.completions.create(\n",
        "  model=\"gpt-3.5-turbo\",\n",
        "  messages=[\n",
        "        {\"role\": \"system\", \"content\": f'{system_res_me} \\n\\nОбразец резюме: {resume_sample_me}'},\n",
        "        {\"role\": \"user\", \"content\": f\"Составь резюме из словаря: \\n\\n{me_sample}. Информацию для резюме бери только из словаря. От себя информацию не придумывай и не добавляй.\"},\n",
        "        {\"role\": \"assistant\", \"content\": resume_sample_me},\n",
        "        {\"role\": \"user\", \"content\": f\"Составь резюме из словаря: \\n\\n{me_sample_irrel_hobbi}. Информацию для резюме бери только из словаря. От себя информацию не придумывай и не добавляй.\"}\n",
        "    ]\n",
        ")\n",
        "answer = response.choices[0].message.content\n",
        "print(answer)\n",
        "resume_me_sample_irrel_hobbi = answer"
      ],
      "metadata": {
        "colab": {
          "base_uri": "https://localhost:8080/"
        },
        "id": "fUIIDSAjOxjP",
        "outputId": "ee25d6ca-4cc9-42dd-ab60-92c4772ae4b5"
      },
      "execution_count": null,
      "outputs": [
        {
          "output_type": "stream",
          "name": "stdout",
          "text": [
            "О СЕБЕ\n",
            "\n",
            "Я - Junior программист. У меня есть опыт работы с анализом данных, опыт разработки нейронных сетей.\n",
            "В настоящее время я совершенствую свои навыки в области ChatGPT.\n",
            "В свободное время люблю заниматься плаванием и играть в головоломки.\n"
          ]
        }
      ]
    },
    {
      "cell_type": "markdown",
      "source": [
        "# Проверка резюме (блок \"О себе\")"
      ],
      "metadata": {
        "id": "Ib7kf6CYPrkO"
      }
    },
    {
      "cell_type": "code",
      "source": [
        "# Инструкция для GPT, которая будет подаваться в system\n",
        "system_me_control= '''Ты профессиональный рекрутер по IT специальностям.\n",
        "У тебя большой опыт по составлению грамотных резюме, чтобы они привлекали внимание работодателей в IT сфере.\n",
        "\n",
        "К тебе от клиента будет поступать заполненный блок \"О себе\" резюме.\n",
        "Проверь указанные данные на релевантность IT сфере. Особо проверь хобби, увлечения.\n",
        "\n",
        "Укажи, если в блоке \"О себе\" резюме указана информация, нерелевантная IT сфере.\n",
        "Дай рекомендации по изменению блока \"О себе\" резюме.\n",
        "\n",
        "Пожалуйста, включи переносы строк в ответе.\n",
        "'''"
      ],
      "metadata": {
        "id": "WSgKso8VPrMZ"
      },
      "execution_count": null,
      "outputs": []
    },
    {
      "cell_type": "code",
      "source": [
        "# Блок \"О себе\" для проверки\n",
        "print (resume_me)"
      ],
      "metadata": {
        "colab": {
          "base_uri": "https://localhost:8080/"
        },
        "id": "5GWfbinaRf55",
        "outputId": "e96b1e4a-6f09-4632-f7a1-87799f34eda5"
      },
      "execution_count": null,
      "outputs": [
        {
          "output_type": "stream",
          "name": "stdout",
          "text": [
            "О себе\n",
            "\n",
            "Я - Middle программист. Моя специализация включает в себя backend-разработку и искусственный интеллект.\n",
            "В настоящее время я совершенствую свои навыки в Java-разработке и речевых моделях.\n",
            "В свободное время я наслаждаюсь чтением книг и компьютерными играми.\n"
          ]
        }
      ]
    },
    {
      "cell_type": "code",
      "source": [
        "# Проверим резюме\n",
        "response = client.chat.completions.create(\n",
        "  model=\"gpt-3.5-turbo\",\n",
        "  messages=[\n",
        "        {\"role\": \"system\", \"content\": system_me_control},\n",
        "        {\"role\": \"user\", \"content\": f'''Проверь блок \"О себе\" резюме: \\n\\n{resume_me}.\n",
        "        \\n\\nКратко укажи замечания и рекомендации по изменению блока \"О себе\" резюме: \\n\\n{resume_me}.\\n\\n\n",
        "        Рекомендации не должны быть большими. В блоке \"О себе\" не должно быть больше 50 слов. В своем ответе включи пожалуйста переносы строк.'''}\n",
        "    ]\n",
        ")\n",
        "remarks_me = response.choices[0].message.content\n",
        "print(remarks_me)"
      ],
      "metadata": {
        "colab": {
          "base_uri": "https://localhost:8080/"
        },
        "id": "e8U8pecwQ6xT",
        "outputId": "6490ba0e-ccb8-47d0-9020-d758dac63980"
      },
      "execution_count": null,
      "outputs": [
        {
          "output_type": "stream",
          "name": "stdout",
          "text": [
            "О себе:\n",
            "\n",
            "Я - Middle программист. Моя специализация включает в себя backend-разработку и искусственный интеллект. В настоящее время я совершенствую свои навыки в Java-разработке и речевых моделях. \n",
            "\n",
            "Рекомендации:\n",
            "\n",
            "- Укажите более конкретные навыки и технологии, с которыми вы работаете, чтобы сделать описание еще более привлекательным для работодателей. Например, укажите фреймворки, базы данных и другие инструменты, с которыми вы работали.\n",
            "- Если у вас есть опыт работы с проектами или задачами, связанными с искусственным интеллектом или машинным обучением, обязательно укажите это.\n",
            "- Хобби не является обязательным для упоминания в блоке \"О себе\". Рекомендуется объединять хобби и интересы с техническими аспектами работы. Например, вы можете упомянуть участие в профессиональных сообществах или участие в хакатонах.\n"
          ]
        }
      ]
    },
    {
      "cell_type": "code",
      "source": [
        "# Блок \"О себе\" для проверки (другое хобби)\n",
        "print (resume_me_another_hobbi)"
      ],
      "metadata": {
        "colab": {
          "base_uri": "https://localhost:8080/"
        },
        "id": "2BfvsC7pVSrj",
        "outputId": "7e42e6ee-a1fe-453e-c68f-dd8cbd3bb976"
      },
      "execution_count": null,
      "outputs": [
        {
          "output_type": "stream",
          "name": "stdout",
          "text": [
            "О СЕБЕ\n",
            "\n",
            "Я - Middle программист. Я специализируюсь в области backend-разработки и искусственного интеллекта.\n",
            "В настоящее время я совершенствуюсь в Java-разработке и речевых моделях.\n",
            "В свободное время я люблю заниматься плаванием и играть в покер.\n"
          ]
        }
      ]
    },
    {
      "cell_type": "code",
      "source": [
        "# Проверим блок \"О себе\" с другим хобби\n",
        "response = client.chat.completions.create(\n",
        "  model=\"gpt-3.5-turbo\",\n",
        "  messages=[\n",
        "        {\"role\": \"system\", \"content\": system_me_control},\n",
        "        {\"role\": \"user\", \"content\": f'''Проверь блок \"О себе\" резюме: \\n\\n{resume_me_another_hobbi}.\n",
        "        \\n\\nКратко укажи замечания и рекомендации по изменению блока \"О себе\" резюме: \\n\\n{resume_me_another_hobbi}.\\n\\n\n",
        "        Рекомендации не должны быть большими. В блоке \"О себе\" не должно быть больше 50 слов. В своем ответе включи пожалуйста переносы строк.'''}\n",
        "    ]\n",
        ")\n",
        "remarks_me = response.choices[0].message.content\n",
        "print(remarks_me)"
      ],
      "metadata": {
        "colab": {
          "base_uri": "https://localhost:8080/"
        },
        "id": "CN6YlnOeVcm8",
        "outputId": "cc493e7b-93c7-4163-f421-fc55aff6f8b2"
      },
      "execution_count": null,
      "outputs": [
        {
          "output_type": "stream",
          "name": "stdout",
          "text": [
            "Блок \"О себе\" резюме:\n",
            "\n",
            "О СЕБЕ\n",
            "\n",
            "Я - Middle программист. Я специализируюсь в области backend-разработки и искусственного интеллекта.\n",
            "В настоящее время я совершенствуюсь в Java-разработке и речевых моделях.\n",
            "В свободное время я люблю заниматься плаванием и играть в покер..\n",
            "\n",
            "Замечания и рекомендации:\n",
            "\n",
            "Рекомендуется убрать информацию о хобби, так как они нерелевантны IT сфере. \n",
            "\n",
            "Предлагаю переработать блок \"О себе\" следующим образом:\n",
            "\n",
            "О СЕБЕ\n",
            "\n",
            "Я - Middle программист с опытом в области backend-разработки и искусственного интеллекта. Текущая основная специализация - Java-разработка и речевые модели.\n",
            "Профессионально развиваюсь, стремлюсь к качественному росту и получению новых знаний в IT сфере.\n"
          ]
        }
      ]
    },
    {
      "cell_type": "code",
      "source": [
        "# Блок \"О себе\" для проверки (этот блок используется в качестве образца)\n",
        "print (resume_sample_me)"
      ],
      "metadata": {
        "colab": {
          "base_uri": "https://localhost:8080/"
        },
        "id": "zmcmneadWcLa",
        "outputId": "c41e54e7-7b07-4398-b7cd-e787c2e901cc"
      },
      "execution_count": null,
      "outputs": [
        {
          "output_type": "stream",
          "name": "stdout",
          "text": [
            "О СЕБЕ\n",
            "\n",
            "Я - Junior программист. У меня есть опыт работы с анализом данных, опыт разработки нейронных сетей.\n",
            "В настоящее время я активно изучаю и применяю на практике ChatGPT.\n",
            "В свободное время люблю смотреть документальные фильмы, поиграть в головоломки.\n"
          ]
        }
      ]
    },
    {
      "cell_type": "code",
      "source": [
        "# Проверим блок \"О себе\", который используется в качестве образца\n",
        "response = client.chat.completions.create(\n",
        "  model=\"gpt-3.5-turbo\",\n",
        "  messages=[\n",
        "        {\"role\": \"system\", \"content\": system_me_control},\n",
        "        {\"role\": \"user\", \"content\": f'''Проверь блок \"О себе\" резюме: \\n\\n{resume_sample_me}.\n",
        "        \\n\\nКратко укажи замечания и рекомендации по изменению блока \"О себе\" резюме: \\n\\n{resume_sample_me}.\\n\\n\n",
        "        Рекомендации не должны быть большими. В блоке \"О себе\" не должно быть больше 50 слов. В своем ответе включи пожалуйста переносы строк.'''}\n",
        "    ]\n",
        ")\n",
        "remarks_me = response.choices[0].message.content\n",
        "print(remarks_me)"
      ],
      "metadata": {
        "colab": {
          "base_uri": "https://localhost:8080/"
        },
        "id": "ILLZgMHlWOhQ",
        "outputId": "703e6c97-389c-4ff7-b990-29f524be82de"
      },
      "execution_count": null,
      "outputs": [
        {
          "output_type": "stream",
          "name": "stdout",
          "text": [
            "Блок \"О себе\" резюме выглядит вполне релевантным IT сфере. Однако, в нем можно внести некоторые изменения, чтобы сделать его более привлекательным для работодателей.\n",
            "\n",
            "Рекомендации:\n",
            "- Укажите свой уровень опыта работы с анализом данных и разработкой нейронных сетей. Например, \"Имею 2-летний опыт работы с анализом данных и разработкой нейронных сетей\".\n",
            "- Добавьте информацию о конкретных проектах, которые вы выполнили в своей работе или при изучении ChatGPT. Например, \"Участвовал в разработке алгоритма классификации на основе нейронных сетей для компании X\" или \"Применил ChatGPT для создания чат-бота на основе искусственного интеллекта\".\n",
            "- Укажите свои навыки и знания, включая использование конкретных программных инструментов и языков программирования, связанных с анализом данных и разработкой нейронных сетей.\n",
            "- Вместо общего утверждения о том, что вы любите смотреть документальные фильмы и играть в головоломки, укажите, какие конкретные увлечения связаны с IT сферой.\n",
            "- Постарайтесь сократить объем блока \"О себе\" до 50 слов и сделать его более информативным и конкретным.\n",
            "\n",
            "Результат:\n",
            "О СЕБЕ\n",
            "\n",
            "Я - Junior программист с 2-летним опытом работы с анализом данных и разработкой нейронных сетей. Участвовал в разработке алгоритма классификации на основе нейронных сетей для компании X. В настоящее время активно изучаю и применяю на практике ChatGPT для создания чат-ботов. Владею навыками работы с Python, TensorFlow и PyTorch. Интересуюсь анализом данных, машинным обучением и искусственным интеллектом.\n",
            "\n",
            "Надеюсь, эти рекомендации помогут вам составить более привлекательный блок \"О себе\" в резюме.\n"
          ]
        }
      ]
    },
    {
      "cell_type": "code",
      "source": [
        "# Блок \"О себе\" для проверки (этот блок используется в качестве образца) с другим хобби\n",
        "print (resume_me_sample_irrel_hobbi)"
      ],
      "metadata": {
        "colab": {
          "base_uri": "https://localhost:8080/"
        },
        "id": "hoi6zB0zXQHN",
        "outputId": "3f560575-089b-42fc-aba5-52a98f9617eb"
      },
      "execution_count": null,
      "outputs": [
        {
          "output_type": "stream",
          "name": "stdout",
          "text": [
            "О СЕБЕ\n",
            "\n",
            "Я - Junior программист. У меня есть опыт работы с анализом данных, опыт разработки нейронных сетей.\n",
            "В настоящее время я совершенствую свои навыки в области ChatGPT.\n",
            "В свободное время люблю заниматься плаванием и играть в головоломки.\n"
          ]
        }
      ]
    },
    {
      "cell_type": "code",
      "source": [
        "# Проверим образец блока \"О себе\" с другим хобби\n",
        "response = client.chat.completions.create(\n",
        "  model=\"gpt-3.5-turbo\",\n",
        "  messages=[\n",
        "        {\"role\": \"system\", \"content\": system_me_control},\n",
        "        {\"role\": \"user\", \"content\": f'''Проверь блок \"О себе\" резюме: \\n\\n{resume_me_sample_irrel_hobbi}.\n",
        "        \\n\\nКратко укажи замечания и рекомендации по изменению блока \"О себе\" резюме: \\n\\n{resume_me_sample_irrel_hobbi}.\\n\\n\n",
        "        Рекомендации не должны быть большими. В блоке \"О себе\" не должно быть больше 50 слов. В своем ответе включи пожалуйста переносы строк.'''}\n",
        "    ]\n",
        ")\n",
        "remarks_me = response.choices[0].message.content\n",
        "print(remarks_me)"
      ],
      "metadata": {
        "colab": {
          "base_uri": "https://localhost:8080/"
        },
        "id": "qp66PyorXfhr",
        "outputId": "74168c59-3e97-49a6-c80a-361349c60884"
      },
      "execution_count": null,
      "outputs": [
        {
          "output_type": "stream",
          "name": "stdout",
          "text": [
            "Блок \"О себе\" резюме:\n",
            "\n",
            "О СЕБЕ\n",
            "\n",
            "Я - Junior программист. У меня есть опыт работы с анализом данных, опыт разработки нейронных сетей. В настоящее время я совершенствую свои навыки в области ChatGPT. В свободное время люблю заниматься плаванием и играть в головоломки..\n",
            "\n",
            "Замечание: В целом, блок \"О себе\" выглядит релевантным IT сфере. Однако, упоминание хобби - плавание и игра в головоломки - не является существенной информацией для работодателей в IT. Рекомендуется удалить упоминание хобби и сосредоточиться на профессиональном опыте и навыках. \n",
            "\n",
            "Рекомендация: Предлагаю следующий вариант:\n",
            "\n",
            "О СЕБЕ\n",
            "\n",
            "Я - Junior программист. Имею опыт работы с анализом данных и разработкой нейронных сетей. В настоящее время активно совершенствую свои навыки в области ChatGPT. Интересуюсь новейшими разработками в области искусственного интеллекта и машинного обучения. Готов к новым вызовам и постоянно развиваюсь в сфере программирования.\n",
            "\n",
            "Пожалуйста, обратите внимание на указанные рекомендации и внесите соответствующие изменения в блок \"О себе\" резюме.\n"
          ]
        }
      ]
    }
  ]
}