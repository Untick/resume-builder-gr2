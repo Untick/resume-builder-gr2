{
  "nbformat": 4,
  "nbformat_minor": 0,
  "metadata": {
    "colab": {
      "provenance": [],
      "include_colab_link": true
    },
    "kernelspec": {
      "name": "python3",
      "display_name": "Python 3"
    },
    "language_info": {
      "name": "python"
    }
  },
  "cells": [
    {
      "cell_type": "markdown",
      "metadata": {
        "id": "view-in-github",
        "colab_type": "text"
      },
      "source": [
        "<a href=\"https://colab.research.google.com/github/Untick/resume-builder-gr2/blob/Labzin-Vyacheslav-branch/%D0%91%D0%BB%D0%BE%D0%BA_%22%D0%9E%D0%B1%D1%80%D0%B0%D0%B7%D0%BE%D0%B2%D0%B0%D0%BD%D0%B8%D0%B5%22_%D1%80%D0%B5%D0%B7%D1%8E%D0%BC%D0%B5_%D0%94%D0%B8%D0%B0%D0%BB%D0%BE%D0%B3_%D1%81_%D0%BA%D0%BB%D0%B8%D0%B5%D0%BD%D1%82%D0%BE%D0%BC%2C_%D1%81%D0%BE%D1%81%D1%82%D0%B0%D0%B2%D0%BB%D0%B5%D0%BD%D0%B8%D0%B5_%D0%B8_%D0%BF%D1%80%D0%BE%D0%B2%D0%B5%D1%80%D0%BA%D0%B0_%D0%B7%D0%B0%D0%BF%D0%BE%D0%BB%D0%BD%D0%B5%D0%BD%D0%B8%D1%8F.ipynb\" target=\"_parent\"><img src=\"https://colab.research.google.com/assets/colab-badge.svg\" alt=\"Open In Colab\"/></a>"
      ]
    },
    {
      "cell_type": "code",
      "source": [
        "!pip install openai"
      ],
      "metadata": {
        "colab": {
          "base_uri": "https://localhost:8080/"
        },
        "id": "5Q2oeV6mGhxB",
        "outputId": "1079d1fa-8364-4fd5-8467-7672122229a0"
      },
      "execution_count": null,
      "outputs": [
        {
          "output_type": "stream",
          "name": "stdout",
          "text": [
            "Collecting openai\n",
            "  Downloading openai-1.2.3-py3-none-any.whl (220 kB)\n",
            "\u001b[?25l     \u001b[90m━━━━━━━━━━━━━━━━━━━━━━━━━━━━━━━━━━━━━━━━\u001b[0m \u001b[32m0.0/220.3 kB\u001b[0m \u001b[31m?\u001b[0m eta \u001b[36m-:--:--\u001b[0m\r\u001b[2K     \u001b[91m━━━━━━━━━━━━━━━━━━━━\u001b[0m\u001b[90m╺\u001b[0m\u001b[90m━━━━━━━━━━━━━━━━━━━\u001b[0m \u001b[32m112.6/220.3 kB\u001b[0m \u001b[31m3.2 MB/s\u001b[0m eta \u001b[36m0:00:01\u001b[0m\r\u001b[2K     \u001b[90m━━━━━━━━━━━━━━━━━━━━━━━━━━━━━━━━━━━━━━━━\u001b[0m \u001b[32m220.3/220.3 kB\u001b[0m \u001b[31m4.3 MB/s\u001b[0m eta \u001b[36m0:00:00\u001b[0m\n",
            "\u001b[?25hRequirement already satisfied: anyio<4,>=3.5.0 in /usr/local/lib/python3.10/dist-packages (from openai) (3.7.1)\n",
            "Requirement already satisfied: distro<2,>=1.7.0 in /usr/lib/python3/dist-packages (from openai) (1.7.0)\n",
            "Collecting httpx<1,>=0.23.0 (from openai)\n",
            "  Downloading httpx-0.25.1-py3-none-any.whl (75 kB)\n",
            "\u001b[2K     \u001b[90m━━━━━━━━━━━━━━━━━━━━━━━━━━━━━━━━━━━━━━━━\u001b[0m \u001b[32m75.0/75.0 kB\u001b[0m \u001b[31m8.6 MB/s\u001b[0m eta \u001b[36m0:00:00\u001b[0m\n",
            "\u001b[?25hRequirement already satisfied: pydantic<3,>=1.9.0 in /usr/local/lib/python3.10/dist-packages (from openai) (1.10.13)\n",
            "Requirement already satisfied: tqdm>4 in /usr/local/lib/python3.10/dist-packages (from openai) (4.66.1)\n",
            "Requirement already satisfied: typing-extensions<5,>=4.5 in /usr/local/lib/python3.10/dist-packages (from openai) (4.5.0)\n",
            "Requirement already satisfied: idna>=2.8 in /usr/local/lib/python3.10/dist-packages (from anyio<4,>=3.5.0->openai) (3.4)\n",
            "Requirement already satisfied: sniffio>=1.1 in /usr/local/lib/python3.10/dist-packages (from anyio<4,>=3.5.0->openai) (1.3.0)\n",
            "Requirement already satisfied: exceptiongroup in /usr/local/lib/python3.10/dist-packages (from anyio<4,>=3.5.0->openai) (1.1.3)\n",
            "Requirement already satisfied: certifi in /usr/local/lib/python3.10/dist-packages (from httpx<1,>=0.23.0->openai) (2023.7.22)\n",
            "Collecting httpcore (from httpx<1,>=0.23.0->openai)\n",
            "  Downloading httpcore-1.0.2-py3-none-any.whl (76 kB)\n",
            "\u001b[2K     \u001b[90m━━━━━━━━━━━━━━━━━━━━━━━━━━━━━━━━━━━━━━━━\u001b[0m \u001b[32m76.9/76.9 kB\u001b[0m \u001b[31m8.4 MB/s\u001b[0m eta \u001b[36m0:00:00\u001b[0m\n",
            "\u001b[?25hCollecting h11<0.15,>=0.13 (from httpcore->httpx<1,>=0.23.0->openai)\n",
            "  Downloading h11-0.14.0-py3-none-any.whl (58 kB)\n",
            "\u001b[2K     \u001b[90m━━━━━━━━━━━━━━━━━━━━━━━━━━━━━━━━━━━━━━━━\u001b[0m \u001b[32m58.3/58.3 kB\u001b[0m \u001b[31m5.7 MB/s\u001b[0m eta \u001b[36m0:00:00\u001b[0m\n",
            "\u001b[?25hInstalling collected packages: h11, httpcore, httpx, openai\n",
            "\u001b[31mERROR: pip's dependency resolver does not currently take into account all the packages that are installed. This behaviour is the source of the following dependency conflicts.\n",
            "llmx 0.0.15a0 requires cohere, which is not installed.\n",
            "llmx 0.0.15a0 requires tiktoken, which is not installed.\u001b[0m\u001b[31m\n",
            "\u001b[0mSuccessfully installed h11-0.14.0 httpcore-1.0.2 httpx-0.25.1 openai-1.2.3\n"
          ]
        }
      ]
    },
    {
      "cell_type": "code",
      "source": [
        "import openai\n",
        "import getpass\n",
        "import os\n",
        "# Получение ключа API от пользователя и установка его как переменной окружения\n",
        "openai_key = getpass.getpass(\"OpenAI API Key:\")\n",
        "os.environ[\"OPENAI_API_KEY\"] = openai_key\n",
        "openai.api_key = openai_key"
      ],
      "metadata": {
        "colab": {
          "base_uri": "https://localhost:8080/"
        },
        "outputId": "2fed0ec6-57df-4ba5-b829-6936f982ead4",
        "id": "VQuSgQ3M2nBI"
      },
      "execution_count": null,
      "outputs": [
        {
          "name": "stdout",
          "output_type": "stream",
          "text": [
            "OpenAI API Key:··········\n"
          ]
        }
      ]
    },
    {
      "cell_type": "code",
      "source": [
        "from openai import OpenAI\n",
        "client = OpenAI()"
      ],
      "metadata": {
        "id": "86FOHYLy4vMF"
      },
      "execution_count": null,
      "outputs": []
    },
    {
      "cell_type": "markdown",
      "source": [
        "# Создание диалога (блок \"Образование\")"
      ],
      "metadata": {
        "id": "BYBfR4MVnJIr"
      }
    },
    {
      "cell_type": "code",
      "source": [
        "# Инструкция для GPT, которая будет подаваться в system\n",
        "system_educ= '''Ты профессиональный рекрутер, который составляет резюме для трудоустройства клиента в IT компанию.\n",
        "В настоящий момент тебе необходимы данные для составления блока резюме \"Образование\"\n",
        "Тебе будут писать клиенты. Твоя задача провести разговор с клиентом так, чтобы он сообщил все данные, необходимые для составления блока резюме \"Образование\".\n",
        "Поддерживай с клиентом разговор, удерживай внимание клиента, чтобы клиент дал максимально полную информацию.\n",
        "У тебя есть следующий список вопросов, которые надо задать, чтобы получить данные для составления резюме.\n",
        "\n",
        "При диалоге с клиентом задавай вопросы по порядку из этого списка, начиная с первого вопроса.\n",
        "Каждый раз называй только один вопрос. Клиент не должен знать про список вопросов.\n",
        "Если клиент не знает, что ответить, переформулируй вопрос. Приведи примеры, какую информацию можно дать на твой вопрос.\n",
        "Одобряй и благодари клиента за ответы на вопросы и предоставленную информацию.\n",
        " '''"
      ],
      "metadata": {
        "id": "_PubyvBEnIXk"
      },
      "execution_count": null,
      "outputs": []
    },
    {
      "cell_type": "code",
      "source": [
        "# Для подачи в user\n",
        "topic0_educ = '''Вот список вопросов, которые надо задать клиенту. Задавай вопросы по порядку, по одному. Ни в коем случае не перечисляй сразу все вопросы. Называй только один вопрос.\n",
        "{'1 год окончания учебного заведения': ' '},\n",
        "{'2 наименование учебного заведения': ' '},\n",
        "{'3 специальность - укажите по пунктам специальности, полученные в учебном заведении': ' '}\n",
        "\n",
        "Задавай вопросы из словаря строго по порядку, по одному, начиная с самого первого без ответа. Не пропускай вопросы.\n",
        "После ответа клиента заполни пропуски, вставь вместо пробелов ' ' полученные ответы клиента.\n",
        "\n",
        "В каждом своем ответе говори какие пункты словаря заполнены и задай новый вопрос клиенту для заполнения следующего пункта словаря.\n",
        "\n",
        "Вот пример, как надо заполнять словарь:\n",
        "{'1 год окончания учебного заведения': '2015'}\n",
        "{'2 наименование учебного заведения': '\"Южный федеральный университет\"'}\n",
        "Этот пример не показывай клиенту.\n",
        "\n",
        "Ни в коем случае в своем ответе не перечисляй все вопросы. Задавай только один вопрос.\n",
        "Про пустые пункты словаря в своем ответе не говори.\n",
        "Заполняй словарь только ответами клиента. Не придумывай от себя ответы на вопросы словаря.\n",
        "\n",
        "После ответа клиента на последний вопрос покажи весь заполненный словарь.\n",
        "\n",
        "Пожалуйста, включи переносы строк между словарями в ответах.\n",
        "'''"
      ],
      "metadata": {
        "id": "YbKLqXobnmJL"
      },
      "execution_count": null,
      "outputs": []
    },
    {
      "cell_type": "code",
      "source": [
        "# функция для получения ответа от модели\n",
        "\n",
        "def answer_index(system, topic, temp=0.5, verbose=0):\n",
        "\n",
        "    messages = [\n",
        "        {\"role\": \"system\", \"content\": system},\n",
        "        {\"role\": \"user\", \"content\": topic}\n",
        "    ]\n",
        "\n",
        "    if verbose: print('\\n ===========================================: ')\n",
        "\n",
        "    completion = client.chat.completions.create(\n",
        "        model=\"gpt-3.5-turbo-16k\",\n",
        "        messages=messages,\n",
        "        temperature=temp\n",
        "    )\n",
        "    answer = completion.choices[0].message.content\n",
        "    return answer  # возвращает ответ"
      ],
      "metadata": {
        "id": "KJKeby1xpFE7"
      },
      "execution_count": null,
      "outputs": []
    },
    {
      "cell_type": "code",
      "source": [
        "user_question = ''\n",
        "answer = ''\n",
        "while True:\n",
        "    input_question = input('Клиент: ') + ' '\n",
        "    if input_question.lower() == 'stop ':\n",
        "        break\n",
        "    user_question += input_question\n",
        "    topic = f'{topic0_educ} \\n\\n Предыдущий диалог: {answer} \\n\\n Ответ клиента: {input_question}'\n",
        "    answer0 = answer_index(system_educ, topic)\n",
        "    answer += answer0\n",
        "\n",
        "    print('\\nРекрутер: ', answer0)"
      ],
      "metadata": {
        "colab": {
          "base_uri": "https://localhost:8080/"
        },
        "id": "oKZtlk05CkCW",
        "outputId": "d2aeda77-4145-42d1-d7f6-74f7de665b05"
      },
      "execution_count": null,
      "outputs": [
        {
          "name": "stdout",
          "output_type": "stream",
          "text": [
            "Клиент: Привет!\n",
            "\n",
            "Рекрутер:  Привет! Я составляю резюме для тебя. Для этого мне нужно узнать информацию об образовании. Можешь ли ты сообщить мне год окончания учебного заведения?\n",
            "Клиент: 2011\n",
            "\n",
            "Рекрутер:  Спасибо за информацию! Теперь мне нужно узнать наименование учебного заведения, в котором ты получил образование. Как называется учебное заведение, где ты окончил учебу в 2011 году?\n",
            "Клиент: Самарский авиационный институт\n",
            "\n",
            "Рекрутер:  Отлично! Спасибо за информацию. Теперь мне нужно узнать специальность, которую ты получил в Самарском авиационном институте. Можешь ли ты перечислить по пунктам специальности, которые ты получил в учебном заведении?\n",
            "Клиент: 1) Программист; 2) Инженер-конструктор\n",
            "\n",
            "Рекрутер:  Отлично! Спасибо за информацию.\n",
            "\n",
            "Вот заполненный словарь:\n",
            "{'1 год окончания учебного заведения': '2011'}\n",
            "{'2 наименование учебного заведения': 'Самарский авиационный институт'}\n",
            "{'3 специальность - укажите по пунктам специальности, полученные в учебном заведении': '1) Программист; 2) Инженер-конструктор'}\n",
            "\n",
            "Теперь у меня есть все необходимые данные для составления блока резюме \"Образование\". Спасибо за предоставленную информацию! Если у тебя есть еще какая-то информация, которую ты хотел бы добавить в резюме, пожалуйста, сообщи мне.\n",
            "Клиент: stop\n"
          ]
        }
      ]
    },
    {
      "cell_type": "code",
      "source": [
        "with open('educ.txt', 'w') as file:\n",
        "    text_to_write = answer0\n",
        "    file.write(text_to_write)"
      ],
      "metadata": {
        "id": "n6Xs1csKsHww"
      },
      "execution_count": null,
      "outputs": []
    },
    {
      "cell_type": "markdown",
      "source": [
        "# Составление резюме. Блок \"Образование\""
      ],
      "metadata": {
        "id": "L1J9ECVxsZLL"
      }
    },
    {
      "cell_type": "code",
      "source": [
        "# Инструкция для GPT, которая будет подаваться в system\n",
        "system_res_educ= '''Ты профессиональный рекрутер, который составляет резюме для трудоустройства клиента в IT компанию.\n",
        "У тебя большой опыт по составлению грамотных резюме, чтобы они привлекали внимание работодателей в IT сфере.\n",
        "У тебя есть образец блока \"Образование\" резюме.\n",
        "\n",
        "К тебе будет поступать информация клиента. Информация клиента будет представлена в виде словаря.\n",
        "Из представленной информации составь блок \"Образование\" резюме.\n",
        "\n",
        "При составлении резюме добавь переносы строк, чтобы блок \"Образование\" резюме выглядел также, как образец блока \"Образование\" резюме.\n",
        " '''"
      ],
      "metadata": {
        "id": "KIvU9y-8sY0p"
      },
      "execution_count": null,
      "outputs": []
    },
    {
      "cell_type": "code",
      "source": [
        "# Данные для составления блока \"Образование\" резюме\n",
        "with open('educ.txt', 'r') as file:\n",
        "  educ = file.read()\n",
        "\n",
        "print (educ)"
      ],
      "metadata": {
        "colab": {
          "base_uri": "https://localhost:8080/"
        },
        "id": "vxHboCM7s-ho",
        "outputId": "113ea921-31e5-40fc-dd48-8c0705732cd4"
      },
      "execution_count": null,
      "outputs": [
        {
          "output_type": "stream",
          "name": "stdout",
          "text": [
            "Отлично! Спасибо за информацию.\n",
            "\n",
            "Вот заполненный словарь:\n",
            "{'1 год окончания учебного заведения': '2011'}\n",
            "{'2 наименование учебного заведения': 'Самарский авиационный институт'}\n",
            "{'3 специальность - укажите по пунктам специальности, полученные в учебном заведении': '1) Программист; 2) Инженер-конструктор'}\n",
            "\n",
            "Теперь у меня есть все необходимые данные для составления блока резюме \"Образование\". Спасибо за предоставленную информацию! Если у тебя есть еще какая-то информация, которую ты хотел бы добавить в резюме, пожалуйста, сообщи мне.\n"
          ]
        }
      ]
    },
    {
      "cell_type": "code",
      "source": [
        "# Данные для составления блока \"Образование\" резюме (данные без года окончания)\n",
        "with open('educ_none_year.txt', 'r') as file:\n",
        "  educ_none_year = file.read()\n",
        "\n",
        "print (educ_none_year)"
      ],
      "metadata": {
        "colab": {
          "base_uri": "https://localhost:8080/"
        },
        "id": "QItmQV3-uMOr",
        "outputId": "f2108a4c-4c12-4a19-f027-adf83dedd439"
      },
      "execution_count": null,
      "outputs": [
        {
          "output_type": "stream",
          "name": "stdout",
          "text": [
            "Отлично! Спасибо за информацию.\n",
            "\n",
            "Вот заполненный словарь:\n",
            "{'1 год окончания учебного заведения': ' '}\n",
            "{'2 наименование учебного заведения': 'Самарский авиационный институт'}\n",
            "{'3 специальность - укажите по пунктам специальности, полученные в учебном заведении': '1) Программист; 2) Инженер-конструктор'}\n",
            "\n",
            "Теперь у меня есть все необходимые данные для составления блока резюме \"Образование\". Спасибо за предоставленную информацию! Если у тебя есть еще какая-то информация, которую ты хотел бы добавить в резюме, пожалуйста, сообщи мне.\n"
          ]
        }
      ]
    },
    {
      "cell_type": "code",
      "source": [
        "# Данные для составления блока \"Образование\" резюме (нерелевантная специальность)\n",
        "with open('educ_not_relev.txt', 'r') as file:\n",
        "  educ_not_relev = file.read()\n",
        "\n",
        "print (educ_not_relev)"
      ],
      "metadata": {
        "colab": {
          "base_uri": "https://localhost:8080/"
        },
        "id": "74ErZKh2uuQz",
        "outputId": "7baba781-3ee4-4853-a543-a887a00085e9"
      },
      "execution_count": null,
      "outputs": [
        {
          "output_type": "stream",
          "name": "stdout",
          "text": [
            "Отлично! Спасибо за информацию.\n",
            "\n",
            "Вот заполненный словарь:\n",
            "{'1 год окончания учебного заведения': '2011'}\n",
            "{'2 наименование учебного заведения': 'Самарский авиационный институт'}\n",
            "{'3 специальность - укажите по пунктам специальности, полученные в учебном заведении': Юрист'}\n",
            "\n",
            "Теперь у меня есть все необходимые данные для составления блока резюме \"Образование\". Спасибо за предоставленную информацию! Если у тебя есть еще какая-то информация, которую ты хотел бы добавить в резюме, пожалуйста, сообщи мне.\n"
          ]
        }
      ]
    },
    {
      "cell_type": "code",
      "source": [
        "# Данные для образца блока \"Образование\" резюме\n",
        "with open('educ_sample.txt', 'r') as file:\n",
        "  educ_sample = file.read()\n",
        "\n",
        "print (educ_sample)"
      ],
      "metadata": {
        "colab": {
          "base_uri": "https://localhost:8080/"
        },
        "id": "WZ8_ULFzu_er",
        "outputId": "2905261c-6878-499f-e084-0c47a1f73826"
      },
      "execution_count": null,
      "outputs": [
        {
          "output_type": "stream",
          "name": "stdout",
          "text": [
            "{'1 год окончания учебного заведения': '2023'}\n",
            "{'2 наименование учебного заведения': 'Университет искусственного интеллекта'}\n",
            "{'3 специальность - укажите по пунктам специальности, полученные в учебном заведении': '1) ChatGPT Professional; 2) Data Science и нейронные сети'}\n",
            "\n",
            "\n",
            "{'1 год окончания учебного заведения': '2001'}\n",
            "{'2 наименование учебного заведения': 'Тольяттинский политехнический институт'}\n",
            "{'3 специальность - укажите по пунктам специальности, полученные в учебном заведении': 'Инженер-технолог сварочного производства'}\n"
          ]
        }
      ]
    },
    {
      "cell_type": "code",
      "source": [
        "# Образец составленного блока \"Образование\" резюме\n",
        "with open('resume_sample_educ.txt', 'r') as file:\n",
        "  resume_sample_educ = file.read()\n",
        "\n",
        "print (resume_sample_educ)"
      ],
      "metadata": {
        "colab": {
          "base_uri": "https://localhost:8080/"
        },
        "id": "un-x0hG4vY7E",
        "outputId": "28610bb3-d640-43bb-ae83-d0232a455f60"
      },
      "execution_count": null,
      "outputs": [
        {
          "output_type": "stream",
          "name": "stdout",
          "text": [
            "﻿Год окончания: 2023  \n",
            "Учебное заведение: Университет искусственного интеллекта\n",
            "\n",
            "Специальности:\n",
            "1) ChatGPT Professional\n",
            "2) Data Science и нейронные сети\n",
            "\n",
            "\n",
            "\n",
            "Год окончания: 2001\n",
            "Учебное заведение: Тольяттинский политехнический институт\n",
            "\n",
            "Специальности:\n",
            "1) Инженер-технолог сварочного производства\n"
          ]
        }
      ]
    },
    {
      "cell_type": "code",
      "source": [
        "# Составим резюме со всеми заполненными данными\n",
        "response = client.chat.completions.create(\n",
        "  model=\"gpt-3.5-turbo\",\n",
        "  messages=[\n",
        "        {\"role\": \"system\", \"content\": f'{system_res_educ} \\n\\nОбразец резюме: {resume_sample_educ}'},\n",
        "        {\"role\": \"user\", \"content\": f\"Составь резюме из словаря: \\n\\n{educ_sample}. Информацию для резюме бери только из словаря. Если в словаре информации нет, ставь пропуски. Резюме составляй в точном соответствии с образцом. От себя ничего не добавляй.\"},\n",
        "        {\"role\": \"assistant\", \"content\": resume_sample_educ},\n",
        "        {\"role\": \"user\", \"content\": f\"Составь резюме из словаря: \\n\\n{educ}. Информацию для резюме бери только из словаря. Если в словаре информации нет, ставь пропуски. Резюме составляй в точном соответствии с образцом. От себя ничего не добавляй.\"}\n",
        "    ]\n",
        ")\n",
        "answer = response.choices[0].message.content\n",
        "print(answer)\n",
        "resume_educ = answer"
      ],
      "metadata": {
        "colab": {
          "base_uri": "https://localhost:8080/"
        },
        "id": "-XLKhAwGvxha",
        "outputId": "5c6742b5-3d59-437e-ff5f-69fac05a96e7"
      },
      "execution_count": null,
      "outputs": [
        {
          "output_type": "stream",
          "name": "stdout",
          "text": [
            "﻿Год окончания: 2011  \n",
            "Учебное заведение: Самарский авиационный институт\n",
            "\n",
            "Специальности:\n",
            "1) Программист\n",
            "2) Инженер-конструктор\n"
          ]
        }
      ]
    },
    {
      "cell_type": "code",
      "source": [
        "# Составим резюме без указания года окончания\n",
        "response = client.chat.completions.create(\n",
        "  model=\"gpt-3.5-turbo\",\n",
        "  messages=[\n",
        "        {\"role\": \"system\", \"content\": f'{system_res_educ} \\n\\nОбразец резюме: {resume_sample_educ}'},\n",
        "        {\"role\": \"user\", \"content\": f\"Составь резюме из словаря: \\n\\n{educ_sample}. Информацию для резюме бери только из словаря. Если в словаре информации нет, ставь пропуски. Резюме составляй в точном соответствии с образцом. От себя ничего не добавляй.\"},\n",
        "        {\"role\": \"assistant\", \"content\": resume_sample_educ},\n",
        "        {\"role\": \"user\", \"content\": f\"Составь резюме из словаря: \\n\\n{educ_none_year}. Информацию для резюме бери только из словаря. Если в словаре информации нет, ставь пропуски. Резюме составляй в точном соответствии с образцом. От себя ничего не добавляй.\"}\n",
        "    ]\n",
        ")\n",
        "answer = response.choices[0].message.content\n",
        "print(answer)\n",
        "resume_educ_none_year = answer"
      ],
      "metadata": {
        "colab": {
          "base_uri": "https://localhost:8080/"
        },
        "id": "O_OjMJZ5wqYT",
        "outputId": "eb2641b9-843d-46f3-8365-892f35e6b3df"
      },
      "execution_count": null,
      "outputs": [
        {
          "output_type": "stream",
          "name": "stdout",
          "text": [
            "﻿Год окончания:  \n",
            "Учебное заведение: Самарский авиационный институт\n",
            "\n",
            "Специальности:\n",
            "1) Программист\n",
            "2) Инженер-конструктор\n"
          ]
        }
      ]
    },
    {
      "cell_type": "code",
      "source": [
        "# Составим резюме с нерелевантной специальностью\n",
        "response = client.chat.completions.create(\n",
        "  model=\"gpt-3.5-turbo\",\n",
        "  messages=[\n",
        "        {\"role\": \"system\", \"content\": f'{system_res_educ} \\n\\nОбразец резюме: {resume_sample_educ}'},\n",
        "        {\"role\": \"user\", \"content\": f\"Составь резюме из словаря: \\n\\n{educ_sample}. Информацию для резюме бери только из словаря. Если в словаре информации нет, ставь пропуски. Резюме составляй в точном соответствии с образцом. От себя ничего не добавляй.\"},\n",
        "        {\"role\": \"assistant\", \"content\": resume_sample_educ},\n",
        "        {\"role\": \"user\", \"content\": f\"Составь резюме из словаря: \\n\\n{educ_not_relev}. Информацию для резюме бери только из словаря. Если в словаре информации нет, ставь пропуски. Резюме составляй в точном соответствии с образцом. От себя ничего не добавляй.\"}\n",
        "    ]\n",
        ")\n",
        "answer = response.choices[0].message.content\n",
        "print(answer)\n",
        "resume_educ_not_relev = answer"
      ],
      "metadata": {
        "colab": {
          "base_uri": "https://localhost:8080/"
        },
        "id": "HTeEllDYy_1x",
        "outputId": "41487579-7a68-4122-a6d6-07b339895547"
      },
      "execution_count": null,
      "outputs": [
        {
          "output_type": "stream",
          "name": "stdout",
          "text": [
            "Год окончания: 2011  \n",
            "Учебное заведение: Самарский авиационный институт\n",
            "\n",
            "Специальности:\n",
            "1) Юрист\n"
          ]
        }
      ]
    },
    {
      "cell_type": "markdown",
      "source": [
        "# Проверка резюме (блок \"Образование\")"
      ],
      "metadata": {
        "id": "j0KSMwE1zpCA"
      }
    },
    {
      "cell_type": "code",
      "source": [
        "# Инструкция для GPT, которая будет подаваться в system\n",
        "system_educ_control= '''Ты профессиональный рекрутер по IT специальностям.\n",
        "У тебя большой опыт по составлению грамотных резюме, чтобы они привлекали внимание работодателей в IT сфере.\n",
        "У тебя есть образец блока \"Образование\" резюме.\n",
        "\n",
        "К тебе от клиента будет поступать заполненный блок \"Образование\" резюме.\n",
        "Проверь полноту заполнения блока \"Образование\" резюме. Проверь релевантность указанной информации. Сравни с образцом правильно составленного блока \"Образование\" резюме.\n",
        "Проверь указанные специальности на соответствие и релевантность IT сфере.\n",
        "\n",
        "Укажи, если блок \"Образование\" резюме неполностью заполнен или указана нерелевантная информация.\n",
        "Укажи, какая информация отсутствует или нерелевантная.\n",
        "Указывай только ту информацию, которая отстутсвует или нерелевантная. Не придумывай ничего от себя и лишнее в ответ не добавляй.\n",
        "\n",
        "Пожалуйста, включи переносы строк в ответе.\n",
        "'''"
      ],
      "metadata": {
        "id": "0q8aRqBXzopi"
      },
      "execution_count": null,
      "outputs": []
    },
    {
      "cell_type": "code",
      "source": [
        "# Образец правильно составленного блока \"Образование\" резюме\n",
        "\n",
        "print (resume_sample_educ)"
      ],
      "metadata": {
        "colab": {
          "base_uri": "https://localhost:8080/"
        },
        "id": "t6WZoqJN1uM4",
        "outputId": "3b385e0d-4638-4755-c892-f5c8fd51bdef"
      },
      "execution_count": null,
      "outputs": [
        {
          "output_type": "stream",
          "name": "stdout",
          "text": [
            "﻿Год окончания: 2023  \n",
            "Учебное заведение: Университет искусственного интеллекта\n",
            "\n",
            "Специальности:\n",
            "1) ChatGPT Professional\n",
            "2) Data Science и нейронные сети\n",
            "\n",
            "\n",
            "\n",
            "Год окончания: 2001\n",
            "Учебное заведение: Тольяттинский политехнический институт\n",
            "\n",
            "Специальности:\n",
            "1) Инженер-технолог сварочного производства\n"
          ]
        }
      ]
    },
    {
      "cell_type": "code",
      "source": [
        "# Образец составленного блока \"Образование\" резюме без указания учебного заведения\n",
        "with open('resume_sample_educ_none_inst.txt', 'r') as file:\n",
        "  resume_sample_educ_none_inst = file.read()\n",
        "\n",
        "print (resume_sample_educ_none_inst)"
      ],
      "metadata": {
        "colab": {
          "base_uri": "https://localhost:8080/"
        },
        "id": "OTEpKqXN2Nb2",
        "outputId": "72c5848b-8425-4af9-a310-d4ff98dbd4f1"
      },
      "execution_count": null,
      "outputs": [
        {
          "output_type": "stream",
          "name": "stdout",
          "text": [
            "﻿Год окончания: 2023  \n",
            "Учебное заведение: Университет искусственного интеллекта\n",
            "\n",
            "Специальности:\n",
            "1) ChatGPT Professional\n",
            "2) Data Science и нейронные сети\n",
            "\n",
            "\n",
            "\n",
            "Год окончания: 2001\n",
            "Учебное заведение:\n",
            "\n",
            "Специальности:\n",
            "1) Инженер-технолог сварочного производства\n"
          ]
        }
      ]
    },
    {
      "cell_type": "code",
      "source": [
        "# Блок \"Образование\" для проверки (без года окончания)\n",
        "print (resume_educ_none_year)"
      ],
      "metadata": {
        "colab": {
          "base_uri": "https://localhost:8080/"
        },
        "id": "0GYc-vPt2dGS",
        "outputId": "4237ff28-e6e5-4941-9a82-ade00fe9c1aa"
      },
      "execution_count": null,
      "outputs": [
        {
          "output_type": "stream",
          "name": "stdout",
          "text": [
            "﻿Год окончания:  \n",
            "Учебное заведение: Самарский авиационный институт\n",
            "\n",
            "Специальности:\n",
            "1) Программист\n",
            "2) Инженер-конструктор\n"
          ]
        }
      ]
    },
    {
      "cell_type": "code",
      "source": [
        "# Блок \"Образование\" для проверки (нерелевантная специальность)\n",
        "print (resume_educ_not_relev)"
      ],
      "metadata": {
        "colab": {
          "base_uri": "https://localhost:8080/"
        },
        "id": "hIzai01R3BrG",
        "outputId": "70c44975-ce8f-468b-e459-81fff3939881"
      },
      "execution_count": null,
      "outputs": [
        {
          "output_type": "stream",
          "name": "stdout",
          "text": [
            "Год окончания: 2011  \n",
            "Учебное заведение: Самарский авиационный институт\n",
            "\n",
            "Специальности:\n",
            "1) Юрист\n"
          ]
        }
      ]
    },
    {
      "cell_type": "code",
      "source": [
        "# Блок \"Образование\" для проверки (правильно составленный)\n",
        "print (resume_educ)"
      ],
      "metadata": {
        "colab": {
          "base_uri": "https://localhost:8080/"
        },
        "id": "3QzpaVZ53Q-J",
        "outputId": "115b9a91-ad59-4834-e5ae-f0cc2602595b"
      },
      "execution_count": null,
      "outputs": [
        {
          "output_type": "stream",
          "name": "stdout",
          "text": [
            "﻿Год окончания: 2011  \n",
            "Учебное заведение: Самарский авиационный институт\n",
            "\n",
            "Специальности:\n",
            "1) Программист\n",
            "2) Инженер-конструктор\n"
          ]
        }
      ]
    },
    {
      "cell_type": "code",
      "source": [
        "# Проверим резюме без указания года окончания\n",
        "response = client.chat.completions.create(\n",
        "  model=\"gpt-3.5-turbo\",\n",
        "  messages=[\n",
        "        {\"role\": \"system\", \"content\": f'{system_educ_control} \\n\\nОбразец правильно составленного блока \"Образование\" резюме: {resume_sample_educ}'},\n",
        "        {\"role\": \"user\", \"content\": f'Сравни блок \"Образование\" резюме: \\n\\n{resume_sample_educ_none_inst} с образцом: \\n\\n{resume_sample_educ}. \\n\\nКратко укажи замечания по заполнению блока \"Образование\" резюме: \\n\\n{resume_sample_educ_none_inst}.'},\n",
        "        {\"role\": \"assistant\", \"content\": '''В блоке \"Образование\" резюме не указано наименование учебного заведения, оконченного в 2001 году.\n",
        "        Укажите наименование учебного заведения, оконченного в 2001 году.\n",
        "        Специальность \"Инженер-технолог сварочного производства\" нерелевантна IT сфере.'''},\n",
        "        {\"role\": \"user\", \"content\": f'Сравни блок \"Образование\" резюме: \\n\\n{resume_educ_none_year} с образцом: \\n\\n{resume_sample_educ}. \\n\\nКратко укажи замечания по заполнению блока \"Образование\" резюме: \\n\\n{resume_educ_none_year}.'}\n",
        "    ]\n",
        ")\n",
        "remarks_educ = response.choices[0].message.content\n",
        "print(remarks_educ)"
      ],
      "metadata": {
        "colab": {
          "base_uri": "https://localhost:8080/"
        },
        "id": "CK8sFEPQ3g7f",
        "outputId": "fb8f2747-ebaa-4637-b40e-79140b066ce4"
      },
      "execution_count": null,
      "outputs": [
        {
          "output_type": "stream",
          "name": "stdout",
          "text": [
            "В блоке \"Образование\" резюме не указан год окончания образования в первом блоке \"Образование\".\n",
            "        Укажите год окончания образования в первом блоке \"Образование\".\n",
            "        Специальности \"Программист\" и \"Инженер-конструктор\" релевантны IT сфере.\n"
          ]
        }
      ]
    },
    {
      "cell_type": "code",
      "source": [
        "# Проверим резюме с нерелевантной специальностью\n",
        "response = client.chat.completions.create(\n",
        "  model=\"gpt-3.5-turbo\",\n",
        "  messages=[\n",
        "        {\"role\": \"system\", \"content\": f'{system_educ_control} \\n\\nОбразец правильно составленного блока \"Образование\" резюме: {resume_sample_educ}'},\n",
        "        {\"role\": \"user\", \"content\": f'Кратко укажи замечания по заполнению блока \"Образование\" резюме: {resume_sample_educ_none_inst}.'},\n",
        "        {\"role\": \"assistant\", \"content\": '''В блоке \"Образование\" резюме не указано наименование учебного заведения, оконченного в 2001 году.\n",
        "        Укажите наименование учебного заведения, оконченного в 2001 году.'''},\n",
        "        {\"role\": \"user\", \"content\": f'Кратко укажи замечания по заполнению блока \"Образование\" резюме: {resume_educ_not_relev}.'}\n",
        "    ]\n",
        ")\n",
        "remarks_educ = response.choices[0].message.content\n",
        "print(remarks_educ)"
      ],
      "metadata": {
        "colab": {
          "base_uri": "https://localhost:8080/"
        },
        "id": "8LAhZy6K4wC3",
        "outputId": "2a0b54fc-9408-4dae-93d8-8ef59fdf3270"
      },
      "execution_count": null,
      "outputs": [
        {
          "output_type": "stream",
          "name": "stdout",
          "text": [
            "В блоке \"Образование\" резюме указана нерелевантная специальность \"Юрист\" для IT сферы. Укажите релевантные специальности, связанные с IT.\n"
          ]
        }
      ]
    },
    {
      "cell_type": "code",
      "source": [
        "# Проверим резюме, полностью и правильно заполненное\n",
        "response = client.chat.completions.create(\n",
        "  model=\"gpt-3.5-turbo\",\n",
        "  messages=[\n",
        "        {\"role\": \"system\", \"content\": f'{system_educ_control} \\n\\nОбразец правильно составленного блока \"Образование\" резюме: {resume_sample_educ}'},\n",
        "        {\"role\": \"user\", \"content\": f'Кратко укажи замечания по заполнению блока \"Образование\" резюме: {resume_sample_educ_none_inst}.'},\n",
        "        {\"role\": \"assistant\", \"content\": '''В блоке \"Образование\" резюме не указано наименование учебного заведения, оконченного в 2001 году.\n",
        "        Укажите наименование учебного заведения, оконченного в 2001 году.'''},\n",
        "        {\"role\": \"user\", \"content\": f'Кратко укажи замечания по заполнению блока \"Образование\" резюме: {resume_educ}.'}\n",
        "    ]\n",
        ")\n",
        "remarks_educ = response.choices[0].message.content\n",
        "print(remarks_educ)"
      ],
      "metadata": {
        "colab": {
          "base_uri": "https://localhost:8080/"
        },
        "id": "nAhuzMvD-7tO",
        "outputId": "262cd62b-373b-4c30-ff5f-9d8cd8d1c22d"
      },
      "execution_count": null,
      "outputs": [
        {
          "output_type": "stream",
          "name": "stdout",
          "text": [
            "Замечаний по блоку \"Образование\" резюме нет. Все поля заполнены корректно и содержат релевантную информацию о годе окончания, учебном заведении и специальностях.\n"
          ]
        }
      ]
    }
  ]
}