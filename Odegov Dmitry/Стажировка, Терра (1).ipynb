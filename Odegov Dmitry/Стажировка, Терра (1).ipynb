{
  "nbformat": 4,
  "nbformat_minor": 0,
  "metadata": {
    "colab": {
      "provenance": []
    },
    "kernelspec": {
      "name": "python3",
      "display_name": "Python 3"
    },
    "language_info": {
      "name": "python"
    }
  },
  "cells": [
    {
      "cell_type": "markdown",
      "source": [
        "###Начало"
      ],
      "metadata": {
        "id": "ejoLvEePkV4M"
      }
    },
    {
      "cell_type": "code",
      "source": [
        "from google.colab import drive\n",
        "drive.mount('/content/drive/', force_remount=True)"
      ],
      "metadata": {
        "colab": {
          "base_uri": "https://localhost:8080/"
        },
        "id": "FOtUyX67kYN_",
        "outputId": "03369705-4448-4efc-ab4e-d76b5c223a0d"
      },
      "execution_count": 1,
      "outputs": [
        {
          "output_type": "stream",
          "name": "stdout",
          "text": [
            "Mounted at /content/drive/\n"
          ]
        }
      ]
    },
    {
      "cell_type": "code",
      "source": [
        "!pip -q install openai"
      ],
      "metadata": {
        "colab": {
          "base_uri": "https://localhost:8080/"
        },
        "id": "s4c2UdwFhqFz",
        "outputId": "763e245f-a2a4-4b32-aaa6-63b56f074525"
      },
      "execution_count": 2,
      "outputs": [
        {
          "output_type": "stream",
          "name": "stdout",
          "text": [
            "\u001b[?25l     \u001b[90m━━━━━━━━━━━━━━━━━━━━━━━━━━━━━━━━━━━━━━━━\u001b[0m \u001b[32m0.0/76.5 kB\u001b[0m \u001b[31m?\u001b[0m eta \u001b[36m-:--:--\u001b[0m\r\u001b[2K     \u001b[90m━━━━━━━━━━━━━━━━━━━━━━━━━━━━━━━━━━━━━━━━\u001b[0m \u001b[32m76.5/76.5 kB\u001b[0m \u001b[31m2.2 MB/s\u001b[0m eta \u001b[36m0:00:00\u001b[0m\n",
            "\u001b[?25h"
          ]
        }
      ]
    },
    {
      "cell_type": "code",
      "source": [
        "!pip -q install langchain tiktoken"
      ],
      "metadata": {
        "colab": {
          "base_uri": "https://localhost:8080/"
        },
        "id": "h3pceW4SD21I",
        "outputId": "6a41dd00-6a0c-4fbf-bb4a-205ff3108eea"
      },
      "execution_count": 26,
      "outputs": [
        {
          "output_type": "stream",
          "name": "stdout",
          "text": [
            "\u001b[2K     \u001b[90m━━━━━━━━━━━━━━━━━━━━━━━━━━━━━━━━━━━━━━━━\u001b[0m \u001b[32m1.7/1.7 MB\u001b[0m \u001b[31m24.7 MB/s\u001b[0m eta \u001b[36m0:00:00\u001b[0m\n",
            "\u001b[2K     \u001b[90m━━━━━━━━━━━━━━━━━━━━━━━━━━━━━━━━━━━━━━━━\u001b[0m \u001b[32m2.0/2.0 MB\u001b[0m \u001b[31m49.0 MB/s\u001b[0m eta \u001b[36m0:00:00\u001b[0m\n",
            "\u001b[2K     \u001b[90m━━━━━━━━━━━━━━━━━━━━━━━━━━━━━━━━━━━━━━━━\u001b[0m \u001b[32m49.4/49.4 kB\u001b[0m \u001b[31m5.0 MB/s\u001b[0m eta \u001b[36m0:00:00\u001b[0m\n",
            "\u001b[?25h"
          ]
        }
      ]
    },
    {
      "cell_type": "code",
      "source": [
        "import pandas as pd\n",
        "import numpy as np"
      ],
      "metadata": {
        "id": "1-8kNwPbkxR-"
      },
      "execution_count": 3,
      "outputs": []
    },
    {
      "cell_type": "code",
      "source": [
        "import tiktoken\n",
        "from langchain.chat_models import ChatOpenAI\n",
        "\n",
        "from langchain.schema import (\n",
        "    AIMessage,\n",
        "    HumanMessage,\n",
        "    SystemMessage\n",
        ")"
      ],
      "metadata": {
        "id": "pbBUtLpdECim"
      },
      "execution_count": 27,
      "outputs": []
    },
    {
      "cell_type": "code",
      "execution_count": 4,
      "metadata": {
        "colab": {
          "base_uri": "https://localhost:8080/"
        },
        "id": "jqtKPlOagyPu",
        "outputId": "d378e19a-6943-4e50-8a55-5ce08f7b1394"
      },
      "outputs": [
        {
          "name": "stdout",
          "output_type": "stream",
          "text": [
            "OpenAI API Key:··········\n"
          ]
        }
      ],
      "source": [
        "import getpass\n",
        "import openai\n",
        "import os\n",
        "# Получение ключа API от пользователя и установка его как переменной окружения\n",
        "openai_key = getpass.getpass(\"OpenAI API Key:\")\n",
        "os.environ[\"OPENAI_API_KEY\"] = openai_key\n",
        "openai.api_key = openai_key"
      ]
    },
    {
      "cell_type": "markdown",
      "source": [
        "###О себе"
      ],
      "metadata": {
        "id": "wL3vt3FNgz50"
      }
    },
    {
      "cell_type": "markdown",
      "source": [
        "Промт для генерации о себе по интересам пользователя"
      ],
      "metadata": {
        "id": "JGA-wrlSiosR"
      }
    },
    {
      "cell_type": "code",
      "source": [
        "# Должность\n",
        "position = 'Data Scientist'\n",
        "\n",
        "# О себе\n",
        "about = 'Интересны нейросети, занимаюсь изучением python'"
      ],
      "metadata": {
        "id": "-f3EsAIthoiR"
      },
      "execution_count": null,
      "outputs": []
    },
    {
      "cell_type": "code",
      "source": [
        "answer = openai.ChatCompletion.create(\n",
        "    model='gpt-3.5-turbo',\n",
        "    messages=[\n",
        "        {\n",
        "            'role': 'system',\n",
        "            'content': f'''Ты hr консультант, который помогает соискателю грамотно написать о себе,\n",
        "чтобы максимально соответствовать должности {position}. Соискатель написал о себе, оптимизируй этот текст,\n",
        "и если надо, то дополни, чтобы он максимально был релевантным должности соискателя.\n",
        "Напиши лаконично от первого лица в деловом стиле, как будто это ты устраиваешься на должность {position}.\n",
        "Не пиши приветствие.'''\n",
        "        },\n",
        "        {\n",
        "            'role': 'user',\n",
        "            'content': about\n",
        "        }\n",
        "    ]\n",
        ")"
      ],
      "metadata": {
        "id": "Hgm7Kk3piJ4R"
      },
      "execution_count": null,
      "outputs": []
    },
    {
      "cell_type": "code",
      "source": [
        "message = answer['choices'][0]['message']['content']\n",
        "message"
      ],
      "metadata": {
        "colab": {
          "base_uri": "https://localhost:8080/",
          "height": 71
        },
        "id": "GDQs0y58igUE",
        "outputId": "92cd8003-1bb2-43b7-8fd7-cde5d60bb60d"
      },
      "execution_count": null,
      "outputs": [
        {
          "output_type": "execute_result",
          "data": {
            "text/plain": [
              "'Я - опытный Data Scientist с увлечением в области нейросетей и глубокого обучения. Обладаю глубокими знаниями и опытом работы с Python, особенно в контексте анализа данных и создания моделей машинного обучения. Моя цель - применять мои навыки и знания для решения сложных проблем и создания инновационных решений в области Data Science. Я уверен в своей способности принести ценность и вносить вклад в команду Data Scientists, и я готов принять вызов и достичь новых высот.'"
            ],
            "application/vnd.google.colaboratory.intrinsic+json": {
              "type": "string"
            }
          },
          "metadata": {},
          "execution_count": 6
        }
      ]
    },
    {
      "cell_type": "markdown",
      "source": [
        "###Проверка резюме"
      ],
      "metadata": {
        "id": "Tj2waUlni2c_"
      }
    },
    {
      "cell_type": "code",
      "source": [
        "file = '/content/drive/MyDrive/UII/Terra/hh_filtered (1).csv'\n",
        "df = pd.read_csv(file, low_memory=False)"
      ],
      "metadata": {
        "id": "a9vu4aRukhD0"
      },
      "execution_count": 5,
      "outputs": []
    },
    {
      "cell_type": "code",
      "source": [
        "# Список столбцов\n",
        "list(df)"
      ],
      "metadata": {
        "colab": {
          "base_uri": "https://localhost:8080/"
        },
        "id": "0kqVDVzEmgHu",
        "outputId": "29edc908-c602-424b-cfcb-97b92ec860e3"
      },
      "execution_count": 6,
      "outputs": [
        {
          "output_type": "execute_result",
          "data": {
            "text/plain": [
              "['Пол, возраст',\n",
              " 'ЗП',\n",
              " 'Ищет работу на должность:',\n",
              " 'Город',\n",
              " 'Занятость',\n",
              " 'График',\n",
              " 'Опыт (двойное нажатие для полной версии)',\n",
              " 'Последенее/нынешнее место работы',\n",
              " 'Последеняя/нынешняя должность',\n",
              " 'Образование и ВУЗ',\n",
              " 'Обновление резюме',\n",
              " 'Авто']"
            ]
          },
          "metadata": {},
          "execution_count": 6
        }
      ]
    },
    {
      "cell_type": "code",
      "source": [
        "# номер строки\n",
        "num = 4\n",
        "df[num:num+1]"
      ],
      "metadata": {
        "colab": {
          "base_uri": "https://localhost:8080/",
          "height": 168
        },
        "id": "Z4sD6Ufalmyi",
        "outputId": "549c6f9d-5b1b-490b-878e-fb5bb3394399"
      },
      "execution_count": 11,
      "outputs": [
        {
          "output_type": "execute_result",
          "data": {
            "text/plain": [
              "                                Пол, возраст           ЗП  \\\n",
              "4  Мужчина ,  54 года , родился 27 июня 1964  180000 руб.   \n",
              "\n",
              "    Ищет работу на должность:  \\\n",
              "4  ведущий разработчик oracle   \n",
              "\n",
              "                                               Город         Занятость  \\\n",
              "4  Москва ,  м. Бульвар Рокоссовского , не готов ...  полная занятость   \n",
              "\n",
              "                                         График  \\\n",
              "4  гибкий график, полный день, удаленная работа   \n",
              "\n",
              "            Опыт (двойное нажатие для полной версии)  \\\n",
              "4  Опыт работы 30 лет 9 месяцев  Ведущий разработ...   \n",
              "\n",
              "                    Последенее/нынешнее место работы  \\\n",
              "4  Государственная корпорация  “Банк развития и в...   \n",
              "\n",
              "      Последеняя/нынешняя должность  \\\n",
              "4  Бизнес-аналитик / Разработчик ПО   \n",
              "\n",
              "                                   Образование и ВУЗ Обновление резюме  \\\n",
              "4  Высшее образование 1987  Московский авиационны...  10.08.2018 12:00   \n",
              "\n",
              "         Авто  \n",
              "4  Не указано  "
            ],
            "text/html": [
              "\n",
              "  <div id=\"df-82512d77-fae7-474a-b471-3f40109a3b78\" class=\"colab-df-container\">\n",
              "    <div>\n",
              "<style scoped>\n",
              "    .dataframe tbody tr th:only-of-type {\n",
              "        vertical-align: middle;\n",
              "    }\n",
              "\n",
              "    .dataframe tbody tr th {\n",
              "        vertical-align: top;\n",
              "    }\n",
              "\n",
              "    .dataframe thead th {\n",
              "        text-align: right;\n",
              "    }\n",
              "</style>\n",
              "<table border=\"1\" class=\"dataframe\">\n",
              "  <thead>\n",
              "    <tr style=\"text-align: right;\">\n",
              "      <th></th>\n",
              "      <th>Пол, возраст</th>\n",
              "      <th>ЗП</th>\n",
              "      <th>Ищет работу на должность:</th>\n",
              "      <th>Город</th>\n",
              "      <th>Занятость</th>\n",
              "      <th>График</th>\n",
              "      <th>Опыт (двойное нажатие для полной версии)</th>\n",
              "      <th>Последенее/нынешнее место работы</th>\n",
              "      <th>Последеняя/нынешняя должность</th>\n",
              "      <th>Образование и ВУЗ</th>\n",
              "      <th>Обновление резюме</th>\n",
              "      <th>Авто</th>\n",
              "    </tr>\n",
              "  </thead>\n",
              "  <tbody>\n",
              "    <tr>\n",
              "      <th>4</th>\n",
              "      <td>Мужчина ,  54 года , родился 27 июня 1964</td>\n",
              "      <td>180000 руб.</td>\n",
              "      <td>ведущий разработчик oracle</td>\n",
              "      <td>Москва ,  м. Бульвар Рокоссовского , не готов ...</td>\n",
              "      <td>полная занятость</td>\n",
              "      <td>гибкий график, полный день, удаленная работа</td>\n",
              "      <td>Опыт работы 30 лет 9 месяцев  Ведущий разработ...</td>\n",
              "      <td>Государственная корпорация  “Банк развития и в...</td>\n",
              "      <td>Бизнес-аналитик / Разработчик ПО</td>\n",
              "      <td>Высшее образование 1987  Московский авиационны...</td>\n",
              "      <td>10.08.2018 12:00</td>\n",
              "      <td>Не указано</td>\n",
              "    </tr>\n",
              "  </tbody>\n",
              "</table>\n",
              "</div>\n",
              "    <div class=\"colab-df-buttons\">\n",
              "\n",
              "  <div class=\"colab-df-container\">\n",
              "    <button class=\"colab-df-convert\" onclick=\"convertToInteractive('df-82512d77-fae7-474a-b471-3f40109a3b78')\"\n",
              "            title=\"Convert this dataframe to an interactive table.\"\n",
              "            style=\"display:none;\">\n",
              "\n",
              "  <svg xmlns=\"http://www.w3.org/2000/svg\" height=\"24px\" viewBox=\"0 -960 960 960\">\n",
              "    <path d=\"M120-120v-720h720v720H120Zm60-500h600v-160H180v160Zm220 220h160v-160H400v160Zm0 220h160v-160H400v160ZM180-400h160v-160H180v160Zm440 0h160v-160H620v160ZM180-180h160v-160H180v160Zm440 0h160v-160H620v160Z\"/>\n",
              "  </svg>\n",
              "    </button>\n",
              "\n",
              "  <style>\n",
              "    .colab-df-container {\n",
              "      display:flex;\n",
              "      gap: 12px;\n",
              "    }\n",
              "\n",
              "    .colab-df-convert {\n",
              "      background-color: #E8F0FE;\n",
              "      border: none;\n",
              "      border-radius: 50%;\n",
              "      cursor: pointer;\n",
              "      display: none;\n",
              "      fill: #1967D2;\n",
              "      height: 32px;\n",
              "      padding: 0 0 0 0;\n",
              "      width: 32px;\n",
              "    }\n",
              "\n",
              "    .colab-df-convert:hover {\n",
              "      background-color: #E2EBFA;\n",
              "      box-shadow: 0px 1px 2px rgba(60, 64, 67, 0.3), 0px 1px 3px 1px rgba(60, 64, 67, 0.15);\n",
              "      fill: #174EA6;\n",
              "    }\n",
              "\n",
              "    .colab-df-buttons div {\n",
              "      margin-bottom: 4px;\n",
              "    }\n",
              "\n",
              "    [theme=dark] .colab-df-convert {\n",
              "      background-color: #3B4455;\n",
              "      fill: #D2E3FC;\n",
              "    }\n",
              "\n",
              "    [theme=dark] .colab-df-convert:hover {\n",
              "      background-color: #434B5C;\n",
              "      box-shadow: 0px 1px 3px 1px rgba(0, 0, 0, 0.15);\n",
              "      filter: drop-shadow(0px 1px 2px rgba(0, 0, 0, 0.3));\n",
              "      fill: #FFFFFF;\n",
              "    }\n",
              "  </style>\n",
              "\n",
              "    <script>\n",
              "      const buttonEl =\n",
              "        document.querySelector('#df-82512d77-fae7-474a-b471-3f40109a3b78 button.colab-df-convert');\n",
              "      buttonEl.style.display =\n",
              "        google.colab.kernel.accessAllowed ? 'block' : 'none';\n",
              "\n",
              "      async function convertToInteractive(key) {\n",
              "        const element = document.querySelector('#df-82512d77-fae7-474a-b471-3f40109a3b78');\n",
              "        const dataTable =\n",
              "          await google.colab.kernel.invokeFunction('convertToInteractive',\n",
              "                                                    [key], {});\n",
              "        if (!dataTable) return;\n",
              "\n",
              "        const docLinkHtml = 'Like what you see? Visit the ' +\n",
              "          '<a target=\"_blank\" href=https://colab.research.google.com/notebooks/data_table.ipynb>data table notebook</a>'\n",
              "          + ' to learn more about interactive tables.';\n",
              "        element.innerHTML = '';\n",
              "        dataTable['output_type'] = 'display_data';\n",
              "        await google.colab.output.renderOutput(dataTable, element);\n",
              "        const docLink = document.createElement('div');\n",
              "        docLink.innerHTML = docLinkHtml;\n",
              "        element.appendChild(docLink);\n",
              "      }\n",
              "    </script>\n",
              "  </div>\n",
              "\n",
              "    </div>\n",
              "  </div>\n"
            ]
          },
          "metadata": {},
          "execution_count": 11
        }
      ]
    },
    {
      "cell_type": "code",
      "source": [
        "num = 11\n",
        "position = df['Ищет работу на должность:'][num]\n",
        "education = df['Образование и ВУЗ'][num]\n",
        "experience = df['Опыт (двойное нажатие для полной версии)'][num]\n",
        "print('Должность:', position)\n",
        "print(f'Образование [{len(education)}]:', education)\n",
        "print(f'Опыт работы [{len(experience)}]:', experience)"
      ],
      "metadata": {
        "colab": {
          "base_uri": "https://localhost:8080/"
        },
        "id": "tTp6hMJQmOww",
        "outputId": "1b418840-047c-4476-e937-89bb4287b393"
      },
      "execution_count": 19,
      "outputs": [
        {
          "output_type": "stream",
          "name": "stdout",
          "text": [
            "Должность: front-end web developer\n",
            "Образование [164]: Высшее образование 2018 University of the People BS, Computer Science 2015 Udacity Nanodegrees, Front-end web developer 2009 КГУКИ ИБФ, Прикладная информатика в СКС\n",
            "Опыт работы [962]: Опыт работы 10 лет 4 месяца  Август 2017 — по настоящее время 1 год 10 месяцев Klerk.ru www.klerk.ru Frontend-разработчик Senior frontend developer. Vue.js, Webpack.  Март 2014 — Август  2017 3 года 6 месяцев Self-employed Информационные технологии, системная интеграция, интернет ... Разработка программного обеспечения Web developer Web development  Март 2010 — Март  2014 4 года 1 месяц ООО ТД \"Суворовский редут - Кубань\" Продукты питания ... Кондитерские изделия (продвижение, оптовая торговля) Кондитерские изделия (производство) Хлебобулочные изделия (продвижение, оптовая торговля) Хлебобулочные изделия (производство) Программист 1С Автоматизация бизнес-процессов компании.  Июль 2006 — Июль  2007 1 год 1 месяц НОУ БКЦ \"Антарес\" Информационные технологии, системная интеграция, интернет ... Системная интеграция, автоматизации технологических и бизнес-процессов предприятия, ИТ-консалтинг Программист отдела внедрения Внедрение ПО 1С Предприятие 7.7, 8\n"
          ]
        }
      ]
    },
    {
      "cell_type": "code",
      "source": [
        "system_content = f'''Ты опытный hr консультант, который помогает соискателю грамотно составить резюме,\n",
        "чтобы максимально соответствовать должности {position}. Соискатель написал резюме, которое содержит образование соискателя,\n",
        "его опыт работы. Проанализируй это резюме и напиши рекомендации по его корректировке, чтобы максимально соответствовать должности {position}'''\n",
        "\n",
        "user_content = f'''\n",
        "Образование: {education}\n",
        "Опыт работы: {experience}'''"
      ],
      "metadata": {
        "id": "7rYcRiMHENYQ"
      },
      "execution_count": 28,
      "outputs": []
    },
    {
      "cell_type": "code",
      "source": [
        "answer = openai.ChatCompletion.create(\n",
        "    model='gpt-3.5-turbo',\n",
        "    messages=[\n",
        "        {\n",
        "            'role': 'system',\n",
        "            'content': system_content\n",
        "        },\n",
        "        {\n",
        "            'role': 'user',\n",
        "            'content': user_content\n",
        "        }\n",
        "    ]\n",
        ")"
      ],
      "metadata": {
        "id": "4Ji_EM2AnOlp"
      },
      "execution_count": 29,
      "outputs": []
    },
    {
      "cell_type": "code",
      "source": [
        "message = answer['choices'][0]['message']['content']\n",
        "print(message)"
      ],
      "metadata": {
        "colab": {
          "base_uri": "https://localhost:8080/"
        },
        "id": "5LkJRu1IDB4c",
        "outputId": "ddd02dca-875f-4da0-bcc9-1fae89357a96"
      },
      "execution_count": 25,
      "outputs": [
        {
          "output_type": "stream",
          "name": "stdout",
          "text": [
            "Резюме соискателя нуждается в некоторых корректировках, чтобы максимально соответствовать должности front-end web developer. Вот некоторые рекомендации:\n",
            "\n",
            "1. Образование: \n",
            "- Указать только высшее образование, связанное с информационными технологиями. Остальные программы обучения и курсы можно упомянуть в разделе \"Дополнительное образование\" или \"Профессиональное развитие\".\n",
            "\n",
            "2. Опыт работы:\n",
            "- Опишите свой опыт работы в обратном хронологическом порядке с указанием дат, компаний и должностей. \n",
            "- Для каждой позиции укажите ключевые обязанности и достигнутые результаты, чтобы продемонстрировать свои навыки и качества, связанные с front-end web development.\n",
            "- Укажите использованные технологии, языки программирования и инструменты.\n",
            "\n",
            "Вот пример, как можно откорректировать резюме:\n",
            "\n",
            "Образование:\n",
            "- Высшее образование: \n",
            "   - 2018 University of the People, BS, Computer Science\n",
            " \n",
            "Дополнительное образование и курсы:\n",
            "- 2015 Udacity Nanodegrees, Front-end Web Developer\n",
            "\n",
            "Опыт работы:\n",
            "   \n",
            "Klerk.ru - Frontend-разработчик (Senior), Август 2017 - настоящее время\n",
            "- Разработка и поддержка фронтенд-части сайта с использованием Vue.js и Webpack\n",
            "- Улучшение производительности и оптимизация кода\n",
            "- Сотрудничество с командой дизайнеров и бэкэнд-разработчиками для создания качественного пользовательского интерфейса\n",
            "\n",
            "Self-employed - Web Developer, Март 2014 - Август 2017\n",
            "- Разработка и поддержка веб-приложений\n",
            "- Использование HTML, CSS, JavaScript для создания интерактивных пользовательских интерфейсов\n",
            "\n",
            "ООО ТД \"Суворовский редут - Кубань\" - Программист, Март 2010 - Март 2014\n",
            "- Автоматизация бизнес-процессов компании с использованием 1С Предприятие\n",
            "- Разработка и поддержка внутреннего программного обеспечения\n",
            "\n",
            "НОУ БКЦ \"Антарес\" - Программист отдела внедрения, Июль 2006 - Июль 2007\n",
            "- Внедрение ПО 1С Предприятие 7.7, 8\n",
            "- Системная интеграция и автоматизация бизнес-процессов предприятия\n",
            "\n",
            "Советы:\n",
            "- Укажите языки программирования, с которыми вы работали, такие как JavaScript, HTML, CSS и фреймворк Vue.js.\n",
            "- Укажите инструменты, с которыми вы работали, например, Webpack.\n",
            "- Если у вас есть достижения или проекты, связанные с front-end web development, укажите их. Это могут быть сайты, которые вы разработали, или улучшения, которые вы внесли в существующие проекты.\n",
            "\n",
            "Надеюсь, эти рекомендации помогут вам улучшить свое резюме и сделать его более привлекательным для работодателей, ищущих front-end web developer. Удачи в поиске работы!\n"
          ]
        }
      ]
    },
    {
      "cell_type": "code",
      "source": [
        "messages = [\n",
        "    SystemMessage(content=system_content),\n",
        "    HumanMessage(content=user_content)\n",
        "    ]\n",
        "\n",
        "# Количество токенов\n",
        "chat = ChatOpenAI(temperature=0)\n",
        "chat.get_num_tokens_from_messages(messages)"
      ],
      "metadata": {
        "colab": {
          "base_uri": "https://localhost:8080/"
        },
        "id": "gL4ZLG5iC_Zd",
        "outputId": "681e5717-1adf-48af-afab-764e35ac9df0"
      },
      "execution_count": 30,
      "outputs": [
        {
          "output_type": "execute_result",
          "data": {
            "text/plain": [
              "689"
            ]
          },
          "metadata": {},
          "execution_count": 30
        }
      ]
    },
    {
      "cell_type": "markdown",
      "source": [
        "###Проверка орфографии"
      ],
      "metadata": {
        "id": "ffrJYl7-QD-E"
      }
    },
    {
      "cell_type": "code",
      "source": [
        "!pip -q install pyspellchecker"
      ],
      "metadata": {
        "id": "us8m3X09QHCb"
      },
      "execution_count": 32,
      "outputs": []
    },
    {
      "cell_type": "code",
      "source": [
        "from spellchecker import SpellChecker\n",
        "\n",
        "spell = SpellChecker(language='ru')\n",
        "spell.correction(experience)"
      ],
      "metadata": {
        "colab": {
          "base_uri": "https://localhost:8080/",
          "height": 106
        },
        "id": "4it5H4QNS6n9",
        "outputId": "41974e3b-ef44-445f-b449-ca3809df1f5d"
      },
      "execution_count": 33,
      "outputs": [
        {
          "output_type": "execute_result",
          "data": {
            "text/plain": [
              "'Опыт работы 10 лет 4 месяца  Август 2017 — по настоящее время 1 год 10 месяцев Klerk.ru www.klerk.ru Frontend-разработчик Senior frontend developer. Vue.js, Webpack.  Март 2014 — Август  2017 3 года 6 месяцев Self-employed Информационные технологии, системная интеграция, интернет ... Разработка программного обеспечения Web developer Web development  Март 2010 — Март  2014 4 года 1 месяц ООО ТД \"Суворовский редут - Кубань\" Продукты питания ... Кондитерские изделия (продвижение, оптовая торговля) Кондитерские изделия (производство) Хлебобулочные изделия (продвижение, оптовая торговля) Хлебобулочные изделия (производство) Программист 1С Автоматизация бизнес-процессов компании.  Июль 2006 — Июль  2007 1 год 1 месяц НОУ БКЦ \"Антарес\" Информационные технологии, системная интеграция, интернет ... Системная интеграция, автоматизации технологических и бизнес-процессов предприятия, ИТ-консалтинг Программист отдела внедрения Внедрение ПО 1С Предприятие 7.7, 8'"
            ],
            "application/vnd.google.colaboratory.intrinsic+json": {
              "type": "string"
            }
          },
          "metadata": {},
          "execution_count": 33
        }
      ]
    },
    {
      "cell_type": "code",
      "source": [
        "from difflib import SequenceMatcher\n",
        "\n",
        "# highlight colors\n",
        "# you may change these values according to your preferences\n",
        "color_delete = '#811612'  # highlight color for deletions\n",
        "color_insert = '#28862D'  # highlight color for insertions\n",
        "color_replace = '#BABA26' # highlight color for replacements\n",
        "\n",
        "# the common format string used for highlighted segments\n",
        "f_str = '<span style=\"background: {};\">{}</span>'\n",
        "\n",
        "# given two strings (a, b), getFormattedDiff returns the HTML formatted strings (formatted_a, formatted_b)\n",
        "def getFormattedDiff(a, b):\n",
        "    # initialize the sequence matcher\n",
        "    s = SequenceMatcher(None, a, b)\n",
        "\n",
        "    # stringbuilders for the formatted strings\n",
        "    formatted_a = []\n",
        "    formatted_b = []\n",
        "\n",
        "    # iterate through all char blocks\n",
        "    for tag, i1, i2, j1, j2 in s.get_opcodes():\n",
        "        if tag == 'equal':\n",
        "            # if the blovks are the same, append block to both strings without any formatting\n",
        "            formatted_a.append(a[i1:i2])\n",
        "            formatted_b.append(b[j1:j2])\n",
        "        elif tag == 'delete':\n",
        "            # if this is a deletion block, append block to the first string with the delete highlight\n",
        "            formatted_a.append(f_str.format(color_delete, a[i1:i2]))\n",
        "        elif tag == 'insert':\n",
        "            # if this is a insertion block, append block to the second string with the insert highlight\n",
        "            formatted_b.append(f_str.format(color_insert, b[j1:j2]))\n",
        "        elif tag == 'replace':\n",
        "            # if this is a replacement block, append block to both strings with the replace highlight\n",
        "            formatted_a.append(f_str.format(color_replace, a[i1:i2]))\n",
        "            formatted_b.append(f_str.format(color_replace, b[j1:j2]))\n",
        "\n",
        "    # return the formatted strings\n",
        "    return ''.join(formatted_a), ''.join(formatted_b)"
      ],
      "metadata": {
        "id": "r8LMGerKUL9K"
      },
      "execution_count": 34,
      "outputs": []
    },
    {
      "cell_type": "code",
      "source": [
        "cases = [\n",
        "    (education, spell.correction(education)),\n",
        "    (experience, spell.correction(experience)),\n",
        "]"
      ],
      "metadata": {
        "id": "J7Q2TxKkUU1D"
      },
      "execution_count": 40,
      "outputs": []
    },
    {
      "cell_type": "code",
      "source": [
        "from IPython.display import HTML, display\n",
        "\n",
        "for a, b in cases:\n",
        "    formatted_a, formatted_b = getFormattedDiff(a, b)\n",
        "    display(HTML(formatted_a))\n",
        "    display(HTML(formatted_b))\n",
        "    print()"
      ],
      "metadata": {
        "colab": {
          "base_uri": "https://localhost:8080/",
          "height": 260
        },
        "id": "fenQ_VhvUQWV",
        "outputId": "a16bfd8c-226d-4a9c-f3ce-9de8f6abe128"
      },
      "execution_count": 41,
      "outputs": [
        {
          "output_type": "display_data",
          "data": {
            "text/plain": [
              "<IPython.core.display.HTML object>"
            ],
            "text/html": [
              "Высшее образование 2018 University of the People BS, Computer Science 2015 Udacity Nanodegrees, Front-end web developer 2009 КГУКИ ИБФ, Прикладная информатика в СКС"
            ]
          },
          "metadata": {}
        },
        {
          "output_type": "display_data",
          "data": {
            "text/plain": [
              "<IPython.core.display.HTML object>"
            ],
            "text/html": [
              "Высшее образование 2018 University of the People BS, Computer Science 2015 Udacity Nanodegrees, Front-end web developer 2009 КГУКИ ИБФ, Прикладная информатика в СКС"
            ]
          },
          "metadata": {}
        },
        {
          "output_type": "stream",
          "name": "stdout",
          "text": [
            "\n"
          ]
        },
        {
          "output_type": "display_data",
          "data": {
            "text/plain": [
              "<IPython.core.display.HTML object>"
            ],
            "text/html": [
              "Опыт работы 10 лет 4 месяца  Август 2017 — по настоящее время 1 год 10 месяцев Klerk.ru www.klerk.ru Frontend-разработчик Senior frontend developer. Vue.js, Webpack.  Март 2014 — Август  2017 3 года 6 месяцев Self-employed Информационные технологии, системная интеграция, интернет ... Разработка программного обеспечения Web developer Web development  Март 2010 — Март  2014 4 года 1 месяц ООО ТД \"Суворовский редут - Кубань\" Продукты питания ... Кондитерские изделия (продвижение, оптовая торговля) Кондитерские изделия (производство) Хлебобулочные изделия (продвижение, оптовая торговля) Хлебобулочные изделия (производство) Программист 1С Автоматизация бизнес-процессов компании.  Июль 2006 — Июль  2007 1 год 1 месяц НОУ БКЦ \"Антарес\" Информационные технологии, системная интеграция, интернет ... Системная интеграция, автоматизации технологических и бизнес-процессов предприятия, ИТ-консалтинг Программист отдела внедрения Внедрение ПО 1С Предприятие 7.7, 8"
            ]
          },
          "metadata": {}
        },
        {
          "output_type": "display_data",
          "data": {
            "text/plain": [
              "<IPython.core.display.HTML object>"
            ],
            "text/html": [
              "Опыт работы 10 лет 4 месяца  Август 2017 — по настоящее время 1 год 10 месяцев Klerk.ru www.klerk.ru Frontend-разработчик Senior frontend developer. Vue.js, Webpack.  Март 2014 — Август  2017 3 года 6 месяцев Self-employed Информационные технологии, системная интеграция, интернет ... Разработка программного обеспечения Web developer Web development  Март 2010 — Март  2014 4 года 1 месяц ООО ТД \"Суворовский редут - Кубань\" Продукты питания ... Кондитерские изделия (продвижение, оптовая торговля) Кондитерские изделия (производство) Хлебобулочные изделия (продвижение, оптовая торговля) Хлебобулочные изделия (производство) Программист 1С Автоматизация бизнес-процессов компании.  Июль 2006 — Июль  2007 1 год 1 месяц НОУ БКЦ \"Антарес\" Информационные технологии, системная интеграция, интернет ... Системная интеграция, автоматизации технологических и бизнес-процессов предприятия, ИТ-консалтинг Программист отдела внедрения Внедрение ПО 1С Предприятие 7.7, 8"
            ]
          },
          "metadata": {}
        },
        {
          "output_type": "stream",
          "name": "stdout",
          "text": [
            "\n"
          ]
        }
      ]
    },
    {
      "cell_type": "code",
      "source": [
        "cases = [\n",
        "    ('Пример текста', 'примеры ткста'),\n",
        "]"
      ],
      "metadata": {
        "id": "5RkJ3XHOU925"
      },
      "execution_count": 42,
      "outputs": []
    },
    {
      "cell_type": "code",
      "source": [
        "for a, b in cases:\n",
        "    formatted_a, formatted_b = getFormattedDiff(a, b)\n",
        "    display(HTML(formatted_a))\n",
        "    display(HTML(formatted_b))\n",
        "    print()"
      ],
      "metadata": {
        "colab": {
          "base_uri": "https://localhost:8080/",
          "height": 69
        },
        "id": "-m-woiHXVIbv",
        "outputId": "8a8549bb-5971-4e0f-d85e-5d7d6f6b1667"
      },
      "execution_count": 43,
      "outputs": [
        {
          "output_type": "display_data",
          "data": {
            "text/plain": [
              "<IPython.core.display.HTML object>"
            ],
            "text/html": [
              "<span style=\"background: #BABA26;\">П</span>ример т<span style=\"background: #811612;\">е</span>кста"
            ]
          },
          "metadata": {}
        },
        {
          "output_type": "display_data",
          "data": {
            "text/plain": [
              "<IPython.core.display.HTML object>"
            ],
            "text/html": [
              "<span style=\"background: #BABA26;\">п</span>ример<span style=\"background: #28862D;\">ы</span> ткста"
            ]
          },
          "metadata": {}
        },
        {
          "output_type": "stream",
          "name": "stdout",
          "text": [
            "\n"
          ]
        }
      ]
    }
  ]
}