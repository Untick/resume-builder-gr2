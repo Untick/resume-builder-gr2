{
  "nbformat": 4,
  "nbformat_minor": 0,
  "metadata": {
    "colab": {
      "provenance": [],
      "toc_visible": true
    },
    "kernelspec": {
      "name": "python3",
      "display_name": "Python 3"
    },
    "language_info": {
      "name": "python"
    }
  },
  "cells": [
    {
      "cell_type": "markdown",
      "source": [
        "# Начало"
      ],
      "metadata": {
        "id": "ejoLvEePkV4M"
      }
    },
    {
      "cell_type": "code",
      "source": [
        "from google.colab import drive\n",
        "drive.mount('/content/drive/', force_remount=True)"
      ],
      "metadata": {
        "colab": {
          "base_uri": "https://localhost:8080/"
        },
        "id": "FOtUyX67kYN_",
        "outputId": "cbd63cb5-942f-4955-bd3e-51a0cf999198"
      },
      "execution_count": null,
      "outputs": [
        {
          "output_type": "stream",
          "name": "stdout",
          "text": [
            "Mounted at /content/drive/\n"
          ]
        }
      ]
    },
    {
      "cell_type": "code",
      "source": [
        "!pip -q install openai\n",
        "!pip -q install langchain tiktoken\n",
        "!pip -q install faiss-cpu"
      ],
      "metadata": {
        "id": "s4c2UdwFhqFz",
        "colab": {
          "base_uri": "https://localhost:8080/"
        },
        "outputId": "81a90fd9-e31b-436f-f6fc-a53404603cf5"
      },
      "execution_count": null,
      "outputs": [
        {
          "output_type": "stream",
          "name": "stdout",
          "text": [
            "\u001b[2K     \u001b[90m━━━━━━━━━━━━━━━━━━━━━━━━━━━━━━━━━━━━━━━━\u001b[0m \u001b[32m77.0/77.0 kB\u001b[0m \u001b[31m1.7 MB/s\u001b[0m eta \u001b[36m0:00:00\u001b[0m\n",
            "\u001b[2K     \u001b[90m━━━━━━━━━━━━━━━━━━━━━━━━━━━━━━━━━━━━━━━━\u001b[0m \u001b[32m1.8/1.8 MB\u001b[0m \u001b[31m18.0 MB/s\u001b[0m eta \u001b[36m0:00:00\u001b[0m\n",
            "\u001b[2K     \u001b[90m━━━━━━━━━━━━━━━━━━━━━━━━━━━━━━━━━━━━━━━━\u001b[0m \u001b[32m2.0/2.0 MB\u001b[0m \u001b[31m59.2 MB/s\u001b[0m eta \u001b[36m0:00:00\u001b[0m\n",
            "\u001b[2K     \u001b[90m━━━━━━━━━━━━━━━━━━━━━━━━━━━━━━━━━━━━━━━━\u001b[0m \u001b[32m49.4/49.4 kB\u001b[0m \u001b[31m4.8 MB/s\u001b[0m eta \u001b[36m0:00:00\u001b[0m\n",
            "\u001b[2K     \u001b[90m━━━━━━━━━━━━━━━━━━━━━━━━━━━━━━━━━━━━━━━━\u001b[0m \u001b[32m17.6/17.6 MB\u001b[0m \u001b[31m78.0 MB/s\u001b[0m eta \u001b[36m0:00:00\u001b[0m\n",
            "\u001b[?25h"
          ]
        }
      ]
    },
    {
      "cell_type": "code",
      "source": [
        "import pandas as pd\n",
        "import numpy as np\n",
        "\n",
        "import tiktoken\n",
        "from langchain.chat_models import ChatOpenAI\n",
        "\n",
        "from langchain.schema import (\n",
        "    AIMessage,\n",
        "    HumanMessage,\n",
        "    SystemMessage\n",
        ")\n",
        "\n",
        "import getpass\n",
        "import openai\n",
        "import os\n",
        "\n",
        "from IPython.display import HTML\n",
        "from difflib import SequenceMatcher\n",
        "\n",
        "import warnings\n",
        "warnings.filterwarnings('ignore')"
      ],
      "metadata": {
        "id": "1-8kNwPbkxR-"
      },
      "execution_count": null,
      "outputs": []
    },
    {
      "cell_type": "code",
      "execution_count": null,
      "metadata": {
        "colab": {
          "base_uri": "https://localhost:8080/"
        },
        "id": "jqtKPlOagyPu",
        "outputId": "ea3f2ffd-ea58-4ab7-935a-35ae20281500"
      },
      "outputs": [
        {
          "name": "stdout",
          "output_type": "stream",
          "text": [
            "OpenAI API Key:··········\n"
          ]
        }
      ],
      "source": [
        "# Получение ключа API от пользователя и установка его как переменной окружения\n",
        "openai_key = getpass.getpass(\"OpenAI API Key:\")\n",
        "os.environ[\"OPENAI_API_KEY\"] = openai_key\n",
        "openai.api_key = openai_key"
      ]
    },
    {
      "cell_type": "markdown",
      "source": [
        "# Эксперименты 1"
      ],
      "metadata": {
        "id": "cPFIHoMgez8y"
      }
    },
    {
      "cell_type": "markdown",
      "source": [
        "### О себе"
      ],
      "metadata": {
        "id": "wL3vt3FNgz50"
      }
    },
    {
      "cell_type": "markdown",
      "source": [
        "Промт для генерации \"о себе\" по интересам пользователя"
      ],
      "metadata": {
        "id": "JGA-wrlSiosR"
      }
    },
    {
      "cell_type": "code",
      "source": [
        "# Должность\n",
        "position = 'Data Scientist'\n",
        "\n",
        "# О себе\n",
        "about = 'Интересны нейросети, занимаюсь изучением python'\n",
        "\n",
        "# System Content\n",
        "system_content = f'''Ты hr консультант, который помогает соискателю грамотно написать о себе,\n",
        "чтобы максимально соответствовать должности {position}. Соискатель написал о себе, оптимизируй этот текст,\n",
        "и если надо, то дополни, чтобы он максимально был релевантным должности соискателя.\n",
        "Напиши лаконично от первого лица в деловом стиле, как будто это ты устраиваешься на должность {position}.\n",
        "Не пиши приветствие. В ответе уложись примерно в 300 токенов'''\n",
        "\n",
        "# User Content\n",
        "user_content = about"
      ],
      "metadata": {
        "id": "-f3EsAIthoiR"
      },
      "execution_count": null,
      "outputs": []
    },
    {
      "cell_type": "markdown",
      "source": [
        "Подсчёт токенов"
      ],
      "metadata": {
        "id": "_cTaAYvDyw-6"
      }
    },
    {
      "cell_type": "code",
      "source": [
        "messages = [\n",
        "    SystemMessage(content=system_content),\n",
        "    HumanMessage(content=user_content)\n",
        "    ]\n",
        "\n",
        "# Количество токенов\n",
        "chat = ChatOpenAI(temperature=0)\n",
        "chat.get_num_tokens_from_messages(messages)"
      ],
      "metadata": {
        "colab": {
          "base_uri": "https://localhost:8080/"
        },
        "id": "CqiL8fECyclU",
        "outputId": "2116ec14-1f4a-4271-d1f6-49108eb3b63b"
      },
      "execution_count": null,
      "outputs": [
        {
          "output_type": "execute_result",
          "data": {
            "text/plain": [
              "209"
            ]
          },
          "metadata": {},
          "execution_count": 16
        }
      ]
    },
    {
      "cell_type": "markdown",
      "source": [
        "Ответ ChatGPT"
      ],
      "metadata": {
        "id": "wo177m2vyuZ3"
      }
    },
    {
      "cell_type": "code",
      "source": [
        "answer = openai.ChatCompletion.create(\n",
        "    model='gpt-3.5-turbo',\n",
        "    messages=[\n",
        "        {\n",
        "            'role': 'system',\n",
        "            'content': system_content\n",
        "        },\n",
        "        {\n",
        "            'role': 'user',\n",
        "            'content': about\n",
        "        }\n",
        "    ]\n",
        ")"
      ],
      "metadata": {
        "id": "Hgm7Kk3piJ4R"
      },
      "execution_count": null,
      "outputs": []
    },
    {
      "cell_type": "code",
      "source": [
        "message = answer['choices'][0]['message']['content']\n",
        "message"
      ],
      "metadata": {
        "colab": {
          "base_uri": "https://localhost:8080/",
          "height": 106
        },
        "id": "GDQs0y58igUE",
        "outputId": "627f49c1-0c59-4a6e-eb6b-30df92c56f25"
      },
      "execution_count": null,
      "outputs": [
        {
          "output_type": "execute_result",
          "data": {
            "text/plain": [
              "'Я заинтересован в разработке и применении нейронных сетей в качестве инструментов анализа данных и машинного обучения. В настоящее время активно изучаю язык программирования Python и его библиотеки для работы с данными, такие как TensorFlow и PyTorch. Моя цель - применять современные методы анализа данных для нахождения закономерностей и создания прогностических моделей. Я владею навыками предобработки и очистки данных, а также статистического анализа и визуализации. У меня есть опыт работы с большими объемами данных и использованием алгоритмов машинного обучения, таких как регрессия, кластеризация и классификация. Я стремлюсь к постоянному обучению и совершенствованию, чтобы быть в курсе последних тенденций в области Data Science.'"
            ],
            "application/vnd.google.colaboratory.intrinsic+json": {
              "type": "string"
            }
          },
          "metadata": {},
          "execution_count": 18
        }
      ]
    },
    {
      "cell_type": "markdown",
      "source": [
        "### Проверка резюме"
      ],
      "metadata": {
        "id": "Tj2waUlni2c_"
      }
    },
    {
      "cell_type": "code",
      "source": [
        "file = '/content/drive/MyDrive/UII/Terra/hh_filtered (1).csv'\n",
        "df = pd.read_csv(file, low_memory=False)"
      ],
      "metadata": {
        "id": "a9vu4aRukhD0"
      },
      "execution_count": null,
      "outputs": []
    },
    {
      "cell_type": "code",
      "source": [
        "# Список столбцов\n",
        "list(df)"
      ],
      "metadata": {
        "colab": {
          "base_uri": "https://localhost:8080/"
        },
        "id": "0kqVDVzEmgHu",
        "outputId": "29edc908-c602-424b-cfcb-97b92ec860e3"
      },
      "execution_count": null,
      "outputs": [
        {
          "output_type": "execute_result",
          "data": {
            "text/plain": [
              "['Пол, возраст',\n",
              " 'ЗП',\n",
              " 'Ищет работу на должность:',\n",
              " 'Город',\n",
              " 'Занятость',\n",
              " 'График',\n",
              " 'Опыт (двойное нажатие для полной версии)',\n",
              " 'Последенее/нынешнее место работы',\n",
              " 'Последеняя/нынешняя должность',\n",
              " 'Образование и ВУЗ',\n",
              " 'Обновление резюме',\n",
              " 'Авто']"
            ]
          },
          "metadata": {},
          "execution_count": 6
        }
      ]
    },
    {
      "cell_type": "code",
      "source": [
        "# номер строки\n",
        "num = 4\n",
        "df[num:num+1]"
      ],
      "metadata": {
        "colab": {
          "base_uri": "https://localhost:8080/",
          "height": 168
        },
        "id": "Z4sD6Ufalmyi",
        "outputId": "549c6f9d-5b1b-490b-878e-fb5bb3394399"
      },
      "execution_count": null,
      "outputs": [
        {
          "output_type": "execute_result",
          "data": {
            "text/plain": [
              "                                Пол, возраст           ЗП  \\\n",
              "4  Мужчина ,  54 года , родился 27 июня 1964  180000 руб.   \n",
              "\n",
              "    Ищет работу на должность:  \\\n",
              "4  ведущий разработчик oracle   \n",
              "\n",
              "                                               Город         Занятость  \\\n",
              "4  Москва ,  м. Бульвар Рокоссовского , не готов ...  полная занятость   \n",
              "\n",
              "                                         График  \\\n",
              "4  гибкий график, полный день, удаленная работа   \n",
              "\n",
              "            Опыт (двойное нажатие для полной версии)  \\\n",
              "4  Опыт работы 30 лет 9 месяцев  Ведущий разработ...   \n",
              "\n",
              "                    Последенее/нынешнее место работы  \\\n",
              "4  Государственная корпорация  “Банк развития и в...   \n",
              "\n",
              "      Последеняя/нынешняя должность  \\\n",
              "4  Бизнес-аналитик / Разработчик ПО   \n",
              "\n",
              "                                   Образование и ВУЗ Обновление резюме  \\\n",
              "4  Высшее образование 1987  Московский авиационны...  10.08.2018 12:00   \n",
              "\n",
              "         Авто  \n",
              "4  Не указано  "
            ],
            "text/html": [
              "\n",
              "  <div id=\"df-82512d77-fae7-474a-b471-3f40109a3b78\" class=\"colab-df-container\">\n",
              "    <div>\n",
              "<style scoped>\n",
              "    .dataframe tbody tr th:only-of-type {\n",
              "        vertical-align: middle;\n",
              "    }\n",
              "\n",
              "    .dataframe tbody tr th {\n",
              "        vertical-align: top;\n",
              "    }\n",
              "\n",
              "    .dataframe thead th {\n",
              "        text-align: right;\n",
              "    }\n",
              "</style>\n",
              "<table border=\"1\" class=\"dataframe\">\n",
              "  <thead>\n",
              "    <tr style=\"text-align: right;\">\n",
              "      <th></th>\n",
              "      <th>Пол, возраст</th>\n",
              "      <th>ЗП</th>\n",
              "      <th>Ищет работу на должность:</th>\n",
              "      <th>Город</th>\n",
              "      <th>Занятость</th>\n",
              "      <th>График</th>\n",
              "      <th>Опыт (двойное нажатие для полной версии)</th>\n",
              "      <th>Последенее/нынешнее место работы</th>\n",
              "      <th>Последеняя/нынешняя должность</th>\n",
              "      <th>Образование и ВУЗ</th>\n",
              "      <th>Обновление резюме</th>\n",
              "      <th>Авто</th>\n",
              "    </tr>\n",
              "  </thead>\n",
              "  <tbody>\n",
              "    <tr>\n",
              "      <th>4</th>\n",
              "      <td>Мужчина ,  54 года , родился 27 июня 1964</td>\n",
              "      <td>180000 руб.</td>\n",
              "      <td>ведущий разработчик oracle</td>\n",
              "      <td>Москва ,  м. Бульвар Рокоссовского , не готов ...</td>\n",
              "      <td>полная занятость</td>\n",
              "      <td>гибкий график, полный день, удаленная работа</td>\n",
              "      <td>Опыт работы 30 лет 9 месяцев  Ведущий разработ...</td>\n",
              "      <td>Государственная корпорация  “Банк развития и в...</td>\n",
              "      <td>Бизнес-аналитик / Разработчик ПО</td>\n",
              "      <td>Высшее образование 1987  Московский авиационны...</td>\n",
              "      <td>10.08.2018 12:00</td>\n",
              "      <td>Не указано</td>\n",
              "    </tr>\n",
              "  </tbody>\n",
              "</table>\n",
              "</div>\n",
              "    <div class=\"colab-df-buttons\">\n",
              "\n",
              "  <div class=\"colab-df-container\">\n",
              "    <button class=\"colab-df-convert\" onclick=\"convertToInteractive('df-82512d77-fae7-474a-b471-3f40109a3b78')\"\n",
              "            title=\"Convert this dataframe to an interactive table.\"\n",
              "            style=\"display:none;\">\n",
              "\n",
              "  <svg xmlns=\"http://www.w3.org/2000/svg\" height=\"24px\" viewBox=\"0 -960 960 960\">\n",
              "    <path d=\"M120-120v-720h720v720H120Zm60-500h600v-160H180v160Zm220 220h160v-160H400v160Zm0 220h160v-160H400v160ZM180-400h160v-160H180v160Zm440 0h160v-160H620v160ZM180-180h160v-160H180v160Zm440 0h160v-160H620v160Z\"/>\n",
              "  </svg>\n",
              "    </button>\n",
              "\n",
              "  <style>\n",
              "    .colab-df-container {\n",
              "      display:flex;\n",
              "      gap: 12px;\n",
              "    }\n",
              "\n",
              "    .colab-df-convert {\n",
              "      background-color: #E8F0FE;\n",
              "      border: none;\n",
              "      border-radius: 50%;\n",
              "      cursor: pointer;\n",
              "      display: none;\n",
              "      fill: #1967D2;\n",
              "      height: 32px;\n",
              "      padding: 0 0 0 0;\n",
              "      width: 32px;\n",
              "    }\n",
              "\n",
              "    .colab-df-convert:hover {\n",
              "      background-color: #E2EBFA;\n",
              "      box-shadow: 0px 1px 2px rgba(60, 64, 67, 0.3), 0px 1px 3px 1px rgba(60, 64, 67, 0.15);\n",
              "      fill: #174EA6;\n",
              "    }\n",
              "\n",
              "    .colab-df-buttons div {\n",
              "      margin-bottom: 4px;\n",
              "    }\n",
              "\n",
              "    [theme=dark] .colab-df-convert {\n",
              "      background-color: #3B4455;\n",
              "      fill: #D2E3FC;\n",
              "    }\n",
              "\n",
              "    [theme=dark] .colab-df-convert:hover {\n",
              "      background-color: #434B5C;\n",
              "      box-shadow: 0px 1px 3px 1px rgba(0, 0, 0, 0.15);\n",
              "      filter: drop-shadow(0px 1px 2px rgba(0, 0, 0, 0.3));\n",
              "      fill: #FFFFFF;\n",
              "    }\n",
              "  </style>\n",
              "\n",
              "    <script>\n",
              "      const buttonEl =\n",
              "        document.querySelector('#df-82512d77-fae7-474a-b471-3f40109a3b78 button.colab-df-convert');\n",
              "      buttonEl.style.display =\n",
              "        google.colab.kernel.accessAllowed ? 'block' : 'none';\n",
              "\n",
              "      async function convertToInteractive(key) {\n",
              "        const element = document.querySelector('#df-82512d77-fae7-474a-b471-3f40109a3b78');\n",
              "        const dataTable =\n",
              "          await google.colab.kernel.invokeFunction('convertToInteractive',\n",
              "                                                    [key], {});\n",
              "        if (!dataTable) return;\n",
              "\n",
              "        const docLinkHtml = 'Like what you see? Visit the ' +\n",
              "          '<a target=\"_blank\" href=https://colab.research.google.com/notebooks/data_table.ipynb>data table notebook</a>'\n",
              "          + ' to learn more about interactive tables.';\n",
              "        element.innerHTML = '';\n",
              "        dataTable['output_type'] = 'display_data';\n",
              "        await google.colab.output.renderOutput(dataTable, element);\n",
              "        const docLink = document.createElement('div');\n",
              "        docLink.innerHTML = docLinkHtml;\n",
              "        element.appendChild(docLink);\n",
              "      }\n",
              "    </script>\n",
              "  </div>\n",
              "\n",
              "    </div>\n",
              "  </div>\n"
            ]
          },
          "metadata": {},
          "execution_count": 11
        }
      ]
    },
    {
      "cell_type": "code",
      "source": [
        "num = 11\n",
        "position = df['Ищет работу на должность:'][num]\n",
        "education = df['Образование и ВУЗ'][num]\n",
        "experience = df['Опыт (двойное нажатие для полной версии)'][num]\n",
        "print('Должность:', position)\n",
        "print(f'Образование [{len(education)}]:', education)\n",
        "print(f'Опыт работы [{len(experience)}]:', experience)"
      ],
      "metadata": {
        "colab": {
          "base_uri": "https://localhost:8080/"
        },
        "id": "tTp6hMJQmOww",
        "outputId": "1b418840-047c-4476-e937-89bb4287b393"
      },
      "execution_count": null,
      "outputs": [
        {
          "output_type": "stream",
          "name": "stdout",
          "text": [
            "Должность: front-end web developer\n",
            "Образование [164]: Высшее образование 2018 University of the People BS, Computer Science 2015 Udacity Nanodegrees, Front-end web developer 2009 КГУКИ ИБФ, Прикладная информатика в СКС\n",
            "Опыт работы [962]: Опыт работы 10 лет 4 месяца  Август 2017 — по настоящее время 1 год 10 месяцев Klerk.ru www.klerk.ru Frontend-разработчик Senior frontend developer. Vue.js, Webpack.  Март 2014 — Август  2017 3 года 6 месяцев Self-employed Информационные технологии, системная интеграция, интернет ... Разработка программного обеспечения Web developer Web development  Март 2010 — Март  2014 4 года 1 месяц ООО ТД \"Суворовский редут - Кубань\" Продукты питания ... Кондитерские изделия (продвижение, оптовая торговля) Кондитерские изделия (производство) Хлебобулочные изделия (продвижение, оптовая торговля) Хлебобулочные изделия (производство) Программист 1С Автоматизация бизнес-процессов компании.  Июль 2006 — Июль  2007 1 год 1 месяц НОУ БКЦ \"Антарес\" Информационные технологии, системная интеграция, интернет ... Системная интеграция, автоматизации технологических и бизнес-процессов предприятия, ИТ-консалтинг Программист отдела внедрения Внедрение ПО 1С Предприятие 7.7, 8\n"
          ]
        }
      ]
    },
    {
      "cell_type": "code",
      "source": [
        "system_content = f'''Ты опытный hr консультант, который помогает соискателю грамотно составить резюме,\n",
        "чтобы максимально соответствовать должности {position}. Соискатель написал резюме, которое содержит образование соискателя,\n",
        "его опыт работы. Проанализируй это резюме и напиши рекомендации по его корректировке, чтобы максимально соответствовать должности {position}'''\n",
        "\n",
        "user_content = f'''\n",
        "Образование: {education}\n",
        "Опыт работы: {experience}'''"
      ],
      "metadata": {
        "id": "7rYcRiMHENYQ"
      },
      "execution_count": null,
      "outputs": []
    },
    {
      "cell_type": "code",
      "source": [
        "answer = openai.ChatCompletion.create(\n",
        "    model='gpt-3.5-turbo',\n",
        "    messages=[\n",
        "        {\n",
        "            'role': 'system',\n",
        "            'content': system_content\n",
        "        },\n",
        "        {\n",
        "            'role': 'user',\n",
        "            'content': user_content\n",
        "        }\n",
        "    ]\n",
        ")"
      ],
      "metadata": {
        "id": "4Ji_EM2AnOlp"
      },
      "execution_count": null,
      "outputs": []
    },
    {
      "cell_type": "code",
      "source": [
        "message = answer['choices'][0]['message']['content']\n",
        "print(message)"
      ],
      "metadata": {
        "colab": {
          "base_uri": "https://localhost:8080/"
        },
        "id": "5LkJRu1IDB4c",
        "outputId": "ddd02dca-875f-4da0-bcc9-1fae89357a96"
      },
      "execution_count": null,
      "outputs": [
        {
          "output_type": "stream",
          "name": "stdout",
          "text": [
            "Резюме соискателя нуждается в некоторых корректировках, чтобы максимально соответствовать должности front-end web developer. Вот некоторые рекомендации:\n",
            "\n",
            "1. Образование: \n",
            "- Указать только высшее образование, связанное с информационными технологиями. Остальные программы обучения и курсы можно упомянуть в разделе \"Дополнительное образование\" или \"Профессиональное развитие\".\n",
            "\n",
            "2. Опыт работы:\n",
            "- Опишите свой опыт работы в обратном хронологическом порядке с указанием дат, компаний и должностей. \n",
            "- Для каждой позиции укажите ключевые обязанности и достигнутые результаты, чтобы продемонстрировать свои навыки и качества, связанные с front-end web development.\n",
            "- Укажите использованные технологии, языки программирования и инструменты.\n",
            "\n",
            "Вот пример, как можно откорректировать резюме:\n",
            "\n",
            "Образование:\n",
            "- Высшее образование: \n",
            "   - 2018 University of the People, BS, Computer Science\n",
            " \n",
            "Дополнительное образование и курсы:\n",
            "- 2015 Udacity Nanodegrees, Front-end Web Developer\n",
            "\n",
            "Опыт работы:\n",
            "   \n",
            "Klerk.ru - Frontend-разработчик (Senior), Август 2017 - настоящее время\n",
            "- Разработка и поддержка фронтенд-части сайта с использованием Vue.js и Webpack\n",
            "- Улучшение производительности и оптимизация кода\n",
            "- Сотрудничество с командой дизайнеров и бэкэнд-разработчиками для создания качественного пользовательского интерфейса\n",
            "\n",
            "Self-employed - Web Developer, Март 2014 - Август 2017\n",
            "- Разработка и поддержка веб-приложений\n",
            "- Использование HTML, CSS, JavaScript для создания интерактивных пользовательских интерфейсов\n",
            "\n",
            "ООО ТД \"Суворовский редут - Кубань\" - Программист, Март 2010 - Март 2014\n",
            "- Автоматизация бизнес-процессов компании с использованием 1С Предприятие\n",
            "- Разработка и поддержка внутреннего программного обеспечения\n",
            "\n",
            "НОУ БКЦ \"Антарес\" - Программист отдела внедрения, Июль 2006 - Июль 2007\n",
            "- Внедрение ПО 1С Предприятие 7.7, 8\n",
            "- Системная интеграция и автоматизация бизнес-процессов предприятия\n",
            "\n",
            "Советы:\n",
            "- Укажите языки программирования, с которыми вы работали, такие как JavaScript, HTML, CSS и фреймворк Vue.js.\n",
            "- Укажите инструменты, с которыми вы работали, например, Webpack.\n",
            "- Если у вас есть достижения или проекты, связанные с front-end web development, укажите их. Это могут быть сайты, которые вы разработали, или улучшения, которые вы внесли в существующие проекты.\n",
            "\n",
            "Надеюсь, эти рекомендации помогут вам улучшить свое резюме и сделать его более привлекательным для работодателей, ищущих front-end web developer. Удачи в поиске работы!\n"
          ]
        }
      ]
    },
    {
      "cell_type": "markdown",
      "source": [
        "Подсчёт токенов"
      ],
      "metadata": {
        "id": "EUjkgoN3zU3v"
      }
    },
    {
      "cell_type": "code",
      "source": [
        "messages = [\n",
        "    SystemMessage(content=system_content),\n",
        "    HumanMessage(content=user_content)\n",
        "    ]\n",
        "\n",
        "# Количество токенов\n",
        "chat = ChatOpenAI(temperature=0)\n",
        "chat.get_num_tokens_from_messages(messages)"
      ],
      "metadata": {
        "colab": {
          "base_uri": "https://localhost:8080/"
        },
        "id": "gL4ZLG5iC_Zd",
        "outputId": "681e5717-1adf-48af-afab-764e35ac9df0"
      },
      "execution_count": null,
      "outputs": [
        {
          "output_type": "execute_result",
          "data": {
            "text/plain": [
              "689"
            ]
          },
          "metadata": {},
          "execution_count": 30
        }
      ]
    },
    {
      "cell_type": "markdown",
      "source": [
        "### Проверка орфографии"
      ],
      "metadata": {
        "id": "ffrJYl7-QD-E"
      }
    },
    {
      "cell_type": "code",
      "source": [
        "!pip -q install pyspellchecker"
      ],
      "metadata": {
        "id": "us8m3X09QHCb"
      },
      "execution_count": null,
      "outputs": []
    },
    {
      "cell_type": "code",
      "source": [
        "from spellchecker import SpellChecker\n",
        "\n",
        "spell = SpellChecker(language='ru')\n",
        "spell.correction(experience)"
      ],
      "metadata": {
        "colab": {
          "base_uri": "https://localhost:8080/",
          "height": 106
        },
        "id": "4it5H4QNS6n9",
        "outputId": "41974e3b-ef44-445f-b449-ca3809df1f5d"
      },
      "execution_count": null,
      "outputs": [
        {
          "output_type": "execute_result",
          "data": {
            "text/plain": [
              "'Опыт работы 10 лет 4 месяца  Август 2017 — по настоящее время 1 год 10 месяцев Klerk.ru www.klerk.ru Frontend-разработчик Senior frontend developer. Vue.js, Webpack.  Март 2014 — Август  2017 3 года 6 месяцев Self-employed Информационные технологии, системная интеграция, интернет ... Разработка программного обеспечения Web developer Web development  Март 2010 — Март  2014 4 года 1 месяц ООО ТД \"Суворовский редут - Кубань\" Продукты питания ... Кондитерские изделия (продвижение, оптовая торговля) Кондитерские изделия (производство) Хлебобулочные изделия (продвижение, оптовая торговля) Хлебобулочные изделия (производство) Программист 1С Автоматизация бизнес-процессов компании.  Июль 2006 — Июль  2007 1 год 1 месяц НОУ БКЦ \"Антарес\" Информационные технологии, системная интеграция, интернет ... Системная интеграция, автоматизации технологических и бизнес-процессов предприятия, ИТ-консалтинг Программист отдела внедрения Внедрение ПО 1С Предприятие 7.7, 8'"
            ],
            "application/vnd.google.colaboratory.intrinsic+json": {
              "type": "string"
            }
          },
          "metadata": {},
          "execution_count": 33
        }
      ]
    },
    {
      "cell_type": "code",
      "source": [
        "from difflib import SequenceMatcher\n",
        "\n",
        "# highlight colors\n",
        "# you may change these values according to your preferences\n",
        "color_delete = '#FF8888'  # highlight color for deletions\n",
        "color_insert = '#44FF44'  # highlight color for insertions\n",
        "color_replace = '#EEEE88' # highlight color for replacements\n",
        "\n",
        "# the common format string used for highlighted segments\n",
        "f_str = '<span style=\"background: {};\">{}</span>'\n",
        "\n",
        "# given two strings (a, b), getFormattedDiff returns the HTML formatted strings (formatted_a, formatted_b)\n",
        "def getFormattedDiff(a, b):\n",
        "    # initialize the sequence matcher\n",
        "    s = SequenceMatcher(None, a, b)\n",
        "\n",
        "    # stringbuilders for the formatted strings\n",
        "    formatted_a = []\n",
        "    formatted_b = []\n",
        "\n",
        "    # iterate through all char blocks\n",
        "    for tag, i1, i2, j1, j2 in s.get_opcodes():\n",
        "        if tag == 'equal':\n",
        "            # if the blovks are the same, append block to both strings without any formatting\n",
        "            formatted_a.append(a[i1:i2])\n",
        "            formatted_b.append(b[j1:j2])\n",
        "        elif tag == 'delete':\n",
        "            # if this is a deletion block, append block to the first string with the delete highlight\n",
        "            formatted_a.append(f_str.format(color_delete, a[i1:i2]))\n",
        "        elif tag == 'insert':\n",
        "            # if this is a insertion block, append block to the second string with the insert highlight\n",
        "            formatted_b.append(f_str.format(color_insert, b[j1:j2]))\n",
        "        elif tag == 'replace':\n",
        "            # if this is a replacement block, append block to both strings with the replace highlight\n",
        "            formatted_a.append(f_str.format(color_replace, a[i1:i2]))\n",
        "            formatted_b.append(f_str.format(color_replace, b[j1:j2]))\n",
        "\n",
        "    # return the formatted strings\n",
        "    return ''.join(formatted_a), ''.join(formatted_b)"
      ],
      "metadata": {
        "id": "r8LMGerKUL9K"
      },
      "execution_count": null,
      "outputs": []
    },
    {
      "cell_type": "code",
      "source": [
        "cases = [\n",
        "    (education, spell.correction(education)),\n",
        "    (experience, spell.correction(experience)),\n",
        "]"
      ],
      "metadata": {
        "id": "J7Q2TxKkUU1D"
      },
      "execution_count": null,
      "outputs": []
    },
    {
      "cell_type": "code",
      "source": [
        "from IPython.display import HTML, display\n",
        "\n",
        "for a, b in cases:\n",
        "    formatted_a, formatted_b = getFormattedDiff(a, b)\n",
        "    display(HTML(formatted_a))\n",
        "    display(HTML(formatted_b))\n",
        "    print()"
      ],
      "metadata": {
        "colab": {
          "base_uri": "https://localhost:8080/",
          "height": 260
        },
        "id": "fenQ_VhvUQWV",
        "outputId": "a16bfd8c-226d-4a9c-f3ce-9de8f6abe128"
      },
      "execution_count": null,
      "outputs": [
        {
          "output_type": "display_data",
          "data": {
            "text/plain": [
              "<IPython.core.display.HTML object>"
            ],
            "text/html": [
              "Высшее образование 2018 University of the People BS, Computer Science 2015 Udacity Nanodegrees, Front-end web developer 2009 КГУКИ ИБФ, Прикладная информатика в СКС"
            ]
          },
          "metadata": {}
        },
        {
          "output_type": "display_data",
          "data": {
            "text/plain": [
              "<IPython.core.display.HTML object>"
            ],
            "text/html": [
              "Высшее образование 2018 University of the People BS, Computer Science 2015 Udacity Nanodegrees, Front-end web developer 2009 КГУКИ ИБФ, Прикладная информатика в СКС"
            ]
          },
          "metadata": {}
        },
        {
          "output_type": "stream",
          "name": "stdout",
          "text": [
            "\n"
          ]
        },
        {
          "output_type": "display_data",
          "data": {
            "text/plain": [
              "<IPython.core.display.HTML object>"
            ],
            "text/html": [
              "Опыт работы 10 лет 4 месяца  Август 2017 — по настоящее время 1 год 10 месяцев Klerk.ru www.klerk.ru Frontend-разработчик Senior frontend developer. Vue.js, Webpack.  Март 2014 — Август  2017 3 года 6 месяцев Self-employed Информационные технологии, системная интеграция, интернет ... Разработка программного обеспечения Web developer Web development  Март 2010 — Март  2014 4 года 1 месяц ООО ТД \"Суворовский редут - Кубань\" Продукты питания ... Кондитерские изделия (продвижение, оптовая торговля) Кондитерские изделия (производство) Хлебобулочные изделия (продвижение, оптовая торговля) Хлебобулочные изделия (производство) Программист 1С Автоматизация бизнес-процессов компании.  Июль 2006 — Июль  2007 1 год 1 месяц НОУ БКЦ \"Антарес\" Информационные технологии, системная интеграция, интернет ... Системная интеграция, автоматизации технологических и бизнес-процессов предприятия, ИТ-консалтинг Программист отдела внедрения Внедрение ПО 1С Предприятие 7.7, 8"
            ]
          },
          "metadata": {}
        },
        {
          "output_type": "display_data",
          "data": {
            "text/plain": [
              "<IPython.core.display.HTML object>"
            ],
            "text/html": [
              "Опыт работы 10 лет 4 месяца  Август 2017 — по настоящее время 1 год 10 месяцев Klerk.ru www.klerk.ru Frontend-разработчик Senior frontend developer. Vue.js, Webpack.  Март 2014 — Август  2017 3 года 6 месяцев Self-employed Информационные технологии, системная интеграция, интернет ... Разработка программного обеспечения Web developer Web development  Март 2010 — Март  2014 4 года 1 месяц ООО ТД \"Суворовский редут - Кубань\" Продукты питания ... Кондитерские изделия (продвижение, оптовая торговля) Кондитерские изделия (производство) Хлебобулочные изделия (продвижение, оптовая торговля) Хлебобулочные изделия (производство) Программист 1С Автоматизация бизнес-процессов компании.  Июль 2006 — Июль  2007 1 год 1 месяц НОУ БКЦ \"Антарес\" Информационные технологии, системная интеграция, интернет ... Системная интеграция, автоматизации технологических и бизнес-процессов предприятия, ИТ-консалтинг Программист отдела внедрения Внедрение ПО 1С Предприятие 7.7, 8"
            ]
          },
          "metadata": {}
        },
        {
          "output_type": "stream",
          "name": "stdout",
          "text": [
            "\n"
          ]
        }
      ]
    },
    {
      "cell_type": "code",
      "source": [
        "cases = [\n",
        "    ('Пример корректного текста', 'примеры некоректнго ткста'),\n",
        "]"
      ],
      "metadata": {
        "id": "5RkJ3XHOU925"
      },
      "execution_count": null,
      "outputs": []
    },
    {
      "cell_type": "code",
      "source": [
        "for a, b in cases:\n",
        "    formatted_a, formatted_b = getFormattedDiff(a, b)\n",
        "    display(HTML(formatted_a))\n",
        "    display(HTML(formatted_b))\n",
        "    print()"
      ],
      "metadata": {
        "colab": {
          "base_uri": "https://localhost:8080/",
          "height": 69
        },
        "id": "-m-woiHXVIbv",
        "outputId": "868a84a2-1b06-40f4-f3a0-39f3d7ae0a1e"
      },
      "execution_count": null,
      "outputs": [
        {
          "output_type": "display_data",
          "data": {
            "text/plain": [
              "<IPython.core.display.HTML object>"
            ],
            "text/html": [
              "<span style=\"background: #EEEE88;\">П</span>ример ко<span style=\"background: #FF8888;\">р</span>ректн<span style=\"background: #FF8888;\">о</span>го т<span style=\"background: #FF8888;\">е</span>кста"
            ]
          },
          "metadata": {}
        },
        {
          "output_type": "display_data",
          "data": {
            "text/plain": [
              "<IPython.core.display.HTML object>"
            ],
            "text/html": [
              "<span style=\"background: #EEEE88;\">п</span>ример<span style=\"background: #44FF44;\">ы</span> <span style=\"background: #44FF44;\">не</span>коректнго ткста"
            ]
          },
          "metadata": {}
        },
        {
          "output_type": "stream",
          "name": "stdout",
          "text": [
            "\n"
          ]
        }
      ]
    },
    {
      "cell_type": "markdown",
      "source": [
        "# Эксперименты 2"
      ],
      "metadata": {
        "id": "_ozrIAcLe_HT"
      }
    },
    {
      "cell_type": "markdown",
      "source": [
        "## Резюме"
      ],
      "metadata": {
        "id": "C7aGVOc5zYaN"
      }
    },
    {
      "cell_type": "code",
      "source": [
        "name = 'Порфирий Прокофьевич'\n",
        "city = 'Новополис'\n",
        "position = 'Data Scientist'"
      ],
      "metadata": {
        "id": "75ss6a5QzsSo"
      },
      "execution_count": null,
      "outputs": []
    },
    {
      "cell_type": "code",
      "source": [
        "about = '''\n",
        "Сдан экзамен P1 CIMA\n",
        "Средний бал: 4,6\n",
        "\n",
        "Имея изначально склонность к аналитике, решил добавить технологические стек и уже более углублено ее развивать в направлении Data Science.\n",
        "\n",
        "Личные качества:\n",
        "- Нахожу общий язык с коллегами\n",
        "- Дисциплинирован.\n",
        "- Постоянно обучаюсь новому.\n",
        "- Стремлюсь к профессиональному и карьерному росту.\n",
        "- В работе соблюдаю сроки выполнения задач.\n",
        "- Способен длительное время заниматься решением одной проблемы.\n",
        "- Умею работать с большим объёмом информации.\n",
        "- Умею хранить конфиденциальную информацию.\n",
        "- Способен исследовать, проверять факты и собирать точные данные.\n",
        "'''"
      ],
      "metadata": {
        "id": "tbkmzzqhI911"
      },
      "execution_count": null,
      "outputs": []
    },
    {
      "cell_type": "code",
      "source": [
        "experience = [\n",
        "    {\n",
        "        'date_start': '06.2022',\n",
        "        'date_end': '',\n",
        "        'organisation': 'Элерон (Европейская химчистка Apetta)',\n",
        "        'city': 'Санкт-Петербург',\n",
        "        'web': 'apetta.ru',\n",
        "        'industry': 'Услуги для населения',\n",
        "        'position': 'Бизнес-аналитик',\n",
        "        'experience_type': 'Основная работа',\n",
        "        'activity': 'Аналитика в Power BI, Excel. Использование базы данных. Построение автоматизированных отчетов.',\n",
        "    },\n",
        "    {\n",
        "        'date_start': '09.2021',\n",
        "        'date_end': '',\n",
        "        'organisation': 'Проектная деятельность',\n",
        "        'city': 'Санкт-Петербург',\n",
        "        'web': 'github.com/Litvinov-Anton/Portfolio',\n",
        "        'industry': '',\n",
        "        'position': 'Data Scientist',\n",
        "        'experience_type': 'Фриланс',\n",
        "        'activity': '''\n",
        "Деятельность:\n",
        "Коммерческий проект по созданию отчета в Power BI, для компании Data Sfera.\n",
        "\n",
        "Личный проект. Создал проект по отнесению кондитерских изделий к классу с помощью логистической регрессии, на основании данных Kaggle.\n",
        "\n",
        "Личный проект. Создал несколько финансовых отчетов в Power BI, DataStudio.\n",
        "\n",
        "Личный проект. Создал проекты по предсказанию прибыли с помощью линейной регрессии, на основании данных Kaggle.\n",
        "\n",
        "Личный проект. Составил финансовую модель с помощью Excel.\n",
        "\n",
        "Личный проект. Создал проект по классификации с помощью метода К-Средних, на основании данных Kaggle.\n",
        "        ''',\n",
        "    },\n",
        "    {\n",
        "        'date_start': '10.2021',\n",
        "        'date_end': '11.2021',\n",
        "        'organisation': 'ООО \"УК \"Клин-Тим\" (промышленный клининг)',\n",
        "        'city': 'Санкт-Петербург',\n",
        "        'web': 'cleanteam.ru',\n",
        "        'industry': '',\n",
        "        'position': 'Экономист',\n",
        "        'experience_type': 'Основная работа',\n",
        "        'activity': '''\n",
        "- Ведение управленческого учета компании (2 ЦФО)\n",
        "- Сбор данных и формирование отчетов по маржинальности объектов (1С УПП, Excel)\n",
        "- План-факторный анализ полученных данных, построение отчетности и визуализация данных (Power BI)\n",
        "- Ввод данных смет в программу учета\n",
        "- Подготовка аналитических справок, статистик по итогам работы за период.\n",
        "- Ведение электронного архива смет\n",
        "\n",
        "Ключевые результат:\n",
        "внедрил инструмента PowerBI визуализации в процесс предоставления отчётности\n",
        "''',\n",
        "    },\n",
        "    {\n",
        "        'date_start': '06.2020',\n",
        "        'date_end': '05.2021',\n",
        "        'organisation': '\"Терра -Авто\" КЦ\" (ГК «Прагматика») - один из крупнейших Российских автодилеров',\n",
        "        'city': 'Санкт-Петербург',\n",
        "        'web': 'www.terravto.ru',\n",
        "        'industry': 'Автомобильный бизнес',\n",
        "        'position': 'Экономист',\n",
        "        'experience_type': 'Основная работа',\n",
        "        'activity': '''\n",
        "-Составление бюджета компании (2 ЦФО): планирование показателей операционного производства, выручки от продаж, ФОТа, (OPEX, CAPEX)\n",
        "-План-факторный анализ полученных данных\n",
        "-Составление управленческой отчетности (Excel, SQL, 1С)\n",
        "-Составление экономической и финансовой отчётности для внешних контрагентов по запросу\n",
        "- Контроль исполнения платежного календаря\n",
        "Ключевые результаты:\n",
        "Разработал и внедрил систему для расчета мотивации персонала по компании за счет введения углубленной аналитики по продажам.\n",
        "''',\n",
        "    },\n",
        "]"
      ],
      "metadata": {
        "id": "OXDryHh75_Rg"
      },
      "execution_count": null,
      "outputs": []
    },
    {
      "cell_type": "code",
      "source": [
        "education = [\n",
        "    {\n",
        "        'date_start': '2017',\n",
        "        'date_end': '',\n",
        "        'education_type': 'Высшее образование',\n",
        "        'institution': 'СПбГЭУ',\n",
        "        'faculty': 'Экономики, Мировая экономика',\n",
        "    },\n",
        "    {\n",
        "        'date_start': '2015',\n",
        "        'date_end': '',\n",
        "        'education_type': 'Высшее образование',\n",
        "        'institution': 'Санкт-Петербургский государственный инженерно-экономический университет \"ИНЖЭКОН\", Санкт-Петербург',\n",
        "        'faculty': 'Экономики, Национальная экономика',\n",
        "    },\n",
        "    {\n",
        "        'date_start': '2022',\n",
        "        'date_end': '',\n",
        "        'education_type': 'Курсы',\n",
        "        'institution': 'Техническая Академия РосАтома',\n",
        "        'faculty': 'Деловой английский',\n",
        "    },\n",
        "    {\n",
        "        'date_start': '2022',\n",
        "        'date_end': '',\n",
        "        'education_type': 'Курсы',\n",
        "        'institution': 'БФУ им. И. Канта',\n",
        "        'faculty': 'Экономика и финансы',\n",
        "    },\n",
        "    {\n",
        "        'date_start': '2022',\n",
        "        'date_end': '',\n",
        "        'education_type': 'Курсы',\n",
        "        'institution': 'БФУ им. И. Канта',\n",
        "        'faculty': 'Разработка и реализация маркетинговой стратегии',\n",
        "    },\n",
        "    {\n",
        "        'date_start': '2022',\n",
        "        'date_end': '',\n",
        "        'education_type': 'Курсы',\n",
        "        'institution': 'БФУ им. И. Канта',\n",
        "        'faculty': 'Бизнес-модели компании и операционная эффективность',\n",
        "    },\n",
        "    {\n",
        "        'date_start': '2022',\n",
        "        'date_end': '',\n",
        "        'education_type': 'Курсы',\n",
        "        'institution': 'Университет Синергия',\n",
        "        'faculty': 'Data Scientist',\n",
        "    },\n",
        "    {\n",
        "        'date_start': '2021',\n",
        "        'date_end': '',\n",
        "        'education_type': 'Курсы',\n",
        "        'institution': 'НИУ ИТМО, Санкт-Петербург',\n",
        "        'faculty': 'Технологии анализа данных',\n",
        "    },\n",
        "]"
      ],
      "metadata": {
        "id": "xePL1uXJ5gcK"
      },
      "execution_count": null,
      "outputs": []
    },
    {
      "cell_type": "markdown",
      "source": [
        "## Функции обработки данных"
      ],
      "metadata": {
        "id": "afMPNoLZfiiE"
      }
    },
    {
      "cell_type": "markdown",
      "source": [
        "**Работа с ChatGPT**"
      ],
      "metadata": {
        "id": "IdbutFfl3VfZ"
      }
    },
    {
      "cell_type": "code",
      "source": [
        "# подсчёт токенов\n",
        "def count_tokens(system_content, user_content, temperature=0):\n",
        "    messages = [\n",
        "        SystemMessage(content=system_content),\n",
        "        HumanMessage(content=user_content)\n",
        "        ]\n",
        "\n",
        "    # Количество токенов\n",
        "    chat = ChatOpenAI(temperature=temperature)\n",
        "    return chat.get_num_tokens_from_messages(messages)\n",
        "\n",
        "\n",
        "# генерация с помощью chatGPT\n",
        "def gpt(system_content, user_content, temperature=0):\n",
        "\n",
        "    messages = [\n",
        "        {'role': 'system', 'content': system_content},\n",
        "        {'role': 'user', 'content': user_content }]\n",
        "\n",
        "    answer = openai.ChatCompletion.create(\n",
        "        model='gpt-3.5-turbo',\n",
        "        messages=messages,\n",
        "        temperature=0)\n",
        "\n",
        "    message = answer['choices'][0]['message']['content']\n",
        "    prompt_tokens = answer['usage']['prompt_tokens']\n",
        "    completion_tokens = answer['usage']['completion_tokens']\n",
        "    total_tokens = answer['usage']['total_tokens']\n",
        "\n",
        "    return message, prompt_tokens, completion_tokens, total_tokens\n",
        "\n",
        "\n",
        "def gpt_print(system_content, user_content, temperature=0, show_message=True):\n",
        "    # вывод сгенерированных данных с помощью chatGPT\n",
        "    tokens = count_tokens(system_content, user_content)\n",
        "    result = gpt(system_content, user_content)\n",
        "    message, prompt_tokens, completion_tokens, total_tokens = result\n",
        "\n",
        "    if show_message:\n",
        "        print(message)\n",
        "        print('-' * 21)\n",
        "\n",
        "    print('Фактическое количество токенов')\n",
        "    print('прогноз:', tokens)\n",
        "    print('промт:', prompt_tokens)\n",
        "    print('ответ:', completion_tokens)\n",
        "    print('всего:', total_tokens)\n",
        "\n",
        "    return message"
      ],
      "metadata": {
        "id": "RWO3YVOk1gWU"
      },
      "execution_count": null,
      "outputs": []
    },
    {
      "cell_type": "markdown",
      "source": [
        "**Сравнение текстов**"
      ],
      "metadata": {
        "id": "dyIyI50m3ZzE"
      }
    },
    {
      "cell_type": "code",
      "source": [
        "from difflib import SequenceMatcher\n",
        "\n",
        "# highlight colors\n",
        "# you may change these values according to your preferences\n",
        "color_delete = '#FF8888'  # highlight color for deletions\n",
        "color_insert = '#44FF44'  # highlight color for insertions\n",
        "color_replace = '#EEEE88' # highlight color for replacements\n",
        "\n",
        "# the common format string used for highlighted segments\n",
        "f_str = '<span style=\"background: {};\">{}</span>'\n",
        "\n",
        "# given two strings (a, b), getFormattedDiff returns the HTML formatted strings (formatted_a, formatted_b)\n",
        "def getFormattedDiff(a, b):\n",
        "    # initialize the sequence matcher\n",
        "    s = SequenceMatcher(None, a, b)\n",
        "\n",
        "    # stringbuilders for the formatted strings\n",
        "    formatted_a = []\n",
        "    formatted_b = []\n",
        "\n",
        "    # iterate through all char blocks\n",
        "    for tag, i1, i2, j1, j2 in s.get_opcodes():\n",
        "        if tag == 'equal':\n",
        "            # if the blovks are the same, append block to both strings without any formatting\n",
        "            formatted_a.append(a[i1:i2])\n",
        "            formatted_b.append(b[j1:j2])\n",
        "        elif tag == 'delete':\n",
        "            # if this is a deletion block, append block to the first string with the delete highlight\n",
        "            formatted_a.append(f_str.format(color_delete, a[i1:i2]))\n",
        "        elif tag == 'insert':\n",
        "            # if this is a insertion block, append block to the second string with the insert highlight\n",
        "            formatted_b.append(f_str.format(color_insert, b[j1:j2]))\n",
        "        elif tag == 'replace':\n",
        "            # if this is a replacement block, append block to both strings with the replace highlight\n",
        "            formatted_a.append(f_str.format(color_replace, a[i1:i2]))\n",
        "            formatted_b.append(f_str.format(color_replace, b[j1:j2]))\n",
        "\n",
        "    # return the formatted strings\n",
        "    return ''.join(formatted_a), ''.join(formatted_b)"
      ],
      "metadata": {
        "id": "yNBY9BLeGxDP"
      },
      "execution_count": null,
      "outputs": []
    },
    {
      "cell_type": "markdown",
      "source": [
        "**Обработка резюме**"
      ],
      "metadata": {
        "id": "q03CtHes3hZ7"
      }
    },
    {
      "cell_type": "code",
      "source": [
        "# Перевод данных об образовании в pandas и последующая сортировка данных\n",
        "def get_education_pd(education):\n",
        "    # Перевод данных в pandas\n",
        "    df = pd.DataFrame(education)\n",
        "\n",
        "    # Перевод строки в дату для дальнейшей сортировки\n",
        "    df.loc[df['date_start'].str.contains('\\.'), 'date_start_sort'] = pd.to_datetime(df['date_start'], format='%m.%Y', errors='coerce')\n",
        "    df.loc[df['date_start'].str.match(r'\\d{4}$'), 'date_start_sort'] = pd.to_datetime(df['date_start'], format='%Y', errors='coerce')\n",
        "\n",
        "    # Сортировка по типу учебного заведения и году поступления\n",
        "    order = ['Высшее образование', 'Дополнительное образование', 'Курсы']\n",
        "    df['education_type'] = pd.Categorical(df['education_type'], ordered=True, categories=order)\n",
        "    df.sort_values(['education_type', 'date_start_sort'], ascending=[True, False], inplace=True)\n",
        "    df.reset_index(drop=True, inplace=True)\n",
        "\n",
        "    return df\n",
        "\n",
        "\n",
        "# Перевод данных об опыте работы в pandas и последующая сортировка данных\n",
        "def get_experience_pd(experience):\n",
        "    # Перевод данных в pandas\n",
        "    df = pd.DataFrame(experience)\n",
        "\n",
        "    # Перевод строки в дату для дальнейшей сортировки\n",
        "    df.loc[df['date_start'].str.contains('\\.'), 'date_start_sort'] = pd.to_datetime(df['date_start'], format='%m.%Y', errors='coerce')\n",
        "    df.loc[df['date_start'].str.match(r'\\d{4}$'), 'date_start_sort'] = pd.to_datetime(df['date_start'], format='%Y', errors='coerce')\n",
        "\n",
        "    # Сортировка по типу работы и году поступления\n",
        "    order = ['Фриланс', 'Основная работа']\n",
        "    df['experience_type'] = pd.Categorical(df['experience_type'], ordered=True, categories=order)\n",
        "    df.sort_values(['experience_type', 'date_start_sort'], ascending=[True, False], inplace=True)\n",
        "    df.reset_index(drop=True, inplace=True)\n",
        "\n",
        "    return df\n",
        "\n",
        "\n",
        "# Преобразование данных об образовании из pandas в str\n",
        "def get_education(education):\n",
        "    df = get_education_pd(education)\n",
        "    ret = ''\n",
        "    education_type = ''\n",
        "    for index, row in df.iterrows():\n",
        "        row_dict = dict(row)\n",
        "        if row['education_type'] != education_type:\n",
        "            ret += row['education_type'] + ':\\n\\n'\n",
        "            education_type = row['education_type']\n",
        "\n",
        "        ret += row['institution']\n",
        "        if row['date_start']:\n",
        "            ret += ' (' + row['date_start'] + ' - ' + (row['date_end'] if row['date_end'] else 'настоящее время') + ')'\n",
        "        ret += '\\n'\n",
        "\n",
        "        ret += row['faculty'] + '\\n\\n'\n",
        "\n",
        "    return ret\n",
        "\n",
        "\n",
        "# Преобразование данных об образовании из pandas в str\n",
        "def get_experience(experience):\n",
        "    df = get_experience_pd(experience)\n",
        "    ret = ''\n",
        "    experience_type = ''\n",
        "    for index, row in df.iterrows():\n",
        "        row_dict = dict(row)\n",
        "        if row['experience_type'] != experience_type:\n",
        "            ret += row['experience_type'] + ':\\n\\n'\n",
        "            experience_type = row['experience_type']\n",
        "\n",
        "        ret += row['organisation']\n",
        "        if row['date_start']:\n",
        "            ret += ' (' + row['date_start'] + ' - ' + (row['date_end'] if row['date_end'] else 'настоящее время') + ')'\n",
        "        ret += '\\n'\n",
        "\n",
        "        ret += row['city'] + (f\", {row['web']}\" if row['web'] else '') + '\\n'\n",
        "        ret += f\"{row['industry']}\\n\" if row['industry'] else ''\n",
        "        ret += f\"{row['position']}\\n\" if row['position'] else ''\n",
        "        ret += row['activity'] + '\\n\\n'\n",
        "\n",
        "    return ret\n",
        "\n",
        "\n",
        "# Вывод полного резюме в форматированном виде (html)\n",
        "def print_resume_html(name, city, position, about, education, experience):\n",
        "    # общие данные\n",
        "    display(HTML(f'<h2>{name}</h2>'))\n",
        "    display(HTML(f'<h3>{position}</h3>'))\n",
        "    display(HTML(f'<br><b>О себе:</b><br>{about}<br>'))\n",
        "\n",
        "    # образование\n",
        "    df = get_education_pd(education)\n",
        "    education_type = ''\n",
        "    for index, row in df.iterrows():\n",
        "        row_dict = dict(row)\n",
        "        if row['education_type'] != education_type:\n",
        "            display(HTML(f\"<h3>{row['education_type']}</h3><br>\"))\n",
        "            education_type = row['education_type']\n",
        "\n",
        "        institution = row['institution']\n",
        "        if row['date_start']:\n",
        "            institution += ' (' + row['date_start'] + ' - ' + (row['date_end'] if row['date_end'] else 'настоящее время') + ')'\n",
        "        display(HTML(f\"<b>{institution}</b><br>\"))\n",
        "        display(HTML(f\"{row['faculty']}<br><br>\"))\n",
        "\n",
        "    # опыт работы\n",
        "    df = get_experience_pd(experience)\n",
        "    experience_type = ''\n",
        "    for index, row in df.iterrows():\n",
        "        row_dict = dict(row)\n",
        "        if row['experience_type'] != experience_type:\n",
        "            display(HTML(f\"<h3>{row['experience_type']}</h3><br>\"))\n",
        "            experience_type = row['experience_type']\n",
        "\n",
        "        organisation = row['organisation']\n",
        "        if row['date_start']:\n",
        "            organisation += ' (' + row['date_start'] + ' - ' + (row['date_end'] if row['date_end'] else 'настоящее время') + ')'\n",
        "        display(HTML(f\"<b>{organisation}</b><br>\"))\n",
        "\n",
        "        city = row['city'] + (f\", {row['web']}\" if row['web'] else '')\n",
        "        display(HTML(f\"{city}<br>\"))\n",
        "        if row['industry']:\n",
        "            display(HTML(f\"{row['position']}<br>\"))\n",
        "        if row['position']:\n",
        "            display(HTML(f\"{row['industry']}<br>\"))\n",
        "        display(HTML(f\"{row['activity']}<br><br>\"))\n",
        "\n",
        "\n",
        "# Получение полного резюме в формате str\n",
        "def get_resume(name, city, position, about, education, experience):\n",
        "    education = get_education(education)\n",
        "    experience = get_experience(experience)\n",
        "    resume = f'''Имя: {name}\n",
        "Должность: {position}\n",
        "О себе:\n",
        "{about}\n",
        "\n",
        "{education}\n",
        "Опыт работы:\n",
        "\n",
        "{experience}\n",
        "'''\n",
        "\n",
        "    return resume"
      ],
      "metadata": {
        "id": "xGN4sB2fpZ2j"
      },
      "execution_count": null,
      "outputs": []
    },
    {
      "cell_type": "markdown",
      "source": [
        "### Результаты"
      ],
      "metadata": {
        "id": "h2n--Kdsft0A"
      }
    },
    {
      "cell_type": "code",
      "source": [
        "get_education_pd(education)"
      ],
      "metadata": {
        "colab": {
          "base_uri": "https://localhost:8080/",
          "height": 300
        },
        "id": "m8EcKIF26sKl",
        "outputId": "d396e951-f009-4fac-dd61-3cc61b1b36bf"
      },
      "execution_count": null,
      "outputs": [
        {
          "output_type": "execute_result",
          "data": {
            "text/plain": [
              "  date_start date_end      education_type  \\\n",
              "0       2017           Высшее образование   \n",
              "1       2015           Высшее образование   \n",
              "2       2022                        Курсы   \n",
              "3       2022                        Курсы   \n",
              "4       2022                        Курсы   \n",
              "5       2022                        Курсы   \n",
              "6       2022                        Курсы   \n",
              "7       2021                        Курсы   \n",
              "\n",
              "                                         institution  \\\n",
              "0                                             СПбГЭУ   \n",
              "1  Санкт-Петербургский государственный инженерно-...   \n",
              "2                      Техническая Академия РосАтома   \n",
              "3                                   БФУ им. И. Канта   \n",
              "4                                   БФУ им. И. Канта   \n",
              "5                                   БФУ им. И. Канта   \n",
              "6                               Университет Синергия   \n",
              "7                          НИУ ИТМО, Санкт-Петербург   \n",
              "\n",
              "                                             faculty date_start_sort  \n",
              "0                       Экономики, Мировая экономика      2017-01-01  \n",
              "1                  Экономики, Национальная экономика      2015-01-01  \n",
              "2                                 Деловой английский      2022-01-01  \n",
              "3                                Экономика и финансы      2022-01-01  \n",
              "4    Разработка и реализация маркетинговой стратегии      2022-01-01  \n",
              "5  Бизнес-модели компании и операционная эффектив...      2022-01-01  \n",
              "6                                     Data Scientist      2022-01-01  \n",
              "7                          Технологии анализа данных      2021-01-01  "
            ],
            "text/html": [
              "\n",
              "  <div id=\"df-503821e6-547d-4159-96a7-3c6390f08871\" class=\"colab-df-container\">\n",
              "    <div>\n",
              "<style scoped>\n",
              "    .dataframe tbody tr th:only-of-type {\n",
              "        vertical-align: middle;\n",
              "    }\n",
              "\n",
              "    .dataframe tbody tr th {\n",
              "        vertical-align: top;\n",
              "    }\n",
              "\n",
              "    .dataframe thead th {\n",
              "        text-align: right;\n",
              "    }\n",
              "</style>\n",
              "<table border=\"1\" class=\"dataframe\">\n",
              "  <thead>\n",
              "    <tr style=\"text-align: right;\">\n",
              "      <th></th>\n",
              "      <th>date_start</th>\n",
              "      <th>date_end</th>\n",
              "      <th>education_type</th>\n",
              "      <th>institution</th>\n",
              "      <th>faculty</th>\n",
              "      <th>date_start_sort</th>\n",
              "    </tr>\n",
              "  </thead>\n",
              "  <tbody>\n",
              "    <tr>\n",
              "      <th>0</th>\n",
              "      <td>2017</td>\n",
              "      <td></td>\n",
              "      <td>Высшее образование</td>\n",
              "      <td>СПбГЭУ</td>\n",
              "      <td>Экономики, Мировая экономика</td>\n",
              "      <td>2017-01-01</td>\n",
              "    </tr>\n",
              "    <tr>\n",
              "      <th>1</th>\n",
              "      <td>2015</td>\n",
              "      <td></td>\n",
              "      <td>Высшее образование</td>\n",
              "      <td>Санкт-Петербургский государственный инженерно-...</td>\n",
              "      <td>Экономики, Национальная экономика</td>\n",
              "      <td>2015-01-01</td>\n",
              "    </tr>\n",
              "    <tr>\n",
              "      <th>2</th>\n",
              "      <td>2022</td>\n",
              "      <td></td>\n",
              "      <td>Курсы</td>\n",
              "      <td>Техническая Академия РосАтома</td>\n",
              "      <td>Деловой английский</td>\n",
              "      <td>2022-01-01</td>\n",
              "    </tr>\n",
              "    <tr>\n",
              "      <th>3</th>\n",
              "      <td>2022</td>\n",
              "      <td></td>\n",
              "      <td>Курсы</td>\n",
              "      <td>БФУ им. И. Канта</td>\n",
              "      <td>Экономика и финансы</td>\n",
              "      <td>2022-01-01</td>\n",
              "    </tr>\n",
              "    <tr>\n",
              "      <th>4</th>\n",
              "      <td>2022</td>\n",
              "      <td></td>\n",
              "      <td>Курсы</td>\n",
              "      <td>БФУ им. И. Канта</td>\n",
              "      <td>Разработка и реализация маркетинговой стратегии</td>\n",
              "      <td>2022-01-01</td>\n",
              "    </tr>\n",
              "    <tr>\n",
              "      <th>5</th>\n",
              "      <td>2022</td>\n",
              "      <td></td>\n",
              "      <td>Курсы</td>\n",
              "      <td>БФУ им. И. Канта</td>\n",
              "      <td>Бизнес-модели компании и операционная эффектив...</td>\n",
              "      <td>2022-01-01</td>\n",
              "    </tr>\n",
              "    <tr>\n",
              "      <th>6</th>\n",
              "      <td>2022</td>\n",
              "      <td></td>\n",
              "      <td>Курсы</td>\n",
              "      <td>Университет Синергия</td>\n",
              "      <td>Data Scientist</td>\n",
              "      <td>2022-01-01</td>\n",
              "    </tr>\n",
              "    <tr>\n",
              "      <th>7</th>\n",
              "      <td>2021</td>\n",
              "      <td></td>\n",
              "      <td>Курсы</td>\n",
              "      <td>НИУ ИТМО, Санкт-Петербург</td>\n",
              "      <td>Технологии анализа данных</td>\n",
              "      <td>2021-01-01</td>\n",
              "    </tr>\n",
              "  </tbody>\n",
              "</table>\n",
              "</div>\n",
              "    <div class=\"colab-df-buttons\">\n",
              "\n",
              "  <div class=\"colab-df-container\">\n",
              "    <button class=\"colab-df-convert\" onclick=\"convertToInteractive('df-503821e6-547d-4159-96a7-3c6390f08871')\"\n",
              "            title=\"Convert this dataframe to an interactive table.\"\n",
              "            style=\"display:none;\">\n",
              "\n",
              "  <svg xmlns=\"http://www.w3.org/2000/svg\" height=\"24px\" viewBox=\"0 -960 960 960\">\n",
              "    <path d=\"M120-120v-720h720v720H120Zm60-500h600v-160H180v160Zm220 220h160v-160H400v160Zm0 220h160v-160H400v160ZM180-400h160v-160H180v160Zm440 0h160v-160H620v160ZM180-180h160v-160H180v160Zm440 0h160v-160H620v160Z\"/>\n",
              "  </svg>\n",
              "    </button>\n",
              "\n",
              "  <style>\n",
              "    .colab-df-container {\n",
              "      display:flex;\n",
              "      gap: 12px;\n",
              "    }\n",
              "\n",
              "    .colab-df-convert {\n",
              "      background-color: #E8F0FE;\n",
              "      border: none;\n",
              "      border-radius: 50%;\n",
              "      cursor: pointer;\n",
              "      display: none;\n",
              "      fill: #1967D2;\n",
              "      height: 32px;\n",
              "      padding: 0 0 0 0;\n",
              "      width: 32px;\n",
              "    }\n",
              "\n",
              "    .colab-df-convert:hover {\n",
              "      background-color: #E2EBFA;\n",
              "      box-shadow: 0px 1px 2px rgba(60, 64, 67, 0.3), 0px 1px 3px 1px rgba(60, 64, 67, 0.15);\n",
              "      fill: #174EA6;\n",
              "    }\n",
              "\n",
              "    .colab-df-buttons div {\n",
              "      margin-bottom: 4px;\n",
              "    }\n",
              "\n",
              "    [theme=dark] .colab-df-convert {\n",
              "      background-color: #3B4455;\n",
              "      fill: #D2E3FC;\n",
              "    }\n",
              "\n",
              "    [theme=dark] .colab-df-convert:hover {\n",
              "      background-color: #434B5C;\n",
              "      box-shadow: 0px 1px 3px 1px rgba(0, 0, 0, 0.15);\n",
              "      filter: drop-shadow(0px 1px 2px rgba(0, 0, 0, 0.3));\n",
              "      fill: #FFFFFF;\n",
              "    }\n",
              "  </style>\n",
              "\n",
              "    <script>\n",
              "      const buttonEl =\n",
              "        document.querySelector('#df-503821e6-547d-4159-96a7-3c6390f08871 button.colab-df-convert');\n",
              "      buttonEl.style.display =\n",
              "        google.colab.kernel.accessAllowed ? 'block' : 'none';\n",
              "\n",
              "      async function convertToInteractive(key) {\n",
              "        const element = document.querySelector('#df-503821e6-547d-4159-96a7-3c6390f08871');\n",
              "        const dataTable =\n",
              "          await google.colab.kernel.invokeFunction('convertToInteractive',\n",
              "                                                    [key], {});\n",
              "        if (!dataTable) return;\n",
              "\n",
              "        const docLinkHtml = 'Like what you see? Visit the ' +\n",
              "          '<a target=\"_blank\" href=https://colab.research.google.com/notebooks/data_table.ipynb>data table notebook</a>'\n",
              "          + ' to learn more about interactive tables.';\n",
              "        element.innerHTML = '';\n",
              "        dataTable['output_type'] = 'display_data';\n",
              "        await google.colab.output.renderOutput(dataTable, element);\n",
              "        const docLink = document.createElement('div');\n",
              "        docLink.innerHTML = docLinkHtml;\n",
              "        element.appendChild(docLink);\n",
              "      }\n",
              "    </script>\n",
              "  </div>\n",
              "\n",
              "\n",
              "<div id=\"df-0794d42c-4f46-46b0-b773-270ae7287a1f\">\n",
              "  <button class=\"colab-df-quickchart\" onclick=\"quickchart('df-0794d42c-4f46-46b0-b773-270ae7287a1f')\"\n",
              "            title=\"Suggest charts.\"\n",
              "            style=\"display:none;\">\n",
              "\n",
              "<svg xmlns=\"http://www.w3.org/2000/svg\" height=\"24px\"viewBox=\"0 0 24 24\"\n",
              "     width=\"24px\">\n",
              "    <g>\n",
              "        <path d=\"M19 3H5c-1.1 0-2 .9-2 2v14c0 1.1.9 2 2 2h14c1.1 0 2-.9 2-2V5c0-1.1-.9-2-2-2zM9 17H7v-7h2v7zm4 0h-2V7h2v10zm4 0h-2v-4h2v4z\"/>\n",
              "    </g>\n",
              "</svg>\n",
              "  </button>\n",
              "\n",
              "<style>\n",
              "  .colab-df-quickchart {\n",
              "      --bg-color: #E8F0FE;\n",
              "      --fill-color: #1967D2;\n",
              "      --hover-bg-color: #E2EBFA;\n",
              "      --hover-fill-color: #174EA6;\n",
              "      --disabled-fill-color: #AAA;\n",
              "      --disabled-bg-color: #DDD;\n",
              "  }\n",
              "\n",
              "  [theme=dark] .colab-df-quickchart {\n",
              "      --bg-color: #3B4455;\n",
              "      --fill-color: #D2E3FC;\n",
              "      --hover-bg-color: #434B5C;\n",
              "      --hover-fill-color: #FFFFFF;\n",
              "      --disabled-bg-color: #3B4455;\n",
              "      --disabled-fill-color: #666;\n",
              "  }\n",
              "\n",
              "  .colab-df-quickchart {\n",
              "    background-color: var(--bg-color);\n",
              "    border: none;\n",
              "    border-radius: 50%;\n",
              "    cursor: pointer;\n",
              "    display: none;\n",
              "    fill: var(--fill-color);\n",
              "    height: 32px;\n",
              "    padding: 0;\n",
              "    width: 32px;\n",
              "  }\n",
              "\n",
              "  .colab-df-quickchart:hover {\n",
              "    background-color: var(--hover-bg-color);\n",
              "    box-shadow: 0 1px 2px rgba(60, 64, 67, 0.3), 0 1px 3px 1px rgba(60, 64, 67, 0.15);\n",
              "    fill: var(--button-hover-fill-color);\n",
              "  }\n",
              "\n",
              "  .colab-df-quickchart-complete:disabled,\n",
              "  .colab-df-quickchart-complete:disabled:hover {\n",
              "    background-color: var(--disabled-bg-color);\n",
              "    fill: var(--disabled-fill-color);\n",
              "    box-shadow: none;\n",
              "  }\n",
              "\n",
              "  .colab-df-spinner {\n",
              "    border: 2px solid var(--fill-color);\n",
              "    border-color: transparent;\n",
              "    border-bottom-color: var(--fill-color);\n",
              "    animation:\n",
              "      spin 1s steps(1) infinite;\n",
              "  }\n",
              "\n",
              "  @keyframes spin {\n",
              "    0% {\n",
              "      border-color: transparent;\n",
              "      border-bottom-color: var(--fill-color);\n",
              "      border-left-color: var(--fill-color);\n",
              "    }\n",
              "    20% {\n",
              "      border-color: transparent;\n",
              "      border-left-color: var(--fill-color);\n",
              "      border-top-color: var(--fill-color);\n",
              "    }\n",
              "    30% {\n",
              "      border-color: transparent;\n",
              "      border-left-color: var(--fill-color);\n",
              "      border-top-color: var(--fill-color);\n",
              "      border-right-color: var(--fill-color);\n",
              "    }\n",
              "    40% {\n",
              "      border-color: transparent;\n",
              "      border-right-color: var(--fill-color);\n",
              "      border-top-color: var(--fill-color);\n",
              "    }\n",
              "    60% {\n",
              "      border-color: transparent;\n",
              "      border-right-color: var(--fill-color);\n",
              "    }\n",
              "    80% {\n",
              "      border-color: transparent;\n",
              "      border-right-color: var(--fill-color);\n",
              "      border-bottom-color: var(--fill-color);\n",
              "    }\n",
              "    90% {\n",
              "      border-color: transparent;\n",
              "      border-bottom-color: var(--fill-color);\n",
              "    }\n",
              "  }\n",
              "</style>\n",
              "\n",
              "  <script>\n",
              "    async function quickchart(key) {\n",
              "      const quickchartButtonEl =\n",
              "        document.querySelector('#' + key + ' button');\n",
              "      quickchartButtonEl.disabled = true;  // To prevent multiple clicks.\n",
              "      quickchartButtonEl.classList.add('colab-df-spinner');\n",
              "      try {\n",
              "        const charts = await google.colab.kernel.invokeFunction(\n",
              "            'suggestCharts', [key], {});\n",
              "      } catch (error) {\n",
              "        console.error('Error during call to suggestCharts:', error);\n",
              "      }\n",
              "      quickchartButtonEl.classList.remove('colab-df-spinner');\n",
              "      quickchartButtonEl.classList.add('colab-df-quickchart-complete');\n",
              "    }\n",
              "    (() => {\n",
              "      let quickchartButtonEl =\n",
              "        document.querySelector('#df-0794d42c-4f46-46b0-b773-270ae7287a1f button');\n",
              "      quickchartButtonEl.style.display =\n",
              "        google.colab.kernel.accessAllowed ? 'block' : 'none';\n",
              "    })();\n",
              "  </script>\n",
              "</div>\n",
              "    </div>\n",
              "  </div>\n"
            ]
          },
          "metadata": {},
          "execution_count": 114
        }
      ]
    },
    {
      "cell_type": "code",
      "source": [
        "get_experience_pd(experience)"
      ],
      "metadata": {
        "colab": {
          "base_uri": "https://localhost:8080/",
          "height": 296
        },
        "id": "ZHFbl9KT8Zex",
        "outputId": "a57d01ea-a3f3-438e-f145-255beb063c9d"
      },
      "execution_count": null,
      "outputs": [
        {
          "output_type": "execute_result",
          "data": {
            "text/plain": [
              "  date_start date_end                                       organisation  \\\n",
              "0    09.2021                                      Проектная деятельность   \n",
              "1    06.2022                       Элерон (Европейская химчистка Apetta)   \n",
              "2    10.2021  11.2021          ООО \"УК \"Клин-Тим\" (промышленный клининг)   \n",
              "3    06.2020  05.2021  \"Терра -Авто\" КЦ\" (ГК «Прагматика») - один из ...   \n",
              "\n",
              "              city                                  web              industry  \\\n",
              "0  Санкт-Петербург  github.com/Litvinov-Anton/Portfolio                         \n",
              "1  Санкт-Петербург                            apetta.ru  Услуги для населения   \n",
              "2  Санкт-Петербург                         cleanteam.ru                         \n",
              "3  Санкт-Петербург                      www.terravto.ru  Автомобильный бизнес   \n",
              "\n",
              "          position  experience_type  \\\n",
              "0   Data Scientist          Фриланс   \n",
              "1  Бизнес-аналитик  Основная работа   \n",
              "2        Экономист  Основная работа   \n",
              "3        Экономист  Основная работа   \n",
              "\n",
              "                                            activity date_start_sort  \n",
              "0  \\nДеятельность:\\nКоммерческий проект по создан...      2021-09-01  \n",
              "1  Аналитика в Power BI, Excel. Использование баз...      2022-06-01  \n",
              "2  \\n- Ведение управленческого учета компании (2 ...      2021-10-01  \n",
              "3  \\n-Составление бюджета компании (2 ЦФО): плани...      2020-06-01  "
            ],
            "text/html": [
              "\n",
              "  <div id=\"df-b890ead3-cce0-41fd-8d20-023dcfcb73eb\" class=\"colab-df-container\">\n",
              "    <div>\n",
              "<style scoped>\n",
              "    .dataframe tbody tr th:only-of-type {\n",
              "        vertical-align: middle;\n",
              "    }\n",
              "\n",
              "    .dataframe tbody tr th {\n",
              "        vertical-align: top;\n",
              "    }\n",
              "\n",
              "    .dataframe thead th {\n",
              "        text-align: right;\n",
              "    }\n",
              "</style>\n",
              "<table border=\"1\" class=\"dataframe\">\n",
              "  <thead>\n",
              "    <tr style=\"text-align: right;\">\n",
              "      <th></th>\n",
              "      <th>date_start</th>\n",
              "      <th>date_end</th>\n",
              "      <th>organisation</th>\n",
              "      <th>city</th>\n",
              "      <th>web</th>\n",
              "      <th>industry</th>\n",
              "      <th>position</th>\n",
              "      <th>experience_type</th>\n",
              "      <th>activity</th>\n",
              "      <th>date_start_sort</th>\n",
              "    </tr>\n",
              "  </thead>\n",
              "  <tbody>\n",
              "    <tr>\n",
              "      <th>0</th>\n",
              "      <td>09.2021</td>\n",
              "      <td></td>\n",
              "      <td>Проектная деятельность</td>\n",
              "      <td>Санкт-Петербург</td>\n",
              "      <td>github.com/Litvinov-Anton/Portfolio</td>\n",
              "      <td></td>\n",
              "      <td>Data Scientist</td>\n",
              "      <td>Фриланс</td>\n",
              "      <td>\\nДеятельность:\\nКоммерческий проект по создан...</td>\n",
              "      <td>2021-09-01</td>\n",
              "    </tr>\n",
              "    <tr>\n",
              "      <th>1</th>\n",
              "      <td>06.2022</td>\n",
              "      <td></td>\n",
              "      <td>Элерон (Европейская химчистка Apetta)</td>\n",
              "      <td>Санкт-Петербург</td>\n",
              "      <td>apetta.ru</td>\n",
              "      <td>Услуги для населения</td>\n",
              "      <td>Бизнес-аналитик</td>\n",
              "      <td>Основная работа</td>\n",
              "      <td>Аналитика в Power BI, Excel. Использование баз...</td>\n",
              "      <td>2022-06-01</td>\n",
              "    </tr>\n",
              "    <tr>\n",
              "      <th>2</th>\n",
              "      <td>10.2021</td>\n",
              "      <td>11.2021</td>\n",
              "      <td>ООО \"УК \"Клин-Тим\" (промышленный клининг)</td>\n",
              "      <td>Санкт-Петербург</td>\n",
              "      <td>cleanteam.ru</td>\n",
              "      <td></td>\n",
              "      <td>Экономист</td>\n",
              "      <td>Основная работа</td>\n",
              "      <td>\\n- Ведение управленческого учета компании (2 ...</td>\n",
              "      <td>2021-10-01</td>\n",
              "    </tr>\n",
              "    <tr>\n",
              "      <th>3</th>\n",
              "      <td>06.2020</td>\n",
              "      <td>05.2021</td>\n",
              "      <td>\"Терра -Авто\" КЦ\" (ГК «Прагматика») - один из ...</td>\n",
              "      <td>Санкт-Петербург</td>\n",
              "      <td>www.terravto.ru</td>\n",
              "      <td>Автомобильный бизнес</td>\n",
              "      <td>Экономист</td>\n",
              "      <td>Основная работа</td>\n",
              "      <td>\\n-Составление бюджета компании (2 ЦФО): плани...</td>\n",
              "      <td>2020-06-01</td>\n",
              "    </tr>\n",
              "  </tbody>\n",
              "</table>\n",
              "</div>\n",
              "    <div class=\"colab-df-buttons\">\n",
              "\n",
              "  <div class=\"colab-df-container\">\n",
              "    <button class=\"colab-df-convert\" onclick=\"convertToInteractive('df-b890ead3-cce0-41fd-8d20-023dcfcb73eb')\"\n",
              "            title=\"Convert this dataframe to an interactive table.\"\n",
              "            style=\"display:none;\">\n",
              "\n",
              "  <svg xmlns=\"http://www.w3.org/2000/svg\" height=\"24px\" viewBox=\"0 -960 960 960\">\n",
              "    <path d=\"M120-120v-720h720v720H120Zm60-500h600v-160H180v160Zm220 220h160v-160H400v160Zm0 220h160v-160H400v160ZM180-400h160v-160H180v160Zm440 0h160v-160H620v160ZM180-180h160v-160H180v160Zm440 0h160v-160H620v160Z\"/>\n",
              "  </svg>\n",
              "    </button>\n",
              "\n",
              "  <style>\n",
              "    .colab-df-container {\n",
              "      display:flex;\n",
              "      gap: 12px;\n",
              "    }\n",
              "\n",
              "    .colab-df-convert {\n",
              "      background-color: #E8F0FE;\n",
              "      border: none;\n",
              "      border-radius: 50%;\n",
              "      cursor: pointer;\n",
              "      display: none;\n",
              "      fill: #1967D2;\n",
              "      height: 32px;\n",
              "      padding: 0 0 0 0;\n",
              "      width: 32px;\n",
              "    }\n",
              "\n",
              "    .colab-df-convert:hover {\n",
              "      background-color: #E2EBFA;\n",
              "      box-shadow: 0px 1px 2px rgba(60, 64, 67, 0.3), 0px 1px 3px 1px rgba(60, 64, 67, 0.15);\n",
              "      fill: #174EA6;\n",
              "    }\n",
              "\n",
              "    .colab-df-buttons div {\n",
              "      margin-bottom: 4px;\n",
              "    }\n",
              "\n",
              "    [theme=dark] .colab-df-convert {\n",
              "      background-color: #3B4455;\n",
              "      fill: #D2E3FC;\n",
              "    }\n",
              "\n",
              "    [theme=dark] .colab-df-convert:hover {\n",
              "      background-color: #434B5C;\n",
              "      box-shadow: 0px 1px 3px 1px rgba(0, 0, 0, 0.15);\n",
              "      filter: drop-shadow(0px 1px 2px rgba(0, 0, 0, 0.3));\n",
              "      fill: #FFFFFF;\n",
              "    }\n",
              "  </style>\n",
              "\n",
              "    <script>\n",
              "      const buttonEl =\n",
              "        document.querySelector('#df-b890ead3-cce0-41fd-8d20-023dcfcb73eb button.colab-df-convert');\n",
              "      buttonEl.style.display =\n",
              "        google.colab.kernel.accessAllowed ? 'block' : 'none';\n",
              "\n",
              "      async function convertToInteractive(key) {\n",
              "        const element = document.querySelector('#df-b890ead3-cce0-41fd-8d20-023dcfcb73eb');\n",
              "        const dataTable =\n",
              "          await google.colab.kernel.invokeFunction('convertToInteractive',\n",
              "                                                    [key], {});\n",
              "        if (!dataTable) return;\n",
              "\n",
              "        const docLinkHtml = 'Like what you see? Visit the ' +\n",
              "          '<a target=\"_blank\" href=https://colab.research.google.com/notebooks/data_table.ipynb>data table notebook</a>'\n",
              "          + ' to learn more about interactive tables.';\n",
              "        element.innerHTML = '';\n",
              "        dataTable['output_type'] = 'display_data';\n",
              "        await google.colab.output.renderOutput(dataTable, element);\n",
              "        const docLink = document.createElement('div');\n",
              "        docLink.innerHTML = docLinkHtml;\n",
              "        element.appendChild(docLink);\n",
              "      }\n",
              "    </script>\n",
              "  </div>\n",
              "\n",
              "\n",
              "<div id=\"df-1917f577-3c20-4744-b04a-149eff85678e\">\n",
              "  <button class=\"colab-df-quickchart\" onclick=\"quickchart('df-1917f577-3c20-4744-b04a-149eff85678e')\"\n",
              "            title=\"Suggest charts.\"\n",
              "            style=\"display:none;\">\n",
              "\n",
              "<svg xmlns=\"http://www.w3.org/2000/svg\" height=\"24px\"viewBox=\"0 0 24 24\"\n",
              "     width=\"24px\">\n",
              "    <g>\n",
              "        <path d=\"M19 3H5c-1.1 0-2 .9-2 2v14c0 1.1.9 2 2 2h14c1.1 0 2-.9 2-2V5c0-1.1-.9-2-2-2zM9 17H7v-7h2v7zm4 0h-2V7h2v10zm4 0h-2v-4h2v4z\"/>\n",
              "    </g>\n",
              "</svg>\n",
              "  </button>\n",
              "\n",
              "<style>\n",
              "  .colab-df-quickchart {\n",
              "      --bg-color: #E8F0FE;\n",
              "      --fill-color: #1967D2;\n",
              "      --hover-bg-color: #E2EBFA;\n",
              "      --hover-fill-color: #174EA6;\n",
              "      --disabled-fill-color: #AAA;\n",
              "      --disabled-bg-color: #DDD;\n",
              "  }\n",
              "\n",
              "  [theme=dark] .colab-df-quickchart {\n",
              "      --bg-color: #3B4455;\n",
              "      --fill-color: #D2E3FC;\n",
              "      --hover-bg-color: #434B5C;\n",
              "      --hover-fill-color: #FFFFFF;\n",
              "      --disabled-bg-color: #3B4455;\n",
              "      --disabled-fill-color: #666;\n",
              "  }\n",
              "\n",
              "  .colab-df-quickchart {\n",
              "    background-color: var(--bg-color);\n",
              "    border: none;\n",
              "    border-radius: 50%;\n",
              "    cursor: pointer;\n",
              "    display: none;\n",
              "    fill: var(--fill-color);\n",
              "    height: 32px;\n",
              "    padding: 0;\n",
              "    width: 32px;\n",
              "  }\n",
              "\n",
              "  .colab-df-quickchart:hover {\n",
              "    background-color: var(--hover-bg-color);\n",
              "    box-shadow: 0 1px 2px rgba(60, 64, 67, 0.3), 0 1px 3px 1px rgba(60, 64, 67, 0.15);\n",
              "    fill: var(--button-hover-fill-color);\n",
              "  }\n",
              "\n",
              "  .colab-df-quickchart-complete:disabled,\n",
              "  .colab-df-quickchart-complete:disabled:hover {\n",
              "    background-color: var(--disabled-bg-color);\n",
              "    fill: var(--disabled-fill-color);\n",
              "    box-shadow: none;\n",
              "  }\n",
              "\n",
              "  .colab-df-spinner {\n",
              "    border: 2px solid var(--fill-color);\n",
              "    border-color: transparent;\n",
              "    border-bottom-color: var(--fill-color);\n",
              "    animation:\n",
              "      spin 1s steps(1) infinite;\n",
              "  }\n",
              "\n",
              "  @keyframes spin {\n",
              "    0% {\n",
              "      border-color: transparent;\n",
              "      border-bottom-color: var(--fill-color);\n",
              "      border-left-color: var(--fill-color);\n",
              "    }\n",
              "    20% {\n",
              "      border-color: transparent;\n",
              "      border-left-color: var(--fill-color);\n",
              "      border-top-color: var(--fill-color);\n",
              "    }\n",
              "    30% {\n",
              "      border-color: transparent;\n",
              "      border-left-color: var(--fill-color);\n",
              "      border-top-color: var(--fill-color);\n",
              "      border-right-color: var(--fill-color);\n",
              "    }\n",
              "    40% {\n",
              "      border-color: transparent;\n",
              "      border-right-color: var(--fill-color);\n",
              "      border-top-color: var(--fill-color);\n",
              "    }\n",
              "    60% {\n",
              "      border-color: transparent;\n",
              "      border-right-color: var(--fill-color);\n",
              "    }\n",
              "    80% {\n",
              "      border-color: transparent;\n",
              "      border-right-color: var(--fill-color);\n",
              "      border-bottom-color: var(--fill-color);\n",
              "    }\n",
              "    90% {\n",
              "      border-color: transparent;\n",
              "      border-bottom-color: var(--fill-color);\n",
              "    }\n",
              "  }\n",
              "</style>\n",
              "\n",
              "  <script>\n",
              "    async function quickchart(key) {\n",
              "      const quickchartButtonEl =\n",
              "        document.querySelector('#' + key + ' button');\n",
              "      quickchartButtonEl.disabled = true;  // To prevent multiple clicks.\n",
              "      quickchartButtonEl.classList.add('colab-df-spinner');\n",
              "      try {\n",
              "        const charts = await google.colab.kernel.invokeFunction(\n",
              "            'suggestCharts', [key], {});\n",
              "      } catch (error) {\n",
              "        console.error('Error during call to suggestCharts:', error);\n",
              "      }\n",
              "      quickchartButtonEl.classList.remove('colab-df-spinner');\n",
              "      quickchartButtonEl.classList.add('colab-df-quickchart-complete');\n",
              "    }\n",
              "    (() => {\n",
              "      let quickchartButtonEl =\n",
              "        document.querySelector('#df-1917f577-3c20-4744-b04a-149eff85678e button');\n",
              "      quickchartButtonEl.style.display =\n",
              "        google.colab.kernel.accessAllowed ? 'block' : 'none';\n",
              "    })();\n",
              "  </script>\n",
              "</div>\n",
              "    </div>\n",
              "  </div>\n"
            ]
          },
          "metadata": {},
          "execution_count": 110
        }
      ]
    },
    {
      "cell_type": "code",
      "source": [
        "print_resume_html(name, city, position, about, education, experience)"
      ],
      "metadata": {
        "colab": {
          "base_uri": "https://localhost:8080/",
          "height": 1000
        },
        "id": "JCkhaF-crr8B",
        "outputId": "b760b120-3958-4610-990a-f120d06ca1fe"
      },
      "execution_count": null,
      "outputs": [
        {
          "output_type": "display_data",
          "data": {
            "text/plain": [
              "<IPython.core.display.HTML object>"
            ],
            "text/html": [
              "<h2>Порфирий Прокофьевич</h2>"
            ]
          },
          "metadata": {}
        },
        {
          "output_type": "display_data",
          "data": {
            "text/plain": [
              "<IPython.core.display.HTML object>"
            ],
            "text/html": [
              "<h3>Data Scientist</h3>"
            ]
          },
          "metadata": {}
        },
        {
          "output_type": "display_data",
          "data": {
            "text/plain": [
              "<IPython.core.display.HTML object>"
            ],
            "text/html": [
              "<br><b>О себе:</b><br>\n",
              "Сдан экзамен P1 CIMA\n",
              "Средний бал: 4,6\n",
              "\n",
              "Имея изначально склонность к аналитике, решил добавить технологические стек и уже более углублено ее развивать в направлении Data Science.\n",
              "\n",
              "Личные качества:\n",
              "- Нахожу общий язык с коллегами\n",
              "- Дисциплинирован.\n",
              "- Постоянно обучаюсь новому.\n",
              "- Стремлюсь к профессиональному и карьерному росту.\n",
              "- В работе соблюдаю сроки выполнения задач.\n",
              "- Способен длительное время заниматься решением одной проблемы.\n",
              "- Умею работать с большим объёмом информации.\n",
              "- Умею хранить конфиденциальную информацию.\n",
              "- Способен исследовать, проверять факты и собирать точные данные.\n",
              "<br>"
            ]
          },
          "metadata": {}
        },
        {
          "output_type": "display_data",
          "data": {
            "text/plain": [
              "<IPython.core.display.HTML object>"
            ],
            "text/html": [
              "<h3>Высшее образование</h3><br>"
            ]
          },
          "metadata": {}
        },
        {
          "output_type": "display_data",
          "data": {
            "text/plain": [
              "<IPython.core.display.HTML object>"
            ],
            "text/html": [
              "<b>СПбГЭУ (2017 - настоящее время)</b><br>"
            ]
          },
          "metadata": {}
        },
        {
          "output_type": "display_data",
          "data": {
            "text/plain": [
              "<IPython.core.display.HTML object>"
            ],
            "text/html": [
              "Экономики, Мировая экономика<br><br>"
            ]
          },
          "metadata": {}
        },
        {
          "output_type": "display_data",
          "data": {
            "text/plain": [
              "<IPython.core.display.HTML object>"
            ],
            "text/html": [
              "<b>Санкт-Петербургский государственный инженерно-экономический университет \"ИНЖЭКОН\", Санкт-Петербург (2015 - настоящее время)</b><br>"
            ]
          },
          "metadata": {}
        },
        {
          "output_type": "display_data",
          "data": {
            "text/plain": [
              "<IPython.core.display.HTML object>"
            ],
            "text/html": [
              "Экономики, Национальная экономика<br><br>"
            ]
          },
          "metadata": {}
        },
        {
          "output_type": "display_data",
          "data": {
            "text/plain": [
              "<IPython.core.display.HTML object>"
            ],
            "text/html": [
              "<h3>Курсы</h3><br>"
            ]
          },
          "metadata": {}
        },
        {
          "output_type": "display_data",
          "data": {
            "text/plain": [
              "<IPython.core.display.HTML object>"
            ],
            "text/html": [
              "<b>Техническая Академия РосАтома (2022 - настоящее время)</b><br>"
            ]
          },
          "metadata": {}
        },
        {
          "output_type": "display_data",
          "data": {
            "text/plain": [
              "<IPython.core.display.HTML object>"
            ],
            "text/html": [
              "Деловой английский<br><br>"
            ]
          },
          "metadata": {}
        },
        {
          "output_type": "display_data",
          "data": {
            "text/plain": [
              "<IPython.core.display.HTML object>"
            ],
            "text/html": [
              "<b>БФУ им. И. Канта (2022 - настоящее время)</b><br>"
            ]
          },
          "metadata": {}
        },
        {
          "output_type": "display_data",
          "data": {
            "text/plain": [
              "<IPython.core.display.HTML object>"
            ],
            "text/html": [
              "Экономика и финансы<br><br>"
            ]
          },
          "metadata": {}
        },
        {
          "output_type": "display_data",
          "data": {
            "text/plain": [
              "<IPython.core.display.HTML object>"
            ],
            "text/html": [
              "<b>БФУ им. И. Канта (2022 - настоящее время)</b><br>"
            ]
          },
          "metadata": {}
        },
        {
          "output_type": "display_data",
          "data": {
            "text/plain": [
              "<IPython.core.display.HTML object>"
            ],
            "text/html": [
              "Разработка и реализация маркетинговой стратегии<br><br>"
            ]
          },
          "metadata": {}
        },
        {
          "output_type": "display_data",
          "data": {
            "text/plain": [
              "<IPython.core.display.HTML object>"
            ],
            "text/html": [
              "<b>БФУ им. И. Канта (2022 - настоящее время)</b><br>"
            ]
          },
          "metadata": {}
        },
        {
          "output_type": "display_data",
          "data": {
            "text/plain": [
              "<IPython.core.display.HTML object>"
            ],
            "text/html": [
              "Бизнес-модели компании и операционная эффективность<br><br>"
            ]
          },
          "metadata": {}
        },
        {
          "output_type": "display_data",
          "data": {
            "text/plain": [
              "<IPython.core.display.HTML object>"
            ],
            "text/html": [
              "<b>Университет Синергия (2022 - настоящее время)</b><br>"
            ]
          },
          "metadata": {}
        },
        {
          "output_type": "display_data",
          "data": {
            "text/plain": [
              "<IPython.core.display.HTML object>"
            ],
            "text/html": [
              "Data Scientist<br><br>"
            ]
          },
          "metadata": {}
        },
        {
          "output_type": "display_data",
          "data": {
            "text/plain": [
              "<IPython.core.display.HTML object>"
            ],
            "text/html": [
              "<b>НИУ ИТМО, Санкт-Петербург (2021 - настоящее время)</b><br>"
            ]
          },
          "metadata": {}
        },
        {
          "output_type": "display_data",
          "data": {
            "text/plain": [
              "<IPython.core.display.HTML object>"
            ],
            "text/html": [
              "Технологии анализа данных<br><br>"
            ]
          },
          "metadata": {}
        },
        {
          "output_type": "display_data",
          "data": {
            "text/plain": [
              "<IPython.core.display.HTML object>"
            ],
            "text/html": [
              "<h3>Фриланс</h3><br>"
            ]
          },
          "metadata": {}
        },
        {
          "output_type": "display_data",
          "data": {
            "text/plain": [
              "<IPython.core.display.HTML object>"
            ],
            "text/html": [
              "<b>Проектная деятельность (09.2021 - настоящее время)</b><br>"
            ]
          },
          "metadata": {}
        },
        {
          "output_type": "display_data",
          "data": {
            "text/plain": [
              "<IPython.core.display.HTML object>"
            ],
            "text/html": [
              "Санкт-Петербург, github.com/Litvinov-Anton/Portfolio<br>"
            ]
          },
          "metadata": {}
        },
        {
          "output_type": "display_data",
          "data": {
            "text/plain": [
              "<IPython.core.display.HTML object>"
            ],
            "text/html": [
              "<br>"
            ]
          },
          "metadata": {}
        },
        {
          "output_type": "display_data",
          "data": {
            "text/plain": [
              "<IPython.core.display.HTML object>"
            ],
            "text/html": [
              "\n",
              "Деятельность:\n",
              "Коммерческий проект по созданию отчета в Power BI, для компании Data Sfera.\n",
              "\n",
              "Личный проект. Создал проект по отнесению кондитерских изделий к классу с помощью логистической регрессии, на основании данных Kaggle.\n",
              "\n",
              "Личный проект. Создал несколько финансовых отчетов в Power BI, DataStudio.\n",
              "\n",
              "Личный проект. Создал проекты по предсказанию прибыли с помощью линейной регрессии, на основании данных Kaggle.\n",
              "\n",
              "Личный проект. Составил финансовую модель с помощью Excel.\n",
              "\n",
              "Личный проект. Создал проект по классификации с помощью метода К-Средних, на основании данных Kaggle. \n",
              "        <br><br>"
            ]
          },
          "metadata": {}
        },
        {
          "output_type": "display_data",
          "data": {
            "text/plain": [
              "<IPython.core.display.HTML object>"
            ],
            "text/html": [
              "<h3>Основная работа</h3><br>"
            ]
          },
          "metadata": {}
        },
        {
          "output_type": "display_data",
          "data": {
            "text/plain": [
              "<IPython.core.display.HTML object>"
            ],
            "text/html": [
              "<b>Элерон (Европейская химчистка Apetta) (06.2022 - настоящее время)</b><br>"
            ]
          },
          "metadata": {}
        },
        {
          "output_type": "display_data",
          "data": {
            "text/plain": [
              "<IPython.core.display.HTML object>"
            ],
            "text/html": [
              "Санкт-Петербург, apetta.ru<br>"
            ]
          },
          "metadata": {}
        },
        {
          "output_type": "display_data",
          "data": {
            "text/plain": [
              "<IPython.core.display.HTML object>"
            ],
            "text/html": [
              "Бизнес-аналитик<br>"
            ]
          },
          "metadata": {}
        },
        {
          "output_type": "display_data",
          "data": {
            "text/plain": [
              "<IPython.core.display.HTML object>"
            ],
            "text/html": [
              "Услуги для населения<br>"
            ]
          },
          "metadata": {}
        },
        {
          "output_type": "display_data",
          "data": {
            "text/plain": [
              "<IPython.core.display.HTML object>"
            ],
            "text/html": [
              "Аналитика в Power BI, Excel. Использование базы данных. Построение автоматизированных отчетов.<br><br>"
            ]
          },
          "metadata": {}
        },
        {
          "output_type": "display_data",
          "data": {
            "text/plain": [
              "<IPython.core.display.HTML object>"
            ],
            "text/html": [
              "<b>ООО \"УК \"Клин-Тим\" (промышленный клининг) (10.2021 - 11.2021)</b><br>"
            ]
          },
          "metadata": {}
        },
        {
          "output_type": "display_data",
          "data": {
            "text/plain": [
              "<IPython.core.display.HTML object>"
            ],
            "text/html": [
              "Санкт-Петербург, cleanteam.ru<br>"
            ]
          },
          "metadata": {}
        },
        {
          "output_type": "display_data",
          "data": {
            "text/plain": [
              "<IPython.core.display.HTML object>"
            ],
            "text/html": [
              "<br>"
            ]
          },
          "metadata": {}
        },
        {
          "output_type": "display_data",
          "data": {
            "text/plain": [
              "<IPython.core.display.HTML object>"
            ],
            "text/html": [
              "\n",
              "- Ведение управленческого учета компании (2 ЦФО)\n",
              "- Сбор данных и формирование отчетов по маржинальности объектов (1С УПП, Excel)\n",
              "- План-факторный анализ полученных данных, построение отчетности и визуализация данных (Power BI)\n",
              "- Ввод данных смет в программу учета\n",
              "- Подготовка аналитических справок, статистик по итогам работы за период.\n",
              "- Ведение электронного архива смет\n",
              "\n",
              "Ключевые результат:\n",
              "внедрил инструмента PowerBI визуализации в процесс предоставления отчётности\n",
              "<br><br>"
            ]
          },
          "metadata": {}
        },
        {
          "output_type": "display_data",
          "data": {
            "text/plain": [
              "<IPython.core.display.HTML object>"
            ],
            "text/html": [
              "<b>\"Терра -Авто\" КЦ\" (ГК «Прагматика») - один из крупнейших Российских автодилеров (06.2020 - 05.2021)</b><br>"
            ]
          },
          "metadata": {}
        },
        {
          "output_type": "display_data",
          "data": {
            "text/plain": [
              "<IPython.core.display.HTML object>"
            ],
            "text/html": [
              "Санкт-Петербург, www.terravto.ru<br>"
            ]
          },
          "metadata": {}
        },
        {
          "output_type": "display_data",
          "data": {
            "text/plain": [
              "<IPython.core.display.HTML object>"
            ],
            "text/html": [
              "Экономист<br>"
            ]
          },
          "metadata": {}
        },
        {
          "output_type": "display_data",
          "data": {
            "text/plain": [
              "<IPython.core.display.HTML object>"
            ],
            "text/html": [
              "Автомобильный бизнес<br>"
            ]
          },
          "metadata": {}
        },
        {
          "output_type": "display_data",
          "data": {
            "text/plain": [
              "<IPython.core.display.HTML object>"
            ],
            "text/html": [
              "\n",
              "-Составление бюджета компании (2 ЦФО): планирование показателей операционного производства, выручки от продаж, ФОТа, (OPEX, CAPEX)\n",
              "-План-факторный анализ полученных данных\n",
              "-Составление управленческой отчетности (Excel, SQL, 1С)\n",
              "-Составление экономической и финансовой отчётности для внешних контрагентов по запросу\n",
              "- Контроль исполнения платежного календаря\n",
              "Ключевые результаты:\n",
              "Разработал и внедрил систему для расчета мотивации персонала по компании за счет введения углубленной аналитики по продажам.\n",
              "<br><br>"
            ]
          },
          "metadata": {}
        }
      ]
    },
    {
      "cell_type": "code",
      "source": [
        "print(get_resume(name, city, position, about, education, experience))"
      ],
      "metadata": {
        "colab": {
          "base_uri": "https://localhost:8080/"
        },
        "id": "_v2ef-CG27B-",
        "outputId": "45332920-d118-43cb-fbaf-1574dc32d620"
      },
      "execution_count": null,
      "outputs": [
        {
          "output_type": "stream",
          "name": "stdout",
          "text": [
            "Имя: Порфирий Прокофьевич\n",
            "Должность: Data Scientist\n",
            "О себе:\n",
            "\n",
            "Сдан экзамен P1 CIMA\n",
            "Средний бал: 4,6\n",
            "\n",
            "Имея изначально склонность к аналитике, решил добавить технологические стек и уже более углублено ее развивать в направлении Data Science.\n",
            "\n",
            "Личные качества:\n",
            "- Нахожу общий язык с коллегами\n",
            "- Дисциплинирован.\n",
            "- Постоянно обучаюсь новому.\n",
            "- Стремлюсь к профессиональному и карьерному росту.\n",
            "- В работе соблюдаю сроки выполнения задач.\n",
            "- Способен длительное время заниматься решением одной проблемы.\n",
            "- Умею работать с большим объёмом информации.\n",
            "- Умею хранить конфиденциальную информацию.\n",
            "- Способен исследовать, проверять факты и собирать точные данные.\n",
            "\n",
            "\n",
            "Высшее образование:\n",
            "\n",
            "СПбГЭУ (2017 - настоящее время)\n",
            "Экономики, Мировая экономика\n",
            "\n",
            "Санкт-Петербургский государственный инженерно-экономический университет \"ИНЖЭКОН\", Санкт-Петербург (2015 - настоящее время)\n",
            "Экономики, Национальная экономика\n",
            "\n",
            "Курсы:\n",
            "\n",
            "Техническая Академия РосАтома (2022 - настоящее время)\n",
            "Деловой английский\n",
            "\n",
            "БФУ им. И. Канта (2022 - настоящее время)\n",
            "Экономика и финансы\n",
            "\n",
            "БФУ им. И. Канта (2022 - настоящее время)\n",
            "Разработка и реализация маркетинговой стратегии\n",
            "\n",
            "БФУ им. И. Канта (2022 - настоящее время)\n",
            "Бизнес-модели компании и операционная эффективность\n",
            "\n",
            "Университет Синергия (2022 - настоящее время)\n",
            "Data Scientist\n",
            "\n",
            "НИУ ИТМО, Санкт-Петербург (2021 - настоящее время)\n",
            "Технологии анализа данных\n",
            "\n",
            "\n",
            "Опыт работы:\n",
            "\n",
            "Фриланс:\n",
            "\n",
            "Проектная деятельность (09.2021 - настоящее время)\n",
            "Санкт-Петербург, github.com/Litvinov-Anton/Portfolio\n",
            "Data Scientist\n",
            "\n",
            "Деятельность:\n",
            "Коммерческий проект по созданию отчета в Power BI, для компании Data Sfera.\n",
            "\n",
            "Личный проект. Создал проект по отнесению кондитерских изделий к классу с помощью логистической регрессии, на основании данных Kaggle.\n",
            "\n",
            "Личный проект. Создал несколько финансовых отчетов в Power BI, DataStudio.\n",
            "\n",
            "Личный проект. Создал проекты по предсказанию прибыли с помощью линейной регрессии, на основании данных Kaggle.\n",
            "\n",
            "Личный проект. Составил финансовую модель с помощью Excel.\n",
            "\n",
            "Личный проект. Создал проект по классификации с помощью метода К-Средних, на основании данных Kaggle. \n",
            "        \n",
            "\n",
            "Основная работа:\n",
            "\n",
            "Элерон (Европейская химчистка Apetta) (06.2022 - настоящее время)\n",
            "Санкт-Петербург, apetta.ru\n",
            "Услуги для населения\n",
            "Бизнес-аналитик\n",
            "Аналитика в Power BI, Excel. Использование базы данных. Построение автоматизированных отчетов.\n",
            "\n",
            "ООО \"УК \"Клин-Тим\" (промышленный клининг) (10.2021 - 11.2021)\n",
            "Санкт-Петербург, cleanteam.ru\n",
            "Экономист\n",
            "\n",
            "- Ведение управленческого учета компании (2 ЦФО)\n",
            "- Сбор данных и формирование отчетов по маржинальности объектов (1С УПП, Excel)\n",
            "- План-факторный анализ полученных данных, построение отчетности и визуализация данных (Power BI)\n",
            "- Ввод данных смет в программу учета\n",
            "- Подготовка аналитических справок, статистик по итогам работы за период.\n",
            "- Ведение электронного архива смет\n",
            "\n",
            "Ключевые результат:\n",
            "внедрил инструмента PowerBI визуализации в процесс предоставления отчётности\n",
            "\n",
            "\n",
            "\"Терра -Авто\" КЦ\" (ГК «Прагматика») - один из крупнейших Российских автодилеров (06.2020 - 05.2021)\n",
            "Санкт-Петербург, www.terravto.ru\n",
            "Автомобильный бизнес\n",
            "Экономист\n",
            "\n",
            "-Составление бюджета компании (2 ЦФО): планирование показателей операционного производства, выручки от продаж, ФОТа, (OPEX, CAPEX)\n",
            "-План-факторный анализ полученных данных\n",
            "-Составление управленческой отчетности (Excel, SQL, 1С)\n",
            "-Составление экономической и финансовой отчётности для внешних контрагентов по запросу\n",
            "- Контроль исполнения платежного календаря\n",
            "Ключевые результаты:\n",
            "Разработал и внедрил систему для расчета мотивации персонала по компании за счет введения углубленной аналитики по продажам.\n",
            "\n",
            "\n",
            "\n",
            "\n"
          ]
        }
      ]
    },
    {
      "cell_type": "markdown",
      "source": [
        "## Работа с промтами"
      ],
      "metadata": {
        "id": "Wv6VxRzDHTuO"
      }
    },
    {
      "cell_type": "markdown",
      "source": [
        "### О себе"
      ],
      "metadata": {
        "id": "Z6aj1GKJDLBR"
      }
    },
    {
      "cell_type": "markdown",
      "source": [
        "**\"О себе\" без учёта опыта работы**"
      ],
      "metadata": {
        "id": "GWiERurE7pTX"
      }
    },
    {
      "cell_type": "code",
      "source": [
        "print('Исходный вариант \"о себе\":')\n",
        "print(about)"
      ],
      "metadata": {
        "colab": {
          "base_uri": "https://localhost:8080/"
        },
        "id": "RMAXGcvlC8yx",
        "outputId": "f50a3a9d-5440-43e6-fcda-b0b5bc844b09"
      },
      "execution_count": null,
      "outputs": [
        {
          "output_type": "stream",
          "name": "stdout",
          "text": [
            "Исходный вариант \"о себе\":\n",
            "\n",
            "Сдан экзамен P1 CIMA\n",
            "Средний бал: 4,6\n",
            "\n",
            "Имея изначально склонность к аналитике, решил добавить технологические стек и уже более углублено ее развивать в направлении Data Science.\n",
            "\n",
            "Личные качества:\n",
            "- Нахожу общий язык с коллегами\n",
            "- Дисциплинирован.\n",
            "- Постоянно обучаюсь новому.\n",
            "- Стремлюсь к профессиональному и карьерному росту.\n",
            "- В работе соблюдаю сроки выполнения задач.\n",
            "- Способен длительное время заниматься решением одной проблемы.\n",
            "- Умею работать с большим объёмом информации.\n",
            "- Умею хранить конфиденциальную информацию.\n",
            "- Способен исследовать, проверять факты и собирать точные данные.\n",
            "\n"
          ]
        }
      ]
    },
    {
      "cell_type": "code",
      "source": [
        "promt = f'''Ты hr консультант, который помогает соискателю грамотно написать о себе,\n",
        "чтобы максимально соответствовать должности {position}. Соискатель написал о себе, оптимизируй этот текст,\n",
        "и если надо, то дополни, чтобы он максимально был релевантным должности соискателя.\n",
        "Напиши лаконично от первого лица в деловом стиле, как будто это ты устраиваешься на должность {position}.\n",
        "Не пиши приветствие. В ответе уложись примерно в 300 токенов'''"
      ],
      "metadata": {
        "id": "P7w_Ezd22zl5"
      },
      "execution_count": null,
      "outputs": []
    },
    {
      "cell_type": "code",
      "source": [
        "system_content = promt\n",
        "user_content = about\n",
        "tokens = count_tokens(system_content, user_content)\n",
        "\n",
        "result = gpt(system_content, user_content)\n",
        "message, prompt_tokens, completion_tokens, total_tokens = result\n",
        "\n",
        "print(message)"
      ],
      "metadata": {
        "colab": {
          "base_uri": "https://localhost:8080/"
        },
        "id": "VAgGSS7k8LQC",
        "outputId": "98bb8e34-4381-4629-b73a-7e44c8522a92"
      },
      "execution_count": null,
      "outputs": [
        {
          "output_type": "stream",
          "name": "stdout",
          "text": [
            "Я успешно сдал экзамен P1 CIMA средним баллом 4,6. Моя изначальная склонность к аналитике побудила меня расширить свой технологический стек и углубить свои знания в области Data Science.\n",
            "\n",
            "В моих личных качествах присутствуют:\n",
            "- Умение находить общий язык с коллегами, что способствует эффективной коммуникации в команде.\n",
            "- Дисциплинированность, которая помогает мне соблюдать сроки выполнения задач.\n",
            "- Постоянное обучение новому, так как стремлюсь к профессиональному и карьерному росту.\n",
            "- Способность длительное время заниматься решением одной проблемы, что позволяет мне глубоко анализировать и исследовать данные.\n",
            "- Умение работать с большим объемом информации, что является неотъемлемой частью работы Data Scientist.\n",
            "- Навык хранения конфиденциальной информации, что является важным аспектом работы с данными.\n",
            "- Способность исследовать, проверять факты и собирать точные данные, что позволяет мне принимать обоснованные решения на основе анализа данных.\n"
          ]
        }
      ]
    },
    {
      "cell_type": "code",
      "source": [
        "print('Фактическое количество токенов')\n",
        "print('прогноз:', tokens)\n",
        "print('промт:', prompt_tokens)\n",
        "print('ответ:', completion_tokens)\n",
        "print('всего:', total_tokens)"
      ],
      "metadata": {
        "colab": {
          "base_uri": "https://localhost:8080/"
        },
        "id": "zswJe0ng81VF",
        "outputId": "4d4e0f42-c07d-47b0-fa05-6ba01e11527b"
      },
      "execution_count": null,
      "outputs": [
        {
          "output_type": "stream",
          "name": "stdout",
          "text": [
            "Фактическое количество токенов\n",
            "прогноз: 460\n",
            "промт: 458\n",
            "ответ: 398\n",
            "всего: 856\n"
          ]
        }
      ]
    },
    {
      "cell_type": "markdown",
      "source": [
        "**\"О себе\" с учётом опыта работы**"
      ],
      "metadata": {
        "id": "-gdHbIyQ9mnE"
      }
    },
    {
      "cell_type": "code",
      "source": [
        "system_content = f'''Ты hr консультант, который помогает соискателю грамотно написать о себе,\n",
        "чтобы максимально соответствовать должности {position}. Соискатель написал свой опыт работы,\n",
        "напиши лаконично от первого лица в деловом стиле о себе по этому опыту работы,\n",
        "как будто это ты устраиваешься на должность {position}. Не пиши приветствие.\n",
        "В ответе уложись примерно в 300 токенов'''\n",
        "\n",
        "user_content = get_education(education)"
      ],
      "metadata": {
        "id": "fPmuh44c9lyV"
      },
      "execution_count": null,
      "outputs": []
    },
    {
      "cell_type": "code",
      "source": [
        "gpt_print(system_content, user_content)"
      ],
      "metadata": {
        "colab": {
          "base_uri": "https://localhost:8080/"
        },
        "id": "WOsD_duh_bTO",
        "outputId": "80230caf-6f57-4c59-b1c1-3db517b35e10"
      },
      "execution_count": null,
      "outputs": [
        {
          "output_type": "stream",
          "name": "stdout",
          "text": [
            "У меня высшее образование в области экономики, с фокусом на мировой и национальной экономике. Я также прошел ряд курсов, которые помогли мне развить свои навыки в области анализа данных и бизнес-стратегии.\n",
            "\n",
            "В настоящее время я прохожу обучение в Технической Академии РосАтома, где изучаю деловой английский. Это помогает мне эффективно коммуницировать с международными коллегами и клиентами.\n",
            "\n",
            "Также я прохожу обучение в БФУ им. И. Канта, где изучаю экономику и финансы, разработку и реализацию маркетинговых стратегий, а также бизнес-модели компании и операционную эффективность. Эти курсы помогают мне понять бизнес-процессы и применить аналитические методы для оптимизации операций.\n",
            "\n",
            "Кроме того, я прохожу обучение в Университете Синергия, где изучаю Data Science. Это позволяет мне развивать навыки работы с данными, включая сбор, обработку, анализ и визуализацию данных.\n",
            "\n",
            "В НИУ ИТМО я изучаю технологии анализа данных, что помогает мне освоить современные инструменты и методы анализа данных.\n",
            "\n",
            "Мой опыт и образование в области экономики и анализа данных позволяют мне эффективно работать в качестве Data Scientist. Я готов применить свои знания и навыки для решения сложных задач и достижения бизнес-целей.\n",
            "---------------------\n",
            "Фактическое количество токенов\n",
            "прогноз: 516\n",
            "промт: 514\n",
            "ответ: 548\n",
            "всего: 1062\n"
          ]
        }
      ]
    },
    {
      "cell_type": "code",
      "source": [
        "system_content = f'''Ты hr консультант, который помогает соискателю грамотно написать о себе,\n",
        "чтобы максимально соответствовать должности {position}. Соискатель написал свой опыт работы,\n",
        "напиши лаконично от первого лица в деловом стиле о себе по этому опыту работы,\n",
        "как будто это ты устраиваешься на должность {position}. Не пиши приветствие.\n",
        "Отрази только релевантную информацию относительно должности {position}, остальное не упоминай.\n",
        "В ответе уложись примерно в 200 токенов'''\n",
        "\n",
        "user_content = get_education(education)"
      ],
      "metadata": {
        "id": "z3IGs9DzAcm8"
      },
      "execution_count": null,
      "outputs": []
    },
    {
      "cell_type": "code",
      "source": [
        "gpt_print(system_content, user_content)"
      ],
      "metadata": {
        "colab": {
          "base_uri": "https://localhost:8080/"
        },
        "id": "j66BQqS6BIrA",
        "outputId": "21f49c90-c81f-46ef-ca5b-34eceb405495"
      },
      "execution_count": null,
      "outputs": [
        {
          "output_type": "stream",
          "name": "stdout",
          "text": [
            "У меня высшее образование в области экономики, с фокусом на мировой и национальной экономике. Кроме того, я прошел ряд курсов, связанных с различными аспектами бизнеса, включая разработку маркетинговых стратегий, бизнес-моделирование и операционную эффективность.\n",
            "\n",
            "Однако, моя настоящая страсть - анализ данных. Я прошел обучение в университете Синергия по специальности Data Scientist, а также изучал технологии анализа данных в НИУ ИТМО. Эти курсы позволили мне освоить различные методы и инструменты для работы с данными, включая машинное обучение, статистический анализ и визуализацию данных.\n",
            "\n",
            "Я уверен, что моя комбинация знаний в области экономики и навыков в анализе данных позволит мне эффективно решать сложные задачи Data Scientist. Я готов применить свои знания и опыт для разработки инновационных решений, оптимизации бизнес-процессов и принятия обоснованных решений на основе данных.\n",
            "---------------------\n",
            "Фактическое количество токенов\n",
            "прогноз: 550\n",
            "промт: 548\n",
            "ответ: 390\n",
            "всего: 938\n"
          ]
        }
      ]
    },
    {
      "cell_type": "code",
      "source": [
        "system_content = f'''Ты hr консультант, который помогает соискателю грамотно написать о себе,\n",
        "чтобы максимально соответствовать должности {position}. Соискатель написал свой опыт работы,\n",
        "напиши лаконично от первого лица в деловом стиле о себе по этому опыту работы,\n",
        "как будто это ты устраиваешься на должность {position}. Не пиши приветствие.\n",
        "Пиши эмоционально нейтрально без использования слова страсть.\n",
        "Отрази только релевантную информацию относительно должности {position}, остальное не упоминай.\n",
        "В ответе уложись примерно в 200 токенов'''\n",
        "\n",
        "user_content = get_education(education)"
      ],
      "metadata": {
        "id": "rOHgTo9BBhpF"
      },
      "execution_count": null,
      "outputs": []
    },
    {
      "cell_type": "code",
      "source": [
        "gpt_print(system_content, user_content)"
      ],
      "metadata": {
        "colab": {
          "base_uri": "https://localhost:8080/"
        },
        "id": "8FiJB_WCCbFM",
        "outputId": "a54ab44e-404b-47c5-9c33-e6a9c9c70131"
      },
      "execution_count": null,
      "outputs": [
        {
          "output_type": "stream",
          "name": "stdout",
          "text": [
            "У меня высшее образование в области экономики, с фокусом на мировой и национальной экономике. Я также прошел ряд курсов, которые помогли мне развить навыки, необходимые для работы в области Data Science.\n",
            "\n",
            "Я прошел обучение в Технической Академии РосАтома, где изучал деловой английский. Это помогло мне улучшить коммуникационные навыки и быть готовым работать в международной среде.\n",
            "\n",
            "Также я прошел курсы в БФУ им. И. Канта, где изучал экономику и финансы, разработку и реализацию маркетинговой стратегии, а также бизнес-модели компании и операционную эффективность. Эти курсы помогли мне понять, как применять аналитические и стратегические подходы в бизнесе.\n",
            "\n",
            "Я также прошел обучение в Университете Синергия по специальности Data Scientist, где изучал основы анализа данных и технологии, используемые в этой области. Это позволило мне овладеть навыками работы с большими объемами данных и использовать различные алгоритмы и модели для извлечения ценной информации.\n",
            "\n",
            "В настоящее время я продолжаю обучение в НИУ ИТМО, где изучаю технологии анализа данных. Это помогает мне быть в курсе последних тенденций и инноваций в области Data Science.\n",
            "\n",
            "Мой образовательный и профессиональный опыт позволяет мне применять аналитические и статистические методы для решения сложных задач и принятия обоснованных решений на основе данных. Я готов применить свои знания и навыки в области Data Science для достижения успеха в вашей компании.\n",
            "---------------------\n",
            "Фактическое количество токенов\n",
            "прогноз: 575\n",
            "промт: 573\n",
            "ответ: 607\n",
            "всего: 1180\n"
          ]
        }
      ]
    },
    {
      "cell_type": "markdown",
      "source": [
        "### Общий анализ резюме"
      ],
      "metadata": {
        "id": "NOQWYom2DXPy"
      }
    },
    {
      "cell_type": "code",
      "source": [
        "system_content = f'''Ты опытный hr консультант, который помогает соискателю грамотно составить резюме,\n",
        "чтобы максимально соответствовать должности {position}. Соискатель написал резюме, которое содержит образование соискателя,\n",
        "его опыт работы. Проанализируй это резюме и напиши рекомендации по его корректировке, чтобы максимально соответствовать должности {position}'''\n",
        "\n",
        "user_content = get_resume(name, city, position, about, education, experience)\n",
        "tokens = count_tokens(system_content, user_content)\n",
        "print('Прогноз токенов:', tokens)"
      ],
      "metadata": {
        "colab": {
          "base_uri": "https://localhost:8080/"
        },
        "id": "sDPuUCowDd6Z",
        "outputId": "a0511649-7823-437b-d9bc-1de93fb2d5b6"
      },
      "execution_count": null,
      "outputs": [
        {
          "output_type": "stream",
          "name": "stdout",
          "text": [
            "Прогноз токенов: 1766\n"
          ]
        }
      ]
    },
    {
      "cell_type": "code",
      "source": [
        "gpt_print(system_content, user_content)"
      ],
      "metadata": {
        "colab": {
          "base_uri": "https://localhost:8080/"
        },
        "id": "pkd2g8ZlEXOY",
        "outputId": "edf948f0-a97b-429b-b8c3-cd53c6b219de"
      },
      "execution_count": null,
      "outputs": [
        {
          "output_type": "stream",
          "name": "stdout",
          "text": [
            "Рекомендации по корректировке резюме:\n",
            "\n",
            "1. Заголовок: Укажите свое полное имя и должность \"Data Scientist\" в заголовке резюме.\n",
            "\n",
            "2. О себе: Удалите информацию о сдаче экзамена P1 CIMA и среднем балле. Вместо этого, укажите свою мотивацию и интерес к аналитике и Data Science.\n",
            "\n",
            "3. Личные качества: Оставьте только те качества, которые наиболее важны для должности Data Scientist. Например, \"аналитический склад ума\", \"стрессоустойчивость\", \"коммуникабельность\" и \"умение работать с большим объемом информации\".\n",
            "\n",
            "4. Образование: Укажите только высшее образование, связанное с Data Science. Удалите информацию о курсах, которые не относятся к данной области.\n",
            "\n",
            "5. Опыт работы: Укажите только те проекты и должности, которые связаны с Data Science. Удалите информацию о работе в других областях, если они не имеют отношения к Data Science.\n",
            "\n",
            "6. Описание опыта работы: Для каждого проекта и должности укажите конкретные задачи, которые вы выполняли, и достигнутые результаты. Укажите использованные инструменты и технологии.\n",
            "\n",
            "7. Упорядочение опыта работы: Упорядочите опыт работы по убыванию значимости и свежести. Начните с наиболее значимых и свежих проектов и должностей.\n",
            "\n",
            "8. Дополнительные навыки: Укажите дополнительные навыки, которые могут быть полезны для работы Data Scientist, например, знание Python, SQL, машинное обучение и т.д.\n",
            "\n",
            "9. Профессиональные достижения: Если у вас есть какие-либо профессиональные достижения, такие как публикации, участие в конференциях или соревнованиях, укажите их.\n",
            "\n",
            "10. Рекомендации: Если у вас есть положительные рекомендации от предыдущих работодателей или коллег, укажите их в резюме.\n",
            "\n",
            "11. Форматирование: Обратите внимание на форматирование резюме. Используйте понятные заголовки, разделите информацию на пункты и используйте списки для более удобного чтения.\n",
            "\n",
            "12. Проверьте грамматику и орфографию: Перед отправкой резюме, обязательно проверьте грамматику и орфографию текста.\n",
            "---------------------\n",
            "Фактическое количество токенов\n",
            "прогноз: 1766\n",
            "промт: 1764\n",
            "ответ: 778\n",
            "всего: 2542\n"
          ]
        }
      ]
    },
    {
      "cell_type": "markdown",
      "source": [
        "### Орфография"
      ],
      "metadata": {
        "id": "51fw8htgE_rq"
      }
    },
    {
      "cell_type": "markdown",
      "source": [
        "**Проверка орфографии с помощью ChatGPT**"
      ],
      "metadata": {
        "id": "BHxq3gkNG7l4"
      }
    },
    {
      "cell_type": "code",
      "source": [
        "system_content = f'''Ты опытный учитель русского языка, который помогает соискателю проверить его резюме на наличие синтаксических, орфографических и стилистических ошибок.\n",
        "Проверь резюме на ошибки и укажи их, если они есть'''\n",
        "\n",
        "user_content = get_resume(name, city, position, about, education, experience)\n",
        "tokens = count_tokens(system_content, user_content)\n",
        "print('Прогноз токенов:', tokens)"
      ],
      "metadata": {
        "colab": {
          "base_uri": "https://localhost:8080/"
        },
        "id": "_Gr_zXC5FHf7",
        "outputId": "f106a190-36a0-45c6-b621-b2badc9802ad"
      },
      "execution_count": null,
      "outputs": [
        {
          "output_type": "stream",
          "name": "stdout",
          "text": [
            "Прогноз токенов: 1725\n"
          ]
        }
      ]
    },
    {
      "cell_type": "code",
      "source": [
        "message = gpt_print(system_content, user_content)"
      ],
      "metadata": {
        "colab": {
          "base_uri": "https://localhost:8080/"
        },
        "id": "nthLZeGUFp4y",
        "outputId": "6f67914a-d642-448e-a271-c5d37fd1492f"
      },
      "execution_count": null,
      "outputs": [
        {
          "output_type": "stream",
          "name": "stdout",
          "text": [
            "Имя: Порфирий Прокофьевич\n",
            "Должность: Data Scientist\n",
            "О себе:\n",
            "\n",
            "Сдал экзамен P1 CIMA\n",
            "Средний балл: 4,6\n",
            "\n",
            "Имея изначальную склонность к аналитике, решил добавить технологические стеки и уже более углубленно ее развивать в направлении Data Science.\n",
            "\n",
            "Личные качества:\n",
            "- Нахожу общий язык с коллегами.\n",
            "- Дисциплинирован.\n",
            "- Постоянно обучаюсь новому.\n",
            "- Стремлюсь к профессиональному и карьерному росту.\n",
            "- В работе соблюдаю сроки выполнения задач.\n",
            "- Способен длительное время заниматься решением одной проблемы.\n",
            "- Умею работать с большим объемом информации.\n",
            "- Умею хранить конфиденциальную информацию.\n",
            "- Способен исследовать, проверять факты и собирать точные данные.\n",
            "\n",
            "\n",
            "Высшее образование:\n",
            "\n",
            "СПбГЭУ (2017 - настоящее время)\n",
            "Экономика, Мировая экономика\n",
            "\n",
            "Санкт-Петербургский государственный инженерно-экономический университет \"ИНЖЭКОН\", Санкт-Петербург (2015 - настоящее время)\n",
            "Экономика, Национальная экономика\n",
            "\n",
            "Курсы:\n",
            "\n",
            "Техническая Академия РосАтома (2022 - настоящее время)\n",
            "Деловой английский\n",
            "\n",
            "БФУ им. И. Канта (2022 - настоящее время)\n",
            "Экономика и финансы\n",
            "\n",
            "БФУ им. И. Канта (2022 - настоящее время)\n",
            "Разработка и реализация маркетинговой стратегии\n",
            "\n",
            "БФУ им. И. Канта (2022 - настоящее время)\n",
            "Бизнес-модели компании и операционная эффективность\n",
            "\n",
            "Университет Синергия (2022 - настоящее время)\n",
            "Data Scientist\n",
            "\n",
            "НИУ ИТМО, Санкт-Петербург (2021 - настоящее время)\n",
            "Технологии анализа данных\n",
            "\n",
            "\n",
            "Опыт работы:\n",
            "\n",
            "Фриланс:\n",
            "\n",
            "Проектная деятельность (09.2021 - настоящее время)\n",
            "Санкт-Петербург, github.com/Litvinov-Anton/Portfolio\n",
            "Data Scientist\n",
            "\n",
            "Деятельность:\n",
            "Коммерческий проект по созданию отчета в Power BI для компании Data Sfera.\n",
            "\n",
            "Личный проект. Создал проект по отнесению кондитерских изделий к классу с помощью логистической регрессии на основе данных Kaggle.\n",
            "\n",
            "Личный проект. Создал несколько финансовых отчетов в Power BI, DataStudio.\n",
            "\n",
            "Личный проект. Создал проекты по предсказанию прибыли с помощью линейной регрессии на основе данных Kaggle.\n",
            "\n",
            "Личный проект. Составил финансовую модель с помощью Excel.\n",
            "\n",
            "Личный проект. Создал проект по классификации с помощью метода К-Средних на основе данных Kaggle. \n",
            "        \n",
            "\n",
            "Основная работа:\n",
            "\n",
            "Элерон (Европейская химчистка Apetta) (06.2022 - настоящее время)\n",
            "Санкт-Петербург, apetta.ru\n",
            "Услуги для населения\n",
            "Бизнес-аналитик\n",
            "Аналитика в Power BI, Excel. Использование базы данных. Построение автоматизированных отчетов.\n",
            "\n",
            "ООО \"УК \"Клин-Тим\" (промышленный клининг) (10.2021 - 11.2021)\n",
            "Санкт-Петербург, cleanteam.ru\n",
            "Экономист\n",
            "\n",
            "- Ведение управленческого учета компании (2 ЦФО).\n",
            "- Сбор данных и формирование отчетов по маржинальности объектов (1С УПП, Excel).\n",
            "- План-факторный анализ полученных данных, построение отчетности и визуализация данных (Power BI).\n",
            "- Ввод данных смет в программу учета.\n",
            "- Подготовка аналитических справок, статистик по итогам работы за период.\n",
            "- Ведение электронного архива смет.\n",
            "\n",
            "Ключевые результаты:\n",
            "Внедрил инструмент Power BI визуализации в процесс предоставления отчетности.\n",
            "\n",
            "\n",
            "\"Терра-Авто\" КЦ\" (ГК «Прагматика») - один из крупнейших российских автодилеров (06.2020 - 05.2021)\n",
            "Санкт-Петербург, www.terravto.ru\n",
            "Автомобильный бизнес\n",
            "Экономист\n",
            "\n",
            "- Составление бюджета компании (2 ЦФО): планирование показателей операционного производства, выручки от продаж, ФОТа (OPEX, CAPEX).\n",
            "- План-факторный анализ полученных данных.\n",
            "- Составление управленческой отчетности (Excel, SQL, 1С).\n",
            "- Составление экономической и финансовой отчетности для внешних контрагентов по запросу.\n",
            "- Контроль исполнения платежного календаря.\n",
            "Ключевые результаты:\n",
            "Разработал и внедрил систему для расчета мотивации персонала по компании за счет введения углубленной аналитики по продажам.\n",
            "---------------------\n",
            "Фактическое количество токенов\n",
            "прогноз: 1725\n",
            "промт: 1723\n",
            "ответ: 1608\n",
            "всего: 3331\n"
          ]
        }
      ]
    },
    {
      "cell_type": "code",
      "source": [
        "formatted_user, formatted_gpt = getFormattedDiff(user_content, message)"
      ],
      "metadata": {
        "id": "edROv_UsHDRi"
      },
      "execution_count": null,
      "outputs": []
    },
    {
      "cell_type": "code",
      "source": [
        "# Исходное резюме с подсветкой, что было исправлено\n",
        "display(HTML(formatted_user.replace('\\n', '<br>')))"
      ],
      "metadata": {
        "colab": {
          "base_uri": "https://localhost:8080/",
          "height": 1000
        },
        "id": "WojM7L4YJI0y",
        "outputId": "10f6f1cb-0e3a-41ed-b4fc-0de58eba3f78"
      },
      "execution_count": null,
      "outputs": [
        {
          "output_type": "display_data",
          "data": {
            "text/plain": [
              "<IPython.core.display.HTML object>"
            ],
            "text/html": [
              "Имя: Порфирий Прокофьевич<br>Должность: Data Scientist<br>О себе:<br><br>Сда<span style=\"background: #EEEE88;\">н</span> экзамен P1 CIMA<br>Средний бал: 4,6<br><br>Имея изначальн<span style=\"background: #EEEE88;\">о</span> склонность к аналитике, решил добавить технологические стек и уже более углублено ее развивать в направлении Data Science.<br><br>Личные качества:<br>- Нахожу общий язык с коллегами<br>- Дисциплинирован.<br>- Постоянно обучаюсь новому.<br>- Стремлюсь к профессиональному и карьерному росту.<br>- В работе соблюдаю сроки выполнения задач.<br>- Способен длительное время заниматься решением одной проблемы.<br>- Умею работать с большим объ<span style=\"background: #EEEE88;\">ё</span>мом информации.<br>- Умею хранить конфиденциальную информацию.<br>- Способен исследовать, проверять факты и собирать точные данные.<br><br><br>Высшее образование:<br><br>СПбГЭУ (2017 - настоящее время)<br>Экономик<span style=\"background: #EEEE88;\">и</span>, Мировая экономика<br><br>Санкт-Петербургский государственный инженерно-экономический университет \"ИНЖЭКОН\", Санкт-Петербург (2015 - настоящее время)<br>Экономик<span style=\"background: #EEEE88;\">и</span>, Национальная экономика<br><br>Курсы:<br><br>Техническая Академия РосАтома (2022 - настоящее время)<br>Деловой английский<br><br>БФУ им. И. Канта (2022 - настоящее время)<br>Экономика и финансы<br><br>БФУ им. И. Канта (2022 - настоящее время)<br>Разработка и реализация маркетинговой стратегии<br><br>БФУ им. И. Канта (2022 - настоящее время)<br>Бизнес-модели компании и операционная эффективность<br><br>Университет Синергия (2022 - настоящее время)<br>Data Scientist<br><br>НИУ ИТМО, Санкт-Петербург (2021 - настоящее время)<br>Технологии анализа данных<br><br><br>Опыт работы:<br><br>Фриланс:<br><br>Проектная деятельность (09.2021 - настоящее время)<br>Санкт-Петербург, github.com/Litvinov-Anton/Portfolio<br>Data Scientist<br><br>Деятельность:<br>Коммерческий проект по созданию отчета в Power BI<span style=\"background: #FF8888;\">,</span> для компании Data Sfera.<br><br>Личный проект. Создал проект по отнесению кондитерских изделий к классу с помощью логистической регрессии<span style=\"background: #EEEE88;\">, на основании</span> данных Kaggle.<br><br>Личный проект. Создал несколько финансовых отчетов в Power BI, DataStudio.<br><br>Личный проект. Создал проекты по предсказанию прибыли с помощью линейной регрессии<span style=\"background: #EEEE88;\">, на основании</span> данных Kaggle.<br><br>Личный проект. Составил финансовую модель с помощью Excel.<br><br>Личный проект. Создал проект по классификации с помощью метода К-Средних<span style=\"background: #EEEE88;\">, на основании</span> данных Kaggle. <br>        <br><br>Основная работа:<br><br>Элерон (Европейская химчистка Apetta) (06.2022 - настоящее время)<br>Санкт-Петербург, apetta.ru<br>Услуги для населения<br>Бизнес-аналитик<br>Аналитика в Power BI, Excel. Использование базы данных. Построение автоматизированных отчетов.<br><br>ООО \"УК \"Клин-Тим\" (промышленный клининг) (10.2021 - 11.2021)<br>Санкт-Петербург, cleanteam.ru<br>Экономист<br><br>- Ведение управленческого учета компании (2 ЦФО)<br>- Сбор данных и формирование отчетов по маржинальности объектов (1С УПП, Excel)<br>- План-факторный анализ полученных данных, построение отчетности и визуализация данных (Power BI)<br>- Ввод данных смет в программу учета<br>- Подготовка аналитических справок, статистик по итогам работы за период.<br>- Ведение электронного архива смет<br><br>Ключевые результат:<br><span style=\"background: #EEEE88;\">внедрил инструмента</span> PowerBI визуализации в процесс предоставления отч<span style=\"background: #EEEE88;\">ётности</span><br><br><br>\"Терра<span style=\"background: #FF8888;\"> </span>-Авто\" КЦ\" (ГК «Прагматика») - один из крупнейших <span style=\"background: #EEEE88;\">Р</span>оссийских автодилеров (06.2020 - 05.2021)<br>Санкт-Петербург, www.terravto.ru<br>Автомобильный бизнес<br>Экономист<br><br>-Составление бюджета компании (2 ЦФО): планирование показателей операционного производства, выручки от продаж, ФОТа<span style=\"background: #FF8888;\">,</span> (OPEX, CAPEX)<span style=\"background: #EEEE88;\"><br>-</span>План-факторный анализ полученных данных<span style=\"background: #EEEE88;\"><br>-</span>Составление управленческой отчетности (Excel, SQL, 1С)<span style=\"background: #EEEE88;\"><br>-</span>Составление экономической и финансовой отч<span style=\"background: #EEEE88;\">ё</span>тности для внешних контрагентов по запросу<br>- Контроль исполнения платежного календаря<br>Ключевые результаты:<br>Разработал и внедрил систему для расчета мотивации персонала по компании за счет введения углубленной аналитики по продажам.<br><span style=\"background: #FF8888;\"><br><br><br></span>"
            ]
          },
          "metadata": {}
        }
      ]
    },
    {
      "cell_type": "code",
      "source": [
        "# Резюме, исправленное с помощью ChatGPT с подсветкой мест исправления\n",
        "display(HTML(formatted_gpt.replace('\\n', '<br>')))"
      ],
      "metadata": {
        "colab": {
          "base_uri": "https://localhost:8080/",
          "height": 1000
        },
        "id": "UVyogkUNI0It",
        "outputId": "7a264422-20ec-4ebe-e879-d132581e71d9"
      },
      "execution_count": null,
      "outputs": [
        {
          "output_type": "display_data",
          "data": {
            "text/plain": [
              "<IPython.core.display.HTML object>"
            ],
            "text/html": [
              "<span style=\"background: #44FF44;\"><br></span>Имя: Порфирий Прокофьевич<br>Должность: Data Scientist<br>О себе:<br><br>Сда<span style=\"background: #EEEE88;\">л</span> экзамен P1 CIMA<br>Средний бал<span style=\"background: #44FF44;\">л</span>: 4,6<br><br>Имея изначальн<span style=\"background: #EEEE88;\">ую</span> склонность к аналитике, решил добавить технологические стек<span style=\"background: #44FF44;\">и</span> и уже более углубле<span style=\"background: #44FF44;\">н</span>но ее развивать в направлении Data Science.<br><br>Личные качества:<br>- Нахожу общий язык с коллегами<span style=\"background: #44FF44;\">.</span><br>- Дисциплинирован.<br>- Постоянно обучаюсь новому.<br>- Стремлюсь к профессиональному и карьерному росту.<br>- В работе соблюдаю сроки выполнения задач.<br>- Способен длительное время заниматься решением одной проблемы.<br>- Умею работать с большим объ<span style=\"background: #EEEE88;\">е</span>мом информации.<br>- Умею хранить конфиденциальную информацию.<br>- Способен исследовать, проверять факты и собирать точные данные.<br><br><br>Высшее образование:<br><br>СПбГЭУ (2017 - настоящее время)<br>Экономик<span style=\"background: #EEEE88;\">а</span>, Мировая экономика<br><br>Санкт-Петербургский государственный инженерно-экономический университет \"ИНЖЭКОН\", Санкт-Петербург (2015 - настоящее время)<br>Экономик<span style=\"background: #EEEE88;\">а</span>, Национальная экономика<br><br>Курсы:<br><br>Техническая Академия РосАтома (2022 - настоящее время)<br>Деловой английский<br><br>БФУ им. И. Канта (2022 - настоящее время)<br>Экономика и финансы<br><br>БФУ им. И. Канта (2022 - настоящее время)<br>Разработка и реализация маркетинговой стратегии<br><br>БФУ им. И. Канта (2022 - настоящее время)<br>Бизнес-модели компании и операционная эффективность<br><br>Университет Синергия (2022 - настоящее время)<br>Data Scientist<br><br>НИУ ИТМО, Санкт-Петербург (2021 - настоящее время)<br>Технологии анализа данных<br><br><br>Опыт работы:<br><br>Фриланс:<br><br>Проектная деятельность (09.2021 - настоящее время)<br>Санкт-Петербург, github.com/Litvinov-Anton/Portfolio<br>Data Scientist<br><br>Деятельность:<br>Коммерческий проект по созданию отчета в Power BI для компании Data Sfera.<br><br>Личный проект. Создал проект по отнесению кондитерских изделий к классу с помощью логистической регрессии<span style=\"background: #EEEE88;\"> на основе</span> данных Kaggle.<br><br>Личный проект. Создал несколько финансовых отчетов в Power BI, DataStudio.<br><br>Личный проект. Создал проекты по предсказанию прибыли с помощью линейной регрессии<span style=\"background: #EEEE88;\"> на основе</span> данных Kaggle.<br><br>Личный проект. Составил финансовую модель с помощью Excel.<br><br>Личный проект. Создал проект по классификации с помощью метода К-Средних<span style=\"background: #EEEE88;\"> на основе</span> данных Kaggle. <br>        <br><br>Основная работа:<br><br>Элерон (Европейская химчистка Apetta) (06.2022 - настоящее время)<br>Санкт-Петербург, apetta.ru<br>Услуги для населения<br>Бизнес-аналитик<br>Аналитика в Power BI, Excel. Использование базы данных. Построение автоматизированных отчетов.<br><br>ООО \"УК \"Клин-Тим\" (промышленный клининг) (10.2021 - 11.2021)<br>Санкт-Петербург, cleanteam.ru<br>Экономист<br><br>- Ведение управленческого учета компании (2 ЦФО)<span style=\"background: #44FF44;\">.</span><br>- Сбор данных и формирование отчетов по маржинальности объектов (1С УПП, Excel)<span style=\"background: #44FF44;\">.</span><br>- План-факторный анализ полученных данных, построение отчетности и визуализация данных (Power BI)<span style=\"background: #44FF44;\">.</span><br>- Ввод данных смет в программу учета<span style=\"background: #44FF44;\">.</span><br>- Подготовка аналитических справок, статистик по итогам работы за период.<br>- Ведение электронного архива смет<span style=\"background: #44FF44;\">.</span><br><br>Ключевые результат<span style=\"background: #44FF44;\">ы</span>:<br><span style=\"background: #EEEE88;\">Внедрил инструмент</span> Power<span style=\"background: #44FF44;\"> </span>BI визуализации в процесс предоставления отч<span style=\"background: #EEEE88;\">етности.</span><br><br><br>\"Терра-Авто\" КЦ\" (ГК «Прагматика») - один из крупнейших <span style=\"background: #EEEE88;\">р</span>оссийских автодилеров (06.2020 - 05.2021)<br>Санкт-Петербург, www.terravto.ru<br>Автомобильный бизнес<br>Экономист<br><br>-<span style=\"background: #44FF44;\"> </span>Составление бюджета компании (2 ЦФО): планирование показателей операционного производства, выручки от продаж, ФОТа (OPEX, CAPEX)<span style=\"background: #EEEE88;\">.<br>- </span>План-факторный анализ полученных данных<span style=\"background: #EEEE88;\">.<br>- </span>Составление управленческой отчетности (Excel, SQL, 1С)<span style=\"background: #EEEE88;\">.<br>- </span>Составление экономической и финансовой отч<span style=\"background: #EEEE88;\">е</span>тности для внешних контрагентов по запросу<span style=\"background: #44FF44;\">.</span><br>- Контроль исполнения платежного календаря<span style=\"background: #44FF44;\">.</span><br>Ключевые результаты:<br>Разработал и внедрил систему для расчета мотивации персонала по компании за счет введения углубленной аналитики по продажам.<br>"
            ]
          },
          "metadata": {}
        }
      ]
    },
    {
      "cell_type": "markdown",
      "source": [
        "**Проверка орфографии с помощью библиотек**"
      ],
      "metadata": {
        "id": "7uraiCxMHAz_"
      }
    },
    {
      "cell_type": "code",
      "source": [
        "!pip -q install pyspellchecker"
      ],
      "metadata": {
        "colab": {
          "base_uri": "https://localhost:8080/"
        },
        "id": "2pHlORx8GrPQ",
        "outputId": "2f366188-a843-4bbd-f91f-a2b60ef571a5"
      },
      "execution_count": null,
      "outputs": [
        {
          "output_type": "stream",
          "name": "stdout",
          "text": [
            "\u001b[?25l     \u001b[90m━━━━━━━━━━━━━━━━━━━━━━━━━━━━━━━━━━━━━━━━\u001b[0m \u001b[32m0.0/3.4 MB\u001b[0m \u001b[31m?\u001b[0m eta \u001b[36m-:--:--\u001b[0m\r\u001b[2K     \u001b[91m╸\u001b[0m\u001b[90m━━━━━━━━━━━━━━━━━━━━━━━━━━━━━━━━━━━━━━━\u001b[0m \u001b[32m0.1/3.4 MB\u001b[0m \u001b[31m2.1 MB/s\u001b[0m eta \u001b[36m0:00:02\u001b[0m\r\u001b[2K     \u001b[91m━━━━━━\u001b[0m\u001b[90m╺\u001b[0m\u001b[90m━━━━━━━━━━━━━━━━━━━━━━━━━━━━━━━━━\u001b[0m \u001b[32m0.5/3.4 MB\u001b[0m \u001b[31m8.6 MB/s\u001b[0m eta \u001b[36m0:00:01\u001b[0m\r\u001b[2K     \u001b[91m━━━━━━━━━━━━━━\u001b[0m\u001b[91m╸\u001b[0m\u001b[90m━━━━━━━━━━━━━━━━━━━━━━━━━\u001b[0m \u001b[32m1.3/3.4 MB\u001b[0m \u001b[31m13.0 MB/s\u001b[0m eta \u001b[36m0:00:01\u001b[0m\r\u001b[2K     \u001b[91m━━━━━━━━━━━━━━━━━━━━━━━━━━\u001b[0m\u001b[91m╸\u001b[0m\u001b[90m━━━━━━━━━━━━━\u001b[0m \u001b[32m2.3/3.4 MB\u001b[0m \u001b[31m16.9 MB/s\u001b[0m eta \u001b[36m0:00:01\u001b[0m\r\u001b[2K     \u001b[91m━━━━━━━━━━━━━━━━━━━━━━━━━━━━━━━━━━━━━━━\u001b[0m\u001b[91m╸\u001b[0m \u001b[32m3.4/3.4 MB\u001b[0m \u001b[31m20.9 MB/s\u001b[0m eta \u001b[36m0:00:01\u001b[0m\r\u001b[2K     \u001b[90m━━━━━━━━━━━━━━━━━━━━━━━━━━━━━━━━━━━━━━━━\u001b[0m \u001b[32m3.4/3.4 MB\u001b[0m \u001b[31m18.0 MB/s\u001b[0m eta \u001b[36m0:00:00\u001b[0m\n",
            "\u001b[?25h"
          ]
        }
      ]
    },
    {
      "cell_type": "code",
      "source": [
        "from spellchecker import SpellChecker\n",
        "\n",
        "spell = SpellChecker(language='ru')\n",
        "result = spell.correction(user_content)"
      ],
      "metadata": {
        "id": "QPOcAb4xJ8ev"
      },
      "execution_count": null,
      "outputs": []
    },
    {
      "cell_type": "code",
      "source": [
        "formatted_user, formatted_gpt = getFormattedDiff(user_content, result)"
      ],
      "metadata": {
        "id": "f3hsotwYKj4J"
      },
      "execution_count": null,
      "outputs": []
    },
    {
      "cell_type": "code",
      "source": [
        "# Исходное резюме с подсветкой, что было исправлено\n",
        "display(HTML(formatted_user.replace('\\n', '<br>')))"
      ],
      "metadata": {
        "colab": {
          "base_uri": "https://localhost:8080/",
          "height": 1000
        },
        "id": "xHwqJ-OPKodl",
        "outputId": "bd39ebe5-1f06-47fc-ac58-f2b6b61d37ab"
      },
      "execution_count": null,
      "outputs": [
        {
          "output_type": "display_data",
          "data": {
            "text/plain": [
              "<IPython.core.display.HTML object>"
            ],
            "text/html": [
              "Имя: Порфирий Прокофьевич<br>Должность: Data Scientist<br>О себе:<br><br>Сдан экзамен P1 CIMA<br>Средний бал: 4,6<br><br>Имея изначально склонность к аналитике, решил добавить технологические стек и уже более углублено ее развивать в направлении Data Science.<br><br>Личные качества:<br>- Нахожу общий язык с коллегами<br>- Дисциплинирован.<br>- Постоянно обучаюсь новому.<br>- Стремлюсь к профессиональному и карьерному росту.<br>- В работе соблюдаю сроки выполнения задач.<br>- Способен длительное время заниматься решением одной проблемы.<br>- Умею работать с большим объёмом информации.<br>- Умею хранить конфиденциальную информацию.<br>- Способен исследовать, проверять факты и собирать точные данные.<br><br><br>Высшее образование:<br><br>СПбГЭУ (2017 - настоящее время)<br>Экономики, Мировая экономика<br><br>Санкт-Петербургский государственный инженерно-экономический университет \"ИНЖЭКОН\", Санкт-Петербург (2015 - настоящее время)<br>Экономики, Национальная экономика<br><br>Курсы:<br><br>Техническая Академия РосАтома (2022 - настоящее время)<br>Деловой английский<br><br>БФУ им. И. Канта (2022 - настоящее время)<br>Экономика и финансы<br><br>БФУ им. И. Канта (2022 - настоящее время)<br>Разработка и реализация маркетинговой стратегии<br><br>БФУ им. И. Канта (2022 - настоящее время)<br>Бизнес-модели компании и операционная эффективность<br><br>Университет Синергия (2022 - настоящее время)<br>Data Scientist<br><br>НИУ ИТМО, Санкт-Петербург (2021 - настоящее время)<br>Технологии анализа данных<br><br><br>Опыт работы:<br><br>Фриланс:<br><br>Проектная деятельность (09.2021 - настоящее время)<br>Санкт-Петербург, github.com/Litvinov-Anton/Portfolio<br>Data Scientist<br><br>Деятельность:<br>Коммерческий проект по созданию отчета в Power BI, для компании Data Sfera.<br><br>Личный проект. Создал проект по отнесению кондитерских изделий к классу с помощью логистической регрессии, на основании данных Kaggle.<br><br>Личный проект. Создал несколько финансовых отчетов в Power BI, DataStudio.<br><br>Личный проект. Создал проекты по предсказанию прибыли с помощью линейной регрессии, на основании данных Kaggle.<br><br>Личный проект. Составил финансовую модель с помощью Excel.<br><br>Личный проект. Создал проект по классификации с помощью метода К-Средних, на основании данных Kaggle. <br>        <br><br>Основная работа:<br><br>Элерон (Европейская химчистка Apetta) (06.2022 - настоящее время)<br>Санкт-Петербург, apetta.ru<br>Услуги для населения<br>Бизнес-аналитик<br>Аналитика в Power BI, Excel. Использование базы данных. Построение автоматизированных отчетов.<br><br>ООО \"УК \"Клин-Тим\" (промышленный клининг) (10.2021 - 11.2021)<br>Санкт-Петербург, cleanteam.ru<br>Экономист<br><br>- Ведение управленческого учета компании (2 ЦФО)<br>- Сбор данных и формирование отчетов по маржинальности объектов (1С УПП, Excel)<br>- План-факторный анализ полученных данных, построение отчетности и визуализация данных (Power BI)<br>- Ввод данных смет в программу учета<br>- Подготовка аналитических справок, статистик по итогам работы за период.<br>- Ведение электронного архива смет<br><br>Ключевые результат:<br>внедрил инструмента PowerBI визуализации в процесс предоставления отчётности<br><br><br>\"Терра -Авто\" КЦ\" (ГК «Прагматика») - один из крупнейших Российских автодилеров (06.2020 - 05.2021)<br>Санкт-Петербург, www.terravto.ru<br>Автомобильный бизнес<br>Экономист<br><br>-Составление бюджета компании (2 ЦФО): планирование показателей операционного производства, выручки от продаж, ФОТа, (OPEX, CAPEX)<br>-План-факторный анализ полученных данных<br>-Составление управленческой отчетности (Excel, SQL, 1С)<br>-Составление экономической и финансовой отчётности для внешних контрагентов по запросу<br>- Контроль исполнения платежного календаря<br>Ключевые результаты:<br>Разработал и внедрил систему для расчета мотивации персонала по компании за счет введения углубленной аналитики по продажам.<br><br><br><br>"
            ]
          },
          "metadata": {}
        }
      ]
    },
    {
      "cell_type": "markdown",
      "source": [
        "### Суммаризация"
      ],
      "metadata": {
        "id": "4A-0hxdA2Qy5"
      }
    },
    {
      "cell_type": "markdown",
      "source": [
        "**Образование**"
      ],
      "metadata": {
        "id": "e0QBiXIP4fVp"
      }
    },
    {
      "cell_type": "code",
      "source": [
        "system_content = f'''Ты опытный hr в сфере data science, суммаризируй образование кандидата на должность {position} относительно сферы data science'''\n",
        "user_content = get_education(education)\n",
        "sum_education = gpt_print(system_content, user_content, show_message=False)"
      ],
      "metadata": {
        "colab": {
          "base_uri": "https://localhost:8080/"
        },
        "id": "2GeXPJHp2Us4",
        "outputId": "27da6d42-2a5a-407d-ec46-af0d30681d5b"
      },
      "execution_count": null,
      "outputs": [
        {
          "output_type": "stream",
          "name": "stdout",
          "text": [
            "Фактическое количество токенов\n",
            "прогноз: 419\n",
            "промт: 417\n",
            "ответ: 238\n",
            "всего: 655\n"
          ]
        }
      ]
    },
    {
      "cell_type": "code",
      "source": [
        "sum_education"
      ],
      "metadata": {
        "colab": {
          "base_uri": "https://localhost:8080/",
          "height": 88
        },
        "id": "IY3if4aI4l8f",
        "outputId": "6c221c0f-1409-4c48-c703-ce659f1a7f01"
      },
      "execution_count": null,
      "outputs": [
        {
          "output_type": "execute_result",
          "data": {
            "text/plain": [
              "'Кандидат имеет высшее образование в области экономики с фокусом на мировой и национальной экономике. Он также прошел несколько курсов, связанных с различными аспектами бизнеса, включая разработку маркетинговой стратегии, бизнес-моделирование и операционную эффективность. Кроме того, он прошел курсы по технологиям анализа данных и получил сертификат Data Scientist от Университета Синергия. Это образование и курсы позволяют кандидату иметь понимание экономических аспектов и навыки в области анализа данных, что может быть полезно для работы в сфере data science.'"
            ],
            "application/vnd.google.colaboratory.intrinsic+json": {
              "type": "string"
            }
          },
          "metadata": {},
          "execution_count": 25
        }
      ]
    },
    {
      "cell_type": "markdown",
      "source": [
        "**Опыт работы**"
      ],
      "metadata": {
        "id": "7a4xjIAB5NFF"
      }
    },
    {
      "cell_type": "code",
      "source": [
        "system_content = f'''Ты опытный hr в сфере data science, суммаризируй опыт работы кандидата на должность {position} относительно сферы data science'''\n",
        "user_content = get_experience(experience)\n",
        "sum_experience = gpt_print(system_content, user_content, show_message=False)"
      ],
      "metadata": {
        "colab": {
          "base_uri": "https://localhost:8080/"
        },
        "id": "aBV-9rHu5RAO",
        "outputId": "903b564e-0f32-4e24-efd8-0a755ae74426"
      },
      "execution_count": null,
      "outputs": [
        {
          "output_type": "stream",
          "name": "stdout",
          "text": [
            "Фактическое количество токенов\n",
            "прогноз: 1015\n",
            "промт: 1013\n",
            "ответ: 510\n",
            "всего: 1523\n"
          ]
        }
      ]
    },
    {
      "cell_type": "code",
      "source": [
        "sum_experience"
      ],
      "metadata": {
        "colab": {
          "base_uri": "https://localhost:8080/",
          "height": 125
        },
        "id": "kgMHRuKR5aN5",
        "outputId": "76a8896a-daaa-4339-bd77-f362f14c5468"
      },
      "execution_count": null,
      "outputs": [
        {
          "output_type": "execute_result",
          "data": {
            "text/plain": [
              "'Кандидат имеет опыт работы в сфере data science, который включает выполнение коммерческого проекта по созданию отчета в Power BI для компании Data Sfera. Он также выполнил несколько личных проектов, включая создание модели отнесения кондитерских изделий к классу с использованием логистической регрессии на основе данных Kaggle, создание финансовых отчетов в Power BI и DataStudio, предсказание прибыли с использованием линейной регрессии на основе данных Kaggle и создание проекта по классификации с использованием метода К-Средних на основе данных Kaggle. \\n\\nКроме того, кандидат имеет опыт работы в качестве бизнес-аналитика в компании, предоставляющей услуги для населения, где он занимался аналитикой в Power BI и Excel, использованием базы данных и построением автоматизированных отчетов. Он также имел опыт работы в качестве экономиста в компании, занимающейся промышленным клинингом, где он занимался управленческим учетом, сбором и анализом данных, формированием отчетов и визуализацией данных с использованием Power BI, вводом данных в программу учета и подготовкой аналитических справок и статистик.\\n\\nКлючевые результаты работы кандидата включают внедрение инструмента Power BI для визуализации данных в процесс предоставления отчетности и разработку и внедрение системы для расчета мотивации персонала на основе углубленной аналитики по продажам.'"
            ],
            "application/vnd.google.colaboratory.intrinsic+json": {
              "type": "string"
            }
          },
          "metadata": {},
          "execution_count": 29
        }
      ]
    },
    {
      "cell_type": "markdown",
      "source": [
        "**О себе**"
      ],
      "metadata": {
        "id": "oZ7kpe3s5t15"
      }
    },
    {
      "cell_type": "code",
      "source": [
        "promt = f'''Ты опытный hr консультант, который помогает соискателю грамотно написать о себе,\n",
        "чтобы максимально соответствовать должности {position}. Напиши о соискателе для его резюме\n",
        "опираясь на образование и опыт работы соискателя.\n",
        "Напиши лаконично от первого лица в деловом стиле, как будто это ты устраиваешься на должность {position}.\n",
        "Не пиши приветствие'''"
      ],
      "metadata": {
        "id": "DB8pfR3f5v2T"
      },
      "execution_count": null,
      "outputs": []
    },
    {
      "cell_type": "code",
      "source": [
        "system_content = promt\n",
        "user_content = sum_education + '\\n' + sum_experience\n",
        "about_gpt = gpt_print(system_content, user_content, show_message=False)"
      ],
      "metadata": {
        "colab": {
          "base_uri": "https://localhost:8080/"
        },
        "id": "PLRrsYX06x5m",
        "outputId": "633fef5b-979f-4dcd-e663-618d3db5df22"
      },
      "execution_count": null,
      "outputs": [
        {
          "output_type": "stream",
          "name": "stdout",
          "text": [
            "Фактическое количество токенов\n",
            "прогноз: 902\n",
            "промт: 900\n",
            "ответ: 572\n",
            "всего: 1472\n"
          ]
        }
      ]
    },
    {
      "cell_type": "code",
      "source": [
        "print(about_gpt)"
      ],
      "metadata": {
        "colab": {
          "base_uri": "https://localhost:8080/"
        },
        "id": "E5XDRNYr7RKU",
        "outputId": "ac9cd433-acba-4390-955a-86a7a53053a9"
      },
      "execution_count": null,
      "outputs": [
        {
          "output_type": "stream",
          "name": "stdout",
          "text": [
            "Мой опыт работы и образование позволяют мне успешно применять аналитические навыки в сфере data science. Я имею высшее образование в области экономики с фокусом на мировой и национальной экономике, а также сертификат Data Scientist от Университета Синергия. Кроме того, я прошел несколько курсов, связанных с различными аспектами бизнеса, включая разработку маркетинговой стратегии и операционную эффективность.\n",
            "\n",
            "Мой опыт работы включает выполнение коммерческого проекта по созданию отчета в Power BI для компании Data Sfera. Я также выполнил несколько личных проектов, включая создание модели отнесения кондитерских изделий к классу с использованием логистической регрессии и предсказание прибыли с использованием линейной регрессии на основе данных Kaggle. Кроме того, я имел опыт работы в качестве бизнес-аналитика, где я занимался аналитикой в Power BI и Excel, использованием базы данных и построением автоматизированных отчетов.\n",
            "\n",
            "Мои ключевые результаты работы включают внедрение инструмента Power BI для визуализации данных и разработку системы для расчета мотивации персонала на основе углубленной аналитики по продажам. Я также имею опыт работы в качестве экономиста, где я занимался управленческим учетом, сбором и анализом данных, формированием отчетов и визуализацией данных с использованием Power BI.\n",
            "\n",
            "Я готов применить свои знания и навыки в области data science для решения сложных задач и внедрения инновационных решений в вашу компанию.\n"
          ]
        }
      ]
    },
    {
      "cell_type": "markdown",
      "source": [
        "###Сопроводительное письмо"
      ],
      "metadata": {
        "id": "RDZ8vsB78odD"
      }
    },
    {
      "cell_type": "code",
      "source": [
        "promt = f'''Ты опытный hr консультант, который помогает соискателю грамотно, коротко и ясно написать сопроводительное письмо.\n",
        "Напиши сопроводительное письмо на должность \"{position}\" от лица соискателя на основании его резюме.\n",
        "Выдели навыки, опыт и личные качества соискателя, связанные с работой, которые делают его подходящим для этой должности'''"
      ],
      "metadata": {
        "id": "yxLoIkWv8s9C"
      },
      "execution_count": null,
      "outputs": []
    },
    {
      "cell_type": "code",
      "source": [
        "system_content = promt\n",
        "user_content = get_resume(name, city, position, about, education, experience)\n",
        "cover_letter = gpt_print(system_content, user_content, show_message=False)"
      ],
      "metadata": {
        "colab": {
          "base_uri": "https://localhost:8080/"
        },
        "id": "KGndSlYnNBSd",
        "outputId": "9a45873a-2f89-4d6e-c5a1-b6d0281394ac"
      },
      "execution_count": null,
      "outputs": [
        {
          "output_type": "stream",
          "name": "stdout",
          "text": [
            "Фактическое количество токенов\n",
            "прогноз: 1772\n",
            "промт: 1770\n",
            "ответ: 734\n",
            "всего: 2504\n"
          ]
        }
      ]
    },
    {
      "cell_type": "code",
      "source": [
        "print(cover_letter)"
      ],
      "metadata": {
        "colab": {
          "base_uri": "https://localhost:8080/"
        },
        "id": "nswWyK3uOLLb",
        "outputId": "d937269b-0f0a-4282-ab8c-3f45227ed6c6"
      },
      "execution_count": null,
      "outputs": [
        {
          "output_type": "stream",
          "name": "stdout",
          "text": [
            "Уважаемый рекрутер,\n",
            "\n",
            "Я хочу выразить свой интерес к вакансии Data Scientist в вашей компании. У меня есть опыт и навыки, которые делают меня подходящим кандидатом для этой должности.\n",
            "\n",
            "Я обладаю сильными аналитическими навыками и имею опыт работы с большим объемом данных. Мой опыт в проектной деятельности и фрилансе позволил мне развить навыки работы с различными инструментами и технологиями, такими как Power BI, Excel, SQL и Python. Я также прошел курсы по анализу данных и получил сертификат Data Scientist от Университета Синергия.\n",
            "\n",
            "Я дисциплинирован и всегда соблюдаю сроки выполнения задач. Я постоянно обучаюсь новым навыкам и стремлюсь к профессиональному и карьерному росту. Я способен длительное время заниматься решением одной проблемы и умею работать с большим объемом информации. Кроме того, я умею хранить конфиденциальную информацию и способен исследовать, проверять факты и собирать точные данные.\n",
            "\n",
            "Я имею высшее образование в области экономики и прохожу обучение в СПбГЭУ и Санкт-Петербургском государственном инженерно-экономическом университете \"ИНЖЭКОН\". Кроме того, я прошел курсы по деловому английскому и различным аспектам экономики и финансов.\n",
            "\n",
            "В моем опыте работы в качестве бизнес-аналитика и экономиста я использовал аналитические инструменты, такие как Power BI, Excel и SQL, для анализа данных и составления отчетов. Я также разработал и внедрил систему для расчета мотивации персонала на основе углубленной аналитики по продажам.\n",
            "\n",
            "Я уверен, что мои навыки и опыт позволят мне эффективно выполнять обязанности Data Scientist в вашей компании. Я готов принять вызов и внести свой вклад в развитие вашего бизнеса.\n",
            "\n",
            "С уважением,\n",
            "Порфирий Прокофьевич\n"
          ]
        }
      ]
    },
    {
      "cell_type": "code",
      "source": [
        "promt = f'''Ты опытный hr консультант, который помогает соискателю грамотно, коротко и ясно написать сопроводительное письмо.\n",
        "Напиши сопроводительное письмо на должность \"{position}\" от лица соискателя на основании его резюме.\n",
        "Выдели навыки, опыт и личные качества соискателя, связанные с работой, которые делают его подходящим для этой должности.\n",
        "Напиши эмоционально нейтрально в деловом стиле. Не используй обращение к рекрутеру.\n",
        "Не используй прилагательные при составлении сопроводительного письма.'''"
      ],
      "metadata": {
        "id": "mcBwLFS5QYu-"
      },
      "execution_count": null,
      "outputs": []
    },
    {
      "cell_type": "code",
      "source": [
        "system_content = promt\n",
        "user_content = get_resume(name, city, position, about, education, experience)\n",
        "cover_letter = gpt_print(system_content, user_content, show_message=False)"
      ],
      "metadata": {
        "colab": {
          "base_uri": "https://localhost:8080/"
        },
        "id": "viSQNX75QuIL",
        "outputId": "ce32e8da-9b34-4818-daae-a832a74b88c7"
      },
      "execution_count": null,
      "outputs": [
        {
          "output_type": "stream",
          "name": "stdout",
          "text": [
            "Фактическое количество токенов\n",
            "прогноз: 1836\n",
            "промт: 1834\n",
            "ответ: 815\n",
            "всего: 2649\n"
          ]
        }
      ]
    },
    {
      "cell_type": "code",
      "source": [
        "print(cover_letter)"
      ],
      "metadata": {
        "colab": {
          "base_uri": "https://localhost:8080/"
        },
        "id": "PwUzn30sQwxY",
        "outputId": "7bb66482-fc64-4999-af99-d220ad08d728"
      },
      "execution_count": null,
      "outputs": [
        {
          "output_type": "stream",
          "name": "stdout",
          "text": [
            "Уважаемый рекрутер,\n",
            "\n",
            "Я хочу подать заявку на должность Data Scientist в вашей компании. У меня есть опыт работы в аналитике и я стремлюсь развиваться в области Data Science. Я уверен, что мои навыки и опыт делают меня подходящим кандидатом для этой должности.\n",
            "\n",
            "Я обладаю следующими личными качествами, которые помогут мне успешно выполнять свои обязанности в качестве Data Scientist:\n",
            "\n",
            "- Я легко нахожу общий язык с коллегами, что позволяет мне эффективно работать в команде.\n",
            "- Я дисциплинирован и всегда соблюдаю сроки выполнения задач.\n",
            "- Я постоянно обучаюсь новому и стремлюсь к профессиональному и карьерному росту.\n",
            "- Я способен длительное время заниматься решением одной проблемы, что позволяет мне глубоко анализировать данные.\n",
            "- Я умею работать с большим объемом информации и хранить конфиденциальную информацию.\n",
            "- Я способен исследовать, проверять факты и собирать точные данные, что является важным навыком для Data Scientist.\n",
            "\n",
            "Я также имею образование и опыт работы, которые подтверждают мою компетентность в области Data Science. Я получаю высшее образование в СПбГЭУ и Санкт-Петербургском государственном инженерно-экономическом университете \"ИНЖЭКОН\" по экономике и мировой экономике. Кроме того, я прохожу курсы по технологиям анализа данных в НИУ ИТМО и университете Синергия.\n",
            "\n",
            "У меня также есть опыт работы в области Data Science. Я работал над проектами фриланса, включая создание отчетов в Power BI и разработку моделей предсказания прибыли с использованием линейной регрессии. В моей основной работе я занимаюсь аналитикой в Power BI и Excel, использую базы данных и строю автоматизированные отчеты.\n",
            "\n",
            "Я готов применить свои навыки и опыт для решения сложных задач в области Data Science в вашей компании. Я уверен, что моя аналитическая способность, технические навыки и стремление к постоянному развитию сделают меня ценным членом вашей команды.\n",
            "\n",
            "С уважением,\n",
            "Порфирий Прокофьевич\n"
          ]
        }
      ]
    },
    {
      "cell_type": "markdown",
      "source": [
        "# Эксперименты 3"
      ],
      "metadata": {
        "id": "54uIhHHT4LCt"
      }
    },
    {
      "cell_type": "markdown",
      "source": [
        "## Исходное резюме"
      ],
      "metadata": {
        "id": "BhmPcptK5Zzl"
      }
    },
    {
      "cell_type": "code",
      "source": [
        "name = 'Иван Петрович Сидоров'\n",
        "city = 'Новополис'\n",
        "position = 'Data Scientist'\n",
        "\n",
        "contacts = [\n",
        "    {'email': 'my@email.com'},\n",
        "    {'Телефон': '+7(999)999-99-99'},\n",
        "]\n",
        "\n",
        "about = '''\n",
        "Сдан экзамен P1 CIMA\n",
        "Средний бал: 4,6\n",
        "\n",
        "Имея изначально склонность к аналитике, решил добавить технологические стек и уже более углублено ее развивать в направлении Data Science.\n",
        "\n",
        "Личные качества:\n",
        "- Нахожу общий язык с коллегами\n",
        "- Дисциплинирован.\n",
        "- Постоянно обучаюсь новому.\n",
        "- Стремлюсь к профессиональному и карьерному росту.\n",
        "- В работе соблюдаю сроки выполнения задач.\n",
        "- Способен длительное время заниматься решением одной проблемы.\n",
        "- Умею работать с большим объёмом информации.\n",
        "- Умею хранить конфиденциальную информацию.\n",
        "- Способен исследовать, проверять факты и собирать точные данные.\n",
        "'''\n",
        "\n",
        "skills = [\n",
        "    'Python',\n",
        "    'Numpy',\n",
        "    'Matplotlib',\n",
        "    'Excel',\n",
        "    'Power BI',\n",
        "    '1C',\n",
        "    ]\n",
        "\n",
        "experience = [\n",
        "    {\n",
        "        'date_start': '06.2022',\n",
        "        'date_end': '',\n",
        "        'organisation': 'Элерон (Европейская химчистка Apetta)',\n",
        "        'city': 'Санкт-Петербург',\n",
        "        'web': 'apetta.ru',\n",
        "        'industry': 'Услуги для населения',\n",
        "        'position': 'Бизнес-аналитик',\n",
        "        'experience_type': 'Основная работа',\n",
        "        'activity': 'Аналитика в Power BI, Excel. Использование базы данных. Построение автоматизированных отчетов.',\n",
        "    },\n",
        "    {\n",
        "        'date_start': '09.2021',\n",
        "        'date_end': '',\n",
        "        'organisation': 'Проектная деятельность',\n",
        "        'city': 'Санкт-Петербург',\n",
        "        'web': 'github.com/Litvinov-Anton/Portfolio',\n",
        "        'industry': '',\n",
        "        'position': 'Data Scientist',\n",
        "        'experience_type': 'Фриланс',\n",
        "        'activity': '''\n",
        "Деятельность:\n",
        "Коммерческий проект по созданию отчета в Power BI, для компании Data Sfera.\n",
        "\n",
        "Личный проект. Создал проект по отнесению кондитерских изделий к классу с помощью логистической регрессии, на основании данных Kaggle.\n",
        "\n",
        "Личный проект. Создал несколько финансовых отчетов в Power BI, DataStudio.\n",
        "\n",
        "Личный проект. Создал проекты по предсказанию прибыли с помощью линейной регрессии, на основании данных Kaggle.\n",
        "\n",
        "Личный проект. Составил финансовую модель с помощью Excel.\n",
        "\n",
        "Личный проект. Создал проект по классификации с помощью метода К-Средних, на основании данных Kaggle.\n",
        "        ''',\n",
        "    },\n",
        "    {\n",
        "        'date_start': '10.2021',\n",
        "        'date_end': '11.2021',\n",
        "        'organisation': 'ООО \"УК \"Клин-Тим\" (промышленный клининг)',\n",
        "        'city': 'Санкт-Петербург',\n",
        "        'web': 'cleanteam.ru',\n",
        "        'industry': '',\n",
        "        'position': 'Экономист',\n",
        "        'experience_type': 'Основная работа',\n",
        "        'activity': '''\n",
        "- Ведение управленческого учета компании (2 ЦФО)\n",
        "- Сбор данных и формирование отчетов по маржинальности объектов (1С УПП, Excel)\n",
        "- План-факторный анализ полученных данных, построение отчетности и визуализация данных (Power BI)\n",
        "- Ввод данных смет в программу учета\n",
        "- Подготовка аналитических справок, статистик по итогам работы за период.\n",
        "- Ведение электронного архива смет\n",
        "\n",
        "Ключевые результат:\n",
        "внедрил инструмента PowerBI визуализации в процесс предоставления отчётности\n",
        "''',\n",
        "    },\n",
        "    {\n",
        "        'date_start': '06.2020',\n",
        "        'date_end': '05.2021',\n",
        "        'organisation': '\"Терра -Авто\" КЦ\" (ГК «Прагматика») - один из крупнейших Российских автодилеров',\n",
        "        'city': 'Санкт-Петербург',\n",
        "        'web': 'www.terravto.ru',\n",
        "        'industry': 'Автомобильный бизнес',\n",
        "        'position': 'Экономист',\n",
        "        'experience_type': 'Основная работа',\n",
        "        'activity': '''\n",
        "-Составление бюджета компании (2 ЦФО): планирование показателей операционного производства, выручки от продаж, ФОТа, (OPEX, CAPEX)\n",
        "-План-факторный анализ полученных данных\n",
        "-Составление управленческой отчетности (Excel, SQL, 1С)\n",
        "-Составление экономической и финансовой отчётности для внешних контрагентов по запросу\n",
        "- Контроль исполнения платежного календаря\n",
        "Ключевые результаты:\n",
        "Разработал и внедрил систему для расчета мотивации персонала по компании за счет введения углубленной аналитики по продажам.\n",
        "''',\n",
        "    },\n",
        "]\n",
        "\n",
        "education = [\n",
        "    {\n",
        "        'date_start': '2017',\n",
        "        'date_end': '',\n",
        "        'education_type': 'Высшее образование',\n",
        "        'institution': 'СПбГЭУ',\n",
        "        'faculty': 'Экономики, Мировая экономика',\n",
        "    },\n",
        "    {\n",
        "        'date_start': '2015',\n",
        "        'date_end': '',\n",
        "        'education_type': 'Высшее образование',\n",
        "        'institution': 'Санкт-Петербургский государственный инженерно-экономический университет \"ИНЖЭКОН\", Санкт-Петербург',\n",
        "        'faculty': 'Экономики, Национальная экономика',\n",
        "    },\n",
        "    {\n",
        "        'date_start': '2022',\n",
        "        'date_end': '',\n",
        "        'education_type': 'Курсы',\n",
        "        'institution': 'Техническая Академия РосАтома',\n",
        "        'faculty': 'Деловой английский',\n",
        "    },\n",
        "    {\n",
        "        'date_start': '2022',\n",
        "        'date_end': '',\n",
        "        'education_type': 'Курсы',\n",
        "        'institution': 'БФУ им. И. Канта',\n",
        "        'faculty': 'Экономика и финансы',\n",
        "    },\n",
        "    {\n",
        "        'date_start': '2022',\n",
        "        'date_end': '',\n",
        "        'education_type': 'Курсы',\n",
        "        'institution': 'БФУ им. И. Канта',\n",
        "        'faculty': 'Разработка и реализация маркетинговой стратегии',\n",
        "    },\n",
        "    {\n",
        "        'date_start': '2022',\n",
        "        'date_end': '',\n",
        "        'education_type': 'Курсы',\n",
        "        'institution': 'БФУ им. И. Канта',\n",
        "        'faculty': 'Бизнес-модели компании и операционная эффективность',\n",
        "    },\n",
        "    {\n",
        "        'date_start': '2022',\n",
        "        'date_end': '',\n",
        "        'education_type': 'Курсы',\n",
        "        'institution': 'Университет Синергия',\n",
        "        'faculty': 'Data Scientist',\n",
        "    },\n",
        "    {\n",
        "        'date_start': '2021',\n",
        "        'date_end': '',\n",
        "        'education_type': 'Курсы',\n",
        "        'institution': 'НИУ ИТМО, Санкт-Петербург',\n",
        "        'faculty': 'Технологии анализа данных',\n",
        "    },\n",
        "]"
      ],
      "metadata": {
        "id": "Vzk-HB2U5dJd"
      },
      "execution_count": null,
      "outputs": []
    },
    {
      "cell_type": "markdown",
      "source": [
        "## Класс работы с ChatGPT"
      ],
      "metadata": {
        "id": "_T_DbuKe6EET"
      }
    },
    {
      "cell_type": "code",
      "source": [
        "MODEL_TURBO_16K = \"gpt-3.5-turbo-16k\"\n",
        "MODEL_TURBO_0613 = \"gpt-3.5-turbo-0613\"\n",
        "MODEL_GPT4 = \"gpt-4-0613\"\n",
        "\n",
        "class chatgpt():\n",
        "    def __init__(self, name, city, position, contacts, about, skills, education, experience, model=MODEL_TURBO_0613):\n",
        "        self.name = name\n",
        "        self.city = city\n",
        "        self.position = position\n",
        "        self.contacts = contacts\n",
        "        self.about = about\n",
        "        self.skills = skills\n",
        "        self.education = education\n",
        "        self.experience = experience\n",
        "        self.model = model\n",
        "        self.results = {}\n",
        "\n",
        "\n",
        "    # Работа с ChatGPT\n",
        "\n",
        "    # подсчёт токенов\n",
        "    def count_tokens(self, system_content, user_content, temperature=0):\n",
        "        messages = [\n",
        "            SystemMessage(content=system_content),\n",
        "            HumanMessage(content=user_content)\n",
        "            ]\n",
        "\n",
        "        # Количество токенов\n",
        "        chat = ChatOpenAI(temperature=temperature)\n",
        "        return chat.get_num_tokens_from_messages(messages)\n",
        "\n",
        "\n",
        "    # генерация с помощью chatGPT со статистикой по токенам\n",
        "    def gpt_gen_info(self, system_content, user_content, assistant_content=None, temperature=0, key=None):\n",
        "\n",
        "        messages = [\n",
        "            {'role': 'system', 'content': system_content},\n",
        "            {'role': 'user', 'content': user_content},\n",
        "            ]\n",
        "\n",
        "        if assistant_content:\n",
        "            messages.append({'role': 'assistant', 'content': assistant_content})\n",
        "\n",
        "        answer = openai.ChatCompletion.create(\n",
        "            model=self.model,\n",
        "            messages=messages,\n",
        "            temperature=0)\n",
        "\n",
        "        message = answer['choices'][0]['message']['content']\n",
        "        prompt_tokens = answer['usage']['prompt_tokens']\n",
        "        completion_tokens = answer['usage']['completion_tokens']\n",
        "        total_tokens = answer['usage']['total_tokens']\n",
        "\n",
        "        self.results['last_result'] = message\n",
        "\n",
        "        if key:\n",
        "            self.results['key'] = message\n",
        "\n",
        "        return message, prompt_tokens, completion_tokens, total_tokens\n",
        "\n",
        "\n",
        "    # генерация с помощью chatGPT без статистикои по токенам\n",
        "    def gpt_gen(self, system_content, user_content, assistant_content=None, temperature=0, key=None):\n",
        "        message, _, _, _ = self.gpt_gen_info(system_content, user_content, temperature, key)\n",
        "        return message\n",
        "\n",
        "\n",
        "    # вывод сгенерированных данных и статистики по токенам с помощью chatGPT\n",
        "    def gpt_gen_print(self, system_content, user_content, assistant_content=None, temperature=0, key=None, quiet=False):\n",
        "\n",
        "        tokens = self.count_tokens(system_content, user_content)\n",
        "        result = self.gpt_gen_info(system_content, user_content, key)\n",
        "        message, prompt_tokens, completion_tokens, total_tokens = result\n",
        "\n",
        "        print(message)\n",
        "        if not quiet:\n",
        "            print('-' * 21)\n",
        "            print('Фактическое количество токенов')\n",
        "            print('прогноз:', tokens)\n",
        "            print('промт:', prompt_tokens)\n",
        "            print('ответ:', completion_tokens)\n",
        "            print('всего:', total_tokens)\n",
        "\n",
        "        # return message\n",
        "\n",
        "\n",
        "    # Сравнение текстов\n",
        "\n",
        "    # highlight colors\n",
        "    # you may change these values according to your preferences\n",
        "    color_delete = '#FF8888'  # highlight color for deletions\n",
        "    color_insert = '#44FF44'  # highlight color for insertions\n",
        "    color_replace = '#EEEE88' # highlight color for replacements\n",
        "\n",
        "    # the common format string used for highlighted segments\n",
        "    f_str = '<span style=\"background: {};\">{}</span>'\n",
        "\n",
        "    # given two strings (a, b), getFormattedDiff returns the HTML formatted strings (formatted_a, formatted_b)\n",
        "    def getFormattedDiff(self, a, b):\n",
        "        # initialize the sequence matcher\n",
        "        s = SequenceMatcher(None, a, b)\n",
        "\n",
        "        # stringbuilders for the formatted strings\n",
        "        formatted_a = []\n",
        "        formatted_b = []\n",
        "\n",
        "        # iterate through all char blocks\n",
        "        for tag, i1, i2, j1, j2 in s.get_opcodes():\n",
        "            if tag == 'equal':\n",
        "                # if the blovks are the same, append block to both strings without any formatting\n",
        "                formatted_a.append(a[i1:i2])\n",
        "                formatted_b.append(b[j1:j2])\n",
        "            elif tag == 'delete':\n",
        "                # if this is a deletion block, append block to the first string with the delete highlight\n",
        "                formatted_a.append(f_str.format(color_delete, a[i1:i2]))\n",
        "            elif tag == 'insert':\n",
        "                # if this is a insertion block, append block to the second string with the insert highlight\n",
        "                formatted_b.append(f_str.format(color_insert, b[j1:j2]))\n",
        "            elif tag == 'replace':\n",
        "                # if this is a replacement block, append block to both strings with the replace highlight\n",
        "                formatted_a.append(f_str.format(color_replace, a[i1:i2]))\n",
        "                formatted_b.append(f_str.format(color_replace, b[j1:j2]))\n",
        "\n",
        "        # return the formatted strings\n",
        "        return ''.join(formatted_a), ''.join(formatted_b)\n",
        "\n",
        "\n",
        "    # Обработка резюме\n",
        "\n",
        "    # Перевод данных об образовании в pandas и последующая сортировка данных\n",
        "    def get_education_pd(self, education):\n",
        "        # Перевод данных в pandas\n",
        "        df = pd.DataFrame(education)\n",
        "\n",
        "        # Перевод строки в дату для дальнейшей сортировки\n",
        "        df.loc[df['date_start'].str.contains('\\.'), 'date_start_sort'] = pd.to_datetime(df['date_start'], format='%m.%Y', errors='coerce')\n",
        "        df.loc[df['date_start'].str.match(r'\\d{4}$'), 'date_start_sort'] = pd.to_datetime(df['date_start'], format='%Y', errors='coerce')\n",
        "\n",
        "        # Сортировка по типу учебного заведения и году поступления\n",
        "        order = ['Высшее образование', 'Дополнительное образование', 'Курсы']\n",
        "        df['education_type'] = pd.Categorical(df['education_type'], ordered=True, categories=order)\n",
        "        df.sort_values(['education_type', 'date_start_sort'], ascending=[True, False], inplace=True)\n",
        "        df.reset_index(drop=True, inplace=True)\n",
        "\n",
        "        return df\n",
        "\n",
        "\n",
        "    # Перевод данных об опыте работы в pandas и последующая сортировка данных\n",
        "    def get_experience_pd(self, experience):\n",
        "        # Перевод данных в pandas\n",
        "        df = pd.DataFrame(experience)\n",
        "\n",
        "        # Перевод строки в дату для дальнейшей сортировки\n",
        "        df.loc[df['date_start'].str.contains('\\.'), 'date_start_sort'] = pd.to_datetime(df['date_start'], format='%m.%Y', errors='coerce')\n",
        "        df.loc[df['date_start'].str.match(r'\\d{4}$'), 'date_start_sort'] = pd.to_datetime(df['date_start'], format='%Y', errors='coerce')\n",
        "\n",
        "        # Сортировка по типу работы и году поступления\n",
        "        order = ['Фриланс', 'Основная работа']\n",
        "        df['experience_type'] = pd.Categorical(df['experience_type'], ordered=True, categories=order)\n",
        "        df.sort_values(['experience_type', 'date_start_sort'], ascending=[True, False], inplace=True)\n",
        "        df.reset_index(drop=True, inplace=True)\n",
        "\n",
        "        return df\n",
        "\n",
        "\n",
        "    # Преобразование данных об образовании из pandas в str\n",
        "    def get_education(self, education):\n",
        "        df = self.get_education_pd(education)\n",
        "        ret = ''\n",
        "        education_type = ''\n",
        "        for index, row in df.iterrows():\n",
        "            row_dict = dict(row)\n",
        "            if row['education_type'] != education_type:\n",
        "                ret += row['education_type'] + ':\\n\\n'\n",
        "                education_type = row['education_type']\n",
        "\n",
        "            ret += row['institution']\n",
        "            if row['date_start']:\n",
        "                ret += ' (' + row['date_start'] + ' - ' + (row['date_end'] if row['date_end'] else 'настоящее время') + ')'\n",
        "            ret += '\\n'\n",
        "\n",
        "            ret += row['faculty'] + '\\n\\n'\n",
        "\n",
        "        return ret\n",
        "\n",
        "\n",
        "    # Преобразование данных об образовании из pandas в str\n",
        "    def get_experience(self, experience):\n",
        "        df = self.get_experience_pd(experience)\n",
        "        ret = ''\n",
        "        experience_type = ''\n",
        "        for index, row in df.iterrows():\n",
        "            row_dict = dict(row)\n",
        "            if row['experience_type'] != experience_type:\n",
        "                ret += row['experience_type'] + ':\\n\\n'\n",
        "                experience_type = row['experience_type']\n",
        "\n",
        "            ret += row['organisation']\n",
        "            if row['date_start']:\n",
        "                ret += ' (' + row['date_start'] + ' - ' + (row['date_end'] if row['date_end'] else 'настоящее время') + ')'\n",
        "            ret += '\\n'\n",
        "\n",
        "            ret += row['city'] + (f\", {row['web']}\" if row['web'] else '') + '\\n'\n",
        "            ret += f\"{row['industry']}\\n\" if row['industry'] else ''\n",
        "            ret += f\"{row['position']}\\n\" if row['position'] else ''\n",
        "            ret += row['activity'] + '\\n\\n'\n",
        "\n",
        "        return ret\n",
        "\n",
        "\n",
        "    # Получение контактов\n",
        "    def get_contacts(self, contacts):\n",
        "        ret = ''\n",
        "        for item in contacts:\n",
        "            for key, value in item.items():\n",
        "                ret += f'{key}: {value}\\n'\n",
        "        if ret:\n",
        "            ret = f'Контакты:\\n{ret}'\n",
        "\n",
        "        return ret\n",
        "\n",
        "\n",
        "    # Вывод полного резюме в форматированном виде (html)\n",
        "    def print_resume_html(self, name, city, position, about, skills, education, experience):\n",
        "        # общие данные\n",
        "        display(HTML(f'<h2>{name}</h2>'))\n",
        "        display(HTML(f'<h3>{position}</h3>'))\n",
        "        display(HTML(f'<br><b>О себе:</b><br>{about}<br>'))\n",
        "        display(HTML(f'<br><b>Ключевые навыки:</b><br>{\", \".join(skills)}<br>'))\n",
        "\n",
        "        # образование\n",
        "        df = self.get_education_pd(education)\n",
        "        education_type = ''\n",
        "        for index, row in df.iterrows():\n",
        "            row_dict = dict(row)\n",
        "            if row['education_type'] != education_type:\n",
        "                display(HTML(f\"<h3>{row['education_type']}</h3><br>\"))\n",
        "                education_type = row['education_type']\n",
        "\n",
        "            institution = row['institution']\n",
        "            if row['date_start']:\n",
        "                institution += ' (' + row['date_start'] + ' - ' + (row['date_end'] if row['date_end'] else 'настоящее время') + ')'\n",
        "            display(HTML(f\"<b>{institution}</b><br>\"))\n",
        "            display(HTML(f\"{row['faculty']}<br><br>\"))\n",
        "\n",
        "        # опыт работы\n",
        "        df = self.get_experience_pd(experience)\n",
        "        experience_type = ''\n",
        "        for index, row in df.iterrows():\n",
        "            row_dict = dict(row)\n",
        "            if row['experience_type'] != experience_type:\n",
        "                display(HTML(f\"<h3>{row['experience_type']}</h3><br>\"))\n",
        "                experience_type = row['experience_type']\n",
        "\n",
        "            organisation = row['organisation']\n",
        "            if row['date_start']:\n",
        "                organisation += ' (' + row['date_start'] + ' - ' + (row['date_end'] if row['date_end'] else 'настоящее время') + ')'\n",
        "            display(HTML(f\"<b>{organisation}</b><br>\"))\n",
        "\n",
        "            city = row['city'] + (f\", {row['web']}\" if row['web'] else '')\n",
        "            display(HTML(f\"{city}<br>\"))\n",
        "            if row['industry']:\n",
        "                display(HTML(f\"{row['position']}<br>\"))\n",
        "            if row['position']:\n",
        "                display(HTML(f\"{row['industry']}<br>\"))\n",
        "            display(HTML(f\"{row['activity']}<br><br>\"))\n",
        "\n",
        "\n",
        "    # Получение полного резюме в формате str\n",
        "    def get_resume(self, **kwargs):\n",
        "        name = self.name if 'name' not in kwargs else kwargs['name']\n",
        "        position = self.position if 'position' not in kwargs else kwargs['position']\n",
        "\n",
        "        about = self.about if 'about' not in kwargs else kwargs['about']\n",
        "        if about:\n",
        "            about = f'''\n",
        "О себе:\n",
        "{about}\n",
        "'''\n",
        "\n",
        "        skills = self.skills if 'skills' not in kwargs else kwargs['skills']\n",
        "        skills = ', '.join(skills)\n",
        "        if skills:\n",
        "            skills = f'''\n",
        "Ключевые навыки:\n",
        "{skills}\n",
        "'''\n",
        "\n",
        "        contacts = self.get_contacts(self.contacts if 'contacts' not in kwargs else kwargs['contacts'])\n",
        "        education = self.get_education(self.education if 'education' not in kwargs else kwargs['education'])\n",
        "        experience = self.get_experience(self.experience if 'experience' not in kwargs else kwargs['experience'])\n",
        "\n",
        "        resume = f'''Имя: {name}\n",
        "Должность: {position}\n",
        "\n",
        "{contacts}\n",
        "{about}\n",
        "{skills}\n",
        "{education}\n",
        "Опыт работы:\n",
        "\n",
        "{experience}\n",
        "'''\n",
        "\n",
        "        return resume"
      ],
      "metadata": {
        "id": "3sYhAKLX6G9r"
      },
      "execution_count": null,
      "outputs": []
    },
    {
      "cell_type": "markdown",
      "source": [
        "## Работа с промтами"
      ],
      "metadata": {
        "id": "ZoiKM32n9mgN"
      }
    },
    {
      "cell_type": "code",
      "source": [
        "gpt = chatgpt(name, city, position, contacts, about, skills, education, experience)"
      ],
      "metadata": {
        "id": "rblBcbkvL48c"
      },
      "execution_count": null,
      "outputs": []
    },
    {
      "cell_type": "markdown",
      "source": [
        "### О себе + суммаризация"
      ],
      "metadata": {
        "id": "70ioj7Ml-E78"
      }
    },
    {
      "cell_type": "markdown",
      "source": [
        "Что было замечено во время экспериментов, и как было исправлено промтами:\n",
        "- восторженный стиль написания (например: \"моя страсть - изучение нейронных сетей\"), промт: пиши в деловом стиле\n",
        "- приветствие в начале текста, промт: не пиши приветствие\n",
        "- длинное размазанное описание, промт: пиши кратко и лаконично\n",
        "- в некоторых промтах надо ограничивать количество слов\n",
        "\n",
        "Прочие выводы:\n",
        "- если \"о себе\" хорошо составлено, то генерация в целом его не улучшает, а в некоторых случаях делает хуже по восприятию"
      ],
      "metadata": {
        "id": "0TNJcKW1NjRr"
      }
    },
    {
      "cell_type": "code",
      "source": [
        "# О себе, исходные данные\n",
        "\n",
        "print(about)"
      ],
      "metadata": {
        "colab": {
          "base_uri": "https://localhost:8080/"
        },
        "id": "RtXcmfoWMYqq",
        "outputId": "3bcdbdb6-344f-4f2e-af04-6f689f73b035"
      },
      "execution_count": null,
      "outputs": [
        {
          "output_type": "stream",
          "name": "stdout",
          "text": [
            "\n",
            "Сдан экзамен P1 CIMA\n",
            "Средний бал: 4,6\n",
            "\n",
            "Имея изначально склонность к аналитике, решил добавить технологические стек и уже более углублено ее развивать в направлении Data Science.\n",
            "\n",
            "Личные качества:\n",
            "- Нахожу общий язык с коллегами\n",
            "- Дисциплинирован.\n",
            "- Постоянно обучаюсь новому.\n",
            "- Стремлюсь к профессиональному и карьерному росту.\n",
            "- В работе соблюдаю сроки выполнения задач.\n",
            "- Способен длительное время заниматься решением одной проблемы.\n",
            "- Умею работать с большим объёмом информации.\n",
            "- Умею хранить конфиденциальную информацию.\n",
            "- Способен исследовать, проверять факты и собирать точные данные.\n",
            "\n"
          ]
        }
      ]
    },
    {
      "cell_type": "code",
      "source": [
        "promt = f'''Ты hr консультант, который помогает соискателю грамотно написать о себе,\n",
        "чтобы максимально соответствовать должности {position}. Соискатель написал о себе, оптимизируй этот текст,\n",
        "и если надо, то дополни, чтобы он максимально был релевантным должности соискателя.\n",
        "Напиши лаконично от первого лица в деловом стиле, как будто это ты устраиваешься на должность {position}.\n",
        "Не пиши приветствие'''\n",
        "system_content = promt\n",
        "user_content = about\n",
        "sum_education = gpt.gpt_gen_print(system_content, user_content)"
      ],
      "metadata": {
        "colab": {
          "base_uri": "https://localhost:8080/"
        },
        "id": "lVY8L_l8SNoR",
        "outputId": "c935e305-476b-459f-e669-3425c01c2d6a"
      },
      "execution_count": null,
      "outputs": [
        {
          "output_type": "stream",
          "name": "stdout",
          "text": [
            "Я успешно сдал экзамен P1 CIMA средним баллом 4,6. Моя изначальная склонность к аналитике побудила меня добавить технологические навыки и углубить свои знания в области Data Science.\n",
            "\n",
            "У меня есть ряд личных качеств, которые помогут мне быть эффективным Data Scientist:\n",
            "- Я легко нахожу общий язык с коллегами, что способствует эффективной коммуникации и сотрудничеству.\n",
            "- Я дисциплинирован и всегда соблюдаю сроки выполнения задач.\n",
            "- Я постоянно обучаюсь новым навыкам и стремлюсь к профессиональному и карьерному росту.\n",
            "- Я способен длительное время заниматься решением одной проблемы, что позволяет мне глубоко анализировать данные и находить оптимальные решения.\n",
            "- Я умею работать с большим объемом информации и эффективно ее обрабатывать.\n",
            "- Я обладаю навыками хранения конфиденциальной информации, что является важным аспектом работы с данными.\n",
            "- Я способен проводить исследования, проверять факты и собирать точные данные, что помогает мне принимать обоснованные решения.\n",
            "\n",
            "Я готов применить свои навыки и знания в области Data Science для достижения успеха в данной должности.\n",
            "---------------------\n",
            "Фактическое количество токенов\n",
            "прогноз: 442\n",
            "промт: 440\n",
            "ответ: 465\n",
            "всего: 905\n"
          ]
        }
      ]
    },
    {
      "cell_type": "code",
      "source": [
        "sum_education = gpt.gpt_gen_print(system_content, user_content, temperature=0.3)"
      ],
      "metadata": {
        "colab": {
          "base_uri": "https://localhost:8080/"
        },
        "id": "wFKE5qcDSqYC",
        "outputId": "5135005e-ac60-4c1f-eba5-6641602858ef"
      },
      "execution_count": null,
      "outputs": [
        {
          "output_type": "stream",
          "name": "stdout",
          "text": [
            "Я успешно сдал экзамен P1 CIMA средним баллом 4,6. Моя изначальная склонность к аналитике побудила меня добавить технологические навыки и углубить свои знания в области Data Science.\n",
            "\n",
            "В моих личных качествах:\n",
            "- Я легко нахожу общий язык с коллегами, что помогает мне эффективно работать в команде.\n",
            "- Я дисциплинирован и всегда соблюдаю сроки выполнения задач.\n",
            "- Я постоянно обучаюсь новому и стремлюсь к профессиональному и карьерному росту.\n",
            "- Я способен длительное время заниматься решением одной проблемы, что позволяет мне глубоко анализировать данные.\n",
            "- Я умею работать с большим объемом информации и хранить конфиденциальную информацию.\n",
            "- Я способен исследовать, проверять факты и собирать точные данные, что является важным навыком для Data Scientist.\n",
            "\n",
            "Моя цель - применить свои аналитические и технические навыки в области Data Science, чтобы эффективно анализировать данные, находить новые паттерны и предоставлять ценные инсайты для бизнеса. Я готов внести свой вклад в команду Data Scientist и продолжать развиваться в этой области.\n",
            "---------------------\n",
            "Фактическое количество токенов\n",
            "прогноз: 442\n",
            "промт: 440\n",
            "ответ: 451\n",
            "всего: 891\n"
          ]
        }
      ]
    },
    {
      "cell_type": "code",
      "source": [
        "# Суммаризация образования\n",
        "\n",
        "system_content = f'''Ты опытный hr в сфере data science, суммаризируй образование кандидата на должность {position} относительно сферы data science'''\n",
        "user_content = gpt.get_education(education)\n",
        "sum_education = gpt.gpt_gen_print(system_content, user_content)"
      ],
      "metadata": {
        "colab": {
          "base_uri": "https://localhost:8080/"
        },
        "id": "efQS0cJjL2vv",
        "outputId": "28215c95-605c-43ef-ea24-af7a70986807"
      },
      "execution_count": null,
      "outputs": [
        {
          "output_type": "stream",
          "name": "stdout",
          "text": [
            "Кандидат имеет высшее образование в области экономики с фокусом на мировой и национальной экономике. Он также прошел несколько курсов, связанных с различными аспектами бизнеса, включая разработку маркетинговой стратегии, бизнес-моделирование и операционную эффективность. Кроме того, он прошел курсы по технологиям анализа данных и получил сертификат Data Scientist от Университета Синергия. Это образование и курсы позволяют кандидату иметь понимание экономических аспектов и навыки в области анализа данных, что может быть полезно для работы в сфере data science.\n",
            "---------------------\n",
            "Фактическое количество токенов\n",
            "прогноз: 419\n",
            "промт: 417\n",
            "ответ: 238\n",
            "всего: 655\n"
          ]
        }
      ]
    },
    {
      "cell_type": "code",
      "source": [
        "# Суммаризация опыта работы\n",
        "\n",
        "system_content = f'''Ты опытный hr в сфере data science, суммаризируй опыт работы кандидата на должность {position} относительно сферы data science'''\n",
        "user_content = gpt.get_experience(experience)\n",
        "sum_experience = gpt.gpt_gen_print(system_content, user_content)"
      ],
      "metadata": {
        "colab": {
          "base_uri": "https://localhost:8080/"
        },
        "id": "oDYLhw7mMPt5",
        "outputId": "1c8a78bd-d2f2-467e-a643-5145c47e8e73"
      },
      "execution_count": null,
      "outputs": [
        {
          "output_type": "stream",
          "name": "stdout",
          "text": [
            "Кандидат имеет опыт работы в сфере data science, который включает выполнение коммерческого проекта по созданию отчета в Power BI для компании Data Sfera. Он также выполнил несколько личных проектов, включая создание модели отнесения кондитерских изделий к классу с использованием логистической регрессии на основе данных Kaggle, создание финансовых отчетов в Power BI и DataStudio, предсказание прибыли с использованием линейной регрессии на основе данных Kaggle и создание проекта по классификации с использованием метода К-Средних на основе данных Kaggle. \n",
            "\n",
            "Кроме того, кандидат имеет опыт работы в качестве бизнес-аналитика в компании, предоставляющей услуги для населения, где он занимался аналитикой в Power BI и Excel, использованием базы данных и построением автоматизированных отчетов. Он также имел опыт работы в качестве экономиста в компании, занимающейся промышленным клинингом, где он занимался управленческим учетом, сбором и анализом данных, формированием отчетов и визуализацией данных с использованием Power BI, а также вводом данных смет в программу учета и подготовкой аналитических справок и статистик.\n",
            "\n",
            "Ключевые результаты работы кандидата включают внедрение инструмента Power BI для визуализации данных в процесс предоставления отчетности в компании промышленного клининга и разработку и внедрение системы для расчета мотивации персонала в автомобильной компании через углубленную аналитику по продажам.\n",
            "---------------------\n",
            "Фактическое количество токенов\n",
            "прогноз: 1015\n",
            "промт: 1013\n",
            "ответ: 538\n",
            "всего: 1551\n"
          ]
        }
      ]
    },
    {
      "cell_type": "code",
      "source": [
        "# Генерация \"о себе\" с учётом суммаризации образования и опыта работы\n",
        "\n",
        "system_content = f'''Ты опытный hr консультант, который помогает соискателю грамотно написать о себе,\n",
        "чтобы максимально соответствовать должности {position}. Напиши о соискателе для его резюме\n",
        "опираясь на образование и опыт работы соискателя.\n",
        "Напиши кратко и лаконично от первого лица в деловом стиле, как будто это ты устраиваешься на должность {position}.\n",
        "Не пиши приветствие'''\n",
        "\n",
        "user_content = f'Суммаризация образования соискателя:\\n{sum_education}\\nСуммаризация опыта работы соискателя:\\n{sum_experience}'\n",
        "\n",
        "gpt.gpt_gen_print(system_content, user_content, quiet=True)"
      ],
      "metadata": {
        "colab": {
          "base_uri": "https://localhost:8080/",
          "height": 266
        },
        "id": "B4oqZPpeMk4E",
        "outputId": "5c007f32-3429-4b87-9ffb-86abca0c3f79"
      },
      "execution_count": null,
      "outputs": [
        {
          "output_type": "stream",
          "name": "stdout",
          "text": [
            "Я имею высшее образование в области экономики с фокусом на мировой и национальной экономике. Кроме того, я прошел несколько курсов, связанных с различными аспектами бизнеса, включая разработку маркетинговой стратегии и операционную эффективность. Я также получил сертификат Data Scientist от Университета Синергия, что позволяет мне иметь понимание экономических аспектов и навыки в области анализа данных.\n",
            "\n",
            "У меня есть опыт работы в сфере data science, включая выполнение коммерческого проекта по созданию отчета в Power BI для компании Data Sfera. Я также выполнил несколько личных проектов, включая создание модели отнесения кондитерских изделий к классу с использованием логистической регрессии и предсказание прибыли с использованием линейной регрессии на основе данных Kaggle.\n",
            "\n",
            "Кроме того, у меня есть опыт работы в качестве бизнес-аналитика, где я занимался аналитикой в Power BI и Excel, использованием базы данных и построением автоматизированных отчетов. Я также имел опыт работы в качестве экономиста, где я занимался управленческим учетом, сбором и анализом данных, формированием отчетов и визуализацией данных с использованием Power BI.\n",
            "\n",
            "Мои ключевые результаты работы включают внедрение инструмента Power BI для визуализации данных в процесс предоставления отчетности в компании промышленного клининга и разработку и внедрение системы для расчета мотивации персонала в автомобильной компании через углубленную аналитику по продажам.\n"
          ]
        },
        {
          "output_type": "execute_result",
          "data": {
            "text/plain": [
              "'Я имею высшее образование в области экономики с фокусом на мировой и национальной экономике. Кроме того, я прошел несколько курсов, связанных с различными аспектами бизнеса, включая разработку маркетинговой стратегии и операционную эффективность. Я также получил сертификат Data Scientist от Университета Синергия, что позволяет мне иметь понимание экономических аспектов и навыки в области анализа данных.\\n\\nУ меня есть опыт работы в сфере data science, включая выполнение коммерческого проекта по созданию отчета в Power BI для компании Data Sfera. Я также выполнил несколько личных проектов, включая создание модели отнесения кондитерских изделий к классу с использованием логистической регрессии и предсказание прибыли с использованием линейной регрессии на основе данных Kaggle.\\n\\nКроме того, у меня есть опыт работы в качестве бизнес-аналитика, где я занимался аналитикой в Power BI и Excel, использованием базы данных и построением автоматизированных отчетов. Я также имел опыт работы в качестве экономиста, где я занимался управленческим учетом, сбором и анализом данных, формированием отчетов и визуализацией данных с использованием Power BI.\\n\\nМои ключевые результаты работы включают внедрение инструмента Power BI для визуализации данных в процесс предоставления отчетности в компании промышленного клининга и разработку и внедрение системы для расчета мотивации персонала в автомобильной компании через углубленную аналитику по продажам.'"
            ],
            "application/vnd.google.colaboratory.intrinsic+json": {
              "type": "string"
            }
          },
          "metadata": {},
          "execution_count": 92
        }
      ]
    },
    {
      "cell_type": "code",
      "source": [
        "print(gpt.results['last_result'])"
      ],
      "metadata": {
        "colab": {
          "base_uri": "https://localhost:8080/"
        },
        "id": "siy3QClfR6LJ",
        "outputId": "087b331e-240b-475b-e654-322dce640825"
      },
      "execution_count": null,
      "outputs": [
        {
          "output_type": "stream",
          "name": "stdout",
          "text": [
            "Я имею высшее образование в области экономики с фокусом на мировой и национальной экономике. Кроме того, я прошел несколько курсов, связанных с различными аспектами бизнеса, включая разработку маркетинговой стратегии и операционную эффективность. Я также получил сертификат Data Scientist от Университета Синергия, что позволяет мне иметь понимание экономических аспектов и навыки в области анализа данных.\n",
            "\n",
            "У меня есть опыт работы в сфере data science, включая выполнение коммерческого проекта по созданию отчета в Power BI для компании Data Sfera. Я также выполнил несколько личных проектов, включая создание модели отнесения кондитерских изделий к классу с использованием логистической регрессии и предсказание прибыли с использованием линейной регрессии на основе данных Kaggle.\n",
            "\n",
            "Кроме того, у меня есть опыт работы в качестве бизнес-аналитика, где я занимался аналитикой в Power BI и Excel, использованием базы данных и построением автоматизированных отчетов. Я также имел опыт работы в качестве экономиста, где я занимался управленческим учетом, сбором и анализом данных, формированием отчетов и визуализацией данных с использованием Power BI.\n",
            "\n",
            "Мои ключевые результаты работы включают внедрение инструмента Power BI для визуализации данных в процесс предоставления отчетности в компании промышленного клининга и разработку и внедрение системы для расчета мотивации персонала в автомобильной компании через углубленную аналитику по продажам.\n"
          ]
        }
      ]
    },
    {
      "cell_type": "code",
      "source": [
        "# Правка \"о себе\" с учётом суммаризации образования и опыта работы\n",
        "\n",
        "system_content = f'''Ты опытный hr консультант, который помогает соискателю грамотно написать о себе,\n",
        "чтобы максимально соответствовать должности {position}. Напиши о соискателе для его резюме\n",
        "опираясь на образование и опыт работы соискателя.\n",
        "Напиши кратко и лаконично от первого лица в деловом стиле, как будто это ты устраиваешься на должность {position}.\n",
        "Не пиши приветствие. Уложись в 100 слов'''\n",
        "\n",
        "user_content = f'Соискатель написал о себе:\\n{about}\\nСуммаризация образования соискателя:\\n{sum_education}\\nСуммаризация опыта работы соискателя:\\n{sum_experience}'\n",
        "\n",
        "gpt.gpt_gen_print(system_content, user_content, quiet=True)"
      ],
      "metadata": {
        "colab": {
          "base_uri": "https://localhost:8080/",
          "height": 232
        },
        "id": "-u-BZjoRSF8c",
        "outputId": "92e3e333-2417-4e29-81a4-96a20d9cef9f"
      },
      "execution_count": null,
      "outputs": [
        {
          "output_type": "stream",
          "name": "stdout",
          "text": [
            "У меня есть опыт работы в сфере Data Science, включая выполнение коммерческого проекта по созданию отчета в Power BI для компании Data Sfera. Я также выполнил несколько личных проектов, включая создание модели отнесения кондитерских изделий к классу с использованием логистической регрессии на основе данных Kaggle, создание финансовых отчетов в Power BI и DataStudio, предсказание прибыли с использованием линейной регрессии на основе данных Kaggle и создание проекта по классификации с использованием метода К-Средних на основе данных Kaggle.\n",
            "\n",
            "Кроме того, у меня есть опыт работы в качестве бизнес-аналитика, где я занимался аналитикой в Power BI и Excel, использованием базы данных и построением автоматизированных отчетов. Я также имел опыт работы в качестве экономиста, где занимался управленческим учетом, сбором и анализом данных, формированием отчетов и визуализацией данных с использованием Power BI.\n",
            "\n",
            "Мои ключевые результаты работы включают внедрение инструмента Power BI для визуализации данных в процесс предоставления отчетности в компании промышленного клининга и разработку и внедрение системы для расчета мотивации персонала в автомобильной компании через углубленную аналитику по продажам. Я готов применить свой опыт и навыки в области Data Science для достижения целей вашей компании.\n"
          ]
        },
        {
          "output_type": "execute_result",
          "data": {
            "text/plain": [
              "'У меня есть опыт работы в сфере Data Science, включая выполнение коммерческого проекта по созданию отчета в Power BI для компании Data Sfera. Я также выполнил несколько личных проектов, включая создание модели отнесения кондитерских изделий к классу с использованием логистической регрессии на основе данных Kaggle, создание финансовых отчетов в Power BI и DataStudio, предсказание прибыли с использованием линейной регрессии на основе данных Kaggle и создание проекта по классификации с использованием метода К-Средних на основе данных Kaggle.\\n\\nКроме того, у меня есть опыт работы в качестве бизнес-аналитика, где я занимался аналитикой в Power BI и Excel, использованием базы данных и построением автоматизированных отчетов. Я также имел опыт работы в качестве экономиста, где занимался управленческим учетом, сбором и анализом данных, формированием отчетов и визуализацией данных с использованием Power BI.\\n\\nМои ключевые результаты работы включают внедрение инструмента Power BI для визуализации данных в процесс предоставления отчетности в компании промышленного клининга и разработку и внедрение системы для расчета мотивации персонала в автомобильной компании через углубленную аналитику по продажам. Я готов применить свой опыт и навыки в области Data Science для достижения целей вашей компании.'"
            ],
            "application/vnd.google.colaboratory.intrinsic+json": {
              "type": "string"
            }
          },
          "metadata": {},
          "execution_count": 98
        }
      ]
    },
    {
      "cell_type": "code",
      "source": [
        "print(gpt.results['last_result'])"
      ],
      "metadata": {
        "colab": {
          "base_uri": "https://localhost:8080/"
        },
        "id": "U5VwEjKZVmVc",
        "outputId": "810188ff-131a-49c4-f728-0dfa9be1a54c"
      },
      "execution_count": null,
      "outputs": [
        {
          "output_type": "stream",
          "name": "stdout",
          "text": [
            "У меня есть опыт работы в сфере Data Science, включая выполнение коммерческого проекта по созданию отчета в Power BI для компании Data Sfera. Я также выполнил несколько личных проектов, включая создание модели отнесения кондитерских изделий к классу с использованием логистической регрессии на основе данных Kaggle, создание финансовых отчетов в Power BI и DataStudio, предсказание прибыли с использованием линейной регрессии на основе данных Kaggle и создание проекта по классификации с использованием метода К-Средних на основе данных Kaggle.\n",
            "\n",
            "Кроме того, у меня есть опыт работы в качестве бизнес-аналитика, где я занимался аналитикой в Power BI и Excel, использованием базы данных и построением автоматизированных отчетов. Я также имел опыт работы в качестве экономиста, где занимался управленческим учетом, сбором и анализом данных, формированием отчетов и визуализацией данных с использованием Power BI.\n",
            "\n",
            "Мои ключевые результаты работы включают внедрение инструмента Power BI для визуализации данных в процесс предоставления отчетности в компании промышленного клининга и разработку и внедрение системы для расчета мотивации персонала в автомобильной компании через углубленную аналитику по продажам. Я готов применить свой опыт и навыки в области Data Science для достижения целей вашей компании.\n"
          ]
        }
      ]
    },
    {
      "cell_type": "markdown",
      "source": [
        "### Выявление ключевых навыков"
      ],
      "metadata": {
        "id": "zg502ccc-nUX"
      }
    },
    {
      "cell_type": "markdown",
      "source": [
        "Выявленные проблемы промтов:\n",
        "- пишет много общих описаний типа \"аналитическое мышление\", \"умение планировать\" и т.д., добавлено в промт \"пиши только название фреймворков и технологий\", так же добавлено \"пиши на английском\"\n",
        "- в целом выявляет очень широкий спектр навыков"
      ],
      "metadata": {
        "id": "J_38zsehOub7"
      }
    },
    {
      "cell_type": "code",
      "source": [
        "system_content = f'''Ты hr консультант, который помогает соискателю грамотно проанализировать его резюме,\n",
        "и выявить ключевые навыки, соответствующие позиции \"{position}\". Проверь резюме соискателя и напиши через запятую\n",
        "все навыки, которые найдёшь. Навыки должны соответствовать только должности \"{position}\", на которую устраивается соискатель.\n",
        "Если навыки не соответствуют направлению \"{position}\", то не пиши их'''\n",
        "\n",
        "user_content = gpt.get_resume()\n",
        "\n",
        "gpt.gpt_gen_print(system_content, user_content)"
      ],
      "metadata": {
        "colab": {
          "base_uri": "https://localhost:8080/",
          "height": 158
        },
        "id": "L6_8uoOW-rZL",
        "outputId": "6ff563b1-3408-451d-f53c-d47623b2dd3d"
      },
      "execution_count": null,
      "outputs": [
        {
          "output_type": "stream",
          "name": "stdout",
          "text": [
            "Python, Numpy, Matplotlib, Excel, Power BI\n",
            "---------------------\n",
            "Фактическое количество токенов\n",
            "прогноз: 1816\n",
            "промт: 1814\n",
            "ответ: 12\n",
            "всего: 1826\n"
          ]
        },
        {
          "output_type": "execute_result",
          "data": {
            "text/plain": [
              "'Python, Numpy, Matplotlib, Excel, Power BI'"
            ],
            "application/vnd.google.colaboratory.intrinsic+json": {
              "type": "string"
            }
          },
          "metadata": {},
          "execution_count": 57
        }
      ]
    },
    {
      "cell_type": "code",
      "source": [
        "# Добавление промта \"Пиши только название технологий и фреймворков\"\n",
        "\n",
        "system_content = f'''Ты hr консультант, который помогает соискателю грамотно проанализировать его резюме,\n",
        "и выявить ключевые навыки, соответствующие позиции \"{position}\". Проверь резюме соискателя и напиши через запятую\n",
        "все навыки, которые найдёшь. Навыки должны соответствовать только должности \"{position}\", на которую устраивается соискатель.\n",
        "Если навыки не соответствуют направлению \"{position}\", то не пиши их. Допиши так же через запятую ключевые навыки,\n",
        "которые должны соответствовать позиции \"{position}\", но которые соискатель не указал. Пиши только название технологий и фреймворков'''\n",
        "\n",
        "user_content = gpt.get_resume()\n",
        "\n",
        "gpt.gpt_gen_print(system_content, user_content, quiet=True)"
      ],
      "metadata": {
        "colab": {
          "base_uri": "https://localhost:8080/",
          "height": 54
        },
        "id": "ulhDDfO3KnaW",
        "outputId": "203a8eff-7c77-454f-cd5b-b4b17ae21c28"
      },
      "execution_count": null,
      "outputs": [
        {
          "output_type": "stream",
          "name": "stdout",
          "text": [
            "Python, Numpy, Matplotlib, Excel, Power BI\n"
          ]
        },
        {
          "output_type": "execute_result",
          "data": {
            "text/plain": [
              "'Python, Numpy, Matplotlib, Excel, Power BI'"
            ],
            "application/vnd.google.colaboratory.intrinsic+json": {
              "type": "string"
            }
          },
          "metadata": {},
          "execution_count": 68
        }
      ]
    },
    {
      "cell_type": "code",
      "source": [
        "# Исключаем из резюме ключевые навыки\n",
        "\n",
        "system_content = f'''Ты hr консультант, который помогает соискателю грамотно проанализировать его резюме,\n",
        "и выявить ключевые навыки, соответствующие позиции \"{position}\". Проверь резюме соискателя и напиши через запятую\n",
        "все навыки, которые найдёшь. Навыки должны соответствовать только должности \"{position}\", на которую устраивается соискатель.\n",
        "Если навыки не соответствуют направлению \"{position}\", то не пиши их. Допиши так же через запятую ключевые навыки,\n",
        "которые должны соответствовать позиции \"{position}\", но которые соискатель не указал. Пиши только название технологий и фреймворков на английском'''\n",
        "\n",
        "user_content = gpt.get_resume(skills=[])\n",
        "gpt.gpt_gen_print(system_content, user_content, temperature=0.2, quiet=True)"
      ],
      "metadata": {
        "colab": {
          "base_uri": "https://localhost:8080/",
          "height": 91
        },
        "id": "C3SWHTKmPARL",
        "outputId": "ca6cadeb-2647-4aa7-d797-dc89c8337edc"
      },
      "execution_count": null,
      "outputs": [
        {
          "output_type": "stream",
          "name": "stdout",
          "text": [
            "Python, R, SQL, Power BI, Excel, Data Analysis, Data Visualization, Machine Learning, Statistical Analysis, Regression Analysis, Logistic Regression, K-Means Clustering, Financial Modeling, Business Analytics, Time Management, Problem Solving, Communication Skills, Teamwork\n"
          ]
        },
        {
          "output_type": "execute_result",
          "data": {
            "text/plain": [
              "'Python, R, SQL, Power BI, Excel, Data Analysis, Data Visualization, Machine Learning, Statistical Analysis, Regression Analysis, Logistic Regression, K-Means Clustering, Financial Modeling, Business Analytics, Time Management, Problem Solving, Communication Skills, Teamwork'"
            ],
            "application/vnd.google.colaboratory.intrinsic+json": {
              "type": "string"
            }
          },
          "metadata": {},
          "execution_count": 90
        }
      ]
    },
    {
      "cell_type": "markdown",
      "source": [
        "### Анализ резюме относительно вакансии"
      ],
      "metadata": {
        "id": "pxqH3s7Pecij"
      }
    },
    {
      "cell_type": "code",
      "source": [
        "vacancy1 = '''\n",
        "Задачи\n",
        "- Разработка скоринговых моделей оценки контрагентов физических и юридических лиц (сегменты B2C, B2B, B2G)\n",
        "- Разработка моделей оптимизации стратегий сбора задолженности (collection scoring)\n",
        "- Разработка ML моделей (включая нейросети) для автоматизации и повышения эффективности операционных процессов\n",
        "- Разработка ML моделей по анализу и настройке голосовых роботов\n",
        "- Участие во внедрении и тестировании ML моделей, ПО и инфраструктуры для ML\n",
        "- Мониторинг эффективности действующих моделей\n",
        "- Анализ эффективности внутренних и внешних информационных источников\n",
        "\n",
        "Нам важно\n",
        "- Опыт разработки скоринговых/ML моделей\n",
        "- Навык работы с БД\n",
        "- Владение SQL и Python\n",
        "- Знание подходов к оценке эффективности моделей и финансовой эффективности их внедрения\n",
        "- Навыки построения аналитических отчетов и умение визуализировать данные\n",
        "- Хорошую аналитическую и математическую подготовку\n",
        "- Умение копаться в данных, генерировать гипотезы, находить инсайты\n",
        "- Будет большим плюсом опыт менторинга других аналитиков\n",
        "'''"
      ],
      "metadata": {
        "id": "kDSk-RsyeGbE"
      },
      "execution_count": null,
      "outputs": []
    },
    {
      "cell_type": "code",
      "source": [
        "system_content = f'''Ты опытный hr консультант, который помогает соискателю грамотно составить резюме,\n",
        "чтобы максимально соответствовать должности {position}. Соискатель написал резюме, которое содержит навыки, образование соискателя,\n",
        "его опыт работы. Так же приложена вакансия. Проведи анализ относительно данной вакансии, напиши рекомендации по корректировке резюме,\n",
        "чтобы максимально соответствовать должности {position} и максимально подходить к данном вакансии'''\n",
        "\n",
        "resume = gpt.get_resume()\n",
        "user_content = f'Резюме соискателя:\\n{resume}\\n\\nВакансия:\\n{vacancy1}'\n",
        "gpt.gpt_gen_print(system_content, user_content)"
      ],
      "metadata": {
        "colab": {
          "base_uri": "https://localhost:8080/",
          "height": 787
        },
        "id": "4n2fIPLweh87",
        "outputId": "2e7e87b7-3bec-478c-aec3-e623ba582911"
      },
      "execution_count": null,
      "outputs": [
        {
          "output_type": "stream",
          "name": "stdout",
          "text": [
            "Анализ вакансии и рекомендации по корректировке резюме:\n",
            "\n",
            "1. Вакансия требует разработку скоринговых моделей оценки контрагентов, моделей оптимизации стратегий сбора задолженности, ML моделей для автоматизации операционных процессов и анализа голосовых роботов. Рекомендуется в резюме подчеркнуть опыт и навыки в разработке и применении таких моделей.\n",
            "\n",
            "2. Вакансия требует навык работы с базами данных и владение SQL. В резюме следует упомянуть опыт работы с базами данных и навыки работы с SQL.\n",
            "\n",
            "3. Вакансия требует владение Python. В резюме уже указаны навыки работы с Python, но рекомендуется уточнить, что уровень владения языком позволяет разрабатывать ML модели.\n",
            "\n",
            "4. Вакансия требует знание подходов к оценке эффективности моделей и их финансовой эффективности. В резюме следует упомянуть опыт оценки эффективности моделей и знание финансовых аспектов их внедрения.\n",
            "\n",
            "5. Вакансия требует навыки построения аналитических отчетов и визуализации данных. В резюме уже указано владение Excel и Power BI, но рекомендуется уточнить, что есть опыт построения аналитических отчетов и визуализации данных с использованием этих инструментов.\n",
            "\n",
            "6. Вакансия требует хорошую аналитическую и математическую подготовку, умение копаться в данных, генерировать гипотезы и находить инсайты. В резюме следует подчеркнуть свою аналитическую и математическую подготовку, а также привести примеры проектов, где были использованы эти навыки.\n",
            "\n",
            "7. Вакансия отмечает, что опыт менторинга других аналитиков будет большим плюсом. Если у соискателя есть опыт менторинга, следует упомянуть его в резюме.\n",
            "\n",
            "Рекомендации по корректировке резюме:\n",
            "\n",
            "- В разделе \"Ключевые навыки\" добавить \"Machine Learning\", чтобы подчеркнуть знание и опыт в этой области.\n",
            "- В разделе \"Опыт работы\" подробнее описать проекты, связанные с разработкой скоринговых моделей, оптимизацией стратегий и автоматизацией операционных процессов. Указать использованные инструменты и достигнутые результаты.\n",
            "- В разделе \"Опыт работы\" упомянуть опыт работы с базами данных и использование SQL.\n",
            "- В разделе \"Опыт работы\" подчеркнуть опыт оценки эффективности моделей и финансовых аспектов их внедрения.\n",
            "- В разделе \"Опыт работы\" упомянуть опыт построения аналитических отчетов и визуализации данных с использованием Excel и Power BI.\n",
            "- В разделе \"Опыт работы\" подчеркнуть аналитическую и математическую подготовку, а также привести примеры проектов, где были использованы эти навыки.\n",
            "- Если есть опыт менторинга других аналитиков, упомянуть его в разделе \"Опыт работы\".\n",
            "\n",
            "Общие рекомендации:\n",
            "\n",
            "- Проверить резюме на грамматические и орфографические ошибки.\n",
            "- Убедиться, что резюме четко структурировано и легко читается.\n",
            "- Подготовить сопроводительное письмо, в котором подчеркнуть свою заинтересованность в вакансии и почему соискатель подходит для этой должности.\n",
            "---------------------\n",
            "Фактическое количество токенов\n",
            "прогноз: 2306\n",
            "промт: 2304\n",
            "ответ: 1210\n",
            "всего: 3514\n"
          ]
        },
        {
          "output_type": "execute_result",
          "data": {
            "text/plain": [
              "'Анализ вакансии и рекомендации по корректировке резюме:\\n\\n1. Вакансия требует разработку скоринговых моделей оценки контрагентов, моделей оптимизации стратегий сбора задолженности, ML моделей для автоматизации операционных процессов и анализа голосовых роботов. Рекомендуется в резюме подчеркнуть опыт и навыки в разработке и применении таких моделей.\\n\\n2. Вакансия требует навык работы с базами данных и владение SQL. В резюме следует упомянуть опыт работы с базами данных и навыки работы с SQL.\\n\\n3. Вакансия требует владение Python. В резюме уже указаны навыки работы с Python, но рекомендуется уточнить, что уровень владения языком позволяет разрабатывать ML модели.\\n\\n4. Вакансия требует знание подходов к оценке эффективности моделей и их финансовой эффективности. В резюме следует упомянуть опыт оценки эффективности моделей и знание финансовых аспектов их внедрения.\\n\\n5. Вакансия требует навыки построения аналитических отчетов и визуализации данных. В резюме уже указано владение Excel и Power BI, но рекомендуется уточнить, что есть опыт построения аналитических отчетов и визуализации данных с использованием этих инструментов.\\n\\n6. Вакансия требует хорошую аналитическую и математическую подготовку, умение копаться в данных, генерировать гипотезы и находить инсайты. В резюме следует подчеркнуть свою аналитическую и математическую подготовку, а также привести примеры проектов, где были использованы эти навыки.\\n\\n7. Вакансия отмечает, что опыт менторинга других аналитиков будет большим плюсом. Если у соискателя есть опыт менторинга, следует упомянуть его в резюме.\\n\\nРекомендации по корректировке резюме:\\n\\n- В разделе \"Ключевые навыки\" добавить \"Machine Learning\", чтобы подчеркнуть знание и опыт в этой области.\\n- В разделе \"Опыт работы\" подробнее описать проекты, связанные с разработкой скоринговых моделей, оптимизацией стратегий и автоматизацией операционных процессов. Указать использованные инструменты и достигнутые результаты.\\n- В разделе \"Опыт работы\" упомянуть опыт работы с базами данных и использование SQL.\\n- В разделе \"Опыт работы\" подчеркнуть опыт оценки эффективности моделей и финансовых аспектов их внедрения.\\n- В разделе \"Опыт работы\" упомянуть опыт построения аналитических отчетов и визуализации данных с использованием Excel и Power BI.\\n- В разделе \"Опыт работы\" подчеркнуть аналитическую и математическую подготовку, а также привести примеры проектов, где были использованы эти навыки.\\n- Если есть опыт менторинга других аналитиков, упомянуть его в разделе \"Опыт работы\".\\n\\nОбщие рекомендации:\\n\\n- Проверить резюме на грамматические и орфографические ошибки.\\n- Убедиться, что резюме четко структурировано и легко читается.\\n- Подготовить сопроводительное письмо, в котором подчеркнуть свою заинтересованность в вакансии и почему соискатель подходит для этой должности.'"
            ],
            "application/vnd.google.colaboratory.intrinsic+json": {
              "type": "string"
            }
          },
          "metadata": {},
          "execution_count": 102
        }
      ]
    },
    {
      "cell_type": "code",
      "source": [
        "system_content = f'''Ты опытный hr консультант, который консультирует соискателя на должность {position}.\n",
        "Соискатель написал резюме, так же приложена вакансия. Проведи анализ резюме соискателя относительно данной вакансии.\n",
        "Напиши в процентах, насколько данный кандидат соответствует данной вакансии, а так же перечисли то, чего ему не хватате,\n",
        "чтобы устроиться на данную вакансию'''\n",
        "\n",
        "resume = gpt.get_resume()\n",
        "user_content = f'Резюме соискателя:\\n{resume}\\n\\nВакансия:\\n{vacancy1}'\n",
        "gpt.gpt_gen_print(system_content, user_content, quiet=True)"
      ],
      "metadata": {
        "colab": {
          "base_uri": "https://localhost:8080/"
        },
        "id": "PBg7_I1Hf_UC",
        "outputId": "75f457f6-577c-4e85-a16c-900d556385b4"
      },
      "execution_count": null,
      "outputs": [
        {
          "output_type": "stream",
          "name": "stdout",
          "text": [
            "Анализ резюме соискателя относительно вакансии Data Scientist:\n",
            "\n",
            "1. Опыт разработки скоринговых/ML моделей: 80%\n",
            "   Соискатель указал, что у него есть опыт работы над проектами по предсказанию прибыли с помощью линейной регрессии и классификации с помощью метода К-Средних. Это свидетельствует о его опыте работы с моделями машинного обучения.\n",
            "\n",
            "2. Навык работы с БД: 70%\n",
            "   Соискатель указал, что он умеет работать с базами данных. Однако, не указал конкретные базы данных, с которыми работал. Более подробная информация о его опыте работы с БД была бы полезна.\n",
            "\n",
            "3. Владение SQL и Python: 80%\n",
            "   Соискатель указал, что владеет языком программирования Python. Однако, не указал конкретные навыки работы с SQL. Более подробная информация о его навыках работы с SQL была бы полезна.\n",
            "\n",
            "4. Знание подходов к оценке эффективности моделей и финансовой эффективности их внедрения: 70%\n",
            "   Соискатель не указал конкретные знания по оценке эффективности моделей и их внедрения. Более подробная информация о его знаниях в этой области была бы полезна.\n",
            "\n",
            "5. Навыки построения аналитических отчетов и умение визуализировать данные: 80%\n",
            "   Соискатель указал, что умеет строить аналитические отчеты и визуализировать данные с помощью Power BI и Excel. Это свидетельствует о его навыках работы с аналитическими инструментами.\n",
            "\n",
            "6. Хорошая аналитическая и математическая подготовка: 80%\n",
            "   Соискатель указал, что имеет склонность к аналитике и обучается в области анализа данных. Это свидетельствует о его аналитической и математической подготовке.\n",
            "\n",
            "7. Умение копаться в данных, генерировать гипотезы, находить инсайты: 80%\n",
            "   Соискатель указал, что умеет работать с большим объемом информации, исследовать, проверять факты и собирать точные данные. Это свидетельствует о его способности анализировать данные и находить инсайты.\n",
            "\n",
            "8. Опыт менторинга других аналитиков: 0%\n",
            "   Соискатель не указал опыт менторинга других аналитиков. Это то, чего ему не хватает для полного соответствия вакансии.\n",
            "\n",
            "Итого, данный кандидат соответствует вакансии Data Scientist на 75%. Ему не хватает опыта работы с конкретными базами данных, навыков работы с SQL, знаний по оценке эффективности моделей и их внедрения, а также опыта менторинга других аналитиков.\n"
          ]
        }
      ]
    },
    {
      "cell_type": "code",
      "source": [
        "vacancy2 = '''\n",
        "Вы будете:\n",
        "\n",
        "    Взаимодействовать с заинтересованными сторонами в рамках всей организации, чтобы определить осуществимость использования данных компании для формирования бизнес-решений и монетизации данных\n",
        "    Извлекать и анализировать данные из баз данных компаний для оптимизации инструментов, процессов\n",
        "    Производить пользовательские модели данных и алгоритмов для применения к наборам данных;\n",
        "    Формулировать процессы и инструменты для мониторинга и анализа производительности модели и точности данных;\n",
        "    Представлять результаты моделирования для бизнес-аудитории, включая руководителей организации;\n",
        "    Реализовывать стратегию управления бизнес-данными и давать рекомендации\n",
        "    Проектировать, рефакторить, разворачивать дата продукты;\n",
        "    Выдвигать в организации использование подготовленных внутри дата продуктов с помощью презентаций, документации и совместной работы бизнес функций;\n",
        "    Подготавливать инструменты и автоматизировать рабочие процессы;\n",
        "    Превращать неструктурированные недостатки и болевые точки в конкретные бизнес и технические требования для проверки гипотез или производства дата продуктов.\n",
        "\n",
        "Мы ожидаем:\n",
        "\n",
        "    Образование и соответствующий опыт в области статистики, математики, информатики или смежных областях;\n",
        "    Уверенное знание SQL, Python, алгоритмов машинного обучения и статистики;\n",
        "    Подтвержденный опыт создания пайплайнов машинного обучения, работающих в продуктивной среде разработки (обучение, оценка, использование в системах реального времени);\n",
        "    Опыт использования облачных платформ (Azure ML, Google Cloud Platform ML, AWS SageMaker, Yandex Cloud Platform) и развертывания аналитики в продуктивной среде;\n",
        "    Опыт работы со стеком Azure (Data Lake, Database, Data Factory, Data Brick и т. д.) и/или Yandex Cloud (Data Proc, Data Sphere и т. д.) – будет плюсом;\n",
        "    Опыт визуализации данных с использованием Power BI/ggplot/plotly/ – будет плюсом;\n",
        "    Высокие навыки коммуникации, решения проблем, стремление к обучению;\n",
        "    Самостоятельного специалиста, с высокой ответственностью, готового привносить структуру в неструктурированные ситуации;\n",
        "    Средний или выше среднего уровень знания английского языка (разговорный и письменный).\n",
        "\n",
        "'''"
      ],
      "metadata": {
        "id": "ZDb1UyP2iLTU"
      },
      "execution_count": null,
      "outputs": []
    },
    {
      "cell_type": "code",
      "source": [
        "system_content = f'''Ты опытный hr консультант, который помогает соискателю грамотно составить резюме,\n",
        "чтобы максимально соответствовать должности {position}. Соискатель написал резюме, которое содержит навыки, образование соискателя,\n",
        "его опыт работы. Так же приложена вакансия. Проведи анализ относительно данной вакансии, напиши рекомендации по корректировке резюме,\n",
        "чтобы максимально соответствовать должности {position} и максимально подходить к данном вакансии'''\n",
        "\n",
        "resume = gpt.get_resume()\n",
        "user_content = f'Резюме соискателя:\\n{resume}\\n\\nВакансия:\\n{vacancy2}'\n",
        "gpt.gpt_gen_print(system_content, user_content)"
      ],
      "metadata": {
        "colab": {
          "base_uri": "https://localhost:8080/"
        },
        "id": "uAB7dOociXVH",
        "outputId": "aba4d413-f146-47f1-f351-5157bfd883a9"
      },
      "execution_count": null,
      "outputs": [
        {
          "output_type": "stream",
          "name": "stdout",
          "text": [
            "Анализ вакансии и рекомендации по корректировке резюме:\n",
            "\n",
            "1. Образование:\n",
            "В резюме указано два высших образования, но они не связаны напрямую с областью Data Science. Рекомендуется выделить в резюме только наиболее релевантное образование, а именно:\n",
            "- Университет Синергия (2022 - настоящее время) - Data Scientist\n",
            "- НИУ ИТМО, Санкт-Петербург (2021 - настоящее время) - Технологии анализа данных\n",
            "\n",
            "2. Ключевые навыки:\n",
            "В резюме указаны некоторые технические навыки, но их список можно расширить, чтобы максимально соответствовать требованиям вакансии. Рекомендуется добавить следующие навыки:\n",
            "- SQL\n",
            "- Machine Learning\n",
            "- Cloud platforms (Azure ML, Google Cloud Platform ML, AWS SageMaker, Yandex Cloud Platform)\n",
            "- Data visualization (Power BI, ggplot, plotly)\n",
            "\n",
            "3. Опыт работы:\n",
            "В резюме указан опыт работы, но не все проекты и задачи связаны с Data Science. Рекомендуется выделить только те проекты и задачи, которые относятся к Data Science и максимально соответствуют требованиям вакансии. Например:\n",
            "- Проектная деятельность (09.2021 - настоящее время) - Data Scientist\n",
            "    - Коммерческий проект по созданию отчета в Power BI для компании Data Sfera\n",
            "    - Личные проекты по предсказанию прибыли с помощью линейной регрессии на основе данных Kaggle\n",
            "    - Личный проект по классификации с помощью метода К-Средних на основе данных Kaggle\n",
            "\n",
            "- Элерон (Европейская химчистка Apetta) (06.2022 - настоящее время) - Бизнес-аналитик\n",
            "    - Аналитика в Power BI, Excel. Использование базы данных. Построение автоматизированных отчетов.\n",
            "\n",
            "4. Личные качества:\n",
            "В резюме указаны некоторые личные качества, но они не являются специфичными для должности Data Scientist. Рекомендуется добавить личные качества, которые будут полезны в работе Data Scientist, например:\n",
            "- Аналитическое мышление\n",
            "- Умение работать с большими объемами данных\n",
            "- Умение принимать решения на основе данных\n",
            "- Коммуникабельность и умение работать в команде\n",
            "\n",
            "5. Дополнительные курсы:\n",
            "В резюме указаны дополнительные курсы, но они не связаны напрямую с Data Science. Рекомендуется добавить курсы, которые будут полезны в работе Data Scientist, например:\n",
            "- Курсы по машинному обучению и анализу данных\n",
            "- Курсы по использованию инструментов и технологий Data Science (например, TensorFlow, PyTorch, Spark)\n",
            "\n",
            "Общие рекомендации:\n",
            "- Укажите в резюме язык программирования Python как один из ключевых навыков.\n",
            "- Уделите внимание описанию проектов и задач, чтобы подчеркнуть свои достижения и результаты.\n",
            "- Подготовьте сопроводительное письмо, в котором подробнее расскажите о своем опыте и мотивации работать в области Data Science.\n",
            "\n",
            "После внесения рекомендаций резюме будет более соответствовать требованиям вакансии и повысит шансы соискателя на получение работы Data Scientist.\n",
            "---------------------\n",
            "Фактическое количество токенов\n",
            "прогноз: 2702\n",
            "промт: 2700\n",
            "ответ: 1101\n",
            "всего: 3801\n"
          ]
        }
      ]
    },
    {
      "cell_type": "code",
      "source": [
        "system_content = f'''Ты опытный hr консультант, который консультирует соискателя на должность {position}.\n",
        "Соискатель написал резюме, так же приложена вакансия. Проведи анализ резюме соискателя относительно данной вакансии.\n",
        "Напиши в процентах, насколько данный кандидат соответствует данной вакансии, а так же перечисли то, чего ему не хватате,\n",
        "чтобы устроиться на данную вакансию'''\n",
        "\n",
        "resume = gpt.get_resume()\n",
        "user_content = f'Резюме соискателя:\\n{resume}\\n\\nВакансия:\\n{vacancy2}'\n",
        "gpt.gpt_gen_print(system_content, user_content, quiet=True)"
      ],
      "metadata": {
        "colab": {
          "base_uri": "https://localhost:8080/"
        },
        "id": "0NnXJ3usifEm",
        "outputId": "1e2a113d-d09d-41be-80dc-8063b20af4d2"
      },
      "execution_count": null,
      "outputs": [
        {
          "output_type": "stream",
          "name": "stdout",
          "text": [
            "Анализ резюме соискателя относительно вакансии Data Scientist:\n",
            "\n",
            "1. Образование и опыт:\n",
            "   - Соискатель имеет образование в области экономики, что не является прямым соответствием требованиям вакансии, где ожидается образование в области статистики, математики или информатики. (-10%)\n",
            "\n",
            "2. Навыки и опыт работы:\n",
            "   - Соискатель обладает навыками работы с Python, Numpy, Matplotlib, Excel, Power BI, что соответствует требованиям вакансии. (+20%)\n",
            "   - Опыт работы в области Data Science отсутствует. (-10%)\n",
            "   - Опыт работы в аналитической сфере присутствует, но не связан с Data Science. (+5%)\n",
            "\n",
            "3. Личные качества:\n",
            "   - Соискатель обладает дисциплинированностью, стремлением к профессиональному и карьерному росту, умением работать с большим объемом информации, хранить конфиденциальную информацию. Эти качества соответствуют требованиям вакансии. (+10%)\n",
            "   - Однако, отсутствует информация о коммуникационных навыках и способности решать проблемы, что является важным для работы Data Scientist. (-5%)\n",
            "\n",
            "4. Курсы и сертификаты:\n",
            "   - Соискатель проходил курсы по техническому английскому, экономике и финансам, разработке и реализации маркетинговой стратегии, бизнес-моделям компании и операционной эффективности. Эти курсы не являются прямым соответствием требованиям вакансии. (-5%)\n",
            "   - Прохождение курсов по Data Science и технологиям анализа данных является плюсом, но не является основным требованием вакансии. (+5%)\n",
            "\n",
            "5. Опыт работы:\n",
            "   - Соискатель имеет опыт работы в области Data Science на фрилансе, где занимался проектами по созданию отчетов в Power BI, классификации и предсказанию данных. Этот опыт соответствует требованиям вакансии. (+15%)\n",
            "   - Опыт работы в основной работе связан с аналитикой и использованием Power BI и Excel, что также соответствует требованиям вакансии. (+10%)\n",
            "\n",
            "Итого, данный кандидат соответствует вакансии Data Scientist на 30%. Ему не хватает образования в области статистики, математики или информатики, опыта работы в области Data Science, а также некоторых коммуникационных навыков и способности решать проблемы. Рекомендуется дополнительное обучение и получение опыта работы в области Data Science для увеличения шансов на устройство на данную вакансию.\n"
          ]
        }
      ]
    },
    {
      "cell_type": "markdown",
      "source": [
        "### Сопроводительное письмо"
      ],
      "metadata": {
        "id": "YgKce4JcWAEg"
      }
    },
    {
      "cell_type": "code",
      "source": [
        "promt = f'''Ты опытный hr консультант, который помогает соискателю грамотно написать сопроводительное письмо.\n",
        "Напиши сопроводительное письмо на должность \"{position}\" от лица соискателя на основании его резюме и образца сопроводительного письма.\n",
        "Выдели навыки, опыт и личные качества соискателя, связанные с работой, которые делают его подходящим для этой должности.\n",
        "В образце предоставлен текст сопроводительного письма, а в квадратных скобках указано то, что нужно подставить в текст исходя из резюме соискателя'''"
      ],
      "metadata": {
        "id": "QRy60oL-F8V-"
      },
      "execution_count": null,
      "outputs": []
    },
    {
      "cell_type": "code",
      "source": [
        "sample = '''\n",
        "Уважаемый [Имя получателя],\n",
        "\n",
        "Я пишу, чтобы подать заявку на должность старшего специалиста по данным в Сан-Франциско / удаленно в [название компании].\n",
        "\n",
        "У меня [квалификация, пример: информатика, наука о данных] из [университет / институт, пример: МФТИ 2017], [местонахождение университета] и [количество лет] лет опыта работы с машинным обучением, глубоким обучением, RL, GAN, компьютерное зрение, распознавание лиц и т. Д. В таких компаниях, как Google, Яндекс, Huawei [названия компаний]\n",
        "\n",
        "Мои основные результаты как специалист по анализу данных: [назовите 3-4 основных результата как ML, DL эксперт, используя ключевые слова]. На моей предыдущей должности в [Назовите компанию: Samsung, Яндекс, Google. Лучше — известная компания], я отвечал за [обсудить ваши основные обязанности]\n",
        "\n",
        "Согласно требованиям, предъявляемым к должности в [компании], мой технический стек — это Python, Pytorch, Tensorflow, Machine Learning, Deep Learning, Reinforcement Learning, Graph methods.\n",
        "\n",
        "В моем резюме вы заметите, что я [важно описать опыт, технические навыки, компетенции, которые непосредственно отвечают требованиям, перечисленным в описании вакансии специалиста по данным].\n",
        "\n",
        "Я обращаюсь в [компанию], потому что восхищаюсь вашими [назовите 2 или 3 факта о компании и ее проектах, связанных с ML, DL в приоритетах, которые вам действительно нравятся в ней]. Как специалист по Data Science, я был бы рад присоединиться к команде профессионалов и использовать свой опыт в алгоритмах DS, ML, RL для получения результатов [компании].\n",
        "\n",
        "Спасибо, что нашли время рассмотреть мою заявку. С нетерпением жду Вашего ответа.\n",
        "\n",
        "С уважением,\n",
        "\n",
        "[Ваше имя, номер телефона]\n",
        "'''"
      ],
      "metadata": {
        "id": "z2sTAcE4FoR0"
      },
      "execution_count": null,
      "outputs": []
    },
    {
      "cell_type": "code",
      "source": [
        "resume = gpt.get_resume()\n",
        "system_content = promt\n",
        "user_content = resume\n",
        "assistant_content = sample\n",
        "gpt.gpt_gen_print(system_content, user_content, assistant_content)"
      ],
      "metadata": {
        "colab": {
          "base_uri": "https://localhost:8080/"
        },
        "id": "lGeg5X-MGk71",
        "outputId": "0964a1ce-993b-491f-c304-ee8595e810c8"
      },
      "execution_count": null,
      "outputs": [
        {
          "output_type": "stream",
          "name": "stdout",
          "text": [
            "Уважаемый [Имя],\n",
            "\n",
            "Я хочу выразить свой интерес к вакансии Data Scientist в вашей компании. У меня есть опыт работы в области аналитики и разработки данных, а также навыки, необходимые для успешного выполнения этой роли.\n",
            "\n",
            "Я получил высшее образование в СПбГЭУ и Санкт-Петербургском государственном инженерно-экономическом университете \"ИНЖЭКОН\" по специальности экономика. Кроме того, я прохожу курсы по Data Science в Университете Синергия и НИУ ИТМО, чтобы углубить свои знания и навыки в этой области.\n",
            "\n",
            "У меня есть опыт работы в качестве Data Scientist на фрилансе, где я занимался разработкой отчетов в Power BI и созданием моделей прогнозирования прибыли с использованием линейной регрессии. Я также работал с большим объемом данных и умею эффективно анализировать их с помощью Python, Numpy и Matplotlib.\n",
            "\n",
            "В моей последней работе в компании Элерон я занимался аналитикой в Power BI и Excel, использовал базы данных и создавал автоматизированные отчеты. Я также имею опыт работы с 1C и SQL для сбора и анализа данных. В этой роли я проявил дисциплинированность, соблюдал сроки выполнения задач и умел работать с конфиденциальной информацией.\n",
            "\n",
            "Я обладаю такими личными качествами, как нахождение общего языка с коллегами, стремление к профессиональному и карьерному росту, способность длительное время заниматься решением одной проблемы и работать с большим объемом информации. Я также постоянно обучаюсь новому и умею исследовать, проверять факты и собирать точные данные.\n",
            "\n",
            "Я уверен, что мои навыки, опыт и личные качества делают меня подходящим кандидатом для должности Data Scientist в вашей компании. Я готов приступить к работе немедленно и внести свой вклад в достижение ваших целей.\n",
            "\n",
            "С уважением,\n",
            "[Имя]\n",
            "---------------------\n",
            "Фактическое количество токенов\n",
            "прогноз: 1888\n",
            "промт: 1886\n",
            "ответ: 718\n",
            "всего: 2604\n"
          ]
        }
      ]
    },
    {
      "cell_type": "code",
      "source": [
        "# Добавляем \"о компании\""
      ],
      "metadata": {
        "id": "bCVFGt4IQLb8"
      },
      "execution_count": null,
      "outputs": []
    },
    {
      "cell_type": "code",
      "source": [
        "promt = f'''Ты опытный hr консультант, который помогает соискателю грамотно написать сопроводительное письмо.\n",
        "Напиши сопроводительное письмо на должность \"{position}\" от лица соискателя на основании его резюме и образца сопроводительного письма.\n",
        "Выдели навыки, опыт и личные качества соискателя, связанные с работой, которые делают его подходящим для этой должности.\n",
        "Предоставлен текст о компании и образец сопроводительного письма.\n",
        "В образце сопроводительного письма в квадратных скобках указано то, что нужно подставить в текст исходя из резюме соискателя.'''"
      ],
      "metadata": {
        "id": "5brf1yDDQP8L"
      },
      "execution_count": null,
      "outputs": []
    },
    {
      "cell_type": "code",
      "source": [
        "vacancy1_about = '''\n",
        "Многофункциональный общий центр обслуживания (Филиал ОЦО) — это крупнейший среди западных и российских корпораций центр по обслуживанию внутренних клиентов (сотрудников «Ростелекома»). Филиал ОЦО был создан в 2012 году по опыту лучших мировых практик. Наши девять центров расположены в 6 городах: Нижнем Новгороде, Екатеринбурге, Новосибирске, Москве, Воронеже, Ярославле. Более 4000 сотрудников, знающих свое дело и болеющих за него всей душой, обслуживают всю территорию представленности «Ростелекома». Мы помогаем компании сосредоточиться на ее стратегическом бизнесе, переняв вспомогательные функции на себя.\n",
        "'''"
      ],
      "metadata": {
        "id": "vydkqjL9QFqs"
      },
      "execution_count": null,
      "outputs": []
    },
    {
      "cell_type": "code",
      "source": [
        "resume = gpt.get_resume()\n",
        "system_content = promt\n",
        "user_content = resume\n",
        "assistant_content = f'Текст о компании:\\n{vacancy1_about}\\nОбразец сопроводительного письма:\\n{sample}'\n",
        "gpt.gpt_gen_print(system_content, user_content, assistant_content)"
      ],
      "metadata": {
        "colab": {
          "base_uri": "https://localhost:8080/"
        },
        "id": "62p9Ccq5Qtcx",
        "outputId": "cb1333e2-ab8f-491e-8c25-e010ea5a526c"
      },
      "execution_count": null,
      "outputs": [
        {
          "output_type": "stream",
          "name": "stdout",
          "text": [
            "Уважаемый [Имя рекрутера],\n",
            "\n",
            "Я хочу выразить свой интерес к вакансии Data Scientist в вашей компании. Уверен, что мой опыт и навыки позволят мне успешно выполнять задачи, связанные с анализом данных и разработкой моделей.\n",
            "\n",
            "Я обладаю широким спектром навыков, необходимых для работы Data Scientist. Мой опыт включает использование языка программирования Python, библиотеки Numpy и инструментов визуализации данных, таких как Matplotlib. Я также имею опыт работы с Excel и Power BI, что позволяет мне эффективно анализировать и представлять данные.\n",
            "\n",
            "Моя образовательная подготовка в области экономики и анализа данных дает мне прочные теоретические знания, которые я успешно применяю на практике. Я также постоянно обучаюсь новым технологиям и методам анализа данных, чтобы быть в курсе последних тенденций в этой области.\n",
            "\n",
            "Я дисциплинирован и всегда соблюдаю сроки выполнения задач. Мне нравится работать с большим объемом информации и я умею хранить конфиденциальную информацию. Я также обладаю способностью исследовать, проверять факты и собирать точные данные, что является важным аспектом работы Data Scientist.\n",
            "\n",
            "Мой опыт работы включает проектную деятельность в области анализа данных, где я успешно применял свои навыки и знания. Я работал над проектами по созданию отчетов в Power BI, разработке финансовых моделей в Excel и предсказанию прибыли с помощью линейной регрессии. Мой опыт также включает работу с базами данных и построение автоматизированных отчетов.\n",
            "\n",
            "В моей текущей работе в качестве бизнес-аналитика я активно использую Power BI и Excel для анализа данных и построения отчетов. Я также работаю с базами данных и провожу план-факторный анализ полученных данных. Мой опыт включает внедрение инструментов визуализации данных и разработку системы для расчета мотивации персонала.\n",
            "\n",
            "Я уверен, что мои навыки, опыт и личные качества делают меня подходящим кандидатом на должность Data Scientist в вашей компании. Я готов принять вызов и внести свой вклад в развитие вашей компании.\n",
            "\n",
            "С уважением,\n",
            "[Имя соискателя]\n",
            "---------------------\n",
            "Фактическое количество токенов\n",
            "прогноз: 1908\n",
            "промт: 1906\n",
            "ответ: 799\n",
            "всего: 2705\n"
          ]
        }
      ]
    },
    {
      "cell_type": "code",
      "source": [
        "gpt.gpt_gen_print(system_content, user_content, assistant_content, temperature=0.2)"
      ],
      "metadata": {
        "colab": {
          "base_uri": "https://localhost:8080/"
        },
        "id": "Xur5XexoRWq8",
        "outputId": "3f3c4109-07b5-40e3-8b6e-e53288f0bf27"
      },
      "execution_count": null,
      "outputs": [
        {
          "output_type": "stream",
          "name": "stdout",
          "text": [
            "Уважаемый [Имя рекрутера],\n",
            "\n",
            "Я хочу выразить свой интерес к вакансии Data Scientist в вашей компании. Уверен, что мой опыт и навыки позволят мне успешно выполнять задачи, связанные с анализом данных и разработкой моделей.\n",
            "\n",
            "Я обладаю широким спектром навыков, необходимых для работы Data Scientist. Мой опыт включает использование языка программирования Python, библиотеки Numpy и инструментов визуализации данных, таких как Matplotlib. Я также имею опыт работы с Excel и Power BI, что позволяет мне эффективно анализировать и представлять данные.\n",
            "\n",
            "Моя образовательная подготовка в области экономики и анализа данных дает мне теоретическую базу для работы Data Scientist. Я изучал экономику и мировую экономику в СПбГЭУ и Санкт-Петербургском государственном инженерно-экономическом университете \"ИНЖЭКОН\". Кроме того, я прошел курсы по технологиям анализа данных в НИУ ИТМО.\n",
            "\n",
            "Я также активно развиваю свои навыки и знания, посещая курсы по деловому английскому и экономике и финансам в БФУ им. И. Канта. Это позволяет мне быть в курсе последних тенденций в области анализа данных и применять их на практике.\n",
            "\n",
            "Я имею опыт работы в качестве Data Scientist на фрилансе, где успешно выполнил несколько проектов по анализу данных и созданию отчетов в Power BI. Я также разработал модели прогнозирования прибыли с использованием линейной регрессии и классификации с помощью метода К-Средних на основе данных Kaggle. Мой опыт работы в компании \"Элерон\" в качестве бизнес-аналитика позволил мне применять свои навыки анализа данных и визуализации для построения автоматизированных отчетов.\n",
            "\n",
            "Я обладаю такими личными качествами, как дисциплинированность, стремление к профессиональному росту и способность работать с большим объемом информации. Я также умею находить общий язык с коллегами и соблюдать сроки выполнения задач. Моя способность исследовать, проверять факты и собирать точные данные позволяет мне принимать обоснованные решения на основе анализа данных.\n",
            "\n",
            "Я очень заинтересован в возможности присоединиться к вашей компании и внести свой вклад в развитие ее аналитических возможностей. Буду рад обсудить детали вакансии и моего опыта на собеседовании.\n",
            "\n",
            "С уважением,\n",
            "[Имя соискателя]\n",
            "---------------------\n",
            "Фактическое количество токенов\n",
            "прогноз: 1908\n",
            "промт: 1906\n",
            "ответ: 920\n",
            "всего: 2826\n"
          ]
        }
      ]
    },
    {
      "cell_type": "markdown",
      "source": [
        "# Эксперименты 4"
      ],
      "metadata": {
        "id": "PVVMVUL-pUzv"
      }
    },
    {
      "cell_type": "markdown",
      "source": [
        "## Резюме"
      ],
      "metadata": {
        "id": "GlQD-CnppZIX"
      }
    },
    {
      "cell_type": "code",
      "source": [
        "resume1 = {\n",
        "'name': 'Иван Петрович Сидоров',\n",
        "'city': 'Новополис',\n",
        "'position': 'Data Scientist',\n",
        "\n",
        "'contacts': [\n",
        "    {'email': 'my@email.com'},\n",
        "    {'Телефон': '+7(999)999-99-99'},\n",
        "],\n",
        "\n",
        "'about': '''\n",
        "Сдан экзамен P1 CIMA\n",
        "Средний бал: 4,6\n",
        "\n",
        "Имея изначально склонность к аналитике, решил добавить технологические стек и уже более углублено ее развивать в направлении Data Science.\n",
        "\n",
        "Личные качества:\n",
        "- Нахожу общий язык с коллегами\n",
        "- Дисциплинирован.\n",
        "- Постоянно обучаюсь новому.\n",
        "- Стремлюсь к профессиональному и карьерному росту.\n",
        "- В работе соблюдаю сроки выполнения задач.\n",
        "- Способен длительное время заниматься решением одной проблемы.\n",
        "- Умею работать с большим объёмом информации.\n",
        "- Умею хранить конфиденциальную информацию.\n",
        "- Способен исследовать, проверять факты и собирать точные данные.\n",
        "''',\n",
        "\n",
        "'skills': [\n",
        "    'Python',\n",
        "    'Numpy',\n",
        "    'Matplotlib',\n",
        "    'Excel',\n",
        "    'Power BI',\n",
        "    '1C',\n",
        "    ],\n",
        "\n",
        "'experience': [\n",
        "    {\n",
        "        'date_start': '06.2022',\n",
        "        'date_end': '',\n",
        "        'organisation': 'Элерон (Европейская химчистка Apetta)',\n",
        "        'city': 'Санкт-Петербург',\n",
        "        'web': 'apetta.ru',\n",
        "        'industry': 'Услуги для населения',\n",
        "        'position': 'Бизнес-аналитик',\n",
        "        'experience_type': 'Основная работа',\n",
        "        'activity': 'Аналитика в Power BI, Excel. Использование базы данных. Построение автоматизированных отчетов.',\n",
        "    },\n",
        "    {\n",
        "        'date_start': '09.2021',\n",
        "        'date_end': '',\n",
        "        'organisation': 'Проектная деятельность',\n",
        "        'city': 'Санкт-Петербург',\n",
        "        'web': 'github.com/Litvinov-Anton/Portfolio',\n",
        "        'industry': '',\n",
        "        'position': 'Data Scientist',\n",
        "        'experience_type': 'Фриланс',\n",
        "        'activity': '''\n",
        "Деятельность:\n",
        "Коммерческий проект по созданию отчета в Power BI, для компании Data Sfera.\n",
        "\n",
        "Личный проект. Создал проект по отнесению кондитерских изделий к классу с помощью логистической регрессии, на основании данных Kaggle.\n",
        "\n",
        "Личный проект. Создал несколько финансовых отчетов в Power BI, DataStudio.\n",
        "\n",
        "Личный проект. Создал проекты по предсказанию прибыли с помощью линейной регрессии, на основании данных Kaggle.\n",
        "\n",
        "Личный проект. Составил финансовую модель с помощью Excel.\n",
        "\n",
        "Личный проект. Создал проект по классификации с помощью метода К-Средних, на основании данных Kaggle.\n",
        "        ''',\n",
        "    },\n",
        "    {\n",
        "        'date_start': '10.2021',\n",
        "        'date_end': '11.2021',\n",
        "        'organisation': 'ООО \"УК \"Клин-Тим\" (промышленный клининг)',\n",
        "        'city': 'Санкт-Петербург',\n",
        "        'web': 'cleanteam.ru',\n",
        "        'industry': '',\n",
        "        'position': 'Экономист',\n",
        "        'experience_type': 'Основная работа',\n",
        "        'activity': '''\n",
        "- Ведение управленческого учета компании (2 ЦФО)\n",
        "- Сбор данных и формирование отчетов по маржинальности объектов (1С УПП, Excel)\n",
        "- План-факторный анализ полученных данных, построение отчетности и визуализация данных (Power BI)\n",
        "- Ввод данных смет в программу учета\n",
        "- Подготовка аналитических справок, статистик по итогам работы за период.\n",
        "- Ведение электронного архива смет\n",
        "\n",
        "Ключевые результат:\n",
        "внедрил инструмента PowerBI визуализации в процесс предоставления отчётности\n",
        "''',\n",
        "    },\n",
        "    {\n",
        "        'date_start': '06.2020',\n",
        "        'date_end': '05.2021',\n",
        "        'organisation': '\"Терра -Авто\" КЦ\" (ГК «Прагматика») - один из крупнейших Российских автодилеров',\n",
        "        'city': 'Санкт-Петербург',\n",
        "        'web': 'www.terravto.ru',\n",
        "        'industry': 'Автомобильный бизнес',\n",
        "        'position': 'Экономист',\n",
        "        'experience_type': 'Основная работа',\n",
        "        'activity': '''\n",
        "-Составление бюджета компании (2 ЦФО): планирование показателей операционного производства, выручки от продаж, ФОТа, (OPEX, CAPEX)\n",
        "-План-факторный анализ полученных данных\n",
        "-Составление управленческой отчетности (Excel, SQL, 1С)\n",
        "-Составление экономической и финансовой отчётности для внешних контрагентов по запросу\n",
        "- Контроль исполнения платежного календаря\n",
        "Ключевые результаты:\n",
        "Разработал и внедрил систему для расчета мотивации персонала по компании за счет введения углубленной аналитики по продажам.\n",
        "''',\n",
        "    },\n",
        "],\n",
        "\n",
        "'education': [\n",
        "    {\n",
        "        'date_start': '2017',\n",
        "        'date_end': '',\n",
        "        'education_type': 'Высшее образование',\n",
        "        'institution': 'СПбГЭУ',\n",
        "        'faculty': 'Экономики, Мировая экономика',\n",
        "    },\n",
        "    {\n",
        "        'date_start': '2015',\n",
        "        'date_end': '',\n",
        "        'education_type': 'Высшее образование',\n",
        "        'institution': 'Санкт-Петербургский государственный инженерно-экономический университет \"ИНЖЭКОН\", Санкт-Петербург',\n",
        "        'faculty': 'Экономики, Национальная экономика',\n",
        "    },\n",
        "    {\n",
        "        'date_start': '2022',\n",
        "        'date_end': '',\n",
        "        'education_type': 'Курсы',\n",
        "        'institution': 'Техническая Академия РосАтома',\n",
        "        'faculty': 'Деловой английский',\n",
        "    },\n",
        "    {\n",
        "        'date_start': '2022',\n",
        "        'date_end': '',\n",
        "        'education_type': 'Курсы',\n",
        "        'institution': 'БФУ им. И. Канта',\n",
        "        'faculty': 'Экономика и финансы',\n",
        "    },\n",
        "    {\n",
        "        'date_start': '2022',\n",
        "        'date_end': '',\n",
        "        'education_type': 'Курсы',\n",
        "        'institution': 'БФУ им. И. Канта',\n",
        "        'faculty': 'Разработка и реализация маркетинговой стратегии',\n",
        "    },\n",
        "    {\n",
        "        'date_start': '2022',\n",
        "        'date_end': '',\n",
        "        'education_type': 'Курсы',\n",
        "        'institution': 'БФУ им. И. Канта',\n",
        "        'faculty': 'Бизнес-модели компании и операционная эффективность',\n",
        "    },\n",
        "    {\n",
        "        'date_start': '2022',\n",
        "        'date_end': '',\n",
        "        'education_type': 'Курсы',\n",
        "        'institution': 'Университет Синергия',\n",
        "        'faculty': 'Data Scientist',\n",
        "    },\n",
        "    {\n",
        "        'date_start': '2021',\n",
        "        'date_end': '',\n",
        "        'education_type': 'Курсы',\n",
        "        'institution': 'НИУ ИТМО, Санкт-Петербург',\n",
        "        'faculty': 'Технологии анализа данных',\n",
        "    },\n",
        "]\n",
        "}"
      ],
      "metadata": {
        "id": "Qdx6YkKepjOc"
      },
      "execution_count": null,
      "outputs": []
    },
    {
      "cell_type": "code",
      "source": [
        "resume2 = {\n",
        "'name': 'Петр Сидорович Иванов',\n",
        "'city': 'Дальнегорск',\n",
        "'position': 'Data Scientist',\n",
        "\n",
        "'contacts': [\n",
        "    {'email': 'my2@email.com'},\n",
        "    {'Телефон': '+7(999)999-99-90'},\n",
        "],\n",
        "\n",
        "'about': '''\n",
        "Выполненные работы: \"Прогнозирование оттока клиентов на предприятии\".\n",
        "Средний балл: 4.9\n",
        "Технические навыки:\n",
        "- Apache Spark\n",
        "- Hadoop\n",
        "- Python(Pandas, Numpy, Matplotlib,Sklearn xgboost, lightgbm, catboost, pytorch, hyperopt, optuna)\n",
        "- Oracle PL/SQL\n",
        "- Wolfram Mathematica\n",
        "Сфера профессиональных интересов:\n",
        "- Базы данных\n",
        "- Математические методы в экономике\n",
        "- Статистический анализ\n",
        "- Эконометрическое моделирование\n",
        "- Машинное обучение\n",
        "- Нейронные сети\n",
        "Профессиональные навыки:\n",
        "- Базы данных\n",
        "- Машинное обучение\n",
        "- Нейронные сети\n",
        "- Эконометрическое моделирование\n",
        "- Анализ временных рядов\n",
        "- Анализ данных\n",
        "- Английский язык\n",
        "- Бухгалтерский учет\n",
        "''',\n",
        "\n",
        "'skills': [\n",
        "    'Python',\n",
        "    'Apache Spark',\n",
        "    'Sklearn',\n",
        "    'LightGBM',\n",
        "    'CatBoost',\n",
        "    'hyperopt',\n",
        "    'Pytorch',\n",
        "    'Linux',\n",
        "    'Matplotlib',\n",
        "    'Docker',\n",
        "    'Kafka',\n",
        "    'Nats',\n",
        "    'Machine Learning',\n",
        "    'Git',\n",
        "    'SQL',\n",
        "    'FastApi',\n",
        "    'MlFlow',\n",
        "    'Комбинаторная оптимизация',\n",
        "    'Kubernetes',\n",
        "    'Oracle Pl/SQL',\n",
        "    'Big Data',\n",
        "],\n",
        "\n",
        "'experience': [\n",
        "    {\n",
        "        'date_start': '10.2021',\n",
        "        'date_end': '',\n",
        "        'organisation': 'KAMAZ DIGITAL',\n",
        "        'city': 'Санкт-Петербург',\n",
        "        'web': '',\n",
        "        'industry': '',\n",
        "        'position': 'Data Scientist',\n",
        "        'experience_type': 'Основная работа',\n",
        "        'activity': '''\n",
        "1) Разработка и внедрение классических моделей машинного обучения (классификация, регрессия):\n",
        "1.1) Предсказание стоимости перевозки груза\n",
        "2) Разработка моделей комбинаторной оптимизации (vrp, с помощью ortools python):\n",
        "2.1) Построение маршрутов для автопарка грузовых автомобилей\n",
        "2.2) Построение маршрутов пассажирских перевозок (Сервис \"По пути\" Мосгортранса)\n",
        "3) Работа с данными телеметрии / обработка сигналов:\n",
        "3.1) Оценка качества вождение транспортного средства\n",
        "3.2) Определение точек заправки транспортного средства\n",
        "4) Внедрение распределённых программных брокеров сообщений kafka / Nats\n",
        "5) FastApi, asincio, docker, mlflow\n",
        "6) Работа с базами данных: postgresql, clickhouse\n",
        "''',\n",
        "    },\n",
        "    {\n",
        "        'date_start': '09.2020',\n",
        "        'date_end': '09.2021',\n",
        "        'organisation': 'Сбер',\n",
        "        'city': 'Санкт-Петербург',\n",
        "        'web': '',\n",
        "        'industry': 'Финансовый сектор',\n",
        "        'position': 'Data Scientist',\n",
        "        'experience_type': 'Основная работа',\n",
        "        'activity': '''\n",
        "1) Полный цикл разработки моделей машинного обучения:\n",
        "1.1) Классификации деятельности организаций на основе их транзакционной активности\n",
        "1.2) Прогнозирование количества оборотов активов у Юр. лиц\n",
        "2) Создание витрин данных\n",
        "3) Анализ временных рядов, классификация, кластеризация на больших данных\n",
        "4) Работа с большими данными на кластере Hadoop с использованием фреймворка Spark\n",
        "5) Построение ETL процессов в SQL Oracle.\n",
        "''',\n",
        "    },\n",
        "],\n",
        "\n",
        "'education': [\n",
        "    {\n",
        "        'date_start': '2021',\n",
        "        'date_end': '',\n",
        "        'education_type': 'Высшее образование',\n",
        "        'institution': 'Санкт-Петербургский государственный экономический университет, Санкт-Петербург',\n",
        "        'faculty': 'Экономики, Национальная экономика',\n",
        "    },\n",
        "    {\n",
        "        'date_start': '2021',\n",
        "        'date_end': '',\n",
        "        'education_type': 'Курсы',\n",
        "        'institution': 'NEWPROLAB',\n",
        "        'faculty': 'NEW PROFESSIONS LAB, Apache Spark для задач анализа данных',\n",
        "    },\n",
        "    {\n",
        "        'date_start': '2020',\n",
        "        'date_end': '',\n",
        "        'education_type': 'Курсы',\n",
        "        'institution': 'Coursera',\n",
        "        'faculty': 'МФТИ, Яндекс, Математика и python для анализа данных',\n",
        "    },\n",
        "    {\n",
        "        'date_start': '2020',\n",
        "        'date_end': '',\n",
        "        'education_type': 'Курсы',\n",
        "        'institution': 'Coursera',\n",
        "        'faculty': 'МФТИ, Яндекс, Обучение на размещенных данных',\n",
        "    },\n",
        "    {\n",
        "        'date_start': '2020',\n",
        "        'date_end': '',\n",
        "        'education_type': 'Курсы',\n",
        "        'institution': 'Coursera',\n",
        "        'faculty': 'МФТИ, Яндекс, Поиск структуры в данных',\n",
        "    },\n",
        "]\n",
        "}"
      ],
      "metadata": {
        "id": "d4lslMSdp7_A"
      },
      "execution_count": null,
      "outputs": []
    },
    {
      "cell_type": "code",
      "source": [
        "resume3 = {\n",
        "'name': 'Сидор Иванович Петров',\n",
        "'city': 'Неогорск',\n",
        "'position': 'Data Scientist',\n",
        "\n",
        "'contacts': [\n",
        "    {'email': 'my3@email.com'},\n",
        "    {'Телефон': '+7(999)999-99-00'},\n",
        "],\n",
        "\n",
        "'about': '''\n",
        "''',\n",
        "\n",
        "'skills': [\n",
        "    'Python',\n",
        "    'Data Analysis',\n",
        "    'Data Mining',\n",
        "    'Keras',\n",
        "    'Pytorch',\n",
        "    'Torch',\n",
        "    'CudaNN',\n",
        "    'Docker',\n",
        "    'TorchRT',\n",
        "    'Nats',\n",
        "    'MLFlow',\n",
        "    'Git',\n",
        "    'SQL',\n",
        "    'OpenCV',\n",
        "    'DVC',\n",
        "    'Github actions',\n",
        "    'Kubernetes',\n",
        "    'Big Data',\n",
        "    'NLP',\n",
        "    'LLM',\n",
        "],\n",
        "\n",
        "'experience': [\n",
        "    {\n",
        "        'date_start': '02.2022',\n",
        "        'date_end': '',\n",
        "        'organisation': 'ANNA Money',\n",
        "        'city': 'Великобритания',\n",
        "        'web': 'anna.money',\n",
        "        'industry': 'Финансовый сектор',\n",
        "        'position': 'Data Scientist',\n",
        "        'experience_type': 'Основная работа',\n",
        "        'activity': '''\n",
        "Создание сервиса в многосервисной инфраструктуре, обслуживание сервиса, создание модели категоризации транзакций,\n",
        "проверка гипотез по улучшению модели, создание дашбордов с бизнес метриками\n",
        "''',\n",
        "    },\n",
        "    {\n",
        "        'date_start': '08.2019',\n",
        "        'date_end': '01.2022',\n",
        "        'organisation': 'Газпромнефть НТЦ',\n",
        "        'city': 'Санкт-Петербург',\n",
        "        'web': 'www.gazprom-neft.ru',\n",
        "        'industry': 'Информационные технологии',\n",
        "        'position': 'Руководитель направления центра компетенций по когнитивным технологиям',\n",
        "        'experience_type': 'Основная работа',\n",
        "        'activity': '''\n",
        "Поддержка прод ML решений, разработка ML решений на основе CNN для решения задач геологоразведки\n",
        "(детекция + сегментация, генерация синтетики), разворачивание, доработка и поддержка систем управления ML экспериментами,\n",
        "оптимизация инференса, конвертация моделей между фреймворками\n",
        "''',\n",
        "    },\n",
        "    {\n",
        "        'date_start': '01.2017',\n",
        "        'date_end': '08.2019',\n",
        "        'organisation': 'Газпромнефть НТЦ',\n",
        "        'city': 'Санкт-Петербург',\n",
        "        'web': '',\n",
        "        'industry': 'Информационные технологии',\n",
        "        'position': 'Главный специалист',\n",
        "        'experience_type': 'Основная работа',\n",
        "        'activity': '''\n",
        "Разработка прикладного программного обеспечения\n",
        "Исследовательская и научная работа\n",
        "Разработка графических интерфейсов\n",
        "Сопровождение проектов и экспертиза\n",
        "Разработка моделей машинного обучения\n",
        "Анализ промысловых данных\n",
        "''',\n",
        "    },\n",
        "    {\n",
        "        'date_start': '01.2018',\n",
        "        'date_end': '01.2019',\n",
        "        'organisation': 'Научно-образовательный центр \"Газпромнефть-Политех\"',\n",
        "        'city': 'Санкт-Петербург',\n",
        "        'web': '',\n",
        "        'industry': 'Информационные технологии',\n",
        "        'position': 'Ведущий специалист',\n",
        "        'experience_type': 'Основная работа',\n",
        "        'activity': '''\n",
        "Разработка прикладного программного обеспечения\n",
        "Исследовательская и научная работа\n",
        "Разработка графических интерфейсов\n",
        "Сопровождение проектов и экспертиза\n",
        "''',\n",
        "    },\n",
        "],\n",
        "\n",
        "'education': [\n",
        "    {\n",
        "        'date_start': '2018',\n",
        "        'date_end': '',\n",
        "        'education_type': 'Высшее образование',\n",
        "        'institution': 'Санкт-Петербургский государственный политехнический университет, Санкт-Петербург',\n",
        "        'faculty': 'Институт прикладной математики и механики, Математическое моделирование процессов нефтегазодобычи',\n",
        "    },\n",
        "    {\n",
        "        'date_start': '2018',\n",
        "        'date_end': '',\n",
        "        'education_type': 'Высшее образование',\n",
        "        'institution': 'Санкт-Петербургский государственный политехнический университет, Санкт-Петербург',\n",
        "        'faculty': 'Прикладной математики и механики, Математическое моделирование процессов газонефтедобычи',\n",
        "    },\n",
        "    {\n",
        "        'date_start': '2018',\n",
        "        'date_end': '',\n",
        "        'education_type': 'Высшее образование',\n",
        "        'institution': 'Санкт-Петербургский государственный политехнический университет, Санкт-Петербург',\n",
        "        'faculty': 'Факультет технической кибернетики, Системный анализ и управление',\n",
        "    },\n",
        "    {\n",
        "        'date_start': '2020',\n",
        "        'date_end': '',\n",
        "        'education_type': 'Курсы',\n",
        "        'institution': 'Convolutional Neural Networks',\n",
        "        'faculty': 'Stanford EDU, CNN for visual recognition',\n",
        "    },\n",
        "    {\n",
        "        'date_start': '2019',\n",
        "        'date_end': '',\n",
        "        'education_type': 'Курсы',\n",
        "        'institution': 'Mlcourse.ai',\n",
        "        'faculty': 'Ods, ML course fall 2019',\n",
        "    },\n",
        "    {\n",
        "        'date_start': '2019',\n",
        "        'date_end': '',\n",
        "        'education_type': 'Курсы',\n",
        "        'institution': 'Machine Learning and Data Analysis',\n",
        "        'faculty': 'Yandex',\n",
        "    },\n",
        "    {\n",
        "        'date_start': '2019',\n",
        "        'date_end': '',\n",
        "        'education_type': 'Курсы',\n",
        "        'institution': 'Machine learning summer school',\n",
        "        'faculty': 'Skoltech',\n",
        "    },\n",
        "    {\n",
        "        'date_start': '2019',\n",
        "        'date_end': '',\n",
        "        'education_type': 'Курсы',\n",
        "        'institution': 'Обучение на размеченных данных',\n",
        "        'faculty': 'COURSERA, Data science',\n",
        "    },\n",
        "]\n",
        "}"
      ],
      "metadata": {
        "id": "0joThR6nuJU_"
      },
      "execution_count": null,
      "outputs": []
    },
    {
      "cell_type": "markdown",
      "source": [
        "## Вакансии"
      ],
      "metadata": {
        "id": "vEd1p8_VpdUo"
      }
    },
    {
      "cell_type": "code",
      "source": [
        "vacancy1 = {\n",
        "    'about': '''\n",
        "Многофункциональный общий центр обслуживания (Филиал ОЦО) — это крупнейший среди западных и российских корпораций центр по обслуживанию внутренних клиентов\n",
        "(сотрудников «Ростелекома»). Филиал ОЦО был создан в 2012 году по опыту лучших мировых практик. Наши девять центров расположены в 6 городах:\n",
        "Нижнем Новгороде, Екатеринбурге, Новосибирске, Москве, Воронеже, Ярославле. Более 4000 сотрудников, знающих свое дело и болеющих за него всей душой,\n",
        "обслуживают всю территорию представленности «Ростелекома». Мы помогаем компании сосредоточиться на ее стратегическом бизнесе, переняв вспомогательные функции на себя.\n",
        "''',\n",
        "\n",
        "    'requirements': '''\n",
        "Задачи\n",
        "- Разработка скоринговых моделей оценки контрагентов физических и юридических лиц (сегменты B2C, B2B, B2G)\n",
        "- Разработка моделей оптимизации стратегий сбора задолженности (collection scoring)\n",
        "- Разработка ML моделей (включая нейросети) для автоматизации и повышения эффективности операционных процессов\n",
        "- Разработка ML моделей по анализу и настройке голосовых роботов\n",
        "- Участие во внедрении и тестировании ML моделей, ПО и инфраструктуры для ML\n",
        "- Мониторинг эффективности действующих моделей\n",
        "- Анализ эффективности внутренних и внешних информационных источников\n",
        "\n",
        "Нам важно\n",
        "- Опыт разработки скоринговых/ML моделей\n",
        "- Навык работы с БД\n",
        "- Владение SQL и Python\n",
        "- Знание подходов к оценке эффективности моделей и финансовой эффективности их внедрения\n",
        "- Навыки построения аналитических отчетов и умение визуализировать данные\n",
        "- Хорошую аналитическую и математическую подготовку\n",
        "- Умение копаться в данных, генерировать гипотезы, находить инсайты\n",
        "- Будет большим плюсом опыт менторинга других аналитиков\n",
        "''',\n",
        "\n",
        "    'skills': [],\n",
        "}"
      ],
      "metadata": {
        "id": "xp1s5X4eyn1N"
      },
      "execution_count": null,
      "outputs": []
    },
    {
      "cell_type": "code",
      "source": [
        "vacancy2 = {\n",
        "    'about': '''\n",
        "''',\n",
        "\n",
        "    'requirements': '''\n",
        "Вы будете:\n",
        "\n",
        "    Взаимодействовать с заинтересованными сторонами в рамках всей организации, чтобы определить осуществимость использования данных компании для формирования бизнес-решений и монетизации данных\n",
        "    Извлекать и анализировать данные из баз данных компаний для оптимизации инструментов, процессов\n",
        "    Производить пользовательские модели данных и алгоритмов для применения к наборам данных;\n",
        "    Формулировать процессы и инструменты для мониторинга и анализа производительности модели и точности данных;\n",
        "    Представлять результаты моделирования для бизнес-аудитории, включая руководителей организации;\n",
        "    Реализовывать стратегию управления бизнес-данными и давать рекомендации\n",
        "    Проектировать, рефакторить, разворачивать дата продукты;\n",
        "    Выдвигать в организации использование подготовленных внутри дата продуктов с помощью презентаций, документации и совместной работы бизнес функций;\n",
        "    Подготавливать инструменты и автоматизировать рабочие процессы;\n",
        "    Превращать неструктурированные недостатки и болевые точки в конкретные бизнес и технические требования для проверки гипотез или производства дата продуктов.\n",
        "\n",
        "Мы ожидаем:\n",
        "\n",
        "    Образование и соответствующий опыт в области статистики, математики, информатики или смежных областях;\n",
        "    Уверенное знание SQL, Python, алгоритмов машинного обучения и статистики;\n",
        "    Подтвержденный опыт создания пайплайнов машинного обучения, работающих в продуктивной среде разработки (обучение, оценка, использование в системах реального времени);\n",
        "    Опыт использования облачных платформ (Azure ML, Google Cloud Platform ML, AWS SageMaker, Yandex Cloud Platform) и развертывания аналитики в продуктивной среде;\n",
        "    Опыт работы со стеком Azure (Data Lake, Database, Data Factory, Data Brick и т. д.) и/или Yandex Cloud (Data Proc, Data Sphere и т. д.) – будет плюсом;\n",
        "    Опыт визуализации данных с использованием Power BI/ggplot/plotly/ – будет плюсом;\n",
        "    Высокие навыки коммуникации, решения проблем, стремление к обучению;\n",
        "    Самостоятельного специалиста, с высокой ответственностью, готового привносить структуру в неструктурированные ситуации;\n",
        "    Средний или выше среднего уровень знания английского языка (разговорный и письменный).\n",
        "''',\n",
        "\n",
        "    'skills': [],\n",
        "}"
      ],
      "metadata": {
        "id": "JGOspvrQzrmC"
      },
      "execution_count": null,
      "outputs": []
    },
    {
      "cell_type": "code",
      "source": [
        "vacancy3 = {\n",
        "    'about': '''\n",
        "AnyQuery — SaaS сервис AI поиска для eCommerce, обрабатывает миллиарды поисковых запросов на 450 интернет-магазинах (Самокат, Золотое Яблоков, ЦУМ, Эльдорадо, Петрович, Азбука Вкуса и тд)\n",
        "Вдобавок к AnyQuery, у нас есть два новых продукта AnyRecs — SaaS сервис персонализации и товарных рекомендаций, AnyCollections — SaaS сервис для автоматического создания посадочных страниц интернет-магазинов\n",
        "У нас огромная экспертиза в машинном обучении, high load системах.\n",
        "В текущей команде около 90 человек, компания продолжает расти и ищет Data Scientist.\n",
        "''',\n",
        "\n",
        "    'requirements': '''\n",
        "Ключевые задачи:\n",
        "- разработать новую векторную модель товаров и интересов пользователя на основе 30+ млрд пользовательских событий и 60 млн товаров\n",
        "- ускорить проверки гипотез в команде ранжирования - разработать инструменты для работы с датасетами и пайпланы создания фичей.\n",
        "\n",
        "Что надо делать:\n",
        "- Разрабатывать новые модели векторного поиска и вектров\n",
        "- Разработать алгоритмы товарных рекомендаций похожих товаров на векторных моделях\n",
        "- С командой аналитиков ускорить процесс создания дата сетов для обучения моделей и создания фичей\n",
        "\n",
        "Что нужно уметь :\n",
        "- Хорошо разбираться в векторных моделях и NLP (DSSM, LLM, FastText)\n",
        "- Уметь писать готовый к production код (Python)\n",
        "- Иметь математический бекграунд (профильное техническое/математическое образование, хорошее понимание мат.статистики, линейной алгебры)\n",
        "- Опыт работы с текстовыми данными или задачами поиска будет серьезным плюсом\n",
        "- Java/Scala/Elasticsearch/C++ будет плюсом\n",
        "''',\n",
        "\n",
        "    'skills': [\n",
        "        'SQL',\n",
        "        'Python',\n",
        "        'Big Data',\n",
        "        'Tensorflow',\n",
        "        'Pytorch',\n",
        "        'SciPy',\n",
        "        'Numpy',\n",
        "        'Pandas',\n",
        "        'NLP',\n",
        "        'LLM',\n",
        "    ]\n",
        "}"
      ],
      "metadata": {
        "id": "o8o0HSbbz82h"
      },
      "execution_count": null,
      "outputs": []
    },
    {
      "cell_type": "markdown",
      "source": [
        "## Соответствие ключевых навыков вакансиям"
      ],
      "metadata": {
        "id": "O_lKoIjA28Sw"
      }
    },
    {
      "cell_type": "markdown",
      "source": [
        "### Через алгоритмы"
      ],
      "metadata": {
        "id": "yZ5znbg3IhWF"
      }
    },
    {
      "cell_type": "code",
      "source": [
        "def find_top_matching_resumes(resume_list, job_skills):\n",
        "    # создаем список словарей, где каждый словарь содержит информацию о резюме и процент соответствия skills\n",
        "    matching_scores = []\n",
        "    for resume in resume_list:\n",
        "        resume_skills = resume['skills']\n",
        "        common_skills = set(resume_skills) & set(job_skills)\n",
        "        matching_score = len(common_skills) / len(job_skills) * 100\n",
        "        matching_scores.append({'resume': resume, 'matching_score': matching_score})\n",
        "\n",
        "    # сортируем по убыванию процента соответствия и выбираем топ-10\n",
        "    # top_matching_resumes = sorted(matching_scores, key=lambda x: x['matching_score'], reverse=True)[:10]\n",
        "    top_matching_resumes = sorted(matching_scores, key=lambda x: x['matching_score'], reverse=True)\n",
        "\n",
        "    return top_matching_resumes"
      ],
      "metadata": {
        "id": "M1-kLwdq3A92"
      },
      "execution_count": null,
      "outputs": []
    },
    {
      "cell_type": "code",
      "source": [
        "resume_list = [resume1, resume2, resume3]\n",
        "job_skills = vacancy3['skills']"
      ],
      "metadata": {
        "id": "u9uEKgou3Ghw"
      },
      "execution_count": null,
      "outputs": []
    },
    {
      "cell_type": "code",
      "source": [
        "top_matching_resumes = find_top_matching_resumes(resume_list, job_skills)\n",
        "for item in top_matching_resumes:\n",
        "    print(item['resume']['name'], item['matching_score'])"
      ],
      "metadata": {
        "colab": {
          "base_uri": "https://localhost:8080/"
        },
        "id": "aR2QkrOa3d2g",
        "outputId": "abe034cb-a572-4ae1-ce94-aa5e4707c645"
      },
      "execution_count": null,
      "outputs": [
        {
          "output_type": "stream",
          "name": "stdout",
          "text": [
            "Сидор Иванович Петров 60.0\n",
            "Петр Сидорович Иванов 40.0\n",
            "Иван Петрович Сидоров 20.0\n"
          ]
        }
      ]
    },
    {
      "cell_type": "markdown",
      "source": [
        "Данные результаты показывают совпадение в процентах между требованиями в вакансии и наличия ключевых навыков в резюме"
      ],
      "metadata": {
        "id": "TjMeUCDhMjpc"
      }
    },
    {
      "cell_type": "markdown",
      "source": [
        "### Через Embedding"
      ],
      "metadata": {
        "id": "X5RStYaG431v"
      }
    },
    {
      "cell_type": "code",
      "source": [
        "document = []\n",
        "for resume in resume_list:\n",
        "    page_content = ', '.join(resume['skills'])\n",
        "    metadata = {'source': resume['name']}\n",
        "    doc = Document(page_content=page_content, metadata=metadata)\n",
        "    document.append(doc)"
      ],
      "metadata": {
        "id": "d9w64Tg25IlA"
      },
      "execution_count": null,
      "outputs": []
    },
    {
      "cell_type": "code",
      "source": [
        "db = FAISS.from_documents(document, OpenAIEmbeddings())\n",
        "query = ', '.join(vacancy3['skills'])\n",
        "results = db.similarity_search(query, k=5)"
      ],
      "metadata": {
        "id": "Z21eyJkL44ed"
      },
      "execution_count": null,
      "outputs": []
    },
    {
      "cell_type": "code",
      "source": [
        "results"
      ],
      "metadata": {
        "colab": {
          "base_uri": "https://localhost:8080/"
        },
        "id": "wREwi0PE6tO9",
        "outputId": "b559d2a8-75e9-460e-d533-f99b07728f04"
      },
      "execution_count": null,
      "outputs": [
        {
          "output_type": "execute_result",
          "data": {
            "text/plain": [
              "[Document(page_content='Python, Data Analysis, Data Mining, Keras, Pytorch, Torch, CudaNN, Docker, TorchRT, Nats, MLFlow, Git, SQL, OpenCV, DVC, Github actions, Kubernetes, Big Data, NLP, LLM', metadata={'source': 'Сидор Иванович Петров'}),\n",
              " Document(page_content='Python, Apache Spark, Sklearn, LightGBM, CatBoost, hyperopt, Pytorch, Linux, Matplotlib, Docker, Kafka, Nats, Machine Learning, Git, SQL, FastApi, MlFlow, Комбинаторная оптимизация, Kubernetes, Oracle Pl/SQL, Big Data', metadata={'source': 'Петр Сидорович Иванов'}),\n",
              " Document(page_content='Python, Numpy, Matplotlib, Excel, Power BI, 1C', metadata={'source': 'Иван Петрович Сидоров'})]"
            ]
          },
          "metadata": {},
          "execution_count": 49
        }
      ]
    },
    {
      "cell_type": "code",
      "source": [
        "for result in results:\n",
        "    print(result.metadata['source'])"
      ],
      "metadata": {
        "colab": {
          "base_uri": "https://localhost:8080/"
        },
        "id": "csvQqzzV6y_j",
        "outputId": "88f16123-da07-486d-a009-c3a72e63d83f"
      },
      "execution_count": null,
      "outputs": [
        {
          "output_type": "stream",
          "name": "stdout",
          "text": [
            "Сидор Иванович Петров\n",
            "Петр Сидорович Иванов\n",
            "Иван Петрович Сидоров\n"
          ]
        }
      ]
    },
    {
      "cell_type": "code",
      "source": [
        "results = db.similarity_search_with_score(query, k=5)"
      ],
      "metadata": {
        "id": "Ghkuyk6PIuC5"
      },
      "execution_count": null,
      "outputs": []
    },
    {
      "cell_type": "code",
      "source": [
        "for result, score in results:\n",
        "    print(result.metadata['source'], score)"
      ],
      "metadata": {
        "colab": {
          "base_uri": "https://localhost:8080/"
        },
        "id": "n1chlg4rI78u",
        "outputId": "2b99a277-1ad5-4eee-a683-dcee05555d72"
      },
      "execution_count": null,
      "outputs": [
        {
          "output_type": "stream",
          "name": "stdout",
          "text": [
            "Сидор Иванович Петров 0.14874074\n",
            "Петр Сидорович Иванов 0.22554828\n",
            "Иван Петрович Сидоров 0.2599393\n"
          ]
        }
      ]
    },
    {
      "cell_type": "markdown",
      "source": [
        "Данные результаты показывают наиболее близкие резюме по ключевым навыкам к требованиям в вакансии"
      ],
      "metadata": {
        "id": "nMRyq1w6Mzgt"
      }
    },
    {
      "cell_type": "markdown",
      "source": [
        "## Соответствие резюме вакансиям (Embedding)"
      ],
      "metadata": {
        "id": "T_aXqUl_4T2B"
      }
    },
    {
      "cell_type": "markdown",
      "source": [
        "Поиск через embedding. Минусы библиотеки LangChain:\n",
        "- нужен ключ OpenAI\n",
        "- ограничения по запускам в единицу времени (в ограниченной версии ключа API)"
      ],
      "metadata": {
        "id": "xWU51Zbt2cEg"
      }
    },
    {
      "cell_type": "code",
      "source": [
        "from langchain.embeddings.openai import OpenAIEmbeddings\n",
        "from langchain.text_splitter import CharacterTextSplitter\n",
        "from langchain.vectorstores import FAISS\n",
        "from langchain.document_loaders import TextLoader\n",
        "from langchain.schema.document import Document"
      ],
      "metadata": {
        "id": "feNeXBkDNTmo"
      },
      "execution_count": null,
      "outputs": []
    },
    {
      "cell_type": "markdown",
      "source": [
        "### По одной единице опыта работы"
      ],
      "metadata": {
        "id": "SAirOP09DEOI"
      }
    },
    {
      "cell_type": "markdown",
      "source": [
        "*Вектором является вся вакансия целиком (без описания компании). Он сопоставляется с вектором, который является опытом работы соискателя в каждой отдельной компании*"
      ],
      "metadata": {
        "id": "fHbt0MzuDZLP"
      }
    },
    {
      "cell_type": "code",
      "source": [
        "document = []\n",
        "for resume in resume_list:\n",
        "    for experience in resume['experience']:\n",
        "        page_content = experience['activity']\n",
        "        metadata = {'source': resume['name']}\n",
        "        doc = Document(page_content=page_content, metadata=metadata)\n",
        "        document.append(doc)"
      ],
      "metadata": {
        "id": "uAWpESgRUF66"
      },
      "execution_count": null,
      "outputs": []
    },
    {
      "cell_type": "markdown",
      "source": [
        "**Вакансия 1**"
      ],
      "metadata": {
        "id": "sf0wnx7KD4ON"
      }
    },
    {
      "cell_type": "code",
      "source": [
        "db = FAISS.from_documents(document, OpenAIEmbeddings())\n",
        "query = vacancy1['requirements']\n",
        "results = db.similarity_search(query, k=5)"
      ],
      "metadata": {
        "id": "pVObXDsx3sND"
      },
      "execution_count": null,
      "outputs": []
    },
    {
      "cell_type": "code",
      "source": [
        "results"
      ],
      "metadata": {
        "colab": {
          "base_uri": "https://localhost:8080/"
        },
        "id": "TzzCIcrT4V0o",
        "outputId": "75a90e6c-e627-4abe-f3ae-eb1d4102a42e"
      },
      "execution_count": null,
      "outputs": [
        {
          "output_type": "execute_result",
          "data": {
            "text/plain": [
              "[Document(page_content='\\n1) Разработка и внедрение классических моделей машинного обучения (классификация, регрессия):\\n1.1) Предсказание стоимости перевозки груза\\n2) Разработка моделей комбинаторной оптимизации (vrp, с помощью ortools python):\\n2.1) Построение маршрутов для автопарка грузовых автомобилей\\n2.2) Построение маршрутов пассажирских перевозок (Сервис \"По пути\" Мосгортранса)\\n3) Работа с данными телеметрии / обработка сигналов:\\n3.1) Оценка качества вождение транспортного средства\\n3.2) Определение точек заправки транспортного средства\\n4) Внедрение распределённых программных брокеров сообщений kafka / Nats\\n5) FastApi, asincio, docker, mlflow\\n6) Работа с базами данных: postgresql, clickhouse\\n', metadata={'source': 'Петр Сидорович Иванов'}),\n",
              " Document(page_content='\\n1) Полный цикл разработки моделей машинного обучения:\\n1.1) Классификации деятельности организаций на основе их транзакционной активности\\n1.2) Прогнозирование количества оборотов активов у Юр. лиц\\n2) Создание витрин данных\\n3) Анализ временных рядов, классификация, кластеризация на больших данных\\n4) Работа с большими данными на кластере Hadoop с использованием фреймворка Spark\\n5) Построение ETL процессов в SQL Oracle.\\n', metadata={'source': 'Петр Сидорович Иванов'}),\n",
              " Document(page_content='\\nРазработка прикладного программного обеспечения\\nИсследовательская и научная работа\\nРазработка графических интерфейсов\\nСопровождение проектов и экспертиза\\nРазработка моделей машинного обучения\\nАнализ промысловых данных\\n', metadata={'source': 'Сидор Иванович Петров'}),\n",
              " Document(page_content='\\nПоддержка прод ML решений, разработка ML решений на основе CNN для решения задач геологоразведки\\n(детекция + сегментация, генерация синтетики), разворачивание, доработка и поддержка систем управления ML экспериментами,\\nоптимизация инференса, конвертация моделей между фреймворками\\n', metadata={'source': 'Сидор Иванович Петров'}),\n",
              " Document(page_content='\\n-Составление бюджета компании (2 ЦФО): планирование показателей операционного производства, выручки от продаж, ФОТа, (OPEX, CAPEX)\\n-План-факторный анализ полученных данных\\n-Составление управленческой отчетности (Excel, SQL, 1С)\\n-Составление экономической и финансовой отчётности для внешних контрагентов по запросу\\n- Контроль исполнения платежного календаря\\nКлючевые результаты:\\nРазработал и внедрил систему для расчета мотивации персонала по компании за счет введения углубленной аналитики по продажам.\\n', metadata={'source': 'Иван Петрович Сидоров'})]"
            ]
          },
          "metadata": {},
          "execution_count": 32
        }
      ]
    },
    {
      "cell_type": "code",
      "source": [
        "for result in results:\n",
        "    print(result.metadata['source'])"
      ],
      "metadata": {
        "colab": {
          "base_uri": "https://localhost:8080/"
        },
        "id": "O3Luex2ZHuYb",
        "outputId": "ccbe2731-8839-4900-ef32-ea71b406c7c4"
      },
      "execution_count": null,
      "outputs": [
        {
          "output_type": "stream",
          "name": "stdout",
          "text": [
            "Петр Сидорович Иванов\n",
            "Петр Сидорович Иванов\n",
            "Сидор Иванович Петров\n",
            "Сидор Иванович Петров\n",
            "Иван Петрович Сидоров\n"
          ]
        }
      ]
    },
    {
      "cell_type": "code",
      "source": [
        "results = db.similarity_search_with_score(query, k=5)"
      ],
      "metadata": {
        "id": "UZ-QQG_lH7gG"
      },
      "execution_count": null,
      "outputs": []
    },
    {
      "cell_type": "code",
      "source": [
        "results"
      ],
      "metadata": {
        "colab": {
          "base_uri": "https://localhost:8080/"
        },
        "id": "PwZlAQcUIM6e",
        "outputId": "dcf065b7-7d6c-4eca-8680-ac1b1212f583"
      },
      "execution_count": null,
      "outputs": [
        {
          "output_type": "execute_result",
          "data": {
            "text/plain": [
              "[(Document(page_content='\\n1) Разработка и внедрение классических моделей машинного обучения (классификация, регрессия):\\n1.1) Предсказание стоимости перевозки груза\\n2) Разработка моделей комбинаторной оптимизации (vrp, с помощью ortools python):\\n2.1) Построение маршрутов для автопарка грузовых автомобилей\\n2.2) Построение маршрутов пассажирских перевозок (Сервис \"По пути\" Мосгортранса)\\n3) Работа с данными телеметрии / обработка сигналов:\\n3.1) Оценка качества вождение транспортного средства\\n3.2) Определение точек заправки транспортного средства\\n4) Внедрение распределённых программных брокеров сообщений kafka / Nats\\n5) FastApi, asincio, docker, mlflow\\n6) Работа с базами данных: postgresql, clickhouse\\n', metadata={'source': 'Петр Сидорович Иванов'}),\n",
              "  0.21025267),\n",
              " (Document(page_content='\\n1) Полный цикл разработки моделей машинного обучения:\\n1.1) Классификации деятельности организаций на основе их транзакционной активности\\n1.2) Прогнозирование количества оборотов активов у Юр. лиц\\n2) Создание витрин данных\\n3) Анализ временных рядов, классификация, кластеризация на больших данных\\n4) Работа с большими данными на кластере Hadoop с использованием фреймворка Spark\\n5) Построение ETL процессов в SQL Oracle.\\n', metadata={'source': 'Петр Сидорович Иванов'}),\n",
              "  0.23656939),\n",
              " (Document(page_content='\\nРазработка прикладного программного обеспечения\\nИсследовательская и научная работа\\nРазработка графических интерфейсов\\nСопровождение проектов и экспертиза\\nРазработка моделей машинного обучения\\nАнализ промысловых данных\\n', metadata={'source': 'Сидор Иванович Петров'}),\n",
              "  0.24710242),\n",
              " (Document(page_content='\\nПоддержка прод ML решений, разработка ML решений на основе CNN для решения задач геологоразведки\\n(детекция + сегментация, генерация синтетики), разворачивание, доработка и поддержка систем управления ML экспериментами,\\nоптимизация инференса, конвертация моделей между фреймворками\\n', metadata={'source': 'Сидор Иванович Петров'}),\n",
              "  0.27249053),\n",
              " (Document(page_content='\\n-Составление бюджета компании (2 ЦФО): планирование показателей операционного производства, выручки от продаж, ФОТа, (OPEX, CAPEX)\\n-План-факторный анализ полученных данных\\n-Составление управленческой отчетности (Excel, SQL, 1С)\\n-Составление экономической и финансовой отчётности для внешних контрагентов по запросу\\n- Контроль исполнения платежного календаря\\nКлючевые результаты:\\nРазработал и внедрил систему для расчета мотивации персонала по компании за счет введения углубленной аналитики по продажам.\\n', metadata={'source': 'Иван Петрович Сидоров'}),\n",
              "  0.2785055)]"
            ]
          },
          "metadata": {},
          "execution_count": 87
        }
      ]
    },
    {
      "cell_type": "code",
      "source": [
        "for result, score in results:\n",
        "    print(result.metadata['source'], score)"
      ],
      "metadata": {
        "colab": {
          "base_uri": "https://localhost:8080/"
        },
        "id": "lSygArD1H7Lf",
        "outputId": "81fbea7d-7e79-4315-9cf2-006d5290cb64"
      },
      "execution_count": null,
      "outputs": [
        {
          "output_type": "stream",
          "name": "stdout",
          "text": [
            "Петр Сидорович Иванов 0.21025267\n",
            "Петр Сидорович Иванов 0.23656939\n",
            "Сидор Иванович Петров 0.24710242\n",
            "Сидор Иванович Петров 0.27249053\n",
            "Иван Петрович Сидоров 0.2785055\n"
          ]
        }
      ]
    },
    {
      "cell_type": "markdown",
      "source": [
        "**Вакансия 2**"
      ],
      "metadata": {
        "id": "OpFjsE_mD9ZL"
      }
    },
    {
      "cell_type": "code",
      "source": [
        "db = FAISS.from_documents(document, OpenAIEmbeddings())\n",
        "query = vacancy2['requirements']\n",
        "results = db.similarity_search_with_score(query, k=5)"
      ],
      "metadata": {
        "id": "63CjgzOL2Txt"
      },
      "execution_count": null,
      "outputs": []
    },
    {
      "cell_type": "code",
      "source": [
        "for result, score in results:\n",
        "    print(result.metadata['source'], score)"
      ],
      "metadata": {
        "colab": {
          "base_uri": "https://localhost:8080/"
        },
        "id": "Drfw1jO54YSl",
        "outputId": "f1a19052-f772-4640-8738-a62a713cc96e"
      },
      "execution_count": null,
      "outputs": [
        {
          "output_type": "stream",
          "name": "stdout",
          "text": [
            "Петр Сидорович Иванов 0.25636396\n",
            "Сидор Иванович Петров 0.2755815\n",
            "Петр Сидорович Иванов 0.27788424\n",
            "Иван Петрович Сидоров 0.28717196\n",
            "Иван Петрович Сидоров 0.3105334\n"
          ]
        }
      ]
    },
    {
      "cell_type": "markdown",
      "source": [
        "**Вакансия 3**"
      ],
      "metadata": {
        "id": "SvL0FRy_EBJ2"
      }
    },
    {
      "cell_type": "code",
      "source": [
        "db = FAISS.from_documents(document, OpenAIEmbeddings())\n",
        "query = vacancy3['requirements']\n",
        "results = db.similarity_search_with_score(query, k=5)"
      ],
      "metadata": {
        "id": "48ByZj1dQZ8c"
      },
      "execution_count": null,
      "outputs": []
    },
    {
      "cell_type": "code",
      "source": [
        "for result, score in results:\n",
        "    print(result.metadata['source'], score)"
      ],
      "metadata": {
        "colab": {
          "base_uri": "https://localhost:8080/"
        },
        "id": "f7cpOQXi3RD6",
        "outputId": "9b7dc191-1c67-461c-ed40-d622c1fb732a"
      },
      "execution_count": null,
      "outputs": [
        {
          "output_type": "stream",
          "name": "stdout",
          "text": [
            "Петр Сидорович Иванов 0.2735328\n",
            "Петр Сидорович Иванов 0.2752887\n",
            "Сидор Иванович Петров 0.31536686\n",
            "Сидор Иванович Петров 0.32624656\n",
            "Сидор Иванович Петров 0.3416112\n"
          ]
        }
      ]
    },
    {
      "cell_type": "markdown",
      "source": [
        "*Далее, в качестве вектора используется не целая вакансия, а только требования. Сопоставление так же идёт с вектором, образованным из опыта работы в одной компании*"
      ],
      "metadata": {
        "id": "J7AgkMmjDOwd"
      }
    },
    {
      "cell_type": "markdown",
      "source": [
        "**Вакансия 3**"
      ],
      "metadata": {
        "id": "SlfhraFeEFNB"
      }
    },
    {
      "cell_type": "code",
      "source": [
        "query = '''\n",
        "- Хорошо разбираться в векторных моделях и NLP (DSSM, LLM, FastText)\n",
        "- Уметь писать готовый к production код (Python)\n",
        "- Иметь математический бекграунд (профильное техническое/математическое образование, хорошее понимание мат.статистики, линейной алгебры)\n",
        "- Опыт работы с текстовыми данными или задачами поиска будет серьезным плюсом\n",
        "- Java/Scala/Elasticsearch/C++ будет плюсом\n",
        "'''"
      ],
      "metadata": {
        "id": "KVAQ7VBaTiri"
      },
      "execution_count": null,
      "outputs": []
    },
    {
      "cell_type": "code",
      "source": [
        "db = FAISS.from_documents(document, OpenAIEmbeddings())\n",
        "results = db.similarity_search_with_score(query, k=5)"
      ],
      "metadata": {
        "id": "R0mRn-EM4igf"
      },
      "execution_count": null,
      "outputs": []
    },
    {
      "cell_type": "code",
      "source": [
        "for result, score in results:\n",
        "    print(result.metadata['source'], score)"
      ],
      "metadata": {
        "colab": {
          "base_uri": "https://localhost:8080/"
        },
        "id": "WfUzxu8i4l6F",
        "outputId": "82fece01-3c25-4364-87dc-422900c259fb"
      },
      "execution_count": null,
      "outputs": [
        {
          "output_type": "stream",
          "name": "stdout",
          "text": [
            "Петр Сидорович Иванов 0.27197373\n",
            "Сидор Иванович Петров 0.306318\n",
            "Петр Сидорович Иванов 0.3094887\n",
            "Сидор Иванович Петров 0.34212795\n",
            "Сидор Иванович Петров 0.34294838\n"
          ]
        }
      ]
    },
    {
      "cell_type": "markdown",
      "source": [
        "### По всему опыту работы"
      ],
      "metadata": {
        "id": "UxiDeuLIDgWK"
      }
    },
    {
      "cell_type": "markdown",
      "source": [
        "*Здесь, вектор из вакансии целиком (без описания компании) сопоставляется с вектором всего опыта работы соискателя (по всему резюме)*"
      ],
      "metadata": {
        "id": "vVVrR63XONce"
      }
    },
    {
      "cell_type": "markdown",
      "source": [
        "**Вакансия 3**"
      ],
      "metadata": {
        "id": "64nhZojNFDTs"
      }
    },
    {
      "cell_type": "code",
      "source": [
        "document = []\n",
        "for resume in resume_list:\n",
        "    activity = []\n",
        "    for experience in resume['experience']:\n",
        "        activity.append(experience['activity'])\n",
        "    page_content = '\\n\\n'.join(activity)\n",
        "    metadata = {'source': resume['name']}\n",
        "    doc = Document(page_content=page_content, metadata=metadata)\n",
        "    document.append(doc)"
      ],
      "metadata": {
        "id": "6m8QqGmPEvu-"
      },
      "execution_count": null,
      "outputs": []
    },
    {
      "cell_type": "code",
      "source": [
        "db = FAISS.from_documents(document, OpenAIEmbeddings())\n",
        "query = vacancy3['requirements']\n",
        "results = db.similarity_search_with_score(query, k=5)"
      ],
      "metadata": {
        "id": "zYWvG7cRE9cT"
      },
      "execution_count": null,
      "outputs": []
    },
    {
      "cell_type": "code",
      "source": [
        "for result, score in results:\n",
        "    print(result.metadata['source'], score)"
      ],
      "metadata": {
        "colab": {
          "base_uri": "https://localhost:8080/"
        },
        "id": "kLSXlK7iGZju",
        "outputId": "32431e08-fa8e-427b-b9dd-5c07f1de9cd6"
      },
      "execution_count": null,
      "outputs": [
        {
          "output_type": "stream",
          "name": "stdout",
          "text": [
            "Петр Сидорович Иванов 0.2615984\n",
            "Сидор Иванович Петров 0.2854032\n",
            "Иван Петрович Сидоров 0.34869385\n"
          ]
        }
      ]
    },
    {
      "cell_type": "markdown",
      "source": [
        "## Выводы"
      ],
      "metadata": {
        "id": "0O4bI6njJxJb"
      }
    },
    {
      "cell_type": "markdown",
      "source": [
        "- LangChain хорошо себя показывает не только для нахождения чанков, релевантных запросу, а ещё и для поиска соответствия ключевых навыков соискателя ключевым навыкам вакансии\n",
        "- Есть однозначная корреляция между алгоритмическим поиском соответствия ключевых навыков резюме и поиску через embedding\n",
        "- LangChain так же показывает результаты соответствия требований вакансии и данных в резюме. С его помощью можно найти более релевантные резюме по опыту работы\n",
        "- Для более точных результатов необходимо проводить дополнительные исследования и эксперименты относительно того, какие части резюме и вакансий необходимо выделять для преобразования в векторы\n",
        "- **В целом, эксперименты с embedding показали результат.** В веб-сервисе можно сделать функцию автоматического преборазования резюме и вакансий в embedding, что позволит мговенно их сопоставлять и выявлять наилучшие совпадения"
      ],
      "metadata": {
        "id": "eJVcnGKtJz4M"
      }
    }
  ]
}