{
  "nbformat": 4,
  "nbformat_minor": 0,
  "metadata": {
    "colab": {
      "provenance": [],
      "toc_visible": true
    },
    "kernelspec": {
      "name": "python3",
      "display_name": "Python 3"
    },
    "language_info": {
      "name": "python"
    }
  },
  "cells": [
    {
      "cell_type": "markdown",
      "source": [
        "# Начало"
      ],
      "metadata": {
        "id": "ejoLvEePkV4M"
      }
    },
    {
      "cell_type": "code",
      "source": [
        "from google.colab import drive\n",
        "drive.mount('/content/drive/', force_remount=True)"
      ],
      "metadata": {
        "colab": {
          "base_uri": "https://localhost:8080/"
        },
        "id": "FOtUyX67kYN_",
        "outputId": "127e5f73-ae2f-4b3a-bbf5-4a52dee97314"
      },
      "execution_count": 144,
      "outputs": [
        {
          "output_type": "stream",
          "name": "stdout",
          "text": [
            "Mounted at /content/drive/\n"
          ]
        }
      ]
    },
    {
      "cell_type": "code",
      "source": [
        "!pip -q install openai\n",
        "!pip -q install langchain tiktoken"
      ],
      "metadata": {
        "id": "s4c2UdwFhqFz"
      },
      "execution_count": 145,
      "outputs": []
    },
    {
      "cell_type": "code",
      "source": [
        "import pandas as pd\n",
        "import numpy as np\n",
        "\n",
        "import tiktoken\n",
        "from langchain.chat_models import ChatOpenAI\n",
        "\n",
        "from langchain.schema import (\n",
        "    AIMessage,\n",
        "    HumanMessage,\n",
        "    SystemMessage\n",
        ")\n",
        "\n",
        "import getpass\n",
        "import openai\n",
        "import os\n",
        "\n",
        "from IPython.display import HTML\n",
        "\n",
        "import warnings\n",
        "warnings.filterwarnings('ignore')"
      ],
      "metadata": {
        "id": "1-8kNwPbkxR-"
      },
      "execution_count": 146,
      "outputs": []
    },
    {
      "cell_type": "code",
      "execution_count": 147,
      "metadata": {
        "colab": {
          "base_uri": "https://localhost:8080/"
        },
        "id": "jqtKPlOagyPu",
        "outputId": "bc3bd9de-3aa9-4863-ece7-221998870d2f"
      },
      "outputs": [
        {
          "name": "stdout",
          "output_type": "stream",
          "text": [
            "OpenAI API Key:··········\n"
          ]
        }
      ],
      "source": [
        "# Получение ключа API от пользователя и установка его как переменной окружения\n",
        "openai_key = getpass.getpass(\"OpenAI API Key:\")\n",
        "os.environ[\"OPENAI_API_KEY\"] = openai_key\n",
        "openai.api_key = openai_key"
      ]
    },
    {
      "cell_type": "markdown",
      "source": [
        "# Эксперименты 1"
      ],
      "metadata": {
        "id": "cPFIHoMgez8y"
      }
    },
    {
      "cell_type": "markdown",
      "source": [
        "### О себе"
      ],
      "metadata": {
        "id": "wL3vt3FNgz50"
      }
    },
    {
      "cell_type": "markdown",
      "source": [
        "Промт для генерации \"о себе\" по интересам пользователя"
      ],
      "metadata": {
        "id": "JGA-wrlSiosR"
      }
    },
    {
      "cell_type": "code",
      "source": [
        "# Должность\n",
        "position = 'Data Scientist'\n",
        "\n",
        "# О себе\n",
        "about = 'Интересны нейросети, занимаюсь изучением python'\n",
        "\n",
        "# System Content\n",
        "system_content = f'''Ты hr консультант, который помогает соискателю грамотно написать о себе,\n",
        "чтобы максимально соответствовать должности {position}. Соискатель написал о себе, оптимизируй этот текст,\n",
        "и если надо, то дополни, чтобы он максимально был релевантным должности соискателя.\n",
        "Напиши лаконично от первого лица в деловом стиле, как будто это ты устраиваешься на должность {position}.\n",
        "Не пиши приветствие. В ответе уложись примерно в 300 токенов'''\n",
        "\n",
        "# User Content\n",
        "user_content = about"
      ],
      "metadata": {
        "id": "-f3EsAIthoiR"
      },
      "execution_count": 15,
      "outputs": []
    },
    {
      "cell_type": "markdown",
      "source": [
        "Подсчёт токенов"
      ],
      "metadata": {
        "id": "_cTaAYvDyw-6"
      }
    },
    {
      "cell_type": "code",
      "source": [
        "messages = [\n",
        "    SystemMessage(content=system_content),\n",
        "    HumanMessage(content=user_content)\n",
        "    ]\n",
        "\n",
        "# Количество токенов\n",
        "chat = ChatOpenAI(temperature=0)\n",
        "chat.get_num_tokens_from_messages(messages)"
      ],
      "metadata": {
        "colab": {
          "base_uri": "https://localhost:8080/"
        },
        "id": "CqiL8fECyclU",
        "outputId": "2116ec14-1f4a-4271-d1f6-49108eb3b63b"
      },
      "execution_count": 16,
      "outputs": [
        {
          "output_type": "execute_result",
          "data": {
            "text/plain": [
              "209"
            ]
          },
          "metadata": {},
          "execution_count": 16
        }
      ]
    },
    {
      "cell_type": "markdown",
      "source": [
        "Ответ ChatGPT"
      ],
      "metadata": {
        "id": "wo177m2vyuZ3"
      }
    },
    {
      "cell_type": "code",
      "source": [
        "answer = openai.ChatCompletion.create(\n",
        "    model='gpt-3.5-turbo',\n",
        "    messages=[\n",
        "        {\n",
        "            'role': 'system',\n",
        "            'content': system_content\n",
        "        },\n",
        "        {\n",
        "            'role': 'user',\n",
        "            'content': about\n",
        "        }\n",
        "    ]\n",
        ")"
      ],
      "metadata": {
        "id": "Hgm7Kk3piJ4R"
      },
      "execution_count": 17,
      "outputs": []
    },
    {
      "cell_type": "code",
      "source": [
        "message = answer['choices'][0]['message']['content']\n",
        "message"
      ],
      "metadata": {
        "colab": {
          "base_uri": "https://localhost:8080/",
          "height": 106
        },
        "id": "GDQs0y58igUE",
        "outputId": "627f49c1-0c59-4a6e-eb6b-30df92c56f25"
      },
      "execution_count": 18,
      "outputs": [
        {
          "output_type": "execute_result",
          "data": {
            "text/plain": [
              "'Я заинтересован в разработке и применении нейронных сетей в качестве инструментов анализа данных и машинного обучения. В настоящее время активно изучаю язык программирования Python и его библиотеки для работы с данными, такие как TensorFlow и PyTorch. Моя цель - применять современные методы анализа данных для нахождения закономерностей и создания прогностических моделей. Я владею навыками предобработки и очистки данных, а также статистического анализа и визуализации. У меня есть опыт работы с большими объемами данных и использованием алгоритмов машинного обучения, таких как регрессия, кластеризация и классификация. Я стремлюсь к постоянному обучению и совершенствованию, чтобы быть в курсе последних тенденций в области Data Science.'"
            ],
            "application/vnd.google.colaboratory.intrinsic+json": {
              "type": "string"
            }
          },
          "metadata": {},
          "execution_count": 18
        }
      ]
    },
    {
      "cell_type": "markdown",
      "source": [
        "### Проверка резюме"
      ],
      "metadata": {
        "id": "Tj2waUlni2c_"
      }
    },
    {
      "cell_type": "code",
      "source": [
        "file = '/content/drive/MyDrive/UII/Terra/hh_filtered (1).csv'\n",
        "df = pd.read_csv(file, low_memory=False)"
      ],
      "metadata": {
        "id": "a9vu4aRukhD0"
      },
      "execution_count": null,
      "outputs": []
    },
    {
      "cell_type": "code",
      "source": [
        "# Список столбцов\n",
        "list(df)"
      ],
      "metadata": {
        "colab": {
          "base_uri": "https://localhost:8080/"
        },
        "id": "0kqVDVzEmgHu",
        "outputId": "29edc908-c602-424b-cfcb-97b92ec860e3"
      },
      "execution_count": null,
      "outputs": [
        {
          "output_type": "execute_result",
          "data": {
            "text/plain": [
              "['Пол, возраст',\n",
              " 'ЗП',\n",
              " 'Ищет работу на должность:',\n",
              " 'Город',\n",
              " 'Занятость',\n",
              " 'График',\n",
              " 'Опыт (двойное нажатие для полной версии)',\n",
              " 'Последенее/нынешнее место работы',\n",
              " 'Последеняя/нынешняя должность',\n",
              " 'Образование и ВУЗ',\n",
              " 'Обновление резюме',\n",
              " 'Авто']"
            ]
          },
          "metadata": {},
          "execution_count": 6
        }
      ]
    },
    {
      "cell_type": "code",
      "source": [
        "# номер строки\n",
        "num = 4\n",
        "df[num:num+1]"
      ],
      "metadata": {
        "colab": {
          "base_uri": "https://localhost:8080/",
          "height": 168
        },
        "id": "Z4sD6Ufalmyi",
        "outputId": "549c6f9d-5b1b-490b-878e-fb5bb3394399"
      },
      "execution_count": null,
      "outputs": [
        {
          "output_type": "execute_result",
          "data": {
            "text/plain": [
              "                                Пол, возраст           ЗП  \\\n",
              "4  Мужчина ,  54 года , родился 27 июня 1964  180000 руб.   \n",
              "\n",
              "    Ищет работу на должность:  \\\n",
              "4  ведущий разработчик oracle   \n",
              "\n",
              "                                               Город         Занятость  \\\n",
              "4  Москва ,  м. Бульвар Рокоссовского , не готов ...  полная занятость   \n",
              "\n",
              "                                         График  \\\n",
              "4  гибкий график, полный день, удаленная работа   \n",
              "\n",
              "            Опыт (двойное нажатие для полной версии)  \\\n",
              "4  Опыт работы 30 лет 9 месяцев  Ведущий разработ...   \n",
              "\n",
              "                    Последенее/нынешнее место работы  \\\n",
              "4  Государственная корпорация  “Банк развития и в...   \n",
              "\n",
              "      Последеняя/нынешняя должность  \\\n",
              "4  Бизнес-аналитик / Разработчик ПО   \n",
              "\n",
              "                                   Образование и ВУЗ Обновление резюме  \\\n",
              "4  Высшее образование 1987  Московский авиационны...  10.08.2018 12:00   \n",
              "\n",
              "         Авто  \n",
              "4  Не указано  "
            ],
            "text/html": [
              "\n",
              "  <div id=\"df-82512d77-fae7-474a-b471-3f40109a3b78\" class=\"colab-df-container\">\n",
              "    <div>\n",
              "<style scoped>\n",
              "    .dataframe tbody tr th:only-of-type {\n",
              "        vertical-align: middle;\n",
              "    }\n",
              "\n",
              "    .dataframe tbody tr th {\n",
              "        vertical-align: top;\n",
              "    }\n",
              "\n",
              "    .dataframe thead th {\n",
              "        text-align: right;\n",
              "    }\n",
              "</style>\n",
              "<table border=\"1\" class=\"dataframe\">\n",
              "  <thead>\n",
              "    <tr style=\"text-align: right;\">\n",
              "      <th></th>\n",
              "      <th>Пол, возраст</th>\n",
              "      <th>ЗП</th>\n",
              "      <th>Ищет работу на должность:</th>\n",
              "      <th>Город</th>\n",
              "      <th>Занятость</th>\n",
              "      <th>График</th>\n",
              "      <th>Опыт (двойное нажатие для полной версии)</th>\n",
              "      <th>Последенее/нынешнее место работы</th>\n",
              "      <th>Последеняя/нынешняя должность</th>\n",
              "      <th>Образование и ВУЗ</th>\n",
              "      <th>Обновление резюме</th>\n",
              "      <th>Авто</th>\n",
              "    </tr>\n",
              "  </thead>\n",
              "  <tbody>\n",
              "    <tr>\n",
              "      <th>4</th>\n",
              "      <td>Мужчина ,  54 года , родился 27 июня 1964</td>\n",
              "      <td>180000 руб.</td>\n",
              "      <td>ведущий разработчик oracle</td>\n",
              "      <td>Москва ,  м. Бульвар Рокоссовского , не готов ...</td>\n",
              "      <td>полная занятость</td>\n",
              "      <td>гибкий график, полный день, удаленная работа</td>\n",
              "      <td>Опыт работы 30 лет 9 месяцев  Ведущий разработ...</td>\n",
              "      <td>Государственная корпорация  “Банк развития и в...</td>\n",
              "      <td>Бизнес-аналитик / Разработчик ПО</td>\n",
              "      <td>Высшее образование 1987  Московский авиационны...</td>\n",
              "      <td>10.08.2018 12:00</td>\n",
              "      <td>Не указано</td>\n",
              "    </tr>\n",
              "  </tbody>\n",
              "</table>\n",
              "</div>\n",
              "    <div class=\"colab-df-buttons\">\n",
              "\n",
              "  <div class=\"colab-df-container\">\n",
              "    <button class=\"colab-df-convert\" onclick=\"convertToInteractive('df-82512d77-fae7-474a-b471-3f40109a3b78')\"\n",
              "            title=\"Convert this dataframe to an interactive table.\"\n",
              "            style=\"display:none;\">\n",
              "\n",
              "  <svg xmlns=\"http://www.w3.org/2000/svg\" height=\"24px\" viewBox=\"0 -960 960 960\">\n",
              "    <path d=\"M120-120v-720h720v720H120Zm60-500h600v-160H180v160Zm220 220h160v-160H400v160Zm0 220h160v-160H400v160ZM180-400h160v-160H180v160Zm440 0h160v-160H620v160ZM180-180h160v-160H180v160Zm440 0h160v-160H620v160Z\"/>\n",
              "  </svg>\n",
              "    </button>\n",
              "\n",
              "  <style>\n",
              "    .colab-df-container {\n",
              "      display:flex;\n",
              "      gap: 12px;\n",
              "    }\n",
              "\n",
              "    .colab-df-convert {\n",
              "      background-color: #E8F0FE;\n",
              "      border: none;\n",
              "      border-radius: 50%;\n",
              "      cursor: pointer;\n",
              "      display: none;\n",
              "      fill: #1967D2;\n",
              "      height: 32px;\n",
              "      padding: 0 0 0 0;\n",
              "      width: 32px;\n",
              "    }\n",
              "\n",
              "    .colab-df-convert:hover {\n",
              "      background-color: #E2EBFA;\n",
              "      box-shadow: 0px 1px 2px rgba(60, 64, 67, 0.3), 0px 1px 3px 1px rgba(60, 64, 67, 0.15);\n",
              "      fill: #174EA6;\n",
              "    }\n",
              "\n",
              "    .colab-df-buttons div {\n",
              "      margin-bottom: 4px;\n",
              "    }\n",
              "\n",
              "    [theme=dark] .colab-df-convert {\n",
              "      background-color: #3B4455;\n",
              "      fill: #D2E3FC;\n",
              "    }\n",
              "\n",
              "    [theme=dark] .colab-df-convert:hover {\n",
              "      background-color: #434B5C;\n",
              "      box-shadow: 0px 1px 3px 1px rgba(0, 0, 0, 0.15);\n",
              "      filter: drop-shadow(0px 1px 2px rgba(0, 0, 0, 0.3));\n",
              "      fill: #FFFFFF;\n",
              "    }\n",
              "  </style>\n",
              "\n",
              "    <script>\n",
              "      const buttonEl =\n",
              "        document.querySelector('#df-82512d77-fae7-474a-b471-3f40109a3b78 button.colab-df-convert');\n",
              "      buttonEl.style.display =\n",
              "        google.colab.kernel.accessAllowed ? 'block' : 'none';\n",
              "\n",
              "      async function convertToInteractive(key) {\n",
              "        const element = document.querySelector('#df-82512d77-fae7-474a-b471-3f40109a3b78');\n",
              "        const dataTable =\n",
              "          await google.colab.kernel.invokeFunction('convertToInteractive',\n",
              "                                                    [key], {});\n",
              "        if (!dataTable) return;\n",
              "\n",
              "        const docLinkHtml = 'Like what you see? Visit the ' +\n",
              "          '<a target=\"_blank\" href=https://colab.research.google.com/notebooks/data_table.ipynb>data table notebook</a>'\n",
              "          + ' to learn more about interactive tables.';\n",
              "        element.innerHTML = '';\n",
              "        dataTable['output_type'] = 'display_data';\n",
              "        await google.colab.output.renderOutput(dataTable, element);\n",
              "        const docLink = document.createElement('div');\n",
              "        docLink.innerHTML = docLinkHtml;\n",
              "        element.appendChild(docLink);\n",
              "      }\n",
              "    </script>\n",
              "  </div>\n",
              "\n",
              "    </div>\n",
              "  </div>\n"
            ]
          },
          "metadata": {},
          "execution_count": 11
        }
      ]
    },
    {
      "cell_type": "code",
      "source": [
        "num = 11\n",
        "position = df['Ищет работу на должность:'][num]\n",
        "education = df['Образование и ВУЗ'][num]\n",
        "experience = df['Опыт (двойное нажатие для полной версии)'][num]\n",
        "print('Должность:', position)\n",
        "print(f'Образование [{len(education)}]:', education)\n",
        "print(f'Опыт работы [{len(experience)}]:', experience)"
      ],
      "metadata": {
        "colab": {
          "base_uri": "https://localhost:8080/"
        },
        "id": "tTp6hMJQmOww",
        "outputId": "1b418840-047c-4476-e937-89bb4287b393"
      },
      "execution_count": null,
      "outputs": [
        {
          "output_type": "stream",
          "name": "stdout",
          "text": [
            "Должность: front-end web developer\n",
            "Образование [164]: Высшее образование 2018 University of the People BS, Computer Science 2015 Udacity Nanodegrees, Front-end web developer 2009 КГУКИ ИБФ, Прикладная информатика в СКС\n",
            "Опыт работы [962]: Опыт работы 10 лет 4 месяца  Август 2017 — по настоящее время 1 год 10 месяцев Klerk.ru www.klerk.ru Frontend-разработчик Senior frontend developer. Vue.js, Webpack.  Март 2014 — Август  2017 3 года 6 месяцев Self-employed Информационные технологии, системная интеграция, интернет ... Разработка программного обеспечения Web developer Web development  Март 2010 — Март  2014 4 года 1 месяц ООО ТД \"Суворовский редут - Кубань\" Продукты питания ... Кондитерские изделия (продвижение, оптовая торговля) Кондитерские изделия (производство) Хлебобулочные изделия (продвижение, оптовая торговля) Хлебобулочные изделия (производство) Программист 1С Автоматизация бизнес-процессов компании.  Июль 2006 — Июль  2007 1 год 1 месяц НОУ БКЦ \"Антарес\" Информационные технологии, системная интеграция, интернет ... Системная интеграция, автоматизации технологических и бизнес-процессов предприятия, ИТ-консалтинг Программист отдела внедрения Внедрение ПО 1С Предприятие 7.7, 8\n"
          ]
        }
      ]
    },
    {
      "cell_type": "code",
      "source": [
        "system_content = f'''Ты опытный hr консультант, который помогает соискателю грамотно составить резюме,\n",
        "чтобы максимально соответствовать должности {position}. Соискатель написал резюме, которое содержит образование соискателя,\n",
        "его опыт работы. Проанализируй это резюме и напиши рекомендации по его корректировке, чтобы максимально соответствовать должности {position}'''\n",
        "\n",
        "user_content = f'''\n",
        "Образование: {education}\n",
        "Опыт работы: {experience}'''"
      ],
      "metadata": {
        "id": "7rYcRiMHENYQ"
      },
      "execution_count": null,
      "outputs": []
    },
    {
      "cell_type": "code",
      "source": [
        "answer = openai.ChatCompletion.create(\n",
        "    model='gpt-3.5-turbo',\n",
        "    messages=[\n",
        "        {\n",
        "            'role': 'system',\n",
        "            'content': system_content\n",
        "        },\n",
        "        {\n",
        "            'role': 'user',\n",
        "            'content': user_content\n",
        "        }\n",
        "    ]\n",
        ")"
      ],
      "metadata": {
        "id": "4Ji_EM2AnOlp"
      },
      "execution_count": null,
      "outputs": []
    },
    {
      "cell_type": "code",
      "source": [
        "message = answer['choices'][0]['message']['content']\n",
        "print(message)"
      ],
      "metadata": {
        "colab": {
          "base_uri": "https://localhost:8080/"
        },
        "id": "5LkJRu1IDB4c",
        "outputId": "ddd02dca-875f-4da0-bcc9-1fae89357a96"
      },
      "execution_count": null,
      "outputs": [
        {
          "output_type": "stream",
          "name": "stdout",
          "text": [
            "Резюме соискателя нуждается в некоторых корректировках, чтобы максимально соответствовать должности front-end web developer. Вот некоторые рекомендации:\n",
            "\n",
            "1. Образование: \n",
            "- Указать только высшее образование, связанное с информационными технологиями. Остальные программы обучения и курсы можно упомянуть в разделе \"Дополнительное образование\" или \"Профессиональное развитие\".\n",
            "\n",
            "2. Опыт работы:\n",
            "- Опишите свой опыт работы в обратном хронологическом порядке с указанием дат, компаний и должностей. \n",
            "- Для каждой позиции укажите ключевые обязанности и достигнутые результаты, чтобы продемонстрировать свои навыки и качества, связанные с front-end web development.\n",
            "- Укажите использованные технологии, языки программирования и инструменты.\n",
            "\n",
            "Вот пример, как можно откорректировать резюме:\n",
            "\n",
            "Образование:\n",
            "- Высшее образование: \n",
            "   - 2018 University of the People, BS, Computer Science\n",
            " \n",
            "Дополнительное образование и курсы:\n",
            "- 2015 Udacity Nanodegrees, Front-end Web Developer\n",
            "\n",
            "Опыт работы:\n",
            "   \n",
            "Klerk.ru - Frontend-разработчик (Senior), Август 2017 - настоящее время\n",
            "- Разработка и поддержка фронтенд-части сайта с использованием Vue.js и Webpack\n",
            "- Улучшение производительности и оптимизация кода\n",
            "- Сотрудничество с командой дизайнеров и бэкэнд-разработчиками для создания качественного пользовательского интерфейса\n",
            "\n",
            "Self-employed - Web Developer, Март 2014 - Август 2017\n",
            "- Разработка и поддержка веб-приложений\n",
            "- Использование HTML, CSS, JavaScript для создания интерактивных пользовательских интерфейсов\n",
            "\n",
            "ООО ТД \"Суворовский редут - Кубань\" - Программист, Март 2010 - Март 2014\n",
            "- Автоматизация бизнес-процессов компании с использованием 1С Предприятие\n",
            "- Разработка и поддержка внутреннего программного обеспечения\n",
            "\n",
            "НОУ БКЦ \"Антарес\" - Программист отдела внедрения, Июль 2006 - Июль 2007\n",
            "- Внедрение ПО 1С Предприятие 7.7, 8\n",
            "- Системная интеграция и автоматизация бизнес-процессов предприятия\n",
            "\n",
            "Советы:\n",
            "- Укажите языки программирования, с которыми вы работали, такие как JavaScript, HTML, CSS и фреймворк Vue.js.\n",
            "- Укажите инструменты, с которыми вы работали, например, Webpack.\n",
            "- Если у вас есть достижения или проекты, связанные с front-end web development, укажите их. Это могут быть сайты, которые вы разработали, или улучшения, которые вы внесли в существующие проекты.\n",
            "\n",
            "Надеюсь, эти рекомендации помогут вам улучшить свое резюме и сделать его более привлекательным для работодателей, ищущих front-end web developer. Удачи в поиске работы!\n"
          ]
        }
      ]
    },
    {
      "cell_type": "markdown",
      "source": [
        "Подсчёт токенов"
      ],
      "metadata": {
        "id": "EUjkgoN3zU3v"
      }
    },
    {
      "cell_type": "code",
      "source": [
        "messages = [\n",
        "    SystemMessage(content=system_content),\n",
        "    HumanMessage(content=user_content)\n",
        "    ]\n",
        "\n",
        "# Количество токенов\n",
        "chat = ChatOpenAI(temperature=0)\n",
        "chat.get_num_tokens_from_messages(messages)"
      ],
      "metadata": {
        "colab": {
          "base_uri": "https://localhost:8080/"
        },
        "id": "gL4ZLG5iC_Zd",
        "outputId": "681e5717-1adf-48af-afab-764e35ac9df0"
      },
      "execution_count": null,
      "outputs": [
        {
          "output_type": "execute_result",
          "data": {
            "text/plain": [
              "689"
            ]
          },
          "metadata": {},
          "execution_count": 30
        }
      ]
    },
    {
      "cell_type": "markdown",
      "source": [
        "### Проверка орфографии"
      ],
      "metadata": {
        "id": "ffrJYl7-QD-E"
      }
    },
    {
      "cell_type": "code",
      "source": [
        "!pip -q install pyspellchecker"
      ],
      "metadata": {
        "id": "us8m3X09QHCb"
      },
      "execution_count": null,
      "outputs": []
    },
    {
      "cell_type": "code",
      "source": [
        "from spellchecker import SpellChecker\n",
        "\n",
        "spell = SpellChecker(language='ru')\n",
        "spell.correction(experience)"
      ],
      "metadata": {
        "colab": {
          "base_uri": "https://localhost:8080/",
          "height": 106
        },
        "id": "4it5H4QNS6n9",
        "outputId": "41974e3b-ef44-445f-b449-ca3809df1f5d"
      },
      "execution_count": null,
      "outputs": [
        {
          "output_type": "execute_result",
          "data": {
            "text/plain": [
              "'Опыт работы 10 лет 4 месяца  Август 2017 — по настоящее время 1 год 10 месяцев Klerk.ru www.klerk.ru Frontend-разработчик Senior frontend developer. Vue.js, Webpack.  Март 2014 — Август  2017 3 года 6 месяцев Self-employed Информационные технологии, системная интеграция, интернет ... Разработка программного обеспечения Web developer Web development  Март 2010 — Март  2014 4 года 1 месяц ООО ТД \"Суворовский редут - Кубань\" Продукты питания ... Кондитерские изделия (продвижение, оптовая торговля) Кондитерские изделия (производство) Хлебобулочные изделия (продвижение, оптовая торговля) Хлебобулочные изделия (производство) Программист 1С Автоматизация бизнес-процессов компании.  Июль 2006 — Июль  2007 1 год 1 месяц НОУ БКЦ \"Антарес\" Информационные технологии, системная интеграция, интернет ... Системная интеграция, автоматизации технологических и бизнес-процессов предприятия, ИТ-консалтинг Программист отдела внедрения Внедрение ПО 1С Предприятие 7.7, 8'"
            ],
            "application/vnd.google.colaboratory.intrinsic+json": {
              "type": "string"
            }
          },
          "metadata": {},
          "execution_count": 33
        }
      ]
    },
    {
      "cell_type": "code",
      "source": [
        "from difflib import SequenceMatcher\n",
        "\n",
        "# highlight colors\n",
        "# you may change these values according to your preferences\n",
        "color_delete = '#FF8888'  # highlight color for deletions\n",
        "color_insert = '#44FF44'  # highlight color for insertions\n",
        "color_replace = '#EEEE88' # highlight color for replacements\n",
        "\n",
        "# the common format string used for highlighted segments\n",
        "f_str = '<span style=\"background: {};\">{}</span>'\n",
        "\n",
        "# given two strings (a, b), getFormattedDiff returns the HTML formatted strings (formatted_a, formatted_b)\n",
        "def getFormattedDiff(a, b):\n",
        "    # initialize the sequence matcher\n",
        "    s = SequenceMatcher(None, a, b)\n",
        "\n",
        "    # stringbuilders for the formatted strings\n",
        "    formatted_a = []\n",
        "    formatted_b = []\n",
        "\n",
        "    # iterate through all char blocks\n",
        "    for tag, i1, i2, j1, j2 in s.get_opcodes():\n",
        "        if tag == 'equal':\n",
        "            # if the blovks are the same, append block to both strings without any formatting\n",
        "            formatted_a.append(a[i1:i2])\n",
        "            formatted_b.append(b[j1:j2])\n",
        "        elif tag == 'delete':\n",
        "            # if this is a deletion block, append block to the first string with the delete highlight\n",
        "            formatted_a.append(f_str.format(color_delete, a[i1:i2]))\n",
        "        elif tag == 'insert':\n",
        "            # if this is a insertion block, append block to the second string with the insert highlight\n",
        "            formatted_b.append(f_str.format(color_insert, b[j1:j2]))\n",
        "        elif tag == 'replace':\n",
        "            # if this is a replacement block, append block to both strings with the replace highlight\n",
        "            formatted_a.append(f_str.format(color_replace, a[i1:i2]))\n",
        "            formatted_b.append(f_str.format(color_replace, b[j1:j2]))\n",
        "\n",
        "    # return the formatted strings\n",
        "    return ''.join(formatted_a), ''.join(formatted_b)"
      ],
      "metadata": {
        "id": "r8LMGerKUL9K"
      },
      "execution_count": null,
      "outputs": []
    },
    {
      "cell_type": "code",
      "source": [
        "cases = [\n",
        "    (education, spell.correction(education)),\n",
        "    (experience, spell.correction(experience)),\n",
        "]"
      ],
      "metadata": {
        "id": "J7Q2TxKkUU1D"
      },
      "execution_count": null,
      "outputs": []
    },
    {
      "cell_type": "code",
      "source": [
        "from IPython.display import HTML, display\n",
        "\n",
        "for a, b in cases:\n",
        "    formatted_a, formatted_b = getFormattedDiff(a, b)\n",
        "    display(HTML(formatted_a))\n",
        "    display(HTML(formatted_b))\n",
        "    print()"
      ],
      "metadata": {
        "colab": {
          "base_uri": "https://localhost:8080/",
          "height": 260
        },
        "id": "fenQ_VhvUQWV",
        "outputId": "a16bfd8c-226d-4a9c-f3ce-9de8f6abe128"
      },
      "execution_count": null,
      "outputs": [
        {
          "output_type": "display_data",
          "data": {
            "text/plain": [
              "<IPython.core.display.HTML object>"
            ],
            "text/html": [
              "Высшее образование 2018 University of the People BS, Computer Science 2015 Udacity Nanodegrees, Front-end web developer 2009 КГУКИ ИБФ, Прикладная информатика в СКС"
            ]
          },
          "metadata": {}
        },
        {
          "output_type": "display_data",
          "data": {
            "text/plain": [
              "<IPython.core.display.HTML object>"
            ],
            "text/html": [
              "Высшее образование 2018 University of the People BS, Computer Science 2015 Udacity Nanodegrees, Front-end web developer 2009 КГУКИ ИБФ, Прикладная информатика в СКС"
            ]
          },
          "metadata": {}
        },
        {
          "output_type": "stream",
          "name": "stdout",
          "text": [
            "\n"
          ]
        },
        {
          "output_type": "display_data",
          "data": {
            "text/plain": [
              "<IPython.core.display.HTML object>"
            ],
            "text/html": [
              "Опыт работы 10 лет 4 месяца  Август 2017 — по настоящее время 1 год 10 месяцев Klerk.ru www.klerk.ru Frontend-разработчик Senior frontend developer. Vue.js, Webpack.  Март 2014 — Август  2017 3 года 6 месяцев Self-employed Информационные технологии, системная интеграция, интернет ... Разработка программного обеспечения Web developer Web development  Март 2010 — Март  2014 4 года 1 месяц ООО ТД \"Суворовский редут - Кубань\" Продукты питания ... Кондитерские изделия (продвижение, оптовая торговля) Кондитерские изделия (производство) Хлебобулочные изделия (продвижение, оптовая торговля) Хлебобулочные изделия (производство) Программист 1С Автоматизация бизнес-процессов компании.  Июль 2006 — Июль  2007 1 год 1 месяц НОУ БКЦ \"Антарес\" Информационные технологии, системная интеграция, интернет ... Системная интеграция, автоматизации технологических и бизнес-процессов предприятия, ИТ-консалтинг Программист отдела внедрения Внедрение ПО 1С Предприятие 7.7, 8"
            ]
          },
          "metadata": {}
        },
        {
          "output_type": "display_data",
          "data": {
            "text/plain": [
              "<IPython.core.display.HTML object>"
            ],
            "text/html": [
              "Опыт работы 10 лет 4 месяца  Август 2017 — по настоящее время 1 год 10 месяцев Klerk.ru www.klerk.ru Frontend-разработчик Senior frontend developer. Vue.js, Webpack.  Март 2014 — Август  2017 3 года 6 месяцев Self-employed Информационные технологии, системная интеграция, интернет ... Разработка программного обеспечения Web developer Web development  Март 2010 — Март  2014 4 года 1 месяц ООО ТД \"Суворовский редут - Кубань\" Продукты питания ... Кондитерские изделия (продвижение, оптовая торговля) Кондитерские изделия (производство) Хлебобулочные изделия (продвижение, оптовая торговля) Хлебобулочные изделия (производство) Программист 1С Автоматизация бизнес-процессов компании.  Июль 2006 — Июль  2007 1 год 1 месяц НОУ БКЦ \"Антарес\" Информационные технологии, системная интеграция, интернет ... Системная интеграция, автоматизации технологических и бизнес-процессов предприятия, ИТ-консалтинг Программист отдела внедрения Внедрение ПО 1С Предприятие 7.7, 8"
            ]
          },
          "metadata": {}
        },
        {
          "output_type": "stream",
          "name": "stdout",
          "text": [
            "\n"
          ]
        }
      ]
    },
    {
      "cell_type": "code",
      "source": [
        "cases = [\n",
        "    ('Пример корректного текста', 'примеры некоректнго ткста'),\n",
        "]"
      ],
      "metadata": {
        "id": "5RkJ3XHOU925"
      },
      "execution_count": null,
      "outputs": []
    },
    {
      "cell_type": "code",
      "source": [
        "for a, b in cases:\n",
        "    formatted_a, formatted_b = getFormattedDiff(a, b)\n",
        "    display(HTML(formatted_a))\n",
        "    display(HTML(formatted_b))\n",
        "    print()"
      ],
      "metadata": {
        "colab": {
          "base_uri": "https://localhost:8080/",
          "height": 69
        },
        "id": "-m-woiHXVIbv",
        "outputId": "868a84a2-1b06-40f4-f3a0-39f3d7ae0a1e"
      },
      "execution_count": null,
      "outputs": [
        {
          "output_type": "display_data",
          "data": {
            "text/plain": [
              "<IPython.core.display.HTML object>"
            ],
            "text/html": [
              "<span style=\"background: #EEEE88;\">П</span>ример ко<span style=\"background: #FF8888;\">р</span>ректн<span style=\"background: #FF8888;\">о</span>го т<span style=\"background: #FF8888;\">е</span>кста"
            ]
          },
          "metadata": {}
        },
        {
          "output_type": "display_data",
          "data": {
            "text/plain": [
              "<IPython.core.display.HTML object>"
            ],
            "text/html": [
              "<span style=\"background: #EEEE88;\">п</span>ример<span style=\"background: #44FF44;\">ы</span> <span style=\"background: #44FF44;\">не</span>коректнго ткста"
            ]
          },
          "metadata": {}
        },
        {
          "output_type": "stream",
          "name": "stdout",
          "text": [
            "\n"
          ]
        }
      ]
    },
    {
      "cell_type": "markdown",
      "source": [
        "# Эксперименты 2"
      ],
      "metadata": {
        "id": "_ozrIAcLe_HT"
      }
    },
    {
      "cell_type": "markdown",
      "source": [
        "## Резюме"
      ],
      "metadata": {
        "id": "C7aGVOc5zYaN"
      }
    },
    {
      "cell_type": "code",
      "source": [
        "name = 'Порфирий Прокофьевич'\n",
        "city = 'Новополис'\n",
        "position = 'Data Scientist'"
      ],
      "metadata": {
        "id": "75ss6a5QzsSo"
      },
      "execution_count": 148,
      "outputs": []
    },
    {
      "cell_type": "code",
      "source": [
        "about = '''\n",
        "Сдан экзамен P1 CIMA\n",
        "Средний бал: 4,6\n",
        "\n",
        "Имея изначально склонность к аналитике, решил добавить технологические стек и уже более углублено ее развивать в направлении Data Science.\n",
        "\n",
        "Личные качества:\n",
        "- Нахожу общий язык с коллегами\n",
        "- Дисциплинирован.\n",
        "- Постоянно обучаюсь новому.\n",
        "- Стремлюсь к профессиональному и карьерному росту.\n",
        "- В работе соблюдаю сроки выполнения задач.\n",
        "- Способен длительное время заниматься решением одной проблемы.\n",
        "- Умею работать с большим объёмом информации.\n",
        "- Умею хранить конфиденциальную информацию.\n",
        "- Способен исследовать, проверять факты и собирать точные данные.\n",
        "'''"
      ],
      "metadata": {
        "id": "tbkmzzqhI911"
      },
      "execution_count": 149,
      "outputs": []
    },
    {
      "cell_type": "code",
      "source": [
        "experience = [\n",
        "    {\n",
        "        'date_start': '06.2022',\n",
        "        'date_end': '',\n",
        "        'organisation': 'Элерон (Европейская химчистка Apetta)',\n",
        "        'city': 'Санкт-Петербург',\n",
        "        'web': 'apetta.ru',\n",
        "        'industry': 'Услуги для населения',\n",
        "        'position': 'Бизнес-аналитик',\n",
        "        'experience_type': 'Основная работа',\n",
        "        'activity': 'Аналитика в Power BI, Excel. Использование базы данных. Построение автоматизированных отчетов.',\n",
        "    },\n",
        "    {\n",
        "        'date_start': '09.2021',\n",
        "        'date_end': '',\n",
        "        'organisation': 'Проектная деятельность',\n",
        "        'city': 'Санкт-Петербург',\n",
        "        'web': 'github.com/Litvinov-Anton/Portfolio',\n",
        "        'industry': '',\n",
        "        'position': 'Data Scientist',\n",
        "        'experience_type': 'Фриланс',\n",
        "        'activity': '''\n",
        "Деятельность:\n",
        "Коммерческий проект по созданию отчета в Power BI, для компании Data Sfera.\n",
        "\n",
        "Личный проект. Создал проект по отнесению кондитерских изделий к классу с помощью логистической регрессии, на основании данных Kaggle.\n",
        "\n",
        "Личный проект. Создал несколько финансовых отчетов в Power BI, DataStudio.\n",
        "\n",
        "Личный проект. Создал проекты по предсказанию прибыли с помощью линейной регрессии, на основании данных Kaggle.\n",
        "\n",
        "Личный проект. Составил финансовую модель с помощью Excel.\n",
        "\n",
        "Личный проект. Создал проект по классификации с помощью метода К-Средних, на основании данных Kaggle.\n",
        "        ''',\n",
        "    },\n",
        "    {\n",
        "        'date_start': '10.2021',\n",
        "        'date_end': '11.2021',\n",
        "        'organisation': 'ООО \"УК \"Клин-Тим\" (промышленный клининг)',\n",
        "        'city': 'Санкт-Петербург',\n",
        "        'web': 'cleanteam.ru',\n",
        "        'industry': '',\n",
        "        'position': 'Экономист',\n",
        "        'experience_type': 'Основная работа',\n",
        "        'activity': '''\n",
        "- Ведение управленческого учета компании (2 ЦФО)\n",
        "- Сбор данных и формирование отчетов по маржинальности объектов (1С УПП, Excel)\n",
        "- План-факторный анализ полученных данных, построение отчетности и визуализация данных (Power BI)\n",
        "- Ввод данных смет в программу учета\n",
        "- Подготовка аналитических справок, статистик по итогам работы за период.\n",
        "- Ведение электронного архива смет\n",
        "\n",
        "Ключевые результат:\n",
        "внедрил инструмента PowerBI визуализации в процесс предоставления отчётности\n",
        "''',\n",
        "    },\n",
        "    {\n",
        "        'date_start': '06.2020',\n",
        "        'date_end': '05.2021',\n",
        "        'organisation': '\"Терра -Авто\" КЦ\" (ГК «Прагматика») - один из крупнейших Российских автодилеров',\n",
        "        'city': 'Санкт-Петербург',\n",
        "        'web': 'www.terravto.ru',\n",
        "        'industry': 'Автомобильный бизнес',\n",
        "        'position': 'Экономист',\n",
        "        'experience_type': 'Основная работа',\n",
        "        'activity': '''\n",
        "-Составление бюджета компании (2 ЦФО): планирование показателей операционного производства, выручки от продаж, ФОТа, (OPEX, CAPEX)\n",
        "-План-факторный анализ полученных данных\n",
        "-Составление управленческой отчетности (Excel, SQL, 1С)\n",
        "-Составление экономической и финансовой отчётности для внешних контрагентов по запросу\n",
        "- Контроль исполнения платежного календаря\n",
        "Ключевые результаты:\n",
        "Разработал и внедрил систему для расчета мотивации персонала по компании за счет введения углубленной аналитики по продажам.\n",
        "''',\n",
        "    },\n",
        "]"
      ],
      "metadata": {
        "id": "OXDryHh75_Rg"
      },
      "execution_count": 150,
      "outputs": []
    },
    {
      "cell_type": "code",
      "source": [
        "education = [\n",
        "    {\n",
        "        'date_start': '2017',\n",
        "        'date_end': '',\n",
        "        'education_type': 'Высшее образование',\n",
        "        'institution': 'СПбГЭУ',\n",
        "        'faculty': 'Экономики, Мировая экономика',\n",
        "    },\n",
        "    {\n",
        "        'date_start': '2015',\n",
        "        'date_end': '',\n",
        "        'education_type': 'Высшее образование',\n",
        "        'institution': 'Санкт-Петербургский государственный инженерно-экономический университет \"ИНЖЭКОН\", Санкт-Петербург',\n",
        "        'faculty': 'Экономики, Национальная экономика',\n",
        "    },\n",
        "    {\n",
        "        'date_start': '2022',\n",
        "        'date_end': '',\n",
        "        'education_type': 'Курсы',\n",
        "        'institution': 'Техническая Академия РосАтома',\n",
        "        'faculty': 'Деловой английский',\n",
        "    },\n",
        "    {\n",
        "        'date_start': '2022',\n",
        "        'date_end': '',\n",
        "        'education_type': 'Курсы',\n",
        "        'institution': 'БФУ им. И. Канта',\n",
        "        'faculty': 'Экономика и финансы',\n",
        "    },\n",
        "    {\n",
        "        'date_start': '2022',\n",
        "        'date_end': '',\n",
        "        'education_type': 'Курсы',\n",
        "        'institution': 'БФУ им. И. Канта',\n",
        "        'faculty': 'Разработка и реализация маркетинговой стратегии',\n",
        "    },\n",
        "    {\n",
        "        'date_start': '2022',\n",
        "        'date_end': '',\n",
        "        'education_type': 'Курсы',\n",
        "        'institution': 'БФУ им. И. Канта',\n",
        "        'faculty': 'Бизнес-модели компании и операционная эффективность',\n",
        "    },\n",
        "    {\n",
        "        'date_start': '2022',\n",
        "        'date_end': '',\n",
        "        'education_type': 'Курсы',\n",
        "        'institution': 'Университет Синергия',\n",
        "        'faculty': 'Data Scientist',\n",
        "    },\n",
        "    {\n",
        "        'date_start': '2021',\n",
        "        'date_end': '',\n",
        "        'education_type': 'Курсы',\n",
        "        'institution': 'НИУ ИТМО, Санкт-Петербург',\n",
        "        'faculty': 'Технологии анализа данных',\n",
        "    },\n",
        "]"
      ],
      "metadata": {
        "id": "xePL1uXJ5gcK"
      },
      "execution_count": 151,
      "outputs": []
    },
    {
      "cell_type": "markdown",
      "source": [
        "## Функции обработки данных"
      ],
      "metadata": {
        "id": "afMPNoLZfiiE"
      }
    },
    {
      "cell_type": "code",
      "source": [
        "# подсчёт токенов\n",
        "def count_tokens(system_content, user_content, temperature=0):\n",
        "    messages = [\n",
        "        SystemMessage(content=system_content),\n",
        "        HumanMessage(content=user_content)\n",
        "        ]\n",
        "\n",
        "    # Количество токенов\n",
        "    chat = ChatOpenAI(temperature=temperature)\n",
        "    return chat.get_num_tokens_from_messages(messages)\n",
        "\n",
        "\n",
        "# генерация с помощью chatGPT\n",
        "def gpt(system_content, user_content, temperature=0):\n",
        "\n",
        "    messages = [\n",
        "        {'role': 'system', 'content': system_content},\n",
        "        {'role': 'user', 'content': user_content }]\n",
        "\n",
        "    answer = openai.ChatCompletion.create(\n",
        "        model='gpt-3.5-turbo',\n",
        "        messages=messages,\n",
        "        temperature=0)\n",
        "\n",
        "    message = answer['choices'][0]['message']['content']\n",
        "    prompt_tokens = answer['usage']['prompt_tokens']\n",
        "    completion_tokens = answer['usage']['completion_tokens']\n",
        "    total_tokens = answer['usage']['total_tokens']\n",
        "\n",
        "    return message, prompt_tokens, completion_tokens, total_tokens\n",
        "\n",
        "\n",
        "def gpt_print(system_content, user_content, temperature=0):\n",
        "    # вывод сгенерированных данных с помощью chatGPT\n",
        "    tokens = count_tokens(system_content, user_content)\n",
        "    result = gpt(system_content, user_content)\n",
        "    message, prompt_tokens, completion_tokens, total_tokens = result\n",
        "\n",
        "    print(message)\n",
        "    print('-' * 21)\n",
        "    print('Фактическое количество токенов')\n",
        "    print('прогноз:', tokens)\n",
        "    print('промт:', prompt_tokens)\n",
        "    print('ответ:', completion_tokens)\n",
        "    print('всего:', total_tokens)\n",
        "\n",
        "    return message"
      ],
      "metadata": {
        "id": "RWO3YVOk1gWU"
      },
      "execution_count": 171,
      "outputs": []
    },
    {
      "cell_type": "code",
      "source": [
        "from difflib import SequenceMatcher\n",
        "\n",
        "# highlight colors\n",
        "# you may change these values according to your preferences\n",
        "color_delete = '#FF8888'  # highlight color for deletions\n",
        "color_insert = '#44FF44'  # highlight color for insertions\n",
        "color_replace = '#EEEE88' # highlight color for replacements\n",
        "\n",
        "# the common format string used for highlighted segments\n",
        "f_str = '<span style=\"background: {};\">{}</span>'\n",
        "\n",
        "# given two strings (a, b), getFormattedDiff returns the HTML formatted strings (formatted_a, formatted_b)\n",
        "def getFormattedDiff(a, b):\n",
        "    # initialize the sequence matcher\n",
        "    s = SequenceMatcher(None, a, b)\n",
        "\n",
        "    # stringbuilders for the formatted strings\n",
        "    formatted_a = []\n",
        "    formatted_b = []\n",
        "\n",
        "    # iterate through all char blocks\n",
        "    for tag, i1, i2, j1, j2 in s.get_opcodes():\n",
        "        if tag == 'equal':\n",
        "            # if the blovks are the same, append block to both strings without any formatting\n",
        "            formatted_a.append(a[i1:i2])\n",
        "            formatted_b.append(b[j1:j2])\n",
        "        elif tag == 'delete':\n",
        "            # if this is a deletion block, append block to the first string with the delete highlight\n",
        "            formatted_a.append(f_str.format(color_delete, a[i1:i2]))\n",
        "        elif tag == 'insert':\n",
        "            # if this is a insertion block, append block to the second string with the insert highlight\n",
        "            formatted_b.append(f_str.format(color_insert, b[j1:j2]))\n",
        "        elif tag == 'replace':\n",
        "            # if this is a replacement block, append block to both strings with the replace highlight\n",
        "            formatted_a.append(f_str.format(color_replace, a[i1:i2]))\n",
        "            formatted_b.append(f_str.format(color_replace, b[j1:j2]))\n",
        "\n",
        "    # return the formatted strings\n",
        "    return ''.join(formatted_a), ''.join(formatted_b)"
      ],
      "metadata": {
        "id": "yNBY9BLeGxDP"
      },
      "execution_count": 193,
      "outputs": []
    },
    {
      "cell_type": "code",
      "source": [
        "# Перевод данных об образовании в pandas и последующая сортировка данных\n",
        "def get_education_pd(education):\n",
        "    # Перевод данных в pandas\n",
        "    df = pd.DataFrame(education)\n",
        "\n",
        "    # Перевод строки в дату для дальнейшей сортировки\n",
        "    df.loc[df['date_start'].str.contains('\\.'), 'date_start_sort'] = pd.to_datetime(df['date_start'], format='%m.%Y', errors='coerce')\n",
        "    df.loc[df['date_start'].str.match(r'\\d{4}$'), 'date_start_sort'] = pd.to_datetime(df['date_start'], format='%Y', errors='coerce')\n",
        "\n",
        "    # Сортировка по типу учебного заведения и году поступления\n",
        "    order = ['Высшее образование', 'Дополнительное образование', 'Курсы']\n",
        "    df['education_type'] = pd.Categorical(df['education_type'], ordered=True, categories=order)\n",
        "    df.sort_values(['education_type', 'date_start_sort'], ascending=[True, False], inplace=True)\n",
        "    df.reset_index(drop=True, inplace=True)\n",
        "\n",
        "    return df\n",
        "\n",
        "\n",
        "# Перевод данных об опыте работы в pandas и последующая сортировка данных\n",
        "def get_experience_pd(experience):\n",
        "    # Перевод данных в pandas\n",
        "    df = pd.DataFrame(experience)\n",
        "\n",
        "    # Перевод строки в дату для дальнейшей сортировки\n",
        "    df.loc[df['date_start'].str.contains('\\.'), 'date_start_sort'] = pd.to_datetime(df['date_start'], format='%m.%Y', errors='coerce')\n",
        "    df.loc[df['date_start'].str.match(r'\\d{4}$'), 'date_start_sort'] = pd.to_datetime(df['date_start'], format='%Y', errors='coerce')\n",
        "\n",
        "    # Сортировка по типу работы и году поступления\n",
        "    order = ['Фриланс', 'Основная работа']\n",
        "    df['experience_type'] = pd.Categorical(df['experience_type'], ordered=True, categories=order)\n",
        "    df.sort_values(['experience_type', 'date_start_sort'], ascending=[True, False], inplace=True)\n",
        "    df.reset_index(drop=True, inplace=True)\n",
        "\n",
        "    return df\n",
        "\n",
        "\n",
        "# Преобразование данных об образовании из pandas в str\n",
        "def get_education(education):\n",
        "    df = get_education_pd(education)\n",
        "    ret = ''\n",
        "    education_type = ''\n",
        "    for index, row in df.iterrows():\n",
        "        row_dict = dict(row)\n",
        "        if row['education_type'] != education_type:\n",
        "            ret += row['education_type'] + ':\\n\\n'\n",
        "            education_type = row['education_type']\n",
        "\n",
        "        ret += row['institution']\n",
        "        if row['date_start']:\n",
        "            ret += ' (' + row['date_start'] + ' - ' + (row['date_end'] if row['date_end'] else 'настоящее время') + ')'\n",
        "        ret += '\\n'\n",
        "\n",
        "        ret += row['faculty'] + '\\n\\n'\n",
        "\n",
        "    return ret\n",
        "\n",
        "\n",
        "# Преобразование данных об образовании из pandas в str\n",
        "def get_experience(experience):\n",
        "    df = get_experience_pd(experience)\n",
        "    ret = ''\n",
        "    experience_type = ''\n",
        "    for index, row in df.iterrows():\n",
        "        row_dict = dict(row)\n",
        "        if row['experience_type'] != experience_type:\n",
        "            ret += row['experience_type'] + ':\\n\\n'\n",
        "            experience_type = row['experience_type']\n",
        "\n",
        "        ret += row['organisation']\n",
        "        if row['date_start']:\n",
        "            ret += ' (' + row['date_start'] + ' - ' + (row['date_end'] if row['date_end'] else 'настоящее время') + ')'\n",
        "        ret += '\\n'\n",
        "\n",
        "        ret += row['city'] + (f\", {row['web']}\" if row['web'] else '') + '\\n'\n",
        "        ret += f\"{row['industry']}\\n\" if row['industry'] else ''\n",
        "        ret += f\"{row['position']}\\n\" if row['position'] else ''\n",
        "        ret += row['activity'] + '\\n\\n'\n",
        "\n",
        "    return ret\n",
        "\n",
        "\n",
        "# Вывод полного резюме в форматированном виде (html)\n",
        "def print_resume_html(name, city, position, about, education, experience):\n",
        "    # общие данные\n",
        "    display(HTML(f'<h2>{name}</h2>'))\n",
        "    display(HTML(f'<h3>{position}</h3>'))\n",
        "    display(HTML(f'<br><b>О себе:</b><br>{about}<br>'))\n",
        "\n",
        "    # образование\n",
        "    df = get_education_pd(education)\n",
        "    education_type = ''\n",
        "    for index, row in df.iterrows():\n",
        "        row_dict = dict(row)\n",
        "        if row['education_type'] != education_type:\n",
        "            display(HTML(f\"<h3>{row['education_type']}</h3><br>\"))\n",
        "            education_type = row['education_type']\n",
        "\n",
        "        institution = row['institution']\n",
        "        if row['date_start']:\n",
        "            institution += ' (' + row['date_start'] + ' - ' + (row['date_end'] if row['date_end'] else 'настоящее время') + ')'\n",
        "        display(HTML(f\"<b>{institution}</b><br>\"))\n",
        "        display(HTML(f\"{row['faculty']}<br><br>\"))\n",
        "\n",
        "    # опыт работы\n",
        "    df = get_experience_pd(experience)\n",
        "    experience_type = ''\n",
        "    for index, row in df.iterrows():\n",
        "        row_dict = dict(row)\n",
        "        if row['experience_type'] != experience_type:\n",
        "            display(HTML(f\"<h3>{row['experience_type']}</h3><br>\"))\n",
        "            experience_type = row['experience_type']\n",
        "\n",
        "        organisation = row['organisation']\n",
        "        if row['date_start']:\n",
        "            organisation += ' (' + row['date_start'] + ' - ' + (row['date_end'] if row['date_end'] else 'настоящее время') + ')'\n",
        "        display(HTML(f\"<b>{organisation}</b><br>\"))\n",
        "\n",
        "        city = row['city'] + (f\", {row['web']}\" if row['web'] else '')\n",
        "        display(HTML(f\"{city}<br>\"))\n",
        "        if row['industry']:\n",
        "            display(HTML(f\"{row['position']}<br>\"))\n",
        "        if row['position']:\n",
        "            display(HTML(f\"{row['industry']}<br>\"))\n",
        "        display(HTML(f\"{row['activity']}<br><br>\"))\n",
        "\n",
        "\n",
        "# Получение полного резюме в формате str\n",
        "def get_resume(name, city, position, about, education, experience):\n",
        "    education = get_education(education)\n",
        "    experience = get_experience(experience)\n",
        "    resume = f'''Имя: {name}\n",
        "Должность: {position}\n",
        "О себе:\n",
        "{about}\n",
        "\n",
        "{education}\n",
        "Опыт работы:\n",
        "\n",
        "{experience}\n",
        "'''\n",
        "\n",
        "    return resume"
      ],
      "metadata": {
        "id": "xGN4sB2fpZ2j"
      },
      "execution_count": 155,
      "outputs": []
    },
    {
      "cell_type": "markdown",
      "source": [
        "### Результаты"
      ],
      "metadata": {
        "id": "h2n--Kdsft0A"
      }
    },
    {
      "cell_type": "code",
      "source": [
        "get_education_pd(education)"
      ],
      "metadata": {
        "colab": {
          "base_uri": "https://localhost:8080/",
          "height": 300
        },
        "id": "m8EcKIF26sKl",
        "outputId": "d396e951-f009-4fac-dd61-3cc61b1b36bf"
      },
      "execution_count": 114,
      "outputs": [
        {
          "output_type": "execute_result",
          "data": {
            "text/plain": [
              "  date_start date_end      education_type  \\\n",
              "0       2017           Высшее образование   \n",
              "1       2015           Высшее образование   \n",
              "2       2022                        Курсы   \n",
              "3       2022                        Курсы   \n",
              "4       2022                        Курсы   \n",
              "5       2022                        Курсы   \n",
              "6       2022                        Курсы   \n",
              "7       2021                        Курсы   \n",
              "\n",
              "                                         institution  \\\n",
              "0                                             СПбГЭУ   \n",
              "1  Санкт-Петербургский государственный инженерно-...   \n",
              "2                      Техническая Академия РосАтома   \n",
              "3                                   БФУ им. И. Канта   \n",
              "4                                   БФУ им. И. Канта   \n",
              "5                                   БФУ им. И. Канта   \n",
              "6                               Университет Синергия   \n",
              "7                          НИУ ИТМО, Санкт-Петербург   \n",
              "\n",
              "                                             faculty date_start_sort  \n",
              "0                       Экономики, Мировая экономика      2017-01-01  \n",
              "1                  Экономики, Национальная экономика      2015-01-01  \n",
              "2                                 Деловой английский      2022-01-01  \n",
              "3                                Экономика и финансы      2022-01-01  \n",
              "4    Разработка и реализация маркетинговой стратегии      2022-01-01  \n",
              "5  Бизнес-модели компании и операционная эффектив...      2022-01-01  \n",
              "6                                     Data Scientist      2022-01-01  \n",
              "7                          Технологии анализа данных      2021-01-01  "
            ],
            "text/html": [
              "\n",
              "  <div id=\"df-503821e6-547d-4159-96a7-3c6390f08871\" class=\"colab-df-container\">\n",
              "    <div>\n",
              "<style scoped>\n",
              "    .dataframe tbody tr th:only-of-type {\n",
              "        vertical-align: middle;\n",
              "    }\n",
              "\n",
              "    .dataframe tbody tr th {\n",
              "        vertical-align: top;\n",
              "    }\n",
              "\n",
              "    .dataframe thead th {\n",
              "        text-align: right;\n",
              "    }\n",
              "</style>\n",
              "<table border=\"1\" class=\"dataframe\">\n",
              "  <thead>\n",
              "    <tr style=\"text-align: right;\">\n",
              "      <th></th>\n",
              "      <th>date_start</th>\n",
              "      <th>date_end</th>\n",
              "      <th>education_type</th>\n",
              "      <th>institution</th>\n",
              "      <th>faculty</th>\n",
              "      <th>date_start_sort</th>\n",
              "    </tr>\n",
              "  </thead>\n",
              "  <tbody>\n",
              "    <tr>\n",
              "      <th>0</th>\n",
              "      <td>2017</td>\n",
              "      <td></td>\n",
              "      <td>Высшее образование</td>\n",
              "      <td>СПбГЭУ</td>\n",
              "      <td>Экономики, Мировая экономика</td>\n",
              "      <td>2017-01-01</td>\n",
              "    </tr>\n",
              "    <tr>\n",
              "      <th>1</th>\n",
              "      <td>2015</td>\n",
              "      <td></td>\n",
              "      <td>Высшее образование</td>\n",
              "      <td>Санкт-Петербургский государственный инженерно-...</td>\n",
              "      <td>Экономики, Национальная экономика</td>\n",
              "      <td>2015-01-01</td>\n",
              "    </tr>\n",
              "    <tr>\n",
              "      <th>2</th>\n",
              "      <td>2022</td>\n",
              "      <td></td>\n",
              "      <td>Курсы</td>\n",
              "      <td>Техническая Академия РосАтома</td>\n",
              "      <td>Деловой английский</td>\n",
              "      <td>2022-01-01</td>\n",
              "    </tr>\n",
              "    <tr>\n",
              "      <th>3</th>\n",
              "      <td>2022</td>\n",
              "      <td></td>\n",
              "      <td>Курсы</td>\n",
              "      <td>БФУ им. И. Канта</td>\n",
              "      <td>Экономика и финансы</td>\n",
              "      <td>2022-01-01</td>\n",
              "    </tr>\n",
              "    <tr>\n",
              "      <th>4</th>\n",
              "      <td>2022</td>\n",
              "      <td></td>\n",
              "      <td>Курсы</td>\n",
              "      <td>БФУ им. И. Канта</td>\n",
              "      <td>Разработка и реализация маркетинговой стратегии</td>\n",
              "      <td>2022-01-01</td>\n",
              "    </tr>\n",
              "    <tr>\n",
              "      <th>5</th>\n",
              "      <td>2022</td>\n",
              "      <td></td>\n",
              "      <td>Курсы</td>\n",
              "      <td>БФУ им. И. Канта</td>\n",
              "      <td>Бизнес-модели компании и операционная эффектив...</td>\n",
              "      <td>2022-01-01</td>\n",
              "    </tr>\n",
              "    <tr>\n",
              "      <th>6</th>\n",
              "      <td>2022</td>\n",
              "      <td></td>\n",
              "      <td>Курсы</td>\n",
              "      <td>Университет Синергия</td>\n",
              "      <td>Data Scientist</td>\n",
              "      <td>2022-01-01</td>\n",
              "    </tr>\n",
              "    <tr>\n",
              "      <th>7</th>\n",
              "      <td>2021</td>\n",
              "      <td></td>\n",
              "      <td>Курсы</td>\n",
              "      <td>НИУ ИТМО, Санкт-Петербург</td>\n",
              "      <td>Технологии анализа данных</td>\n",
              "      <td>2021-01-01</td>\n",
              "    </tr>\n",
              "  </tbody>\n",
              "</table>\n",
              "</div>\n",
              "    <div class=\"colab-df-buttons\">\n",
              "\n",
              "  <div class=\"colab-df-container\">\n",
              "    <button class=\"colab-df-convert\" onclick=\"convertToInteractive('df-503821e6-547d-4159-96a7-3c6390f08871')\"\n",
              "            title=\"Convert this dataframe to an interactive table.\"\n",
              "            style=\"display:none;\">\n",
              "\n",
              "  <svg xmlns=\"http://www.w3.org/2000/svg\" height=\"24px\" viewBox=\"0 -960 960 960\">\n",
              "    <path d=\"M120-120v-720h720v720H120Zm60-500h600v-160H180v160Zm220 220h160v-160H400v160Zm0 220h160v-160H400v160ZM180-400h160v-160H180v160Zm440 0h160v-160H620v160ZM180-180h160v-160H180v160Zm440 0h160v-160H620v160Z\"/>\n",
              "  </svg>\n",
              "    </button>\n",
              "\n",
              "  <style>\n",
              "    .colab-df-container {\n",
              "      display:flex;\n",
              "      gap: 12px;\n",
              "    }\n",
              "\n",
              "    .colab-df-convert {\n",
              "      background-color: #E8F0FE;\n",
              "      border: none;\n",
              "      border-radius: 50%;\n",
              "      cursor: pointer;\n",
              "      display: none;\n",
              "      fill: #1967D2;\n",
              "      height: 32px;\n",
              "      padding: 0 0 0 0;\n",
              "      width: 32px;\n",
              "    }\n",
              "\n",
              "    .colab-df-convert:hover {\n",
              "      background-color: #E2EBFA;\n",
              "      box-shadow: 0px 1px 2px rgba(60, 64, 67, 0.3), 0px 1px 3px 1px rgba(60, 64, 67, 0.15);\n",
              "      fill: #174EA6;\n",
              "    }\n",
              "\n",
              "    .colab-df-buttons div {\n",
              "      margin-bottom: 4px;\n",
              "    }\n",
              "\n",
              "    [theme=dark] .colab-df-convert {\n",
              "      background-color: #3B4455;\n",
              "      fill: #D2E3FC;\n",
              "    }\n",
              "\n",
              "    [theme=dark] .colab-df-convert:hover {\n",
              "      background-color: #434B5C;\n",
              "      box-shadow: 0px 1px 3px 1px rgba(0, 0, 0, 0.15);\n",
              "      filter: drop-shadow(0px 1px 2px rgba(0, 0, 0, 0.3));\n",
              "      fill: #FFFFFF;\n",
              "    }\n",
              "  </style>\n",
              "\n",
              "    <script>\n",
              "      const buttonEl =\n",
              "        document.querySelector('#df-503821e6-547d-4159-96a7-3c6390f08871 button.colab-df-convert');\n",
              "      buttonEl.style.display =\n",
              "        google.colab.kernel.accessAllowed ? 'block' : 'none';\n",
              "\n",
              "      async function convertToInteractive(key) {\n",
              "        const element = document.querySelector('#df-503821e6-547d-4159-96a7-3c6390f08871');\n",
              "        const dataTable =\n",
              "          await google.colab.kernel.invokeFunction('convertToInteractive',\n",
              "                                                    [key], {});\n",
              "        if (!dataTable) return;\n",
              "\n",
              "        const docLinkHtml = 'Like what you see? Visit the ' +\n",
              "          '<a target=\"_blank\" href=https://colab.research.google.com/notebooks/data_table.ipynb>data table notebook</a>'\n",
              "          + ' to learn more about interactive tables.';\n",
              "        element.innerHTML = '';\n",
              "        dataTable['output_type'] = 'display_data';\n",
              "        await google.colab.output.renderOutput(dataTable, element);\n",
              "        const docLink = document.createElement('div');\n",
              "        docLink.innerHTML = docLinkHtml;\n",
              "        element.appendChild(docLink);\n",
              "      }\n",
              "    </script>\n",
              "  </div>\n",
              "\n",
              "\n",
              "<div id=\"df-0794d42c-4f46-46b0-b773-270ae7287a1f\">\n",
              "  <button class=\"colab-df-quickchart\" onclick=\"quickchart('df-0794d42c-4f46-46b0-b773-270ae7287a1f')\"\n",
              "            title=\"Suggest charts.\"\n",
              "            style=\"display:none;\">\n",
              "\n",
              "<svg xmlns=\"http://www.w3.org/2000/svg\" height=\"24px\"viewBox=\"0 0 24 24\"\n",
              "     width=\"24px\">\n",
              "    <g>\n",
              "        <path d=\"M19 3H5c-1.1 0-2 .9-2 2v14c0 1.1.9 2 2 2h14c1.1 0 2-.9 2-2V5c0-1.1-.9-2-2-2zM9 17H7v-7h2v7zm4 0h-2V7h2v10zm4 0h-2v-4h2v4z\"/>\n",
              "    </g>\n",
              "</svg>\n",
              "  </button>\n",
              "\n",
              "<style>\n",
              "  .colab-df-quickchart {\n",
              "      --bg-color: #E8F0FE;\n",
              "      --fill-color: #1967D2;\n",
              "      --hover-bg-color: #E2EBFA;\n",
              "      --hover-fill-color: #174EA6;\n",
              "      --disabled-fill-color: #AAA;\n",
              "      --disabled-bg-color: #DDD;\n",
              "  }\n",
              "\n",
              "  [theme=dark] .colab-df-quickchart {\n",
              "      --bg-color: #3B4455;\n",
              "      --fill-color: #D2E3FC;\n",
              "      --hover-bg-color: #434B5C;\n",
              "      --hover-fill-color: #FFFFFF;\n",
              "      --disabled-bg-color: #3B4455;\n",
              "      --disabled-fill-color: #666;\n",
              "  }\n",
              "\n",
              "  .colab-df-quickchart {\n",
              "    background-color: var(--bg-color);\n",
              "    border: none;\n",
              "    border-radius: 50%;\n",
              "    cursor: pointer;\n",
              "    display: none;\n",
              "    fill: var(--fill-color);\n",
              "    height: 32px;\n",
              "    padding: 0;\n",
              "    width: 32px;\n",
              "  }\n",
              "\n",
              "  .colab-df-quickchart:hover {\n",
              "    background-color: var(--hover-bg-color);\n",
              "    box-shadow: 0 1px 2px rgba(60, 64, 67, 0.3), 0 1px 3px 1px rgba(60, 64, 67, 0.15);\n",
              "    fill: var(--button-hover-fill-color);\n",
              "  }\n",
              "\n",
              "  .colab-df-quickchart-complete:disabled,\n",
              "  .colab-df-quickchart-complete:disabled:hover {\n",
              "    background-color: var(--disabled-bg-color);\n",
              "    fill: var(--disabled-fill-color);\n",
              "    box-shadow: none;\n",
              "  }\n",
              "\n",
              "  .colab-df-spinner {\n",
              "    border: 2px solid var(--fill-color);\n",
              "    border-color: transparent;\n",
              "    border-bottom-color: var(--fill-color);\n",
              "    animation:\n",
              "      spin 1s steps(1) infinite;\n",
              "  }\n",
              "\n",
              "  @keyframes spin {\n",
              "    0% {\n",
              "      border-color: transparent;\n",
              "      border-bottom-color: var(--fill-color);\n",
              "      border-left-color: var(--fill-color);\n",
              "    }\n",
              "    20% {\n",
              "      border-color: transparent;\n",
              "      border-left-color: var(--fill-color);\n",
              "      border-top-color: var(--fill-color);\n",
              "    }\n",
              "    30% {\n",
              "      border-color: transparent;\n",
              "      border-left-color: var(--fill-color);\n",
              "      border-top-color: var(--fill-color);\n",
              "      border-right-color: var(--fill-color);\n",
              "    }\n",
              "    40% {\n",
              "      border-color: transparent;\n",
              "      border-right-color: var(--fill-color);\n",
              "      border-top-color: var(--fill-color);\n",
              "    }\n",
              "    60% {\n",
              "      border-color: transparent;\n",
              "      border-right-color: var(--fill-color);\n",
              "    }\n",
              "    80% {\n",
              "      border-color: transparent;\n",
              "      border-right-color: var(--fill-color);\n",
              "      border-bottom-color: var(--fill-color);\n",
              "    }\n",
              "    90% {\n",
              "      border-color: transparent;\n",
              "      border-bottom-color: var(--fill-color);\n",
              "    }\n",
              "  }\n",
              "</style>\n",
              "\n",
              "  <script>\n",
              "    async function quickchart(key) {\n",
              "      const quickchartButtonEl =\n",
              "        document.querySelector('#' + key + ' button');\n",
              "      quickchartButtonEl.disabled = true;  // To prevent multiple clicks.\n",
              "      quickchartButtonEl.classList.add('colab-df-spinner');\n",
              "      try {\n",
              "        const charts = await google.colab.kernel.invokeFunction(\n",
              "            'suggestCharts', [key], {});\n",
              "      } catch (error) {\n",
              "        console.error('Error during call to suggestCharts:', error);\n",
              "      }\n",
              "      quickchartButtonEl.classList.remove('colab-df-spinner');\n",
              "      quickchartButtonEl.classList.add('colab-df-quickchart-complete');\n",
              "    }\n",
              "    (() => {\n",
              "      let quickchartButtonEl =\n",
              "        document.querySelector('#df-0794d42c-4f46-46b0-b773-270ae7287a1f button');\n",
              "      quickchartButtonEl.style.display =\n",
              "        google.colab.kernel.accessAllowed ? 'block' : 'none';\n",
              "    })();\n",
              "  </script>\n",
              "</div>\n",
              "    </div>\n",
              "  </div>\n"
            ]
          },
          "metadata": {},
          "execution_count": 114
        }
      ]
    },
    {
      "cell_type": "code",
      "source": [
        "get_experience_pd(experience)"
      ],
      "metadata": {
        "colab": {
          "base_uri": "https://localhost:8080/",
          "height": 296
        },
        "id": "ZHFbl9KT8Zex",
        "outputId": "a57d01ea-a3f3-438e-f145-255beb063c9d"
      },
      "execution_count": 110,
      "outputs": [
        {
          "output_type": "execute_result",
          "data": {
            "text/plain": [
              "  date_start date_end                                       organisation  \\\n",
              "0    09.2021                                      Проектная деятельность   \n",
              "1    06.2022                       Элерон (Европейская химчистка Apetta)   \n",
              "2    10.2021  11.2021          ООО \"УК \"Клин-Тим\" (промышленный клининг)   \n",
              "3    06.2020  05.2021  \"Терра -Авто\" КЦ\" (ГК «Прагматика») - один из ...   \n",
              "\n",
              "              city                                  web              industry  \\\n",
              "0  Санкт-Петербург  github.com/Litvinov-Anton/Portfolio                         \n",
              "1  Санкт-Петербург                            apetta.ru  Услуги для населения   \n",
              "2  Санкт-Петербург                         cleanteam.ru                         \n",
              "3  Санкт-Петербург                      www.terravto.ru  Автомобильный бизнес   \n",
              "\n",
              "          position  experience_type  \\\n",
              "0   Data Scientist          Фриланс   \n",
              "1  Бизнес-аналитик  Основная работа   \n",
              "2        Экономист  Основная работа   \n",
              "3        Экономист  Основная работа   \n",
              "\n",
              "                                            activity date_start_sort  \n",
              "0  \\nДеятельность:\\nКоммерческий проект по создан...      2021-09-01  \n",
              "1  Аналитика в Power BI, Excel. Использование баз...      2022-06-01  \n",
              "2  \\n- Ведение управленческого учета компании (2 ...      2021-10-01  \n",
              "3  \\n-Составление бюджета компании (2 ЦФО): плани...      2020-06-01  "
            ],
            "text/html": [
              "\n",
              "  <div id=\"df-b890ead3-cce0-41fd-8d20-023dcfcb73eb\" class=\"colab-df-container\">\n",
              "    <div>\n",
              "<style scoped>\n",
              "    .dataframe tbody tr th:only-of-type {\n",
              "        vertical-align: middle;\n",
              "    }\n",
              "\n",
              "    .dataframe tbody tr th {\n",
              "        vertical-align: top;\n",
              "    }\n",
              "\n",
              "    .dataframe thead th {\n",
              "        text-align: right;\n",
              "    }\n",
              "</style>\n",
              "<table border=\"1\" class=\"dataframe\">\n",
              "  <thead>\n",
              "    <tr style=\"text-align: right;\">\n",
              "      <th></th>\n",
              "      <th>date_start</th>\n",
              "      <th>date_end</th>\n",
              "      <th>organisation</th>\n",
              "      <th>city</th>\n",
              "      <th>web</th>\n",
              "      <th>industry</th>\n",
              "      <th>position</th>\n",
              "      <th>experience_type</th>\n",
              "      <th>activity</th>\n",
              "      <th>date_start_sort</th>\n",
              "    </tr>\n",
              "  </thead>\n",
              "  <tbody>\n",
              "    <tr>\n",
              "      <th>0</th>\n",
              "      <td>09.2021</td>\n",
              "      <td></td>\n",
              "      <td>Проектная деятельность</td>\n",
              "      <td>Санкт-Петербург</td>\n",
              "      <td>github.com/Litvinov-Anton/Portfolio</td>\n",
              "      <td></td>\n",
              "      <td>Data Scientist</td>\n",
              "      <td>Фриланс</td>\n",
              "      <td>\\nДеятельность:\\nКоммерческий проект по создан...</td>\n",
              "      <td>2021-09-01</td>\n",
              "    </tr>\n",
              "    <tr>\n",
              "      <th>1</th>\n",
              "      <td>06.2022</td>\n",
              "      <td></td>\n",
              "      <td>Элерон (Европейская химчистка Apetta)</td>\n",
              "      <td>Санкт-Петербург</td>\n",
              "      <td>apetta.ru</td>\n",
              "      <td>Услуги для населения</td>\n",
              "      <td>Бизнес-аналитик</td>\n",
              "      <td>Основная работа</td>\n",
              "      <td>Аналитика в Power BI, Excel. Использование баз...</td>\n",
              "      <td>2022-06-01</td>\n",
              "    </tr>\n",
              "    <tr>\n",
              "      <th>2</th>\n",
              "      <td>10.2021</td>\n",
              "      <td>11.2021</td>\n",
              "      <td>ООО \"УК \"Клин-Тим\" (промышленный клининг)</td>\n",
              "      <td>Санкт-Петербург</td>\n",
              "      <td>cleanteam.ru</td>\n",
              "      <td></td>\n",
              "      <td>Экономист</td>\n",
              "      <td>Основная работа</td>\n",
              "      <td>\\n- Ведение управленческого учета компании (2 ...</td>\n",
              "      <td>2021-10-01</td>\n",
              "    </tr>\n",
              "    <tr>\n",
              "      <th>3</th>\n",
              "      <td>06.2020</td>\n",
              "      <td>05.2021</td>\n",
              "      <td>\"Терра -Авто\" КЦ\" (ГК «Прагматика») - один из ...</td>\n",
              "      <td>Санкт-Петербург</td>\n",
              "      <td>www.terravto.ru</td>\n",
              "      <td>Автомобильный бизнес</td>\n",
              "      <td>Экономист</td>\n",
              "      <td>Основная работа</td>\n",
              "      <td>\\n-Составление бюджета компании (2 ЦФО): плани...</td>\n",
              "      <td>2020-06-01</td>\n",
              "    </tr>\n",
              "  </tbody>\n",
              "</table>\n",
              "</div>\n",
              "    <div class=\"colab-df-buttons\">\n",
              "\n",
              "  <div class=\"colab-df-container\">\n",
              "    <button class=\"colab-df-convert\" onclick=\"convertToInteractive('df-b890ead3-cce0-41fd-8d20-023dcfcb73eb')\"\n",
              "            title=\"Convert this dataframe to an interactive table.\"\n",
              "            style=\"display:none;\">\n",
              "\n",
              "  <svg xmlns=\"http://www.w3.org/2000/svg\" height=\"24px\" viewBox=\"0 -960 960 960\">\n",
              "    <path d=\"M120-120v-720h720v720H120Zm60-500h600v-160H180v160Zm220 220h160v-160H400v160Zm0 220h160v-160H400v160ZM180-400h160v-160H180v160Zm440 0h160v-160H620v160ZM180-180h160v-160H180v160Zm440 0h160v-160H620v160Z\"/>\n",
              "  </svg>\n",
              "    </button>\n",
              "\n",
              "  <style>\n",
              "    .colab-df-container {\n",
              "      display:flex;\n",
              "      gap: 12px;\n",
              "    }\n",
              "\n",
              "    .colab-df-convert {\n",
              "      background-color: #E8F0FE;\n",
              "      border: none;\n",
              "      border-radius: 50%;\n",
              "      cursor: pointer;\n",
              "      display: none;\n",
              "      fill: #1967D2;\n",
              "      height: 32px;\n",
              "      padding: 0 0 0 0;\n",
              "      width: 32px;\n",
              "    }\n",
              "\n",
              "    .colab-df-convert:hover {\n",
              "      background-color: #E2EBFA;\n",
              "      box-shadow: 0px 1px 2px rgba(60, 64, 67, 0.3), 0px 1px 3px 1px rgba(60, 64, 67, 0.15);\n",
              "      fill: #174EA6;\n",
              "    }\n",
              "\n",
              "    .colab-df-buttons div {\n",
              "      margin-bottom: 4px;\n",
              "    }\n",
              "\n",
              "    [theme=dark] .colab-df-convert {\n",
              "      background-color: #3B4455;\n",
              "      fill: #D2E3FC;\n",
              "    }\n",
              "\n",
              "    [theme=dark] .colab-df-convert:hover {\n",
              "      background-color: #434B5C;\n",
              "      box-shadow: 0px 1px 3px 1px rgba(0, 0, 0, 0.15);\n",
              "      filter: drop-shadow(0px 1px 2px rgba(0, 0, 0, 0.3));\n",
              "      fill: #FFFFFF;\n",
              "    }\n",
              "  </style>\n",
              "\n",
              "    <script>\n",
              "      const buttonEl =\n",
              "        document.querySelector('#df-b890ead3-cce0-41fd-8d20-023dcfcb73eb button.colab-df-convert');\n",
              "      buttonEl.style.display =\n",
              "        google.colab.kernel.accessAllowed ? 'block' : 'none';\n",
              "\n",
              "      async function convertToInteractive(key) {\n",
              "        const element = document.querySelector('#df-b890ead3-cce0-41fd-8d20-023dcfcb73eb');\n",
              "        const dataTable =\n",
              "          await google.colab.kernel.invokeFunction('convertToInteractive',\n",
              "                                                    [key], {});\n",
              "        if (!dataTable) return;\n",
              "\n",
              "        const docLinkHtml = 'Like what you see? Visit the ' +\n",
              "          '<a target=\"_blank\" href=https://colab.research.google.com/notebooks/data_table.ipynb>data table notebook</a>'\n",
              "          + ' to learn more about interactive tables.';\n",
              "        element.innerHTML = '';\n",
              "        dataTable['output_type'] = 'display_data';\n",
              "        await google.colab.output.renderOutput(dataTable, element);\n",
              "        const docLink = document.createElement('div');\n",
              "        docLink.innerHTML = docLinkHtml;\n",
              "        element.appendChild(docLink);\n",
              "      }\n",
              "    </script>\n",
              "  </div>\n",
              "\n",
              "\n",
              "<div id=\"df-1917f577-3c20-4744-b04a-149eff85678e\">\n",
              "  <button class=\"colab-df-quickchart\" onclick=\"quickchart('df-1917f577-3c20-4744-b04a-149eff85678e')\"\n",
              "            title=\"Suggest charts.\"\n",
              "            style=\"display:none;\">\n",
              "\n",
              "<svg xmlns=\"http://www.w3.org/2000/svg\" height=\"24px\"viewBox=\"0 0 24 24\"\n",
              "     width=\"24px\">\n",
              "    <g>\n",
              "        <path d=\"M19 3H5c-1.1 0-2 .9-2 2v14c0 1.1.9 2 2 2h14c1.1 0 2-.9 2-2V5c0-1.1-.9-2-2-2zM9 17H7v-7h2v7zm4 0h-2V7h2v10zm4 0h-2v-4h2v4z\"/>\n",
              "    </g>\n",
              "</svg>\n",
              "  </button>\n",
              "\n",
              "<style>\n",
              "  .colab-df-quickchart {\n",
              "      --bg-color: #E8F0FE;\n",
              "      --fill-color: #1967D2;\n",
              "      --hover-bg-color: #E2EBFA;\n",
              "      --hover-fill-color: #174EA6;\n",
              "      --disabled-fill-color: #AAA;\n",
              "      --disabled-bg-color: #DDD;\n",
              "  }\n",
              "\n",
              "  [theme=dark] .colab-df-quickchart {\n",
              "      --bg-color: #3B4455;\n",
              "      --fill-color: #D2E3FC;\n",
              "      --hover-bg-color: #434B5C;\n",
              "      --hover-fill-color: #FFFFFF;\n",
              "      --disabled-bg-color: #3B4455;\n",
              "      --disabled-fill-color: #666;\n",
              "  }\n",
              "\n",
              "  .colab-df-quickchart {\n",
              "    background-color: var(--bg-color);\n",
              "    border: none;\n",
              "    border-radius: 50%;\n",
              "    cursor: pointer;\n",
              "    display: none;\n",
              "    fill: var(--fill-color);\n",
              "    height: 32px;\n",
              "    padding: 0;\n",
              "    width: 32px;\n",
              "  }\n",
              "\n",
              "  .colab-df-quickchart:hover {\n",
              "    background-color: var(--hover-bg-color);\n",
              "    box-shadow: 0 1px 2px rgba(60, 64, 67, 0.3), 0 1px 3px 1px rgba(60, 64, 67, 0.15);\n",
              "    fill: var(--button-hover-fill-color);\n",
              "  }\n",
              "\n",
              "  .colab-df-quickchart-complete:disabled,\n",
              "  .colab-df-quickchart-complete:disabled:hover {\n",
              "    background-color: var(--disabled-bg-color);\n",
              "    fill: var(--disabled-fill-color);\n",
              "    box-shadow: none;\n",
              "  }\n",
              "\n",
              "  .colab-df-spinner {\n",
              "    border: 2px solid var(--fill-color);\n",
              "    border-color: transparent;\n",
              "    border-bottom-color: var(--fill-color);\n",
              "    animation:\n",
              "      spin 1s steps(1) infinite;\n",
              "  }\n",
              "\n",
              "  @keyframes spin {\n",
              "    0% {\n",
              "      border-color: transparent;\n",
              "      border-bottom-color: var(--fill-color);\n",
              "      border-left-color: var(--fill-color);\n",
              "    }\n",
              "    20% {\n",
              "      border-color: transparent;\n",
              "      border-left-color: var(--fill-color);\n",
              "      border-top-color: var(--fill-color);\n",
              "    }\n",
              "    30% {\n",
              "      border-color: transparent;\n",
              "      border-left-color: var(--fill-color);\n",
              "      border-top-color: var(--fill-color);\n",
              "      border-right-color: var(--fill-color);\n",
              "    }\n",
              "    40% {\n",
              "      border-color: transparent;\n",
              "      border-right-color: var(--fill-color);\n",
              "      border-top-color: var(--fill-color);\n",
              "    }\n",
              "    60% {\n",
              "      border-color: transparent;\n",
              "      border-right-color: var(--fill-color);\n",
              "    }\n",
              "    80% {\n",
              "      border-color: transparent;\n",
              "      border-right-color: var(--fill-color);\n",
              "      border-bottom-color: var(--fill-color);\n",
              "    }\n",
              "    90% {\n",
              "      border-color: transparent;\n",
              "      border-bottom-color: var(--fill-color);\n",
              "    }\n",
              "  }\n",
              "</style>\n",
              "\n",
              "  <script>\n",
              "    async function quickchart(key) {\n",
              "      const quickchartButtonEl =\n",
              "        document.querySelector('#' + key + ' button');\n",
              "      quickchartButtonEl.disabled = true;  // To prevent multiple clicks.\n",
              "      quickchartButtonEl.classList.add('colab-df-spinner');\n",
              "      try {\n",
              "        const charts = await google.colab.kernel.invokeFunction(\n",
              "            'suggestCharts', [key], {});\n",
              "      } catch (error) {\n",
              "        console.error('Error during call to suggestCharts:', error);\n",
              "      }\n",
              "      quickchartButtonEl.classList.remove('colab-df-spinner');\n",
              "      quickchartButtonEl.classList.add('colab-df-quickchart-complete');\n",
              "    }\n",
              "    (() => {\n",
              "      let quickchartButtonEl =\n",
              "        document.querySelector('#df-1917f577-3c20-4744-b04a-149eff85678e button');\n",
              "      quickchartButtonEl.style.display =\n",
              "        google.colab.kernel.accessAllowed ? 'block' : 'none';\n",
              "    })();\n",
              "  </script>\n",
              "</div>\n",
              "    </div>\n",
              "  </div>\n"
            ]
          },
          "metadata": {},
          "execution_count": 110
        }
      ]
    },
    {
      "cell_type": "code",
      "source": [
        "print_resume_html(name, city, position, about, education, experience)"
      ],
      "metadata": {
        "colab": {
          "base_uri": "https://localhost:8080/",
          "height": 1000
        },
        "id": "JCkhaF-crr8B",
        "outputId": "b760b120-3958-4610-990a-f120d06ca1fe"
      },
      "execution_count": 142,
      "outputs": [
        {
          "output_type": "display_data",
          "data": {
            "text/plain": [
              "<IPython.core.display.HTML object>"
            ],
            "text/html": [
              "<h2>Порфирий Прокофьевич</h2>"
            ]
          },
          "metadata": {}
        },
        {
          "output_type": "display_data",
          "data": {
            "text/plain": [
              "<IPython.core.display.HTML object>"
            ],
            "text/html": [
              "<h3>Data Scientist</h3>"
            ]
          },
          "metadata": {}
        },
        {
          "output_type": "display_data",
          "data": {
            "text/plain": [
              "<IPython.core.display.HTML object>"
            ],
            "text/html": [
              "<br><b>О себе:</b><br>\n",
              "Сдан экзамен P1 CIMA\n",
              "Средний бал: 4,6\n",
              "\n",
              "Имея изначально склонность к аналитике, решил добавить технологические стек и уже более углублено ее развивать в направлении Data Science.\n",
              "\n",
              "Личные качества:\n",
              "- Нахожу общий язык с коллегами\n",
              "- Дисциплинирован.\n",
              "- Постоянно обучаюсь новому.\n",
              "- Стремлюсь к профессиональному и карьерному росту.\n",
              "- В работе соблюдаю сроки выполнения задач.\n",
              "- Способен длительное время заниматься решением одной проблемы.\n",
              "- Умею работать с большим объёмом информации.\n",
              "- Умею хранить конфиденциальную информацию.\n",
              "- Способен исследовать, проверять факты и собирать точные данные.\n",
              "<br>"
            ]
          },
          "metadata": {}
        },
        {
          "output_type": "display_data",
          "data": {
            "text/plain": [
              "<IPython.core.display.HTML object>"
            ],
            "text/html": [
              "<h3>Высшее образование</h3><br>"
            ]
          },
          "metadata": {}
        },
        {
          "output_type": "display_data",
          "data": {
            "text/plain": [
              "<IPython.core.display.HTML object>"
            ],
            "text/html": [
              "<b>СПбГЭУ (2017 - настоящее время)</b><br>"
            ]
          },
          "metadata": {}
        },
        {
          "output_type": "display_data",
          "data": {
            "text/plain": [
              "<IPython.core.display.HTML object>"
            ],
            "text/html": [
              "Экономики, Мировая экономика<br><br>"
            ]
          },
          "metadata": {}
        },
        {
          "output_type": "display_data",
          "data": {
            "text/plain": [
              "<IPython.core.display.HTML object>"
            ],
            "text/html": [
              "<b>Санкт-Петербургский государственный инженерно-экономический университет \"ИНЖЭКОН\", Санкт-Петербург (2015 - настоящее время)</b><br>"
            ]
          },
          "metadata": {}
        },
        {
          "output_type": "display_data",
          "data": {
            "text/plain": [
              "<IPython.core.display.HTML object>"
            ],
            "text/html": [
              "Экономики, Национальная экономика<br><br>"
            ]
          },
          "metadata": {}
        },
        {
          "output_type": "display_data",
          "data": {
            "text/plain": [
              "<IPython.core.display.HTML object>"
            ],
            "text/html": [
              "<h3>Курсы</h3><br>"
            ]
          },
          "metadata": {}
        },
        {
          "output_type": "display_data",
          "data": {
            "text/plain": [
              "<IPython.core.display.HTML object>"
            ],
            "text/html": [
              "<b>Техническая Академия РосАтома (2022 - настоящее время)</b><br>"
            ]
          },
          "metadata": {}
        },
        {
          "output_type": "display_data",
          "data": {
            "text/plain": [
              "<IPython.core.display.HTML object>"
            ],
            "text/html": [
              "Деловой английский<br><br>"
            ]
          },
          "metadata": {}
        },
        {
          "output_type": "display_data",
          "data": {
            "text/plain": [
              "<IPython.core.display.HTML object>"
            ],
            "text/html": [
              "<b>БФУ им. И. Канта (2022 - настоящее время)</b><br>"
            ]
          },
          "metadata": {}
        },
        {
          "output_type": "display_data",
          "data": {
            "text/plain": [
              "<IPython.core.display.HTML object>"
            ],
            "text/html": [
              "Экономика и финансы<br><br>"
            ]
          },
          "metadata": {}
        },
        {
          "output_type": "display_data",
          "data": {
            "text/plain": [
              "<IPython.core.display.HTML object>"
            ],
            "text/html": [
              "<b>БФУ им. И. Канта (2022 - настоящее время)</b><br>"
            ]
          },
          "metadata": {}
        },
        {
          "output_type": "display_data",
          "data": {
            "text/plain": [
              "<IPython.core.display.HTML object>"
            ],
            "text/html": [
              "Разработка и реализация маркетинговой стратегии<br><br>"
            ]
          },
          "metadata": {}
        },
        {
          "output_type": "display_data",
          "data": {
            "text/plain": [
              "<IPython.core.display.HTML object>"
            ],
            "text/html": [
              "<b>БФУ им. И. Канта (2022 - настоящее время)</b><br>"
            ]
          },
          "metadata": {}
        },
        {
          "output_type": "display_data",
          "data": {
            "text/plain": [
              "<IPython.core.display.HTML object>"
            ],
            "text/html": [
              "Бизнес-модели компании и операционная эффективность<br><br>"
            ]
          },
          "metadata": {}
        },
        {
          "output_type": "display_data",
          "data": {
            "text/plain": [
              "<IPython.core.display.HTML object>"
            ],
            "text/html": [
              "<b>Университет Синергия (2022 - настоящее время)</b><br>"
            ]
          },
          "metadata": {}
        },
        {
          "output_type": "display_data",
          "data": {
            "text/plain": [
              "<IPython.core.display.HTML object>"
            ],
            "text/html": [
              "Data Scientist<br><br>"
            ]
          },
          "metadata": {}
        },
        {
          "output_type": "display_data",
          "data": {
            "text/plain": [
              "<IPython.core.display.HTML object>"
            ],
            "text/html": [
              "<b>НИУ ИТМО, Санкт-Петербург (2021 - настоящее время)</b><br>"
            ]
          },
          "metadata": {}
        },
        {
          "output_type": "display_data",
          "data": {
            "text/plain": [
              "<IPython.core.display.HTML object>"
            ],
            "text/html": [
              "Технологии анализа данных<br><br>"
            ]
          },
          "metadata": {}
        },
        {
          "output_type": "display_data",
          "data": {
            "text/plain": [
              "<IPython.core.display.HTML object>"
            ],
            "text/html": [
              "<h3>Фриланс</h3><br>"
            ]
          },
          "metadata": {}
        },
        {
          "output_type": "display_data",
          "data": {
            "text/plain": [
              "<IPython.core.display.HTML object>"
            ],
            "text/html": [
              "<b>Проектная деятельность (09.2021 - настоящее время)</b><br>"
            ]
          },
          "metadata": {}
        },
        {
          "output_type": "display_data",
          "data": {
            "text/plain": [
              "<IPython.core.display.HTML object>"
            ],
            "text/html": [
              "Санкт-Петербург, github.com/Litvinov-Anton/Portfolio<br>"
            ]
          },
          "metadata": {}
        },
        {
          "output_type": "display_data",
          "data": {
            "text/plain": [
              "<IPython.core.display.HTML object>"
            ],
            "text/html": [
              "<br>"
            ]
          },
          "metadata": {}
        },
        {
          "output_type": "display_data",
          "data": {
            "text/plain": [
              "<IPython.core.display.HTML object>"
            ],
            "text/html": [
              "\n",
              "Деятельность:\n",
              "Коммерческий проект по созданию отчета в Power BI, для компании Data Sfera.\n",
              "\n",
              "Личный проект. Создал проект по отнесению кондитерских изделий к классу с помощью логистической регрессии, на основании данных Kaggle.\n",
              "\n",
              "Личный проект. Создал несколько финансовых отчетов в Power BI, DataStudio.\n",
              "\n",
              "Личный проект. Создал проекты по предсказанию прибыли с помощью линейной регрессии, на основании данных Kaggle.\n",
              "\n",
              "Личный проект. Составил финансовую модель с помощью Excel.\n",
              "\n",
              "Личный проект. Создал проект по классификации с помощью метода К-Средних, на основании данных Kaggle. \n",
              "        <br><br>"
            ]
          },
          "metadata": {}
        },
        {
          "output_type": "display_data",
          "data": {
            "text/plain": [
              "<IPython.core.display.HTML object>"
            ],
            "text/html": [
              "<h3>Основная работа</h3><br>"
            ]
          },
          "metadata": {}
        },
        {
          "output_type": "display_data",
          "data": {
            "text/plain": [
              "<IPython.core.display.HTML object>"
            ],
            "text/html": [
              "<b>Элерон (Европейская химчистка Apetta) (06.2022 - настоящее время)</b><br>"
            ]
          },
          "metadata": {}
        },
        {
          "output_type": "display_data",
          "data": {
            "text/plain": [
              "<IPython.core.display.HTML object>"
            ],
            "text/html": [
              "Санкт-Петербург, apetta.ru<br>"
            ]
          },
          "metadata": {}
        },
        {
          "output_type": "display_data",
          "data": {
            "text/plain": [
              "<IPython.core.display.HTML object>"
            ],
            "text/html": [
              "Бизнес-аналитик<br>"
            ]
          },
          "metadata": {}
        },
        {
          "output_type": "display_data",
          "data": {
            "text/plain": [
              "<IPython.core.display.HTML object>"
            ],
            "text/html": [
              "Услуги для населения<br>"
            ]
          },
          "metadata": {}
        },
        {
          "output_type": "display_data",
          "data": {
            "text/plain": [
              "<IPython.core.display.HTML object>"
            ],
            "text/html": [
              "Аналитика в Power BI, Excel. Использование базы данных. Построение автоматизированных отчетов.<br><br>"
            ]
          },
          "metadata": {}
        },
        {
          "output_type": "display_data",
          "data": {
            "text/plain": [
              "<IPython.core.display.HTML object>"
            ],
            "text/html": [
              "<b>ООО \"УК \"Клин-Тим\" (промышленный клининг) (10.2021 - 11.2021)</b><br>"
            ]
          },
          "metadata": {}
        },
        {
          "output_type": "display_data",
          "data": {
            "text/plain": [
              "<IPython.core.display.HTML object>"
            ],
            "text/html": [
              "Санкт-Петербург, cleanteam.ru<br>"
            ]
          },
          "metadata": {}
        },
        {
          "output_type": "display_data",
          "data": {
            "text/plain": [
              "<IPython.core.display.HTML object>"
            ],
            "text/html": [
              "<br>"
            ]
          },
          "metadata": {}
        },
        {
          "output_type": "display_data",
          "data": {
            "text/plain": [
              "<IPython.core.display.HTML object>"
            ],
            "text/html": [
              "\n",
              "- Ведение управленческого учета компании (2 ЦФО)\n",
              "- Сбор данных и формирование отчетов по маржинальности объектов (1С УПП, Excel)\n",
              "- План-факторный анализ полученных данных, построение отчетности и визуализация данных (Power BI)\n",
              "- Ввод данных смет в программу учета\n",
              "- Подготовка аналитических справок, статистик по итогам работы за период.\n",
              "- Ведение электронного архива смет\n",
              "\n",
              "Ключевые результат:\n",
              "внедрил инструмента PowerBI визуализации в процесс предоставления отчётности\n",
              "<br><br>"
            ]
          },
          "metadata": {}
        },
        {
          "output_type": "display_data",
          "data": {
            "text/plain": [
              "<IPython.core.display.HTML object>"
            ],
            "text/html": [
              "<b>\"Терра -Авто\" КЦ\" (ГК «Прагматика») - один из крупнейших Российских автодилеров (06.2020 - 05.2021)</b><br>"
            ]
          },
          "metadata": {}
        },
        {
          "output_type": "display_data",
          "data": {
            "text/plain": [
              "<IPython.core.display.HTML object>"
            ],
            "text/html": [
              "Санкт-Петербург, www.terravto.ru<br>"
            ]
          },
          "metadata": {}
        },
        {
          "output_type": "display_data",
          "data": {
            "text/plain": [
              "<IPython.core.display.HTML object>"
            ],
            "text/html": [
              "Экономист<br>"
            ]
          },
          "metadata": {}
        },
        {
          "output_type": "display_data",
          "data": {
            "text/plain": [
              "<IPython.core.display.HTML object>"
            ],
            "text/html": [
              "Автомобильный бизнес<br>"
            ]
          },
          "metadata": {}
        },
        {
          "output_type": "display_data",
          "data": {
            "text/plain": [
              "<IPython.core.display.HTML object>"
            ],
            "text/html": [
              "\n",
              "-Составление бюджета компании (2 ЦФО): планирование показателей операционного производства, выручки от продаж, ФОТа, (OPEX, CAPEX)\n",
              "-План-факторный анализ полученных данных\n",
              "-Составление управленческой отчетности (Excel, SQL, 1С)\n",
              "-Составление экономической и финансовой отчётности для внешних контрагентов по запросу\n",
              "- Контроль исполнения платежного календаря\n",
              "Ключевые результаты:\n",
              "Разработал и внедрил систему для расчета мотивации персонала по компании за счет введения углубленной аналитики по продажам.\n",
              "<br><br>"
            ]
          },
          "metadata": {}
        }
      ]
    },
    {
      "cell_type": "code",
      "source": [
        "print(get_resume(name, city, position, about, education, experience))"
      ],
      "metadata": {
        "colab": {
          "base_uri": "https://localhost:8080/"
        },
        "id": "_v2ef-CG27B-",
        "outputId": "45332920-d118-43cb-fbaf-1574dc32d620"
      },
      "execution_count": 134,
      "outputs": [
        {
          "output_type": "stream",
          "name": "stdout",
          "text": [
            "Имя: Порфирий Прокофьевич\n",
            "Должность: Data Scientist\n",
            "О себе:\n",
            "\n",
            "Сдан экзамен P1 CIMA\n",
            "Средний бал: 4,6\n",
            "\n",
            "Имея изначально склонность к аналитике, решил добавить технологические стек и уже более углублено ее развивать в направлении Data Science.\n",
            "\n",
            "Личные качества:\n",
            "- Нахожу общий язык с коллегами\n",
            "- Дисциплинирован.\n",
            "- Постоянно обучаюсь новому.\n",
            "- Стремлюсь к профессиональному и карьерному росту.\n",
            "- В работе соблюдаю сроки выполнения задач.\n",
            "- Способен длительное время заниматься решением одной проблемы.\n",
            "- Умею работать с большим объёмом информации.\n",
            "- Умею хранить конфиденциальную информацию.\n",
            "- Способен исследовать, проверять факты и собирать точные данные.\n",
            "\n",
            "\n",
            "Высшее образование:\n",
            "\n",
            "СПбГЭУ (2017 - настоящее время)\n",
            "Экономики, Мировая экономика\n",
            "\n",
            "Санкт-Петербургский государственный инженерно-экономический университет \"ИНЖЭКОН\", Санкт-Петербург (2015 - настоящее время)\n",
            "Экономики, Национальная экономика\n",
            "\n",
            "Курсы:\n",
            "\n",
            "Техническая Академия РосАтома (2022 - настоящее время)\n",
            "Деловой английский\n",
            "\n",
            "БФУ им. И. Канта (2022 - настоящее время)\n",
            "Экономика и финансы\n",
            "\n",
            "БФУ им. И. Канта (2022 - настоящее время)\n",
            "Разработка и реализация маркетинговой стратегии\n",
            "\n",
            "БФУ им. И. Канта (2022 - настоящее время)\n",
            "Бизнес-модели компании и операционная эффективность\n",
            "\n",
            "Университет Синергия (2022 - настоящее время)\n",
            "Data Scientist\n",
            "\n",
            "НИУ ИТМО, Санкт-Петербург (2021 - настоящее время)\n",
            "Технологии анализа данных\n",
            "\n",
            "\n",
            "Опыт работы:\n",
            "\n",
            "Фриланс:\n",
            "\n",
            "Проектная деятельность (09.2021 - настоящее время)\n",
            "Санкт-Петербург, github.com/Litvinov-Anton/Portfolio\n",
            "Data Scientist\n",
            "\n",
            "Деятельность:\n",
            "Коммерческий проект по созданию отчета в Power BI, для компании Data Sfera.\n",
            "\n",
            "Личный проект. Создал проект по отнесению кондитерских изделий к классу с помощью логистической регрессии, на основании данных Kaggle.\n",
            "\n",
            "Личный проект. Создал несколько финансовых отчетов в Power BI, DataStudio.\n",
            "\n",
            "Личный проект. Создал проекты по предсказанию прибыли с помощью линейной регрессии, на основании данных Kaggle.\n",
            "\n",
            "Личный проект. Составил финансовую модель с помощью Excel.\n",
            "\n",
            "Личный проект. Создал проект по классификации с помощью метода К-Средних, на основании данных Kaggle. \n",
            "        \n",
            "\n",
            "Основная работа:\n",
            "\n",
            "Элерон (Европейская химчистка Apetta) (06.2022 - настоящее время)\n",
            "Санкт-Петербург, apetta.ru\n",
            "Услуги для населения\n",
            "Бизнес-аналитик\n",
            "Аналитика в Power BI, Excel. Использование базы данных. Построение автоматизированных отчетов.\n",
            "\n",
            "ООО \"УК \"Клин-Тим\" (промышленный клининг) (10.2021 - 11.2021)\n",
            "Санкт-Петербург, cleanteam.ru\n",
            "Экономист\n",
            "\n",
            "- Ведение управленческого учета компании (2 ЦФО)\n",
            "- Сбор данных и формирование отчетов по маржинальности объектов (1С УПП, Excel)\n",
            "- План-факторный анализ полученных данных, построение отчетности и визуализация данных (Power BI)\n",
            "- Ввод данных смет в программу учета\n",
            "- Подготовка аналитических справок, статистик по итогам работы за период.\n",
            "- Ведение электронного архива смет\n",
            "\n",
            "Ключевые результат:\n",
            "внедрил инструмента PowerBI визуализации в процесс предоставления отчётности\n",
            "\n",
            "\n",
            "\"Терра -Авто\" КЦ\" (ГК «Прагматика») - один из крупнейших Российских автодилеров (06.2020 - 05.2021)\n",
            "Санкт-Петербург, www.terravto.ru\n",
            "Автомобильный бизнес\n",
            "Экономист\n",
            "\n",
            "-Составление бюджета компании (2 ЦФО): планирование показателей операционного производства, выручки от продаж, ФОТа, (OPEX, CAPEX)\n",
            "-План-факторный анализ полученных данных\n",
            "-Составление управленческой отчетности (Excel, SQL, 1С)\n",
            "-Составление экономической и финансовой отчётности для внешних контрагентов по запросу\n",
            "- Контроль исполнения платежного календаря\n",
            "Ключевые результаты:\n",
            "Разработал и внедрил систему для расчета мотивации персонала по компании за счет введения углубленной аналитики по продажам.\n",
            "\n",
            "\n",
            "\n",
            "\n"
          ]
        }
      ]
    },
    {
      "cell_type": "markdown",
      "source": [
        "## Работа с промтами"
      ],
      "metadata": {
        "id": "Wv6VxRzDHTuO"
      }
    },
    {
      "cell_type": "markdown",
      "source": [
        "### О себе"
      ],
      "metadata": {
        "id": "Z6aj1GKJDLBR"
      }
    },
    {
      "cell_type": "markdown",
      "source": [
        "**\"О себе\" без учёта опыта работы**"
      ],
      "metadata": {
        "id": "GWiERurE7pTX"
      }
    },
    {
      "cell_type": "code",
      "source": [
        "print('Исходный вариант \"о себе\":')\n",
        "print(about)"
      ],
      "metadata": {
        "colab": {
          "base_uri": "https://localhost:8080/"
        },
        "id": "RMAXGcvlC8yx",
        "outputId": "f50a3a9d-5440-43e6-fcda-b0b5bc844b09"
      },
      "execution_count": 184,
      "outputs": [
        {
          "output_type": "stream",
          "name": "stdout",
          "text": [
            "Исходный вариант \"о себе\":\n",
            "\n",
            "Сдан экзамен P1 CIMA\n",
            "Средний бал: 4,6\n",
            "\n",
            "Имея изначально склонность к аналитике, решил добавить технологические стек и уже более углублено ее развивать в направлении Data Science.\n",
            "\n",
            "Личные качества:\n",
            "- Нахожу общий язык с коллегами\n",
            "- Дисциплинирован.\n",
            "- Постоянно обучаюсь новому.\n",
            "- Стремлюсь к профессиональному и карьерному росту.\n",
            "- В работе соблюдаю сроки выполнения задач.\n",
            "- Способен длительное время заниматься решением одной проблемы.\n",
            "- Умею работать с большим объёмом информации.\n",
            "- Умею хранить конфиденциальную информацию.\n",
            "- Способен исследовать, проверять факты и собирать точные данные.\n",
            "\n"
          ]
        }
      ]
    },
    {
      "cell_type": "code",
      "source": [
        "promt = f'''Ты hr консультант, который помогает соискателю грамотно написать о себе,\n",
        "чтобы максимально соответствовать должности {position}. Соискатель написал о себе, оптимизируй этот текст,\n",
        "и если надо, то дополни, чтобы он максимально был релевантным должности соискателя.\n",
        "Напиши лаконично от первого лица в деловом стиле, как будто это ты устраиваешься на должность {position}.\n",
        "Не пиши приветствие. В ответе уложись примерно в 300 токенов'''"
      ],
      "metadata": {
        "id": "P7w_Ezd22zl5"
      },
      "execution_count": 169,
      "outputs": []
    },
    {
      "cell_type": "code",
      "source": [
        "system_content = promt\n",
        "user_content = about\n",
        "tokens = count_tokens(system_content, user_content)\n",
        "\n",
        "result = gpt(system_content, user_content)\n",
        "message, prompt_tokens, completion_tokens, total_tokens = result\n",
        "\n",
        "print(message)"
      ],
      "metadata": {
        "colab": {
          "base_uri": "https://localhost:8080/"
        },
        "id": "VAgGSS7k8LQC",
        "outputId": "98bb8e34-4381-4629-b73a-7e44c8522a92"
      },
      "execution_count": 162,
      "outputs": [
        {
          "output_type": "stream",
          "name": "stdout",
          "text": [
            "Я успешно сдал экзамен P1 CIMA средним баллом 4,6. Моя изначальная склонность к аналитике побудила меня расширить свой технологический стек и углубить свои знания в области Data Science.\n",
            "\n",
            "В моих личных качествах присутствуют:\n",
            "- Умение находить общий язык с коллегами, что способствует эффективной коммуникации в команде.\n",
            "- Дисциплинированность, которая помогает мне соблюдать сроки выполнения задач.\n",
            "- Постоянное обучение новому, так как стремлюсь к профессиональному и карьерному росту.\n",
            "- Способность длительное время заниматься решением одной проблемы, что позволяет мне глубоко анализировать и исследовать данные.\n",
            "- Умение работать с большим объемом информации, что является неотъемлемой частью работы Data Scientist.\n",
            "- Навык хранения конфиденциальной информации, что является важным аспектом работы с данными.\n",
            "- Способность исследовать, проверять факты и собирать точные данные, что позволяет мне принимать обоснованные решения на основе анализа данных.\n"
          ]
        }
      ]
    },
    {
      "cell_type": "code",
      "source": [
        "print('Фактическое количество токенов')\n",
        "print('прогноз:', tokens)\n",
        "print('промт:', prompt_tokens)\n",
        "print('ответ:', completion_tokens)\n",
        "print('всего:', total_tokens)"
      ],
      "metadata": {
        "colab": {
          "base_uri": "https://localhost:8080/"
        },
        "id": "zswJe0ng81VF",
        "outputId": "4d4e0f42-c07d-47b0-fa05-6ba01e11527b"
      },
      "execution_count": 168,
      "outputs": [
        {
          "output_type": "stream",
          "name": "stdout",
          "text": [
            "Фактическое количество токенов\n",
            "прогноз: 460\n",
            "промт: 458\n",
            "ответ: 398\n",
            "всего: 856\n"
          ]
        }
      ]
    },
    {
      "cell_type": "markdown",
      "source": [
        "**\"О себе\" с учётом опыта работы**"
      ],
      "metadata": {
        "id": "-gdHbIyQ9mnE"
      }
    },
    {
      "cell_type": "code",
      "source": [
        "system_content = f'''Ты hr консультант, который помогает соискателю грамотно написать о себе,\n",
        "чтобы максимально соответствовать должности {position}. Соискатель написал свой опыт работы,\n",
        "напиши лаконично от первого лица в деловом стиле о себе по этому опыту работы,\n",
        "как будто это ты устраиваешься на должность {position}. Не пиши приветствие.\n",
        "В ответе уложись примерно в 300 токенов'''\n",
        "\n",
        "user_content = get_education(education)"
      ],
      "metadata": {
        "id": "fPmuh44c9lyV"
      },
      "execution_count": 176,
      "outputs": []
    },
    {
      "cell_type": "code",
      "source": [
        "gpt_print(system_content, user_content)"
      ],
      "metadata": {
        "colab": {
          "base_uri": "https://localhost:8080/"
        },
        "id": "WOsD_duh_bTO",
        "outputId": "80230caf-6f57-4c59-b1c1-3db517b35e10"
      },
      "execution_count": 177,
      "outputs": [
        {
          "output_type": "stream",
          "name": "stdout",
          "text": [
            "У меня высшее образование в области экономики, с фокусом на мировой и национальной экономике. Я также прошел ряд курсов, которые помогли мне развить свои навыки в области анализа данных и бизнес-стратегии.\n",
            "\n",
            "В настоящее время я прохожу обучение в Технической Академии РосАтома, где изучаю деловой английский. Это помогает мне эффективно коммуницировать с международными коллегами и клиентами.\n",
            "\n",
            "Также я прохожу обучение в БФУ им. И. Канта, где изучаю экономику и финансы, разработку и реализацию маркетинговых стратегий, а также бизнес-модели компании и операционную эффективность. Эти курсы помогают мне понять бизнес-процессы и применить аналитические методы для оптимизации операций.\n",
            "\n",
            "Кроме того, я прохожу обучение в Университете Синергия, где изучаю Data Science. Это позволяет мне развивать навыки работы с данными, включая сбор, обработку, анализ и визуализацию данных.\n",
            "\n",
            "В НИУ ИТМО я изучаю технологии анализа данных, что помогает мне освоить современные инструменты и методы анализа данных.\n",
            "\n",
            "Мой опыт и образование в области экономики и анализа данных позволяют мне эффективно работать в качестве Data Scientist. Я готов применить свои знания и навыки для решения сложных задач и достижения бизнес-целей.\n",
            "---------------------\n",
            "Фактическое количество токенов\n",
            "прогноз: 516\n",
            "промт: 514\n",
            "ответ: 548\n",
            "всего: 1062\n"
          ]
        }
      ]
    },
    {
      "cell_type": "code",
      "source": [
        "system_content = f'''Ты hr консультант, который помогает соискателю грамотно написать о себе,\n",
        "чтобы максимально соответствовать должности {position}. Соискатель написал свой опыт работы,\n",
        "напиши лаконично от первого лица в деловом стиле о себе по этому опыту работы,\n",
        "как будто это ты устраиваешься на должность {position}. Не пиши приветствие.\n",
        "Отрази только релевантную информацию относительно должности {position}, остальное не упоминай.\n",
        "В ответе уложись примерно в 200 токенов'''\n",
        "\n",
        "user_content = get_education(education)"
      ],
      "metadata": {
        "id": "z3IGs9DzAcm8"
      },
      "execution_count": 178,
      "outputs": []
    },
    {
      "cell_type": "code",
      "source": [
        "gpt_print(system_content, user_content)"
      ],
      "metadata": {
        "colab": {
          "base_uri": "https://localhost:8080/"
        },
        "id": "j66BQqS6BIrA",
        "outputId": "21f49c90-c81f-46ef-ca5b-34eceb405495"
      },
      "execution_count": 179,
      "outputs": [
        {
          "output_type": "stream",
          "name": "stdout",
          "text": [
            "У меня высшее образование в области экономики, с фокусом на мировой и национальной экономике. Кроме того, я прошел ряд курсов, связанных с различными аспектами бизнеса, включая разработку маркетинговых стратегий, бизнес-моделирование и операционную эффективность.\n",
            "\n",
            "Однако, моя настоящая страсть - анализ данных. Я прошел обучение в университете Синергия по специальности Data Scientist, а также изучал технологии анализа данных в НИУ ИТМО. Эти курсы позволили мне освоить различные методы и инструменты для работы с данными, включая машинное обучение, статистический анализ и визуализацию данных.\n",
            "\n",
            "Я уверен, что моя комбинация знаний в области экономики и навыков в анализе данных позволит мне эффективно решать сложные задачи Data Scientist. Я готов применить свои знания и опыт для разработки инновационных решений, оптимизации бизнес-процессов и принятия обоснованных решений на основе данных.\n",
            "---------------------\n",
            "Фактическое количество токенов\n",
            "прогноз: 550\n",
            "промт: 548\n",
            "ответ: 390\n",
            "всего: 938\n"
          ]
        }
      ]
    },
    {
      "cell_type": "code",
      "source": [
        "system_content = f'''Ты hr консультант, который помогает соискателю грамотно написать о себе,\n",
        "чтобы максимально соответствовать должности {position}. Соискатель написал свой опыт работы,\n",
        "напиши лаконично от первого лица в деловом стиле о себе по этому опыту работы,\n",
        "как будто это ты устраиваешься на должность {position}. Не пиши приветствие.\n",
        "Пиши эмоционально нейтрально без использования слова страсть.\n",
        "Отрази только релевантную информацию относительно должности {position}, остальное не упоминай.\n",
        "В ответе уложись примерно в 200 токенов'''\n",
        "\n",
        "user_content = get_education(education)"
      ],
      "metadata": {
        "id": "rOHgTo9BBhpF"
      },
      "execution_count": 182,
      "outputs": []
    },
    {
      "cell_type": "code",
      "source": [
        "gpt_print(system_content, user_content)"
      ],
      "metadata": {
        "colab": {
          "base_uri": "https://localhost:8080/"
        },
        "id": "8FiJB_WCCbFM",
        "outputId": "a54ab44e-404b-47c5-9c33-e6a9c9c70131"
      },
      "execution_count": 183,
      "outputs": [
        {
          "output_type": "stream",
          "name": "stdout",
          "text": [
            "У меня высшее образование в области экономики, с фокусом на мировой и национальной экономике. Я также прошел ряд курсов, которые помогли мне развить навыки, необходимые для работы в области Data Science.\n",
            "\n",
            "Я прошел обучение в Технической Академии РосАтома, где изучал деловой английский. Это помогло мне улучшить коммуникационные навыки и быть готовым работать в международной среде.\n",
            "\n",
            "Также я прошел курсы в БФУ им. И. Канта, где изучал экономику и финансы, разработку и реализацию маркетинговой стратегии, а также бизнес-модели компании и операционную эффективность. Эти курсы помогли мне понять, как применять аналитические и стратегические подходы в бизнесе.\n",
            "\n",
            "Я также прошел обучение в Университете Синергия по специальности Data Scientist, где изучал основы анализа данных и технологии, используемые в этой области. Это позволило мне овладеть навыками работы с большими объемами данных и использовать различные алгоритмы и модели для извлечения ценной информации.\n",
            "\n",
            "В настоящее время я продолжаю обучение в НИУ ИТМО, где изучаю технологии анализа данных. Это помогает мне быть в курсе последних тенденций и инноваций в области Data Science.\n",
            "\n",
            "Мой образовательный и профессиональный опыт позволяет мне применять аналитические и статистические методы для решения сложных задач и принятия обоснованных решений на основе данных. Я готов применить свои знания и навыки в области Data Science для достижения успеха в вашей компании.\n",
            "---------------------\n",
            "Фактическое количество токенов\n",
            "прогноз: 575\n",
            "промт: 573\n",
            "ответ: 607\n",
            "всего: 1180\n"
          ]
        }
      ]
    },
    {
      "cell_type": "markdown",
      "source": [
        "### Общий анализ резюме"
      ],
      "metadata": {
        "id": "NOQWYom2DXPy"
      }
    },
    {
      "cell_type": "code",
      "source": [
        "system_content = f'''Ты опытный hr консультант, который помогает соискателю грамотно составить резюме,\n",
        "чтобы максимально соответствовать должности {position}. Соискатель написал резюме, которое содержит образование соискателя,\n",
        "его опыт работы. Проанализируй это резюме и напиши рекомендации по его корректировке, чтобы максимально соответствовать должности {position}'''\n",
        "\n",
        "user_content = get_resume(name, city, position, about, education, experience)\n",
        "tokens = count_tokens(system_content, user_content)\n",
        "print('Прогноз токенов:', tokens)"
      ],
      "metadata": {
        "colab": {
          "base_uri": "https://localhost:8080/"
        },
        "id": "sDPuUCowDd6Z",
        "outputId": "a0511649-7823-437b-d9bc-1de93fb2d5b6"
      },
      "execution_count": 185,
      "outputs": [
        {
          "output_type": "stream",
          "name": "stdout",
          "text": [
            "Прогноз токенов: 1766\n"
          ]
        }
      ]
    },
    {
      "cell_type": "code",
      "source": [
        "gpt_print(system_content, user_content)"
      ],
      "metadata": {
        "colab": {
          "base_uri": "https://localhost:8080/"
        },
        "id": "pkd2g8ZlEXOY",
        "outputId": "edf948f0-a97b-429b-b8c3-cd53c6b219de"
      },
      "execution_count": 186,
      "outputs": [
        {
          "output_type": "stream",
          "name": "stdout",
          "text": [
            "Рекомендации по корректировке резюме:\n",
            "\n",
            "1. Заголовок: Укажите свое полное имя и должность \"Data Scientist\" в заголовке резюме.\n",
            "\n",
            "2. О себе: Удалите информацию о сдаче экзамена P1 CIMA и среднем балле. Вместо этого, укажите свою мотивацию и интерес к аналитике и Data Science.\n",
            "\n",
            "3. Личные качества: Оставьте только те качества, которые наиболее важны для должности Data Scientist. Например, \"аналитический склад ума\", \"стрессоустойчивость\", \"коммуникабельность\" и \"умение работать с большим объемом информации\".\n",
            "\n",
            "4. Образование: Укажите только высшее образование, связанное с Data Science. Удалите информацию о курсах, которые не относятся к данной области.\n",
            "\n",
            "5. Опыт работы: Укажите только те проекты и должности, которые связаны с Data Science. Удалите информацию о работе в других областях, если они не имеют отношения к Data Science.\n",
            "\n",
            "6. Описание опыта работы: Для каждого проекта и должности укажите конкретные задачи, которые вы выполняли, и достигнутые результаты. Укажите использованные инструменты и технологии.\n",
            "\n",
            "7. Упорядочение опыта работы: Упорядочите опыт работы по убыванию значимости и свежести. Начните с наиболее значимых и свежих проектов и должностей.\n",
            "\n",
            "8. Дополнительные навыки: Укажите дополнительные навыки, которые могут быть полезны для работы Data Scientist, например, знание Python, SQL, машинное обучение и т.д.\n",
            "\n",
            "9. Профессиональные достижения: Если у вас есть какие-либо профессиональные достижения, такие как публикации, участие в конференциях или соревнованиях, укажите их.\n",
            "\n",
            "10. Рекомендации: Если у вас есть положительные рекомендации от предыдущих работодателей или коллег, укажите их в резюме.\n",
            "\n",
            "11. Форматирование: Обратите внимание на форматирование резюме. Используйте понятные заголовки, разделите информацию на пункты и используйте списки для более удобного чтения.\n",
            "\n",
            "12. Проверьте грамматику и орфографию: Перед отправкой резюме, обязательно проверьте грамматику и орфографию текста.\n",
            "---------------------\n",
            "Фактическое количество токенов\n",
            "прогноз: 1766\n",
            "промт: 1764\n",
            "ответ: 778\n",
            "всего: 2542\n"
          ]
        }
      ]
    },
    {
      "cell_type": "markdown",
      "source": [
        "### Орфография"
      ],
      "metadata": {
        "id": "51fw8htgE_rq"
      }
    },
    {
      "cell_type": "markdown",
      "source": [
        "**Проверка с помощью ChatGPT**"
      ],
      "metadata": {
        "id": "BHxq3gkNG7l4"
      }
    },
    {
      "cell_type": "code",
      "source": [
        "system_content = f'''Ты опытный учитель русского языка, который помогает соискателю проверить его резюме на наличие синтаксических, орфографических и стилистических ошибок.\n",
        "Проверь резюме на ошибки и укажи их, если они есть'''\n",
        "\n",
        "user_content = get_resume(name, city, position, about, education, experience)\n",
        "tokens = count_tokens(system_content, user_content)\n",
        "print('Прогноз токенов:', tokens)"
      ],
      "metadata": {
        "colab": {
          "base_uri": "https://localhost:8080/"
        },
        "id": "_Gr_zXC5FHf7",
        "outputId": "f106a190-36a0-45c6-b621-b2badc9802ad"
      },
      "execution_count": 189,
      "outputs": [
        {
          "output_type": "stream",
          "name": "stdout",
          "text": [
            "Прогноз токенов: 1725\n"
          ]
        }
      ]
    },
    {
      "cell_type": "code",
      "source": [
        "message = gpt_print(system_content, user_content)"
      ],
      "metadata": {
        "colab": {
          "base_uri": "https://localhost:8080/"
        },
        "id": "nthLZeGUFp4y",
        "outputId": "6f67914a-d642-448e-a271-c5d37fd1492f"
      },
      "execution_count": 190,
      "outputs": [
        {
          "output_type": "stream",
          "name": "stdout",
          "text": [
            "Имя: Порфирий Прокофьевич\n",
            "Должность: Data Scientist\n",
            "О себе:\n",
            "\n",
            "Сдал экзамен P1 CIMA\n",
            "Средний балл: 4,6\n",
            "\n",
            "Имея изначальную склонность к аналитике, решил добавить технологические стеки и уже более углубленно ее развивать в направлении Data Science.\n",
            "\n",
            "Личные качества:\n",
            "- Нахожу общий язык с коллегами.\n",
            "- Дисциплинирован.\n",
            "- Постоянно обучаюсь новому.\n",
            "- Стремлюсь к профессиональному и карьерному росту.\n",
            "- В работе соблюдаю сроки выполнения задач.\n",
            "- Способен длительное время заниматься решением одной проблемы.\n",
            "- Умею работать с большим объемом информации.\n",
            "- Умею хранить конфиденциальную информацию.\n",
            "- Способен исследовать, проверять факты и собирать точные данные.\n",
            "\n",
            "\n",
            "Высшее образование:\n",
            "\n",
            "СПбГЭУ (2017 - настоящее время)\n",
            "Экономика, Мировая экономика\n",
            "\n",
            "Санкт-Петербургский государственный инженерно-экономический университет \"ИНЖЭКОН\", Санкт-Петербург (2015 - настоящее время)\n",
            "Экономика, Национальная экономика\n",
            "\n",
            "Курсы:\n",
            "\n",
            "Техническая Академия РосАтома (2022 - настоящее время)\n",
            "Деловой английский\n",
            "\n",
            "БФУ им. И. Канта (2022 - настоящее время)\n",
            "Экономика и финансы\n",
            "\n",
            "БФУ им. И. Канта (2022 - настоящее время)\n",
            "Разработка и реализация маркетинговой стратегии\n",
            "\n",
            "БФУ им. И. Канта (2022 - настоящее время)\n",
            "Бизнес-модели компании и операционная эффективность\n",
            "\n",
            "Университет Синергия (2022 - настоящее время)\n",
            "Data Scientist\n",
            "\n",
            "НИУ ИТМО, Санкт-Петербург (2021 - настоящее время)\n",
            "Технологии анализа данных\n",
            "\n",
            "\n",
            "Опыт работы:\n",
            "\n",
            "Фриланс:\n",
            "\n",
            "Проектная деятельность (09.2021 - настоящее время)\n",
            "Санкт-Петербург, github.com/Litvinov-Anton/Portfolio\n",
            "Data Scientist\n",
            "\n",
            "Деятельность:\n",
            "Коммерческий проект по созданию отчета в Power BI для компании Data Sfera.\n",
            "\n",
            "Личный проект. Создал проект по отнесению кондитерских изделий к классу с помощью логистической регрессии на основе данных Kaggle.\n",
            "\n",
            "Личный проект. Создал несколько финансовых отчетов в Power BI, DataStudio.\n",
            "\n",
            "Личный проект. Создал проекты по предсказанию прибыли с помощью линейной регрессии на основе данных Kaggle.\n",
            "\n",
            "Личный проект. Составил финансовую модель с помощью Excel.\n",
            "\n",
            "Личный проект. Создал проект по классификации с помощью метода К-Средних на основе данных Kaggle. \n",
            "        \n",
            "\n",
            "Основная работа:\n",
            "\n",
            "Элерон (Европейская химчистка Apetta) (06.2022 - настоящее время)\n",
            "Санкт-Петербург, apetta.ru\n",
            "Услуги для населения\n",
            "Бизнес-аналитик\n",
            "Аналитика в Power BI, Excel. Использование базы данных. Построение автоматизированных отчетов.\n",
            "\n",
            "ООО \"УК \"Клин-Тим\" (промышленный клининг) (10.2021 - 11.2021)\n",
            "Санкт-Петербург, cleanteam.ru\n",
            "Экономист\n",
            "\n",
            "- Ведение управленческого учета компании (2 ЦФО).\n",
            "- Сбор данных и формирование отчетов по маржинальности объектов (1С УПП, Excel).\n",
            "- План-факторный анализ полученных данных, построение отчетности и визуализация данных (Power BI).\n",
            "- Ввод данных смет в программу учета.\n",
            "- Подготовка аналитических справок, статистик по итогам работы за период.\n",
            "- Ведение электронного архива смет.\n",
            "\n",
            "Ключевые результаты:\n",
            "Внедрил инструмент Power BI визуализации в процесс предоставления отчетности.\n",
            "\n",
            "\n",
            "\"Терра-Авто\" КЦ\" (ГК «Прагматика») - один из крупнейших российских автодилеров (06.2020 - 05.2021)\n",
            "Санкт-Петербург, www.terravto.ru\n",
            "Автомобильный бизнес\n",
            "Экономист\n",
            "\n",
            "- Составление бюджета компании (2 ЦФО): планирование показателей операционного производства, выручки от продаж, ФОТа (OPEX, CAPEX).\n",
            "- План-факторный анализ полученных данных.\n",
            "- Составление управленческой отчетности (Excel, SQL, 1С).\n",
            "- Составление экономической и финансовой отчетности для внешних контрагентов по запросу.\n",
            "- Контроль исполнения платежного календаря.\n",
            "Ключевые результаты:\n",
            "Разработал и внедрил систему для расчета мотивации персонала по компании за счет введения углубленной аналитики по продажам.\n",
            "---------------------\n",
            "Фактическое количество токенов\n",
            "прогноз: 1725\n",
            "промт: 1723\n",
            "ответ: 1608\n",
            "всего: 3331\n"
          ]
        }
      ]
    },
    {
      "cell_type": "code",
      "source": [
        "formatted_user, formatted_gpt = getFormattedDiff(user_content, message)"
      ],
      "metadata": {
        "id": "edROv_UsHDRi"
      },
      "execution_count": 197,
      "outputs": []
    },
    {
      "cell_type": "code",
      "source": [
        "# Исходное резюме с подсветкой, что было исправлено\n",
        "display(HTML(formatted_user.replace('\\n', '<br>')))"
      ],
      "metadata": {
        "colab": {
          "base_uri": "https://localhost:8080/",
          "height": 1000
        },
        "id": "WojM7L4YJI0y",
        "outputId": "10f6f1cb-0e3a-41ed-b4fc-0de58eba3f78"
      },
      "execution_count": 204,
      "outputs": [
        {
          "output_type": "display_data",
          "data": {
            "text/plain": [
              "<IPython.core.display.HTML object>"
            ],
            "text/html": [
              "Имя: Порфирий Прокофьевич<br>Должность: Data Scientist<br>О себе:<br><br>Сда<span style=\"background: #EEEE88;\">н</span> экзамен P1 CIMA<br>Средний бал: 4,6<br><br>Имея изначальн<span style=\"background: #EEEE88;\">о</span> склонность к аналитике, решил добавить технологические стек и уже более углублено ее развивать в направлении Data Science.<br><br>Личные качества:<br>- Нахожу общий язык с коллегами<br>- Дисциплинирован.<br>- Постоянно обучаюсь новому.<br>- Стремлюсь к профессиональному и карьерному росту.<br>- В работе соблюдаю сроки выполнения задач.<br>- Способен длительное время заниматься решением одной проблемы.<br>- Умею работать с большим объ<span style=\"background: #EEEE88;\">ё</span>мом информации.<br>- Умею хранить конфиденциальную информацию.<br>- Способен исследовать, проверять факты и собирать точные данные.<br><br><br>Высшее образование:<br><br>СПбГЭУ (2017 - настоящее время)<br>Экономик<span style=\"background: #EEEE88;\">и</span>, Мировая экономика<br><br>Санкт-Петербургский государственный инженерно-экономический университет \"ИНЖЭКОН\", Санкт-Петербург (2015 - настоящее время)<br>Экономик<span style=\"background: #EEEE88;\">и</span>, Национальная экономика<br><br>Курсы:<br><br>Техническая Академия РосАтома (2022 - настоящее время)<br>Деловой английский<br><br>БФУ им. И. Канта (2022 - настоящее время)<br>Экономика и финансы<br><br>БФУ им. И. Канта (2022 - настоящее время)<br>Разработка и реализация маркетинговой стратегии<br><br>БФУ им. И. Канта (2022 - настоящее время)<br>Бизнес-модели компании и операционная эффективность<br><br>Университет Синергия (2022 - настоящее время)<br>Data Scientist<br><br>НИУ ИТМО, Санкт-Петербург (2021 - настоящее время)<br>Технологии анализа данных<br><br><br>Опыт работы:<br><br>Фриланс:<br><br>Проектная деятельность (09.2021 - настоящее время)<br>Санкт-Петербург, github.com/Litvinov-Anton/Portfolio<br>Data Scientist<br><br>Деятельность:<br>Коммерческий проект по созданию отчета в Power BI<span style=\"background: #FF8888;\">,</span> для компании Data Sfera.<br><br>Личный проект. Создал проект по отнесению кондитерских изделий к классу с помощью логистической регрессии<span style=\"background: #EEEE88;\">, на основании</span> данных Kaggle.<br><br>Личный проект. Создал несколько финансовых отчетов в Power BI, DataStudio.<br><br>Личный проект. Создал проекты по предсказанию прибыли с помощью линейной регрессии<span style=\"background: #EEEE88;\">, на основании</span> данных Kaggle.<br><br>Личный проект. Составил финансовую модель с помощью Excel.<br><br>Личный проект. Создал проект по классификации с помощью метода К-Средних<span style=\"background: #EEEE88;\">, на основании</span> данных Kaggle. <br>        <br><br>Основная работа:<br><br>Элерон (Европейская химчистка Apetta) (06.2022 - настоящее время)<br>Санкт-Петербург, apetta.ru<br>Услуги для населения<br>Бизнес-аналитик<br>Аналитика в Power BI, Excel. Использование базы данных. Построение автоматизированных отчетов.<br><br>ООО \"УК \"Клин-Тим\" (промышленный клининг) (10.2021 - 11.2021)<br>Санкт-Петербург, cleanteam.ru<br>Экономист<br><br>- Ведение управленческого учета компании (2 ЦФО)<br>- Сбор данных и формирование отчетов по маржинальности объектов (1С УПП, Excel)<br>- План-факторный анализ полученных данных, построение отчетности и визуализация данных (Power BI)<br>- Ввод данных смет в программу учета<br>- Подготовка аналитических справок, статистик по итогам работы за период.<br>- Ведение электронного архива смет<br><br>Ключевые результат:<br><span style=\"background: #EEEE88;\">внедрил инструмента</span> PowerBI визуализации в процесс предоставления отч<span style=\"background: #EEEE88;\">ётности</span><br><br><br>\"Терра<span style=\"background: #FF8888;\"> </span>-Авто\" КЦ\" (ГК «Прагматика») - один из крупнейших <span style=\"background: #EEEE88;\">Р</span>оссийских автодилеров (06.2020 - 05.2021)<br>Санкт-Петербург, www.terravto.ru<br>Автомобильный бизнес<br>Экономист<br><br>-Составление бюджета компании (2 ЦФО): планирование показателей операционного производства, выручки от продаж, ФОТа<span style=\"background: #FF8888;\">,</span> (OPEX, CAPEX)<span style=\"background: #EEEE88;\"><br>-</span>План-факторный анализ полученных данных<span style=\"background: #EEEE88;\"><br>-</span>Составление управленческой отчетности (Excel, SQL, 1С)<span style=\"background: #EEEE88;\"><br>-</span>Составление экономической и финансовой отч<span style=\"background: #EEEE88;\">ё</span>тности для внешних контрагентов по запросу<br>- Контроль исполнения платежного календаря<br>Ключевые результаты:<br>Разработал и внедрил систему для расчета мотивации персонала по компании за счет введения углубленной аналитики по продажам.<br><span style=\"background: #FF8888;\"><br><br><br></span>"
            ]
          },
          "metadata": {}
        }
      ]
    },
    {
      "cell_type": "code",
      "source": [
        "# Резюме, исправленное с помощью ChatGPT с подсветкой мест исправления\n",
        "display(HTML(formatted_gpt.replace('\\n', '<br>')))"
      ],
      "metadata": {
        "colab": {
          "base_uri": "https://localhost:8080/",
          "height": 1000
        },
        "id": "UVyogkUNI0It",
        "outputId": "7a264422-20ec-4ebe-e879-d132581e71d9"
      },
      "execution_count": 203,
      "outputs": [
        {
          "output_type": "display_data",
          "data": {
            "text/plain": [
              "<IPython.core.display.HTML object>"
            ],
            "text/html": [
              "<span style=\"background: #44FF44;\"><br></span>Имя: Порфирий Прокофьевич<br>Должность: Data Scientist<br>О себе:<br><br>Сда<span style=\"background: #EEEE88;\">л</span> экзамен P1 CIMA<br>Средний бал<span style=\"background: #44FF44;\">л</span>: 4,6<br><br>Имея изначальн<span style=\"background: #EEEE88;\">ую</span> склонность к аналитике, решил добавить технологические стек<span style=\"background: #44FF44;\">и</span> и уже более углубле<span style=\"background: #44FF44;\">н</span>но ее развивать в направлении Data Science.<br><br>Личные качества:<br>- Нахожу общий язык с коллегами<span style=\"background: #44FF44;\">.</span><br>- Дисциплинирован.<br>- Постоянно обучаюсь новому.<br>- Стремлюсь к профессиональному и карьерному росту.<br>- В работе соблюдаю сроки выполнения задач.<br>- Способен длительное время заниматься решением одной проблемы.<br>- Умею работать с большим объ<span style=\"background: #EEEE88;\">е</span>мом информации.<br>- Умею хранить конфиденциальную информацию.<br>- Способен исследовать, проверять факты и собирать точные данные.<br><br><br>Высшее образование:<br><br>СПбГЭУ (2017 - настоящее время)<br>Экономик<span style=\"background: #EEEE88;\">а</span>, Мировая экономика<br><br>Санкт-Петербургский государственный инженерно-экономический университет \"ИНЖЭКОН\", Санкт-Петербург (2015 - настоящее время)<br>Экономик<span style=\"background: #EEEE88;\">а</span>, Национальная экономика<br><br>Курсы:<br><br>Техническая Академия РосАтома (2022 - настоящее время)<br>Деловой английский<br><br>БФУ им. И. Канта (2022 - настоящее время)<br>Экономика и финансы<br><br>БФУ им. И. Канта (2022 - настоящее время)<br>Разработка и реализация маркетинговой стратегии<br><br>БФУ им. И. Канта (2022 - настоящее время)<br>Бизнес-модели компании и операционная эффективность<br><br>Университет Синергия (2022 - настоящее время)<br>Data Scientist<br><br>НИУ ИТМО, Санкт-Петербург (2021 - настоящее время)<br>Технологии анализа данных<br><br><br>Опыт работы:<br><br>Фриланс:<br><br>Проектная деятельность (09.2021 - настоящее время)<br>Санкт-Петербург, github.com/Litvinov-Anton/Portfolio<br>Data Scientist<br><br>Деятельность:<br>Коммерческий проект по созданию отчета в Power BI для компании Data Sfera.<br><br>Личный проект. Создал проект по отнесению кондитерских изделий к классу с помощью логистической регрессии<span style=\"background: #EEEE88;\"> на основе</span> данных Kaggle.<br><br>Личный проект. Создал несколько финансовых отчетов в Power BI, DataStudio.<br><br>Личный проект. Создал проекты по предсказанию прибыли с помощью линейной регрессии<span style=\"background: #EEEE88;\"> на основе</span> данных Kaggle.<br><br>Личный проект. Составил финансовую модель с помощью Excel.<br><br>Личный проект. Создал проект по классификации с помощью метода К-Средних<span style=\"background: #EEEE88;\"> на основе</span> данных Kaggle. <br>        <br><br>Основная работа:<br><br>Элерон (Европейская химчистка Apetta) (06.2022 - настоящее время)<br>Санкт-Петербург, apetta.ru<br>Услуги для населения<br>Бизнес-аналитик<br>Аналитика в Power BI, Excel. Использование базы данных. Построение автоматизированных отчетов.<br><br>ООО \"УК \"Клин-Тим\" (промышленный клининг) (10.2021 - 11.2021)<br>Санкт-Петербург, cleanteam.ru<br>Экономист<br><br>- Ведение управленческого учета компании (2 ЦФО)<span style=\"background: #44FF44;\">.</span><br>- Сбор данных и формирование отчетов по маржинальности объектов (1С УПП, Excel)<span style=\"background: #44FF44;\">.</span><br>- План-факторный анализ полученных данных, построение отчетности и визуализация данных (Power BI)<span style=\"background: #44FF44;\">.</span><br>- Ввод данных смет в программу учета<span style=\"background: #44FF44;\">.</span><br>- Подготовка аналитических справок, статистик по итогам работы за период.<br>- Ведение электронного архива смет<span style=\"background: #44FF44;\">.</span><br><br>Ключевые результат<span style=\"background: #44FF44;\">ы</span>:<br><span style=\"background: #EEEE88;\">Внедрил инструмент</span> Power<span style=\"background: #44FF44;\"> </span>BI визуализации в процесс предоставления отч<span style=\"background: #EEEE88;\">етности.</span><br><br><br>\"Терра-Авто\" КЦ\" (ГК «Прагматика») - один из крупнейших <span style=\"background: #EEEE88;\">р</span>оссийских автодилеров (06.2020 - 05.2021)<br>Санкт-Петербург, www.terravto.ru<br>Автомобильный бизнес<br>Экономист<br><br>-<span style=\"background: #44FF44;\"> </span>Составление бюджета компании (2 ЦФО): планирование показателей операционного производства, выручки от продаж, ФОТа (OPEX, CAPEX)<span style=\"background: #EEEE88;\">.<br>- </span>План-факторный анализ полученных данных<span style=\"background: #EEEE88;\">.<br>- </span>Составление управленческой отчетности (Excel, SQL, 1С)<span style=\"background: #EEEE88;\">.<br>- </span>Составление экономической и финансовой отч<span style=\"background: #EEEE88;\">е</span>тности для внешних контрагентов по запросу<span style=\"background: #44FF44;\">.</span><br>- Контроль исполнения платежного календаря<span style=\"background: #44FF44;\">.</span><br>Ключевые результаты:<br>Разработал и внедрил систему для расчета мотивации персонала по компании за счет введения углубленной аналитики по продажам.<br>"
            ]
          },
          "metadata": {}
        }
      ]
    },
    {
      "cell_type": "markdown",
      "source": [
        "**Проверка с помощью библиотек**"
      ],
      "metadata": {
        "id": "7uraiCxMHAz_"
      }
    },
    {
      "cell_type": "code",
      "source": [
        "!pip -q install pyspellchecker"
      ],
      "metadata": {
        "colab": {
          "base_uri": "https://localhost:8080/"
        },
        "id": "2pHlORx8GrPQ",
        "outputId": "2f366188-a843-4bbd-f91f-a2b60ef571a5"
      },
      "execution_count": 192,
      "outputs": [
        {
          "output_type": "stream",
          "name": "stdout",
          "text": [
            "\u001b[?25l     \u001b[90m━━━━━━━━━━━━━━━━━━━━━━━━━━━━━━━━━━━━━━━━\u001b[0m \u001b[32m0.0/3.4 MB\u001b[0m \u001b[31m?\u001b[0m eta \u001b[36m-:--:--\u001b[0m\r\u001b[2K     \u001b[91m╸\u001b[0m\u001b[90m━━━━━━━━━━━━━━━━━━━━━━━━━━━━━━━━━━━━━━━\u001b[0m \u001b[32m0.1/3.4 MB\u001b[0m \u001b[31m2.1 MB/s\u001b[0m eta \u001b[36m0:00:02\u001b[0m\r\u001b[2K     \u001b[91m━━━━━━\u001b[0m\u001b[90m╺\u001b[0m\u001b[90m━━━━━━━━━━━━━━━━━━━━━━━━━━━━━━━━━\u001b[0m \u001b[32m0.5/3.4 MB\u001b[0m \u001b[31m8.6 MB/s\u001b[0m eta \u001b[36m0:00:01\u001b[0m\r\u001b[2K     \u001b[91m━━━━━━━━━━━━━━\u001b[0m\u001b[91m╸\u001b[0m\u001b[90m━━━━━━━━━━━━━━━━━━━━━━━━━\u001b[0m \u001b[32m1.3/3.4 MB\u001b[0m \u001b[31m13.0 MB/s\u001b[0m eta \u001b[36m0:00:01\u001b[0m\r\u001b[2K     \u001b[91m━━━━━━━━━━━━━━━━━━━━━━━━━━\u001b[0m\u001b[91m╸\u001b[0m\u001b[90m━━━━━━━━━━━━━\u001b[0m \u001b[32m2.3/3.4 MB\u001b[0m \u001b[31m16.9 MB/s\u001b[0m eta \u001b[36m0:00:01\u001b[0m\r\u001b[2K     \u001b[91m━━━━━━━━━━━━━━━━━━━━━━━━━━━━━━━━━━━━━━━\u001b[0m\u001b[91m╸\u001b[0m \u001b[32m3.4/3.4 MB\u001b[0m \u001b[31m20.9 MB/s\u001b[0m eta \u001b[36m0:00:01\u001b[0m\r\u001b[2K     \u001b[90m━━━━━━━━━━━━━━━━━━━━━━━━━━━━━━━━━━━━━━━━\u001b[0m \u001b[32m3.4/3.4 MB\u001b[0m \u001b[31m18.0 MB/s\u001b[0m eta \u001b[36m0:00:00\u001b[0m\n",
            "\u001b[?25h"
          ]
        }
      ]
    },
    {
      "cell_type": "code",
      "source": [
        "from spellchecker import SpellChecker\n",
        "\n",
        "spell = SpellChecker(language='ru')\n",
        "result = spell.correction(user_content)"
      ],
      "metadata": {
        "id": "QPOcAb4xJ8ev"
      },
      "execution_count": 207,
      "outputs": []
    },
    {
      "cell_type": "code",
      "source": [
        "formatted_user, formatted_gpt = getFormattedDiff(user_content, result)"
      ],
      "metadata": {
        "id": "f3hsotwYKj4J"
      },
      "execution_count": 208,
      "outputs": []
    },
    {
      "cell_type": "code",
      "source": [
        "# Исходное резюме с подсветкой, что было исправлено\n",
        "display(HTML(formatted_user.replace('\\n', '<br>')))"
      ],
      "metadata": {
        "colab": {
          "base_uri": "https://localhost:8080/",
          "height": 1000
        },
        "id": "xHwqJ-OPKodl",
        "outputId": "bd39ebe5-1f06-47fc-ac58-f2b6b61d37ab"
      },
      "execution_count": 209,
      "outputs": [
        {
          "output_type": "display_data",
          "data": {
            "text/plain": [
              "<IPython.core.display.HTML object>"
            ],
            "text/html": [
              "Имя: Порфирий Прокофьевич<br>Должность: Data Scientist<br>О себе:<br><br>Сдан экзамен P1 CIMA<br>Средний бал: 4,6<br><br>Имея изначально склонность к аналитике, решил добавить технологические стек и уже более углублено ее развивать в направлении Data Science.<br><br>Личные качества:<br>- Нахожу общий язык с коллегами<br>- Дисциплинирован.<br>- Постоянно обучаюсь новому.<br>- Стремлюсь к профессиональному и карьерному росту.<br>- В работе соблюдаю сроки выполнения задач.<br>- Способен длительное время заниматься решением одной проблемы.<br>- Умею работать с большим объёмом информации.<br>- Умею хранить конфиденциальную информацию.<br>- Способен исследовать, проверять факты и собирать точные данные.<br><br><br>Высшее образование:<br><br>СПбГЭУ (2017 - настоящее время)<br>Экономики, Мировая экономика<br><br>Санкт-Петербургский государственный инженерно-экономический университет \"ИНЖЭКОН\", Санкт-Петербург (2015 - настоящее время)<br>Экономики, Национальная экономика<br><br>Курсы:<br><br>Техническая Академия РосАтома (2022 - настоящее время)<br>Деловой английский<br><br>БФУ им. И. Канта (2022 - настоящее время)<br>Экономика и финансы<br><br>БФУ им. И. Канта (2022 - настоящее время)<br>Разработка и реализация маркетинговой стратегии<br><br>БФУ им. И. Канта (2022 - настоящее время)<br>Бизнес-модели компании и операционная эффективность<br><br>Университет Синергия (2022 - настоящее время)<br>Data Scientist<br><br>НИУ ИТМО, Санкт-Петербург (2021 - настоящее время)<br>Технологии анализа данных<br><br><br>Опыт работы:<br><br>Фриланс:<br><br>Проектная деятельность (09.2021 - настоящее время)<br>Санкт-Петербург, github.com/Litvinov-Anton/Portfolio<br>Data Scientist<br><br>Деятельность:<br>Коммерческий проект по созданию отчета в Power BI, для компании Data Sfera.<br><br>Личный проект. Создал проект по отнесению кондитерских изделий к классу с помощью логистической регрессии, на основании данных Kaggle.<br><br>Личный проект. Создал несколько финансовых отчетов в Power BI, DataStudio.<br><br>Личный проект. Создал проекты по предсказанию прибыли с помощью линейной регрессии, на основании данных Kaggle.<br><br>Личный проект. Составил финансовую модель с помощью Excel.<br><br>Личный проект. Создал проект по классификации с помощью метода К-Средних, на основании данных Kaggle. <br>        <br><br>Основная работа:<br><br>Элерон (Европейская химчистка Apetta) (06.2022 - настоящее время)<br>Санкт-Петербург, apetta.ru<br>Услуги для населения<br>Бизнес-аналитик<br>Аналитика в Power BI, Excel. Использование базы данных. Построение автоматизированных отчетов.<br><br>ООО \"УК \"Клин-Тим\" (промышленный клининг) (10.2021 - 11.2021)<br>Санкт-Петербург, cleanteam.ru<br>Экономист<br><br>- Ведение управленческого учета компании (2 ЦФО)<br>- Сбор данных и формирование отчетов по маржинальности объектов (1С УПП, Excel)<br>- План-факторный анализ полученных данных, построение отчетности и визуализация данных (Power BI)<br>- Ввод данных смет в программу учета<br>- Подготовка аналитических справок, статистик по итогам работы за период.<br>- Ведение электронного архива смет<br><br>Ключевые результат:<br>внедрил инструмента PowerBI визуализации в процесс предоставления отчётности<br><br><br>\"Терра -Авто\" КЦ\" (ГК «Прагматика») - один из крупнейших Российских автодилеров (06.2020 - 05.2021)<br>Санкт-Петербург, www.terravto.ru<br>Автомобильный бизнес<br>Экономист<br><br>-Составление бюджета компании (2 ЦФО): планирование показателей операционного производства, выручки от продаж, ФОТа, (OPEX, CAPEX)<br>-План-факторный анализ полученных данных<br>-Составление управленческой отчетности (Excel, SQL, 1С)<br>-Составление экономической и финансовой отчётности для внешних контрагентов по запросу<br>- Контроль исполнения платежного календаря<br>Ключевые результаты:<br>Разработал и внедрил систему для расчета мотивации персонала по компании за счет введения углубленной аналитики по продажам.<br><br><br><br>"
            ]
          },
          "metadata": {}
        }
      ]
    }
  ]
}