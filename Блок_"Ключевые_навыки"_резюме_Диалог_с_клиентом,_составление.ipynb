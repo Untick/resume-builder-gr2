{
  "nbformat": 4,
  "nbformat_minor": 0,
  "metadata": {
    "colab": {
      "provenance": [],
      "include_colab_link": true
    },
    "kernelspec": {
      "name": "python3",
      "display_name": "Python 3"
    },
    "language_info": {
      "name": "python"
    }
  },
  "cells": [
    {
      "cell_type": "markdown",
      "metadata": {
        "id": "view-in-github",
        "colab_type": "text"
      },
      "source": [
        "<a href=\"https://colab.research.google.com/github/Untick/resume-builder-gr2/blob/Labzin-Vyacheslav-branch/%D0%91%D0%BB%D0%BE%D0%BA_%22%D0%9A%D0%BB%D1%8E%D1%87%D0%B5%D0%B2%D1%8B%D0%B5_%D0%BD%D0%B0%D0%B2%D1%8B%D0%BA%D0%B8%22_%D1%80%D0%B5%D0%B7%D1%8E%D0%BC%D0%B5_%D0%94%D0%B8%D0%B0%D0%BB%D0%BE%D0%B3_%D1%81_%D0%BA%D0%BB%D0%B8%D0%B5%D0%BD%D1%82%D0%BE%D0%BC%2C_%D1%81%D0%BE%D1%81%D1%82%D0%B0%D0%B2%D0%BB%D0%B5%D0%BD%D0%B8%D0%B5.ipynb\" target=\"_parent\"><img src=\"https://colab.research.google.com/assets/colab-badge.svg\" alt=\"Open In Colab\"/></a>"
      ]
    },
    {
      "cell_type": "code",
      "source": [
        "!pip install openai"
      ],
      "metadata": {
        "colab": {
          "base_uri": "https://localhost:8080/"
        },
        "id": "5Q2oeV6mGhxB",
        "outputId": "863aa3e4-dc97-4fb8-9368-a2f6f37891b2"
      },
      "execution_count": null,
      "outputs": [
        {
          "output_type": "stream",
          "name": "stdout",
          "text": [
            "Collecting openai\n",
            "  Downloading openai-1.2.3-py3-none-any.whl (220 kB)\n",
            "\u001b[?25l     \u001b[90m━━━━━━━━━━━━━━━━━━━━━━━━━━━━━━━━━━━━━━━━\u001b[0m \u001b[32m0.0/220.3 kB\u001b[0m \u001b[31m?\u001b[0m eta \u001b[36m-:--:--\u001b[0m\r\u001b[2K     \u001b[91m━━━━━━━━━━━━━━━━━━━━━━━━━━━\u001b[0m\u001b[91m╸\u001b[0m\u001b[90m━━━━━━━━━━━━\u001b[0m \u001b[32m153.6/220.3 kB\u001b[0m \u001b[31m4.4 MB/s\u001b[0m eta \u001b[36m0:00:01\u001b[0m\r\u001b[2K     \u001b[90m━━━━━━━━━━━━━━━━━━━━━━━━━━━━━━━━━━━━━━━━\u001b[0m \u001b[32m220.3/220.3 kB\u001b[0m \u001b[31m4.6 MB/s\u001b[0m eta \u001b[36m0:00:00\u001b[0m\n",
            "\u001b[?25hRequirement already satisfied: anyio<4,>=3.5.0 in /usr/local/lib/python3.10/dist-packages (from openai) (3.7.1)\n",
            "Requirement already satisfied: distro<2,>=1.7.0 in /usr/lib/python3/dist-packages (from openai) (1.7.0)\n",
            "Collecting httpx<1,>=0.23.0 (from openai)\n",
            "  Downloading httpx-0.25.1-py3-none-any.whl (75 kB)\n",
            "\u001b[2K     \u001b[90m━━━━━━━━━━━━━━━━━━━━━━━━━━━━━━━━━━━━━━━━\u001b[0m \u001b[32m75.0/75.0 kB\u001b[0m \u001b[31m9.2 MB/s\u001b[0m eta \u001b[36m0:00:00\u001b[0m\n",
            "\u001b[?25hRequirement already satisfied: pydantic<3,>=1.9.0 in /usr/local/lib/python3.10/dist-packages (from openai) (1.10.13)\n",
            "Requirement already satisfied: tqdm>4 in /usr/local/lib/python3.10/dist-packages (from openai) (4.66.1)\n",
            "Requirement already satisfied: typing-extensions<5,>=4.5 in /usr/local/lib/python3.10/dist-packages (from openai) (4.5.0)\n",
            "Requirement already satisfied: idna>=2.8 in /usr/local/lib/python3.10/dist-packages (from anyio<4,>=3.5.0->openai) (3.4)\n",
            "Requirement already satisfied: sniffio>=1.1 in /usr/local/lib/python3.10/dist-packages (from anyio<4,>=3.5.0->openai) (1.3.0)\n",
            "Requirement already satisfied: exceptiongroup in /usr/local/lib/python3.10/dist-packages (from anyio<4,>=3.5.0->openai) (1.1.3)\n",
            "Requirement already satisfied: certifi in /usr/local/lib/python3.10/dist-packages (from httpx<1,>=0.23.0->openai) (2023.7.22)\n",
            "Collecting httpcore (from httpx<1,>=0.23.0->openai)\n",
            "  Downloading httpcore-1.0.2-py3-none-any.whl (76 kB)\n",
            "\u001b[2K     \u001b[90m━━━━━━━━━━━━━━━━━━━━━━━━━━━━━━━━━━━━━━━━\u001b[0m \u001b[32m76.9/76.9 kB\u001b[0m \u001b[31m8.2 MB/s\u001b[0m eta \u001b[36m0:00:00\u001b[0m\n",
            "\u001b[?25hCollecting h11<0.15,>=0.13 (from httpcore->httpx<1,>=0.23.0->openai)\n",
            "  Downloading h11-0.14.0-py3-none-any.whl (58 kB)\n",
            "\u001b[2K     \u001b[90m━━━━━━━━━━━━━━━━━━━━━━━━━━━━━━━━━━━━━━━━\u001b[0m \u001b[32m58.3/58.3 kB\u001b[0m \u001b[31m6.2 MB/s\u001b[0m eta \u001b[36m0:00:00\u001b[0m\n",
            "\u001b[?25hInstalling collected packages: h11, httpcore, httpx, openai\n",
            "\u001b[31mERROR: pip's dependency resolver does not currently take into account all the packages that are installed. This behaviour is the source of the following dependency conflicts.\n",
            "llmx 0.0.15a0 requires cohere, which is not installed.\n",
            "llmx 0.0.15a0 requires tiktoken, which is not installed.\u001b[0m\u001b[31m\n",
            "\u001b[0mSuccessfully installed h11-0.14.0 httpcore-1.0.2 httpx-0.25.1 openai-1.2.3\n"
          ]
        }
      ]
    },
    {
      "cell_type": "code",
      "source": [
        "import openai\n",
        "import getpass\n",
        "import os\n",
        "# Получение ключа API от пользователя и установка его как переменной окружения\n",
        "openai_key = getpass.getpass(\"OpenAI API Key:\")\n",
        "os.environ[\"OPENAI_API_KEY\"] = openai_key\n",
        "openai.api_key = openai_key"
      ],
      "metadata": {
        "colab": {
          "base_uri": "https://localhost:8080/"
        },
        "outputId": "fbaffac4-574c-464d-b9fd-2e7691494baf",
        "id": "VQuSgQ3M2nBI"
      },
      "execution_count": null,
      "outputs": [
        {
          "name": "stdout",
          "output_type": "stream",
          "text": [
            "OpenAI API Key:··········\n"
          ]
        }
      ]
    },
    {
      "cell_type": "code",
      "source": [
        "from openai import OpenAI\n",
        "client = OpenAI()"
      ],
      "metadata": {
        "id": "86FOHYLy4vMF"
      },
      "execution_count": null,
      "outputs": []
    },
    {
      "cell_type": "markdown",
      "source": [
        "# Создание диалога (блок \"Ключевые навыки\")"
      ],
      "metadata": {
        "id": "iKPLyJ8GakP6"
      }
    },
    {
      "cell_type": "code",
      "source": [
        "# Инструкция для GPT, которая будет подаваться в system\n",
        "system_skills= '''Ты профессиональный рекрутер, который составляет резюме для трудоустройства клиента в IT компанию.\n",
        "В настоящий момент тебе необходимы данные для составления блока резюме \"Ключевые навыки\"\n",
        "Тебе будут писать клиенты. Твоя задача провести разговор с клиентом так, чтобы он сообщил все свои ключевые навыки и компетенции.\n",
        "Поддерживай с клиентом разговор, удерживай внимание клиента, чтобы клиент дал максимально полную информацию.\n",
        "\n",
        "Если клиент не знает, что ответить, дай примеры ключевых навыков: Python, GPT (языковое моделирование), C++, Java, NumPy, Pandas, Matplotlib, Seaborn, Librosa, Gensim, Pymorphy2, Scikit-learn, SciPy, Keras, Pytorch, SQL, базовые знания статистики, машинное обучение, обработка данных, программная разработка\n",
        "Одобряй и благодари клиента за ответы на вопросы и предоставленную информацию.\n",
        " '''"
      ],
      "metadata": {
        "id": "-eNKSw16bf99"
      },
      "execution_count": null,
      "outputs": []
    },
    {
      "cell_type": "code",
      "source": [
        "# Для подачи в user\n",
        "topic0_skills = '''Спрашивай у клиента, какими ключевыми навыками он владеет.\n",
        "Дай клиенту для выбора примеры ключевых навыков: Python, GPT (языковое моделирование), C++, Java, NumPy, Pandas, Matplotlib, Seaborn, Librosa, Gensim, Pymorphy2, Scikit-learn, SciPy, Keras, Pytorch, SQL, базовые знания статистики, машинное обучение, обработка данных, программная разработка\n",
        "\n",
        "В каждом своем ответе обязательно говори какие ключевые навыки назвал клиент.\n",
        "\n",
        "Вот пример твоего ответа:\n",
        "{'ключевые навыки: 'Python, Java, NumPy, Pandas'}\n",
        "Какие еще навыки Вы хотите добавить из перечисленных: Python, GPT (языковое моделирование), C++, Java, NumPy, Pandas, Matplotlib, Seaborn, Librosa, Gensim, Pymorphy2, Scikit-learn, SciPy, Keras, Pytorch, SQL, базовые знания статистики, машинное обучение, обработка данных, программная разработка?\n",
        "\n",
        "Этот пример не показывай клиенту.\n",
        "\n",
        "Когда клиент скажет, что он указал все свои навыки, покажи в своем ответе все навыки, которые назвал клиент.\n",
        "'''"
      ],
      "metadata": {
        "id": "P9qNiqArcUrG"
      },
      "execution_count": null,
      "outputs": []
    },
    {
      "cell_type": "code",
      "source": [
        "# функция для получения ответа от модели\n",
        "\n",
        "def answer_index(system, topic, temp=0.5, verbose=0):\n",
        "\n",
        "    messages = [\n",
        "        {\"role\": \"system\", \"content\": system},\n",
        "        {\"role\": \"user\", \"content\": topic}\n",
        "    ]\n",
        "\n",
        "    if verbose: print('\\n ===========================================: ')\n",
        "\n",
        "    completion = client.chat.completions.create(\n",
        "        model=\"gpt-3.5-turbo-16k\",\n",
        "        messages=messages,\n",
        "        temperature=temp\n",
        "    )\n",
        "    answer = completion.choices[0].message.content\n",
        "    return answer  # возвращает ответ"
      ],
      "metadata": {
        "id": "AsDToMseearY"
      },
      "execution_count": null,
      "outputs": []
    },
    {
      "cell_type": "code",
      "source": [
        "user_question = ''\n",
        "answer = ''\n",
        "while True:\n",
        "    input_question = input('Клиент: ') + ' '\n",
        "    if input_question.lower() == 'stop ':\n",
        "        break\n",
        "    user_question += input_question\n",
        "    topic = f'{topic0_skills} \\n\\n Предыдущий диалог: {answer} \\n\\n Ответ клиента: {input_question}'\n",
        "    answer0 = answer_index(system_skills, topic)\n",
        "    answer += answer0\n",
        "\n",
        "    print('\\nРекрутер: ', answer0)"
      ],
      "metadata": {
        "colab": {
          "base_uri": "https://localhost:8080/"
        },
        "id": "Z_RaUbWXehMA",
        "outputId": "26ad1fea-059b-4209-9751-3b6f522acf99"
      },
      "execution_count": null,
      "outputs": [
        {
          "name": "stdout",
          "output_type": "stream",
          "text": [
            "Клиент: Привет!\n",
            "\n",
            "Рекрутер:  Привет! Я помогу тебе составить блок \"Ключевые навыки\" для твоего резюме. Какие ключевые навыки ты владеешь?\n",
            "\n",
            "Если тебе сложно сформулировать, я могу предложить некоторые примеры ключевых навыков: Python, GPT (языковое моделирование), C++, Java, NumPy, Pandas, Matplotlib, Seaborn, Librosa, Gensim, Pymorphy2, Scikit-learn, SciPy, Keras, Pytorch, SQL, базовые знания статистики, машинное обучение, обработка данных, программная разработка. \n",
            "\n",
            "Пожалуйста, назови все ключевые навыки, которыми ты обладаешь.\n",
            "Клиент: Python, Java\n",
            "\n",
            "Рекрутер:  Спасибо за предоставленную информацию! Таким образом, ваши ключевые навыки включают Python и Java. \n",
            "\n",
            "Есть ли еще какие-либо ключевые навыки из предложенного списка, которые вы хотели бы добавить? Если да, пожалуйста, укажите их.\n",
            "Клиент: NumPy\n",
            "\n",
            "Рекрутер:  Спасибо за ваш ответ! Таким образом, ваши ключевые навыки включают Python, Java и NumPy.\n",
            "\n",
            "Есть ли еще какие-либо ключевые навыки из предложенного списка, которые вы хотели бы добавить? Если да, пожалуйста, укажите их.\n",
            "Клиент: GPT\n",
            "\n",
            "Рекрутер:  Спасибо за ваш ответ! Таким образом, ваши ключевые навыки включают Python, Java, NumPy и GPT (языковое моделирование).\n",
            "\n",
            "Есть ли еще какие-либо ключевые навыки из предложенного списка, которые вы хотели бы добавить? Если да, пожалуйста, укажите их.\n",
            "Клиент: повтори пожалуйста примеры ключевых навыков\n",
            "\n",
            "Рекрутер:  Конечно! Вот примеры ключевых навыков: Python, GPT (языковое моделирование), C++, Java, NumPy, Pandas, Matplotlib, Seaborn, Librosa, Gensim, Pymorphy2, Scikit-learn, SciPy, Keras, Pytorch, SQL, базовые знания статистики, машинное обучение, обработка данных, программная разработка. \n",
            "\n",
            "Надеюсь, это поможет вам вспомнить, есть ли еще какие-либо ключевые навыки из этого списка, которые вы хотели бы добавить?\n",
            "Клиент: Matplotlib, Seaborn\n",
            "\n",
            "Рекрутер:  Спасибо за ваш ответ! Таким образом, ваши ключевые навыки включают Python, Java, NumPy, GPT (языковое моделирование), Matplotlib и Seaborn.\n",
            "\n",
            "Есть ли еще какие-либо ключевые навыки из предложенного списка, которые вы хотели бы добавить?\n",
            "Клиент: Больше нет. Я назвал все навыки.\n",
            "\n",
            "Рекрутер:  Спасибо за ваш ответ! Ваши ключевые навыки включают Python, Java, NumPy, GPT (языковое моделирование), Matplotlib и Seaborn. Это отличные навыки, которые будут полезны в IT компании. Если у вас есть еще какие-либо вопросы или информация, которую вы хотели бы добавить, пожалуйста, сообщите мне.\n",
            "Клиент: stop\n"
          ]
        }
      ]
    },
    {
      "cell_type": "code",
      "source": [
        "with open('skills.txt', 'w') as file:\n",
        "    text_to_write = answer0\n",
        "    file.write(text_to_write)"
      ],
      "metadata": {
        "id": "dvfKKBjGf80q"
      },
      "execution_count": null,
      "outputs": []
    },
    {
      "cell_type": "markdown",
      "source": [
        "# Составление резюме. Блок \"Ключевые навыки\""
      ],
      "metadata": {
        "id": "_iANiVf7hIRU"
      }
    },
    {
      "cell_type": "code",
      "source": [
        "# Инструкция для GPT, которая будет подаваться в system\n",
        "system_res_skills= '''Ты профессиональный рекрутер, который составляет резюме для трудоустройства клиента в IT компанию.\n",
        "У тебя большой опыт по составлению грамотных резюме, чтобы они привлекали внимание работодателей в IT сфере.\n",
        "У тебя есть образец блока \"Ключевые навыки\" резюме.\n",
        "\n",
        "К тебе будет поступать информация клиента. Информация клиента будет представлена в виде текста, в котором перечислены ключевые навыки.\n",
        "Из представленного текста выдели навыки и составь блок \"Ключевые навыки\" резюме.\n",
        " '''"
      ],
      "metadata": {
        "id": "pcJULNlUhKNU"
      },
      "execution_count": null,
      "outputs": []
    },
    {
      "cell_type": "code",
      "source": [
        "# Данные для составления блока \"Ключевые навыки\" резюме\n",
        "with open('skills.txt', 'r') as file:\n",
        "  skills = file.read()\n",
        "\n",
        "print (skills)"
      ],
      "metadata": {
        "colab": {
          "base_uri": "https://localhost:8080/"
        },
        "id": "r09t84XiiPl2",
        "outputId": "5d4bb1ce-b47f-422e-dc51-61b5ff21d29b"
      },
      "execution_count": null,
      "outputs": [
        {
          "output_type": "stream",
          "name": "stdout",
          "text": [
            "Спасибо за ваш ответ! Ваши ключевые навыки включают Python, Java, NumPy, GPT (языковое моделирование), Matplotlib и Seaborn. Это отличные навыки, которые будут полезны в IT компании. Если у вас есть еще какие-либо вопросы или информация, которую вы хотели бы добавить, пожалуйста, сообщите мне.\n"
          ]
        }
      ]
    },
    {
      "cell_type": "code",
      "source": [
        "# Данные для образца блока \"Ключевые навыки\" резюме\n",
        "with open('skills_sample.txt', 'r') as file:\n",
        "  skills_sample = file.read()\n",
        "\n",
        "print (skills_sample)"
      ],
      "metadata": {
        "colab": {
          "base_uri": "https://localhost:8080/"
        },
        "id": "9kq_HnltifOu",
        "outputId": "b5ed4758-3f5e-4ac1-f4be-4de0275f49cb"
      },
      "execution_count": null,
      "outputs": [
        {
          "output_type": "stream",
          "name": "stdout",
          "text": [
            "Ваши ключевые навыки включают C++, Java, NumPy, Pandas, Matplotlib, Seaborn, Librosa.\n"
          ]
        }
      ]
    },
    {
      "cell_type": "code",
      "source": [
        "# Образец составленного блока \"Ключевые навыки\" резюме\n",
        "with open('resume_sample_skills.txt', 'r') as file:\n",
        "  resume_sample_skills = file.read()\n",
        "\n",
        "print (resume_sample_skills)"
      ],
      "metadata": {
        "colab": {
          "base_uri": "https://localhost:8080/"
        },
        "id": "171Ed1Ebi_0w",
        "outputId": "e5277fb0-4082-4c4b-8a73-0716f64dfba6"
      },
      "execution_count": null,
      "outputs": [
        {
          "output_type": "stream",
          "name": "stdout",
          "text": [
            "Ключевые навыки:\n",
            "C++, Java, NumPy, Pandas, Matplotlib, Seaborn, Librosa.\n"
          ]
        }
      ]
    },
    {
      "cell_type": "code",
      "source": [
        "# Составим блок \"Ключевые навыки\" резюме\n",
        "response = client.chat.completions.create(\n",
        "  model=\"gpt-3.5-turbo\",\n",
        "  messages=[\n",
        "        {\"role\": \"system\", \"content\": f'{system_res_skills} \\n\\nОбразец резюме: {resume_sample_skills}'},\n",
        "        {\"role\": \"user\", \"content\": f\"Выдели ключевые навыки из текста: \\n\\n{skills_sample}. \\n\\n Ключевые навыки бери только из текста. От себя ничего не придумывай и не добавляй.\"},\n",
        "        {\"role\": \"assistant\", \"content\": resume_sample_skills},\n",
        "        {\"role\": \"user\", \"content\": f\"Выдели ключевые навыки из текста: \\n\\n{skills}. \\n\\n Ключевые навыки бери только из текста. От себя ничего не придумывай и не добавляй.\"}\n",
        "    ]\n",
        ")\n",
        "answer = response.choices[0].message.content\n",
        "print(answer)\n",
        "resume_skills = answer"
      ],
      "metadata": {
        "colab": {
          "base_uri": "https://localhost:8080/"
        },
        "id": "Bu-1QT_EkW8w",
        "outputId": "94a8afbc-9e00-4fa2-c58a-7e8de172ee4f"
      },
      "execution_count": null,
      "outputs": [
        {
          "output_type": "stream",
          "name": "stdout",
          "text": [
            "Ключевые навыки:\n",
            "Python, Java, NumPy, GPT (языковое моделирование), Matplotlib, Seaborn.\n"
          ]
        }
      ]
    }
  ]
}