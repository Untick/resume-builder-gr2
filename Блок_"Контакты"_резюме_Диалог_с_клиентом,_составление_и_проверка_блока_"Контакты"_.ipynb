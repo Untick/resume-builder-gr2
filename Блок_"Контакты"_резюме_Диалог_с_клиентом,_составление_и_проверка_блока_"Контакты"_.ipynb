{
  "nbformat": 4,
  "nbformat_minor": 0,
  "metadata": {
    "colab": {
      "provenance": [],
      "include_colab_link": true
    },
    "kernelspec": {
      "name": "python3",
      "display_name": "Python 3"
    },
    "language_info": {
      "name": "python"
    }
  },
  "cells": [
    {
      "cell_type": "markdown",
      "metadata": {
        "id": "view-in-github",
        "colab_type": "text"
      },
      "source": [
        "<a href=\"https://colab.research.google.com/github/Untick/resume-builder-gr2/blob/Labzin-Vyacheslav-branch/%D0%91%D0%BB%D0%BE%D0%BA_%22%D0%9A%D0%BE%D0%BD%D1%82%D0%B0%D0%BA%D1%82%D1%8B%22_%D1%80%D0%B5%D0%B7%D1%8E%D0%BC%D0%B5_%D0%94%D0%B8%D0%B0%D0%BB%D0%BE%D0%B3_%D1%81_%D0%BA%D0%BB%D0%B8%D0%B5%D0%BD%D1%82%D0%BE%D0%BC%2C_%D1%81%D0%BE%D1%81%D1%82%D0%B0%D0%B2%D0%BB%D0%B5%D0%BD%D0%B8%D0%B5_%D0%B8_%D0%BF%D1%80%D0%BE%D0%B2%D0%B5%D1%80%D0%BA%D0%B0_%D0%B1%D0%BB%D0%BE%D0%BA%D0%B0_%22%D0%9A%D0%BE%D0%BD%D1%82%D0%B0%D0%BA%D1%82%D1%8B%22_.ipynb\" target=\"_parent\"><img src=\"https://colab.research.google.com/assets/colab-badge.svg\" alt=\"Open In Colab\"/></a>"
      ]
    },
    {
      "cell_type": "markdown",
      "source": [
        "Блок \"Контакты\" резюме:\n",
        "\n",
        "Диалог с клиентом для получения данных,\n",
        "\n",
        "составление блока \"Контакты\" из полученных данных,\n",
        "\n",
        "проверка составленного блока \"Контакты\""
      ],
      "metadata": {
        "id": "uz5qFb8zVZhe"
      }
    },
    {
      "cell_type": "code",
      "source": [
        "!pip install openai"
      ],
      "metadata": {
        "colab": {
          "base_uri": "https://localhost:8080/"
        },
        "id": "5Q2oeV6mGhxB",
        "outputId": "c20812a3-67ae-4a77-9f51-2b8104f5ad21"
      },
      "execution_count": null,
      "outputs": [
        {
          "output_type": "stream",
          "name": "stdout",
          "text": [
            "Collecting openai\n",
            "  Downloading openai-1.1.1-py3-none-any.whl (217 kB)\n",
            "\u001b[?25l     \u001b[90m━━━━━━━━━━━━━━━━━━━━━━━━━━━━━━━━━━━━━━━━\u001b[0m \u001b[32m0.0/217.8 kB\u001b[0m \u001b[31m?\u001b[0m eta \u001b[36m-:--:--\u001b[0m\r\u001b[2K     \u001b[91m━━━━━━━━━━━━━\u001b[0m\u001b[90m╺\u001b[0m\u001b[90m━━━━━━━━━━━━━━━━━━━━━━━━━━\u001b[0m \u001b[32m71.7/217.8 kB\u001b[0m \u001b[31m2.0 MB/s\u001b[0m eta \u001b[36m0:00:01\u001b[0m\r\u001b[2K     \u001b[90m━━━━━━━━━━━━━━━━━━━━━━━━━━━━━━━━━━━━━━━━\u001b[0m \u001b[32m217.8/217.8 kB\u001b[0m \u001b[31m3.6 MB/s\u001b[0m eta \u001b[36m0:00:00\u001b[0m\n",
            "\u001b[?25hRequirement already satisfied: anyio<4,>=3.5.0 in /usr/local/lib/python3.10/dist-packages (from openai) (3.7.1)\n",
            "Requirement already satisfied: distro<2,>=1.7.0 in /usr/lib/python3/dist-packages (from openai) (1.7.0)\n",
            "Collecting httpx<1,>=0.23.0 (from openai)\n",
            "  Downloading httpx-0.25.1-py3-none-any.whl (75 kB)\n",
            "\u001b[2K     \u001b[90m━━━━━━━━━━━━━━━━━━━━━━━━━━━━━━━━━━━━━━━━\u001b[0m \u001b[32m75.0/75.0 kB\u001b[0m \u001b[31m7.0 MB/s\u001b[0m eta \u001b[36m0:00:00\u001b[0m\n",
            "\u001b[?25hRequirement already satisfied: pydantic<3,>=1.9.0 in /usr/local/lib/python3.10/dist-packages (from openai) (1.10.13)\n",
            "Requirement already satisfied: tqdm>4 in /usr/local/lib/python3.10/dist-packages (from openai) (4.66.1)\n",
            "Requirement already satisfied: typing-extensions<5,>=4.5 in /usr/local/lib/python3.10/dist-packages (from openai) (4.5.0)\n",
            "Requirement already satisfied: idna>=2.8 in /usr/local/lib/python3.10/dist-packages (from anyio<4,>=3.5.0->openai) (3.4)\n",
            "Requirement already satisfied: sniffio>=1.1 in /usr/local/lib/python3.10/dist-packages (from anyio<4,>=3.5.0->openai) (1.3.0)\n",
            "Requirement already satisfied: exceptiongroup in /usr/local/lib/python3.10/dist-packages (from anyio<4,>=3.5.0->openai) (1.1.3)\n",
            "Requirement already satisfied: certifi in /usr/local/lib/python3.10/dist-packages (from httpx<1,>=0.23.0->openai) (2023.7.22)\n",
            "Collecting httpcore (from httpx<1,>=0.23.0->openai)\n",
            "  Downloading httpcore-1.0.1-py3-none-any.whl (76 kB)\n",
            "\u001b[2K     \u001b[90m━━━━━━━━━━━━━━━━━━━━━━━━━━━━━━━━━━━━━━━━\u001b[0m \u001b[32m76.9/76.9 kB\u001b[0m \u001b[31m8.5 MB/s\u001b[0m eta \u001b[36m0:00:00\u001b[0m\n",
            "\u001b[?25hCollecting h11<0.15,>=0.13 (from httpcore->httpx<1,>=0.23.0->openai)\n",
            "  Downloading h11-0.14.0-py3-none-any.whl (58 kB)\n",
            "\u001b[2K     \u001b[90m━━━━━━━━━━━━━━━━━━━━━━━━━━━━━━━━━━━━━━━━\u001b[0m \u001b[32m58.3/58.3 kB\u001b[0m \u001b[31m4.6 MB/s\u001b[0m eta \u001b[36m0:00:00\u001b[0m\n",
            "\u001b[?25hInstalling collected packages: h11, httpcore, httpx, openai\n",
            "\u001b[31mERROR: pip's dependency resolver does not currently take into account all the packages that are installed. This behaviour is the source of the following dependency conflicts.\n",
            "llmx 0.0.15a0 requires cohere, which is not installed.\n",
            "llmx 0.0.15a0 requires tiktoken, which is not installed.\u001b[0m\u001b[31m\n",
            "\u001b[0mSuccessfully installed h11-0.14.0 httpcore-1.0.1 httpx-0.25.1 openai-1.1.1\n"
          ]
        }
      ]
    },
    {
      "cell_type": "code",
      "source": [
        "import openai\n",
        "import getpass\n",
        "import os\n",
        "# Получение ключа API от пользователя и установка его как переменной окружения\n",
        "openai_key = getpass.getpass(\"OpenAI API Key:\")\n",
        "os.environ[\"OPENAI_API_KEY\"] = openai_key\n",
        "openai.api_key = openai_key"
      ],
      "metadata": {
        "colab": {
          "base_uri": "https://localhost:8080/"
        },
        "outputId": "c273bae6-76a0-4381-c62b-7999a705aea0",
        "id": "VQuSgQ3M2nBI"
      },
      "execution_count": null,
      "outputs": [
        {
          "name": "stdout",
          "output_type": "stream",
          "text": [
            "OpenAI API Key:··········\n"
          ]
        }
      ]
    },
    {
      "cell_type": "code",
      "source": [
        "from openai import OpenAI\n",
        "client = OpenAI()"
      ],
      "metadata": {
        "id": "86FOHYLy4vMF"
      },
      "execution_count": null,
      "outputs": []
    },
    {
      "cell_type": "markdown",
      "source": [
        "# Создание диалога (заполнение контактных данных для блока \"Контакты\")"
      ],
      "metadata": {
        "id": "doebF9rxwjH4"
      }
    },
    {
      "cell_type": "code",
      "source": [
        "# Инструкция для GPT, которая будет подаваться в system\n",
        "system_doc= '''Ты профессиональный рекрутер, который составляет резюме для трудоустройства клиента в IT компанию.\n",
        "В настоящий момент тебе необходимы данные для составления блока резюме \"Контакты\"\n",
        "Тебе будут писать клиенты. Твоя задача провести разговор с клиентом так, чтобы он сообщил все данные, необходимые для составления блока резюме \"Контакты\".\n",
        "Поддерживай с клиентом разговор, удерживай внимание клиента, чтобы клиент дал максимально полную информацию.\n",
        "У тебя есть следующий список вопросов, которые надо задать, чтобы получить данные для составления резюме.\n",
        "\n",
        "При диалоге с клиентом задавай вопросы по порядку из этого списка, начиная с первого вопроса.\n",
        "Каждый раз называй только один вопрос. Клиент не должен знать про список вопросов.\n",
        "Если клиент не знает, что ответить, переформулируй вопрос. Приведи примеры, какую информацию можно дать на твой вопрос.\n",
        "Одобряй и благодари клиента за ответы на вопросы и предоставленную информацию.\n",
        " '''"
      ],
      "metadata": {
        "id": "haKeBzI8xD8W"
      },
      "execution_count": null,
      "outputs": []
    },
    {
      "cell_type": "code",
      "source": [
        "# Для подачи в user\n",
        "topic0 = '''Вот список вопросов, которые надо задать клиенту. Задавай вопросы по порядку, по одному. Ни в коем случае не перечисляй сразу все вопросы. Называй только один вопрос.\n",
        "{'1 ФИО': ' '},\n",
        "{'2 краткое описание вашей профессиональной роли или цели, например \"Full Stack разработчик\" или \"Data Scientist\"': ' '},\n",
        "{'3 номер телефона': ' '},\n",
        "{'4 ник в телеграмм': ' '},\n",
        "{'5 электронная почта': ' '},\n",
        "{'6 ссылка на github': ' '},\n",
        "\n",
        "Задавай вопросы из словаря по порядку, по одному, начиная с самого первого без ответа.\n",
        "После ответа клиента заполни пропуски, вставь вместо пробелов ' ' полученные ответы клиента.\n",
        "В каждом своем ответе говори какие пункты словаря заполнены и задай новый вопрос клиенту для заполнения следующего пункта словаря.\n",
        "Ни в коем случае в своем ответе не перечисляй все вопросы. Задавай только один вопрос.\n",
        "Про пустые пункты словаря в своем ответе не говори.\n",
        "\n",
        "Пожалуйста, включи переносы строк между словарями в ответах.\n",
        "\n",
        "Ответ клиента: '''"
      ],
      "metadata": {
        "id": "u7a5hj6FzOLk"
      },
      "execution_count": null,
      "outputs": []
    },
    {
      "cell_type": "code",
      "source": [
        "# Для подачи в user-assistant, чтобы показать пример, какие вопросы будут поданы в user (Обратите внимание на последнюю строку)\n",
        "topic1 = '''Вот список вопросов, которые надо задать клиенту. Задавай вопросы по порядку, по одному. Ни в коем случае не перечисляй сразу все вопросы. Называй только один вопрос.\n",
        "{'образец ФИО': ' '},\n",
        "{'образец краткое описание вашей профессиональной роли или цели, например \"Full Stack разработчик\" или \"Data Scientist\"': ' '},\n",
        "{'1 ФИО': ' '},\n",
        "{'2 краткое описание вашей профессиональной роли или цели, например \"Full Stack разработчик\" или \"Data Scientist\"': ' '},\n",
        "{'3 номер телефона': ' '},\n",
        "{'4 ник в телеграмм': ' '},\n",
        "{'5 электронная почта': ' '},\n",
        "{'6 ссылка на github': ' '},\n",
        "\n",
        "Задавай вопросы из словаря по порядку, по одному, начиная с самого первого без ответа.\n",
        "После ответа клиента заполни пропуски, вставь вместо пробелов ' ' полученные ответы клиента.\n",
        "В каждом своем ответе говори какие пункты словаря заполнены и задай новый вопрос клиенту для заполнения следующего пункта словаря.\n",
        "Ни в коем случае в своем ответе не перечисляй все вопросы. Задавай только один вопрос.\n",
        "Про пустые пункты словаря в своем ответе не говори.\n",
        "\n",
        "Пожалуйста, включи переносы строк между словарями в ответах.\n",
        "\n",
        "Ответ клиента: Привет!'''"
      ],
      "metadata": {
        "id": "PRLPaNiozhlQ"
      },
      "execution_count": null,
      "outputs": []
    },
    {
      "cell_type": "code",
      "source": [
        "# Для подачи в user-assistant, чтобы показать пример, какие вопросы будут поданы в user (Обратите внимание на последнюю строку)\n",
        "topic2 = '''Вот список вопросов, которые надо задать клиенту. Задавай вопросы по порядку, по одному. Ни в коем случае не перечисляй сразу все вопросы. Называй только один вопрос.\n",
        "{'образец ФИО': ' '},\n",
        "{'образец краткое описание вашей профессиональной роли или цели, например \"Full Stack разработчик\" или \"Data Scientist\"': ' '},\n",
        "{'1 ФИО': ' '},\n",
        "{'2 краткое описание вашей профессиональной роли или цели, например \"Full Stack разработчик\" или \"Data Scientist\"': ' '},\n",
        "{'3 номер телефона': ' '},\n",
        "{'4 ник в телеграмм': ' '},\n",
        "{'5 электронная почта': ' '},\n",
        "{'6 ссылка на github': ' '},\n",
        "\n",
        "Задавай вопросы из словаря по порядку, по одному, начиная с самого первого без ответа.\n",
        "После ответа клиента заполни пропуски, вставь вместо пробелов ' ' полученные ответы клиента.\n",
        "В каждом своем ответе говори какие пункты словаря заполнены и задай новый вопрос клиенту для заполнения следующего пункта словаря.\n",
        "Ни в коем случае в своем ответе не перечисляй все вопросы. Задавай только один вопрос.\n",
        "Про пустые пункты словаря в своем ответе не говори.\n",
        "\n",
        "Пожалуйста, включи переносы строк между словарями в ответах.\n",
        "\n",
        "Ответ клиента: Привет! Иванов Вячеслав Владимирович'''"
      ],
      "metadata": {
        "id": "7Oc2Dnjyz4pr"
      },
      "execution_count": null,
      "outputs": []
    },
    {
      "cell_type": "code",
      "source": [
        "# Для подачи в user-assistant, чтобы показать пример, какие вопросы будут поданы в user (Обратите внимание на последнюю строку)\n",
        "topic3 = '''Вот список вопросов, которые надо задать клиенту. Задавай вопросы по порядку, по одному. Ни в коем случае не перечисляй сразу все вопросы. Называй только один вопрос.\n",
        "{'образец ФИО': ' '},\n",
        "{'образец краткое описание вашей профессиональной роли или цели, например \"Full Stack разработчик\" или \"Data Scientist\"': ' '},\n",
        "{'1 ФИО': ' '},\n",
        "{'2 краткое описание вашей профессиональной роли или цели, например \"Full Stack разработчик\" или \"Data Scientist\"': ' '},\n",
        "{'3 номер телефона': ' '},\n",
        "{'4 ник в телеграмм': ' '},\n",
        "{'5 электронная почта': ' '},\n",
        "{'6 ссылка на github': ' '},\n",
        "\n",
        "Задавай вопросы из словаря по порядку, по одному, начиная с самого первого без ответа.\n",
        "После ответа клиента заполни пропуски, вставь вместо пробелов ' ' полученные ответы клиента.\n",
        "В каждом своем ответе говори какие пункты словаря заполнены и задай новый вопрос клиенту для заполнения следующего пункта словаря.\n",
        "Ни в коем случае в своем ответе не перечисляй все вопросы. Задавай только один вопрос.\n",
        "Про пустые пункты словаря в своем ответе не говори.\n",
        "\n",
        "Пожалуйста, включи переносы строк между словарями в ответах.\n",
        "\n",
        "Ответ клиента: Привет! Иванов Вячеслав Владимирович Data Scientist'''"
      ],
      "metadata": {
        "id": "wGDpOOub1GST"
      },
      "execution_count": null,
      "outputs": []
    },
    {
      "cell_type": "code",
      "source": [
        "# Для подачи в assistant, чтобы показать пример, какие ответы должны быть от GPT\n",
        "answer1 = 'Привет! Я профессиональный рекрутер. Я помогу Вам составить резюме. Скажите Ваше ФИО.'\n",
        "answer2 = '''\n",
        "{\"образец ФИО\": \"Иванов Вячеслав Владимирович\"}\n",
        "Следующий вопрос. Какая ваша профессиональная роль или цель, например \"Full Stack разработчик\" или \"Data Scientist\"?'''\n",
        "answer3 = '''\n",
        "{\"образец ФИО\": \"Иванов Вячеслав Владимирович\"}\n",
        "{\"образец краткое описание вашей профессиональной роли или цели\": \"Data Scientist\"}\n",
        "Следующий вопрос. Ваш номер телефона?'''"
      ],
      "metadata": {
        "id": "0ruVXRu971n5"
      },
      "execution_count": null,
      "outputs": []
    },
    {
      "cell_type": "code",
      "source": [
        "# функция для получения ответа от модели; с добавлением assistant\n",
        "\n",
        "def answer_index(system, topic1, answer1, topic2, answer2, topic3, answer3, topic, temp=1, verbose=0):\n",
        "\n",
        "    messages = [\n",
        "        {\"role\": \"system\", \"content\": system},\n",
        "        {\"role\": \"user\", \"content\": topic1},\n",
        "        {\"role\": \"assistant\", \"content\": answer1},\n",
        "        {\"role\": \"user\", \"content\": topic2},\n",
        "        {\"role\": \"assistant\", \"content\": answer2},\n",
        "        {\"role\": \"user\", \"content\": topic3},\n",
        "        {\"role\": \"assistant\", \"content\": answer3},\n",
        "        {\"role\": \"user\", \"content\": topic}\n",
        "    ]\n",
        "\n",
        "    if verbose: print('\\n ===========================================: ')\n",
        "\n",
        "    completion = client.chat.completions.create(\n",
        "        model=\"gpt-3.5-turbo-16k\",\n",
        "        messages=messages,\n",
        "        temperature=temp\n",
        "    )\n",
        "    # answer = insert_newlines(completion.choices[0].message.content)\n",
        "    answer = completion.choices[0].message.content\n",
        "    return answer  # возвращает ответ"
      ],
      "metadata": {
        "id": "fyMOOQVo1gKw"
      },
      "execution_count": null,
      "outputs": []
    },
    {
      "cell_type": "code",
      "source": [
        "user_question = ''\n",
        "answer = ''\n",
        "while True:\n",
        "    input_question = input('Клиент: ') + ' '\n",
        "    if input_question.lower() == 'stop ':\n",
        "        break\n",
        "    user_question += input_question\n",
        "    # topic = topic0 + user_question\n",
        "    topic = f'{topic0} \\n\\n Предыдущий диалог: {answer} \\n\\n Ответ клиента: {input_question}'\n",
        "    answer0 = answer_index(system_doc, topic1, answer1, topic2, answer2, topic3, answer3, topic)\n",
        "    answer += answer0\n",
        "\n",
        "    # dialog += f'\\nКлиент: {user_question} \\n Рекрутер: {answer}'\n",
        "    print('\\nРекрутер: ', answer0)"
      ],
      "metadata": {
        "colab": {
          "base_uri": "https://localhost:8080/"
        },
        "id": "Sgmgopwg1zfC",
        "outputId": "de5e4e89-3020-4817-c659-ec8228f929e2"
      },
      "execution_count": null,
      "outputs": [
        {
          "name": "stdout",
          "output_type": "stream",
          "text": [
            "Клиент: Привет!\n",
            "\n",
            "Рекрутер:  Привет! Давай продолжим. Сейчас мы составляем резюме, и мне нужны некоторые данные от вас. Пожалуйста, укажите ваше ФИО.\n",
            "Клиент: Сергеев Григорий Денисович\n",
            "\n",
            "Рекрутер:  {'1 ФИО': 'Сергеев Григорий Денисович'} \n",
            "Следующий вопрос. Пожалуйста, укажите краткое описание вашей профессиональной роли или цели, например \"Full Stack разработчик\" или \"Data Scientist\".\n",
            "Клиент: Data Scientist\n",
            "\n",
            "Рекрутер:  {\"1 ФИО\": \"Сергеев Григорий Денисович\"} \n",
            "{\"2 краткое описание вашей профессиональной роли или цели\": \"Data Scientist\"} \n",
            "Следующий вопрос. Пожалуйста, укажите ваш номер телефона.\n",
            "Клиент: +7(978)245-32-74\n",
            "\n",
            "Рекрутер:  {\"1 ФИО\": \"Сергеев Григорий Денисович\"} \n",
            "{\"2 краткое описание вашей профессиональной роли или цели\": \"Data Scientist\"} \n",
            "{\"3 номер телефона\": \"+7(978)245-32-74\"} \n",
            "Следующий вопрос. Укажите ваш ник в Telegram, если есть.\n",
            "Клиент: @Serge\n",
            "\n",
            "Рекрутер:  {\"1 ФИО\": \"Сергеев Григорий Денисович\"} \n",
            "{\"2 краткое описание вашей профессиональной роли или цели\": \"Data Scientist\"} \n",
            "{\"3 номер телефона\": \"+7(978)245-32-74\"} \n",
            "{\"4 ник в телеграмм\": \"@Serge\"} \n",
            "\n",
            "Спасибо за предоставленную информацию! \n",
            "Следующий вопрос. Пожалуйста, укажите вашу электронную почту.\n",
            "Клиент: SergGrig@mail.ru\n",
            "\n",
            "Рекрутер:  {\"1 ФИО\": \"Сергеев Григорий Денисович\"} \n",
            "{\"2 краткое описание вашей профессиональной роли или цели\": \"Data Scientist\"} \n",
            "{\"3 номер телефона\": \"+7(978)245-32-74\"} \n",
            "{\"4 ник в телеграмм\": \"@Serge\"} \n",
            "{\"5 электронная почта\": \"SergGrig@mail.ru\"} \n",
            "\n",
            "Спасибо за предоставленную информацию! \n",
            "Остался последний пункт. Пожалуйста, укажите ссылку на ваш GitHub, если есть.\n",
            "Клиент: https://github.com/GSerg\n",
            "\n",
            "Рекрутер:  {\"1 ФИО\": \"Сергеев Григорий Денисович\"} \n",
            "{\"2 краткое описание вашей профессиональной роли или цели\": \"Data Scientist\"} \n",
            "{\"3 номер телефона\": \"+7(978)245-32-74\"} \n",
            "{\"4 ник в телеграмм\": \"@Serge\"} \n",
            "{\"5 электронная почта\": \"SergGrig@mail.ru\"} \n",
            "{\"6 ссылка на github\": \"https://github.com/GSerg\"} \n",
            "\n",
            "Все пункты словаря заполнены. Спасибо за предоставленные данные! Теперь я составлю блок \"Контакты\" в вашем резюме.\n",
            "\n",
            "Если у вас есть еще какая-либо информация, которую хотели бы добавить к резюме, пожалуйста, сообщите.\n",
            "Клиент: stop\n"
          ]
        }
      ]
    },
    {
      "cell_type": "code",
      "source": [
        "print(answer0)"
      ],
      "metadata": {
        "colab": {
          "base_uri": "https://localhost:8080/"
        },
        "id": "BWWtxXYMDQ8k",
        "outputId": "4fb4ec90-36bb-4651-8b32-174571cb188e"
      },
      "execution_count": null,
      "outputs": [
        {
          "output_type": "stream",
          "name": "stdout",
          "text": [
            "{\"1 ФИО\": \"Сергеев Григорий Денисович\"} \n",
            "{\"2 краткое описание вашей профессиональной роли или цели\": \"Data Scientist\"} \n",
            "{\"3 номер телефона\": \"+7(978)245-32-74\"} \n",
            "{\"4 ник в телеграмм\": \"@Serge\"} \n",
            "{\"5 электронная почта\": \"SergGrig@mail.ru\"} \n",
            "{\"6 ссылка на github\": \"https://github.com/GSerg\"} \n",
            "\n",
            "Все пункты словаря заполнены. Спасибо за предоставленные данные! Теперь я составлю блок \"Контакты\" в вашем резюме.\n",
            "\n",
            "Если у вас есть еще какая-либо информация, которую хотели бы добавить к резюме, пожалуйста, сообщите.\n"
          ]
        }
      ]
    },
    {
      "cell_type": "code",
      "source": [
        "with open('contact.txt', 'w') as file:\n",
        "    text_to_write = answer0\n",
        "    file.write(text_to_write)"
      ],
      "metadata": {
        "id": "3XmAaxQiDnLy"
      },
      "execution_count": null,
      "outputs": []
    },
    {
      "cell_type": "markdown",
      "source": [
        "# Составление резюме. Блок \"Контакты\""
      ],
      "metadata": {
        "id": "nTRGH_j4FYHp"
      }
    },
    {
      "cell_type": "code",
      "source": [
        "# Инструкция для GPT, которая будет подаваться в system\n",
        "system_res_cont= '''Ты профессиональный рекрутер, который составляет резюме для трудоустройства клиента в IT компанию.\n",
        "У тебя большой опыт по составлению грамотных резюме, чтобы они привлекали внимание работодателей в IT сфере.\n",
        "У тебя есть образец блока \"Контакты\" резюме.\n",
        "\n",
        "К тебе будет поступать информация клиента. Информация клиента будет представлена в виде словаря.\n",
        "Из представленной информации составь блок \"Контакты\" резюме.\n",
        "\n",
        "При составлении резюме добавь переносы строк, чтобы блок \"Контакты\" резюме выглядел также, как образец блока \"Контакты\" резюме.\n",
        " '''"
      ],
      "metadata": {
        "id": "O7__PzlCFWk5"
      },
      "execution_count": null,
      "outputs": []
    },
    {
      "cell_type": "code",
      "source": [
        "# Данные для составления блока \"Контакты\" резюме\n",
        "with open('contact.txt', 'r') as file:\n",
        "  contact = file.read()\n",
        "\n",
        "print (contact)"
      ],
      "metadata": {
        "colab": {
          "base_uri": "https://localhost:8080/"
        },
        "id": "isMdWQa4GLih",
        "outputId": "3d3479c3-cee9-42ef-caaa-d344c6e75cde"
      },
      "execution_count": null,
      "outputs": [
        {
          "output_type": "stream",
          "name": "stdout",
          "text": [
            "{\"1 ФИО\": \"Сергеев Григорий Денисович\"} \n",
            "{\"2 краткое описание вашей профессиональной роли или цели\": \"Data Scientist\"} \n",
            "{\"3 номер телефона\": \"+7(978)245-32-74\"} \n",
            "{\"4 ник в телеграмм\": \"@Serge\"} \n",
            "{\"5 электронная почта\": \"SergGrig@mail.ru\"} \n",
            "{\"6 ссылка на github\": \"https://github.com/GSerg\"} \n",
            "\n"
          ]
        }
      ]
    },
    {
      "cell_type": "code",
      "source": [
        "# Данные для составления блока \"Контакты\" резюме (данные без номера телефона)\n",
        "with open('contact_none_phone.txt', 'r') as file:\n",
        "  contact_none_phone = file.read()\n",
        "\n",
        "print (contact_none_phone)"
      ],
      "metadata": {
        "colab": {
          "base_uri": "https://localhost:8080/"
        },
        "id": "x9rr5QKWIwmX",
        "outputId": "3fff7318-c1bc-4ad9-c3fb-3126a0cff0b0"
      },
      "execution_count": null,
      "outputs": [
        {
          "output_type": "stream",
          "name": "stdout",
          "text": [
            "{\"1 ФИО\": \"Сергеев Григорий Денисович\"} \n",
            "{\"2 краткое описание вашей профессиональной роли или цели\": \"Data Scientist\"} \n",
            "{\"3 номер телефона\": \" \"} \n",
            "{\"4 ник в телеграмм\": \"@Serge\"} \n",
            "{\"5 электронная почта\": \"SergGrig@mail.ru\"} \n",
            "{\"6 ссылка на github\": \"https://github.com/GSerg\"} \n",
            "\n"
          ]
        }
      ]
    },
    {
      "cell_type": "code",
      "source": [
        "# Данные для образца блока \"Контакты\" резюме\n",
        "with open('contact_sample.txt', 'r') as file:\n",
        "  contact_sample = file.read()\n",
        "\n",
        "print (contact_sample)"
      ],
      "metadata": {
        "colab": {
          "base_uri": "https://localhost:8080/"
        },
        "id": "7ou2zmjvJFJy",
        "outputId": "85d9dc2b-f65b-4cb3-de20-18e7749fb616"
      },
      "execution_count": null,
      "outputs": [
        {
          "output_type": "stream",
          "name": "stdout",
          "text": [
            "{\"1 ФИО\": \"Вячеслав Лабзин\"} \n",
            "{\"2 краткое описание вашей профессиональной роли или цели\": \"Data Scientist\"} \n",
            "{\"3 номер телефона\": \"+7(499)-123-47-85\"} \n",
            "{\"4 ник в телеграмм\": \"@V_Labzin\"} \n",
            "{\"5 электронная почта\": \"labzin@mail.ru\"} \n",
            "{\"6 ссылка на github\": \"https://github.com/Vyacheslav53/ChatGPT\"} \n",
            "\n"
          ]
        }
      ]
    },
    {
      "cell_type": "code",
      "source": [
        "# Образец составленного блока \"Контакты\" резюме\n",
        "with open('resume_sample_cont.txt', 'r') as file:\n",
        "  resume_sample_cont = file.read()\n",
        "\n",
        "print (resume_sample_cont)"
      ],
      "metadata": {
        "colab": {
          "base_uri": "https://localhost:8080/"
        },
        "id": "IClwEWORJRmC",
        "outputId": "4ea56926-b99b-46a8-bc23-e140ec593364"
      },
      "execution_count": null,
      "outputs": [
        {
          "output_type": "stream",
          "name": "stdout",
          "text": [
            "﻿Вячеслав Лабзин  \n",
            "Data Scientist\n",
            "КОНТАКТЫ  \n",
            "  \n",
            "\n",
            "+7(499)-123-47-85\n",
            "@V_Labzin                  \n",
            "labzin@mail.ru\n",
            "https://github.com/Vyacheslav53/ChatGPT\n"
          ]
        }
      ]
    },
    {
      "cell_type": "code",
      "source": [
        "response = client.chat.completions.create(\n",
        "  model=\"gpt-3.5-turbo\",\n",
        "  messages=[\n",
        "        {\"role\": \"system\", \"content\": f'{system_res_cont} \\n\\nОбразец резюме: {resume_sample_cont}'},\n",
        "        {\"role\": \"user\", \"content\": f\"Составь резюме из словаря: \\n\\n{contact_sample}. Информацию для резюме бери только из словаря. Если в словаре информации нет, ставь пропуски. От себя ничего не добавляй.\"},\n",
        "        {\"role\": \"assistant\", \"content\": resume_sample_cont},\n",
        "        {\"role\": \"user\", \"content\": f\"Составь резюме из словаря: \\n\\n{contact}. Информацию для резюме бери только из словаря. Если в словаре информации нет, ставь пропуски. От себя ничего не добавляй.\"}\n",
        "    ]\n",
        ")\n",
        "answer = response.choices[0].message.content\n",
        "print(answer)"
      ],
      "metadata": {
        "colab": {
          "base_uri": "https://localhost:8080/"
        },
        "id": "nPXguTa4JqLR",
        "outputId": "4eadf50a-96a5-486d-d948-5ca55a06c58b"
      },
      "execution_count": null,
      "outputs": [
        {
          "output_type": "stream",
          "name": "stdout",
          "text": [
            "Сергеев Григорий Денисович  \n",
            "Data Scientist\n",
            "КОНТАКТЫ  \n",
            "\n",
            "+7(978)245-32-74\n",
            "@Serge                  \n",
            "SergGrig@mail.ru\n",
            "https://github.com/GSerg\n"
          ]
        }
      ]
    },
    {
      "cell_type": "code",
      "source": [
        "resume_for_control = answer"
      ],
      "metadata": {
        "id": "ljfG7nJQSsLk"
      },
      "execution_count": null,
      "outputs": []
    },
    {
      "cell_type": "code",
      "source": [
        "with open('Sergeev.txt', 'w') as file:\n",
        "    text_to_write = answer\n",
        "    file.write(text_to_write)"
      ],
      "metadata": {
        "id": "sG9A_3bRNcWt"
      },
      "execution_count": null,
      "outputs": []
    },
    {
      "cell_type": "code",
      "source": [
        "# Проверим составление резюме без номера телефона\n",
        "response = client.chat.completions.create(\n",
        "  model=\"gpt-3.5-turbo\",\n",
        "  messages=[\n",
        "        {\"role\": \"system\", \"content\": f'{system_res_cont} \\n\\nОбразец резюме: {resume_sample_cont}'},\n",
        "        {\"role\": \"user\", \"content\": f\"Составь резюме из словаря: \\n\\n{contact_sample}. Информацию для резюме бери только из словаря. Если в словаре информации нет, ставь пропуски. От себя ничего не добавляй.\"},\n",
        "        {\"role\": \"assistant\", \"content\": resume_sample_cont},\n",
        "        {\"role\": \"user\", \"content\": f\"Составь резюме из словаря: \\n\\n{contact_none_phone}. Информацию для резюме бери только из словаря. Если в словаре информации нет, ставь пропуски. От себя ничего не добавляй.\"}\n",
        "    ]\n",
        ")\n",
        "answer_none_phone = response.choices[0].message.content\n",
        "print(answer_none_phone)"
      ],
      "metadata": {
        "colab": {
          "base_uri": "https://localhost:8080/"
        },
        "id": "WR6-gNiXMJRS",
        "outputId": "b4b15b6f-cefc-479f-ebd3-b4bbed5fa3e3"
      },
      "execution_count": null,
      "outputs": [
        {
          "output_type": "stream",
          "name": "stdout",
          "text": [
            "﻿Сергеев Григорий Денисович  \n",
            "Data Scientist\n",
            "КОНТАКТЫ  \n",
            "  \n",
            "\n",
            "@Serge                  \n",
            "SergGrig@mail.ru\n",
            "https://github.com/GSerg\n"
          ]
        }
      ]
    },
    {
      "cell_type": "code",
      "source": [
        "resume_none_phone = answer_none_phone"
      ],
      "metadata": {
        "id": "k0qTLp27Szcm"
      },
      "execution_count": null,
      "outputs": []
    },
    {
      "cell_type": "code",
      "source": [
        "with open('Sergeev_none_fhone.txt', 'w') as file:\n",
        "    text_to_write = answer_none_phone\n",
        "    file.write(text_to_write)"
      ],
      "metadata": {
        "id": "P-7eCY4HNrCf"
      },
      "execution_count": null,
      "outputs": []
    },
    {
      "cell_type": "markdown",
      "source": [
        "# Проверка резюме (блок \"Контакты\")"
      ],
      "metadata": {
        "id": "WBmcBfjgNImy"
      }
    },
    {
      "cell_type": "code",
      "source": [
        "# Инструкция для GPT, которая будет подаваться в system\n",
        "system_contact_control= '''Ты профессиональный рекрутер по IT специальностям.\n",
        "У тебя большой опыт по составлению грамотных резюме, чтобы они привлекали внимание работодателей в IT сфере.\n",
        "У тебя есть образец блока \"Контакты\" резюме.\n",
        "\n",
        "К тебе от клиента будет поступать заполненный блок \"Контакты\" резюме.\n",
        "Проверь полноту заполнения блока \"Контакты\" резюме. Проверь релевантность указанной информации. Сравни с образцом правильно составленного блока \"Контакты\" резюме.\n",
        "\n",
        "Укажи, если блок \"Контакты\" резюме неполностью заполнен или указана нерелевантная информация.\n",
        "Укажи, какая информация отсутствует или нерелевантная.\n",
        "Указывай только ту информацию, которая отстутсвует или нерелевантная. Не придумывай ничего от себя и лишнее в ответ не добавляй.\n",
        "\n",
        "Пожалуйста, включи переносы строк в ответе.\n",
        " '''"
      ],
      "metadata": {
        "id": "1ufGyU0CNIQx"
      },
      "execution_count": null,
      "outputs": []
    },
    {
      "cell_type": "code",
      "source": [
        "# Образец правильно составленного блока \"Контакты\" резюме\n",
        "\n",
        "print (resume_sample_cont)"
      ],
      "metadata": {
        "colab": {
          "base_uri": "https://localhost:8080/"
        },
        "id": "e-pJx4tjROso",
        "outputId": "7718f84c-f603-46c5-f64c-f7cd1d189fbd"
      },
      "execution_count": null,
      "outputs": [
        {
          "output_type": "stream",
          "name": "stdout",
          "text": [
            "﻿Вячеслав Лабзин  \n",
            "Data Scientist\n",
            "КОНТАКТЫ  \n",
            "  \n",
            "\n",
            "+7(499)-123-47-85\n",
            "@V_Labzin                  \n",
            "labzin@mail.ru\n",
            "https://github.com/Vyacheslav53/ChatGPT\n"
          ]
        }
      ]
    },
    {
      "cell_type": "code",
      "source": [
        "# Образец составленного блока \"Контакты\" резюме без электронной почты\n",
        "with open('resume_sample_none_email.txt', 'r') as file:\n",
        "  resume_sample_none_email = file.read()\n",
        "\n",
        "print (resume_sample_none_email)"
      ],
      "metadata": {
        "colab": {
          "base_uri": "https://localhost:8080/"
        },
        "id": "NULDm-hnSB6g",
        "outputId": "f2232ac3-7852-402d-9e98-cdd450dc9766"
      },
      "execution_count": null,
      "outputs": [
        {
          "output_type": "stream",
          "name": "stdout",
          "text": [
            "﻿Вячеслав Лабзин  \n",
            "Data Scientist\n",
            "КОНТАКТЫ  \n",
            "  \n",
            "\n",
            "+7(499)-123-47-85\n",
            "@V_Labzin                  \n",
            "\n",
            "https://github.com/Vyacheslav53/ChatGPT\n"
          ]
        }
      ]
    },
    {
      "cell_type": "code",
      "source": [
        "# Блок \"Контакты\" для проверки (без телефона)\n",
        "print(resume_none_phone)"
      ],
      "metadata": {
        "colab": {
          "base_uri": "https://localhost:8080/"
        },
        "id": "6y9LU_dfSRO8",
        "outputId": "5f89d3e4-1bf9-4743-8871-8f5888aacd05"
      },
      "execution_count": null,
      "outputs": [
        {
          "output_type": "stream",
          "name": "stdout",
          "text": [
            "﻿Сергеев Григорий Денисович  \n",
            "Data Scientist\n",
            "КОНТАКТЫ  \n",
            "  \n",
            "\n",
            "@Serge                  \n",
            "SergGrig@mail.ru\n",
            "https://github.com/GSerg\n"
          ]
        }
      ]
    },
    {
      "cell_type": "code",
      "source": [
        "# Блок \"Контакты\" для проверки (полностью заполнен)\n",
        "print(resume_for_control)"
      ],
      "metadata": {
        "colab": {
          "base_uri": "https://localhost:8080/"
        },
        "id": "fe6xsp4mShi2",
        "outputId": "c40f7ab9-a41b-4bd0-9619-0bff39de0be3"
      },
      "execution_count": null,
      "outputs": [
        {
          "output_type": "stream",
          "name": "stdout",
          "text": [
            "Сергеев Григорий Денисович  \n",
            "Data Scientist\n",
            "КОНТАКТЫ  \n",
            "\n",
            "+7(978)245-32-74\n",
            "@Serge                  \n",
            "SergGrig@mail.ru\n",
            "https://github.com/GSerg\n"
          ]
        }
      ]
    },
    {
      "cell_type": "code",
      "source": [
        "response = client.chat.completions.create(\n",
        "  model=\"gpt-3.5-turbo\",\n",
        "  messages=[\n",
        "        {\"role\": \"system\", \"content\": f'{system_contact_control} \\n\\nОбразец правильно составленного блока \"Контакты\" резюме: {resume_sample_cont}'},\n",
        "        {\"role\": \"user\", \"content\": f'Кратко укажи замечания по заполнению блока \"Контакты\" резюме: {resume_sample_none_email}.'},\n",
        "        {\"role\": \"assistant\", \"content\": 'В блоке \"Контакты\" резюме не указана электронная почта. Укажите свою электронную почту.'},\n",
        "        {\"role\": \"user\", \"content\": f'Кратко укажи замечания по заполнению блока \"Контакты\" резюме: {resume_none_phone}.'}\n",
        "    ]\n",
        ")\n",
        "remarks = response.choices[0].message.content\n",
        "print(remarks)"
      ],
      "metadata": {
        "colab": {
          "base_uri": "https://localhost:8080/"
        },
        "id": "XzEQXFmFTOaf",
        "outputId": "45a46fe8-bf7c-44cf-b658-a2023a8c97c1"
      },
      "execution_count": null,
      "outputs": [
        {
          "output_type": "stream",
          "name": "stdout",
          "text": [
            "В блоке \"Контакты\" резюме не указан номер телефона. Укажите свой номер телефона.\n"
          ]
        }
      ]
    },
    {
      "cell_type": "code",
      "source": [
        "# Проверим полностью заполненный блок \"Контакты\" резюме\n",
        "response = client.chat.completions.create(\n",
        "  model=\"gpt-3.5-turbo\",\n",
        "  messages=[\n",
        "        {\"role\": \"system\", \"content\": f'{system_contact_control} \\n\\nОбразец правильно составленного блока \"Контакты\" резюме: {resume_sample_cont}'},\n",
        "        {\"role\": \"user\", \"content\": f'Кратко укажи замечания по заполнению блока \"Контакты\" резюме: {resume_sample_none_email}.'},\n",
        "        {\"role\": \"assistant\", \"content\": 'В блоке \"Контакты\" резюме не указана электронная почта. Укажите свою электронную почту.'},\n",
        "        {\"role\": \"user\", \"content\": f'Кратко укажи замечания по заполнению блока \"Контакты\" резюме: {resume_for_control}.'}\n",
        "    ]\n",
        ")\n",
        "remarks = response.choices[0].message.content\n",
        "print(remarks)"
      ],
      "metadata": {
        "colab": {
          "base_uri": "https://localhost:8080/"
        },
        "id": "F_QMf41TUitA",
        "outputId": "2339f05c-04ce-4749-b928-9222ebe9e34b"
      },
      "execution_count": null,
      "outputs": [
        {
          "output_type": "stream",
          "name": "stdout",
          "text": [
            "Блок \"Контакты\" резюме заполнен полностью и корректно. Контактная информация указана верно и релевантна для работодателей.\n"
          ]
        }
      ]
    }
  ]
}