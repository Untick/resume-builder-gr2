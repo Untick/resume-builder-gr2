{
  "nbformat": 4,
  "nbformat_minor": 0,
  "metadata": {
    "colab": {
      "provenance": [],
      "include_colab_link": true
    },
    "kernelspec": {
      "name": "python3",
      "display_name": "Python 3"
    },
    "language_info": {
      "name": "python"
    }
  },
  "cells": [
    {
      "cell_type": "markdown",
      "metadata": {
        "id": "view-in-github",
        "colab_type": "text"
      },
      "source": [
        "<a href=\"https://colab.research.google.com/github/Untick/resume-builder-gr2/blob/main/Malofeev%20Alexander/%D0%9C%D0%B0%D0%BB%D0%BE%D1%84%D0%B5%D0%B5%D0%B2_%D0%90%D0%BB%D0%B5%D0%BA%D1%81%D0%B0%D0%BD%D0%B4%D1%80_%D0%9F%D1%80%D0%BE%D0%B2%D0%B5%D1%80%D0%BA%D0%B0_%D0%BE%D1%80%D1%84%D0%BE%D0%B3%D1%80%D0%B0%D1%84%D0%B8%D0%B8%2009%2009.ipynb\" target=\"_parent\"><img src=\"https://colab.research.google.com/assets/colab-badge.svg\" alt=\"Open In Colab\"/></a>"
      ]
    },
    {
      "cell_type": "code",
      "source": [
        "#@title Установка библиотек\n",
        "!pip  install  tiktoken==0.4.0  langchain==0.0.231 openai==0.27.8 chromadb gspread oauth2client nltk pydantic==1.10.8 faiss-cpu==1.7.4\n",
        "!pip install diff-match-patch"
      ],
      "metadata": {
        "colab": {
          "base_uri": "https://localhost:8080/"
        },
        "id": "O2r1XJfVvOKB",
        "outputId": "5919b626-bc40-411e-adb8-f55ed4c7b49b",
        "cellView": "form"
      },
      "execution_count": null,
      "outputs": [
        {
          "output_type": "stream",
          "name": "stdout",
          "text": [
            "Requirement already satisfied: tiktoken==0.4.0 in /usr/local/lib/python3.10/dist-packages (0.4.0)\n",
            "Requirement already satisfied: langchain==0.0.231 in /usr/local/lib/python3.10/dist-packages (0.0.231)\n",
            "Requirement already satisfied: openai==0.27.8 in /usr/local/lib/python3.10/dist-packages (0.27.8)\n",
            "Requirement already satisfied: chromadb in /usr/local/lib/python3.10/dist-packages (0.4.9)\n",
            "Requirement already satisfied: gspread in /usr/local/lib/python3.10/dist-packages (3.4.2)\n",
            "Requirement already satisfied: oauth2client in /usr/local/lib/python3.10/dist-packages (4.1.3)\n",
            "Requirement already satisfied: nltk in /usr/local/lib/python3.10/dist-packages (3.8.1)\n",
            "Requirement already satisfied: pydantic==1.10.8 in /usr/local/lib/python3.10/dist-packages (1.10.8)\n",
            "Requirement already satisfied: faiss-cpu==1.7.4 in /usr/local/lib/python3.10/dist-packages (1.7.4)\n",
            "Requirement already satisfied: regex>=2022.1.18 in /usr/local/lib/python3.10/dist-packages (from tiktoken==0.4.0) (2023.6.3)\n",
            "Requirement already satisfied: requests>=2.26.0 in /usr/local/lib/python3.10/dist-packages (from tiktoken==0.4.0) (2.31.0)\n",
            "Requirement already satisfied: PyYAML>=5.4.1 in /usr/local/lib/python3.10/dist-packages (from langchain==0.0.231) (6.0.1)\n",
            "Requirement already satisfied: SQLAlchemy<3,>=1.4 in /usr/local/lib/python3.10/dist-packages (from langchain==0.0.231) (2.0.20)\n",
            "Requirement already satisfied: aiohttp<4.0.0,>=3.8.3 in /usr/local/lib/python3.10/dist-packages (from langchain==0.0.231) (3.8.5)\n",
            "Requirement already satisfied: async-timeout<5.0.0,>=4.0.0 in /usr/local/lib/python3.10/dist-packages (from langchain==0.0.231) (4.0.3)\n",
            "Requirement already satisfied: dataclasses-json<0.6.0,>=0.5.7 in /usr/local/lib/python3.10/dist-packages (from langchain==0.0.231) (0.5.14)\n",
            "Requirement already satisfied: langchainplus-sdk<0.0.21,>=0.0.20 in /usr/local/lib/python3.10/dist-packages (from langchain==0.0.231) (0.0.20)\n",
            "Requirement already satisfied: numexpr<3.0.0,>=2.8.4 in /usr/local/lib/python3.10/dist-packages (from langchain==0.0.231) (2.8.5)\n",
            "Requirement already satisfied: numpy<2,>=1 in /usr/local/lib/python3.10/dist-packages (from langchain==0.0.231) (1.23.5)\n",
            "Requirement already satisfied: openapi-schema-pydantic<2.0,>=1.2 in /usr/local/lib/python3.10/dist-packages (from langchain==0.0.231) (1.2.4)\n",
            "Requirement already satisfied: tenacity<9.0.0,>=8.1.0 in /usr/local/lib/python3.10/dist-packages (from langchain==0.0.231) (8.2.3)\n",
            "Requirement already satisfied: tqdm in /usr/local/lib/python3.10/dist-packages (from openai==0.27.8) (4.66.1)\n",
            "Requirement already satisfied: typing-extensions>=4.2.0 in /usr/local/lib/python3.10/dist-packages (from pydantic==1.10.8) (4.7.1)\n",
            "Requirement already satisfied: chroma-hnswlib==0.7.2 in /usr/local/lib/python3.10/dist-packages (from chromadb) (0.7.2)\n",
            "Requirement already satisfied: fastapi<0.100.0,>=0.95.2 in /usr/local/lib/python3.10/dist-packages (from chromadb) (0.99.1)\n",
            "Requirement already satisfied: uvicorn[standard]>=0.18.3 in /usr/local/lib/python3.10/dist-packages (from chromadb) (0.23.2)\n",
            "Requirement already satisfied: posthog>=2.4.0 in /usr/local/lib/python3.10/dist-packages (from chromadb) (3.0.2)\n",
            "Requirement already satisfied: pulsar-client>=3.1.0 in /usr/local/lib/python3.10/dist-packages (from chromadb) (3.3.0)\n",
            "Requirement already satisfied: onnxruntime>=1.14.1 in /usr/local/lib/python3.10/dist-packages (from chromadb) (1.15.1)\n",
            "Requirement already satisfied: tokenizers>=0.13.2 in /usr/local/lib/python3.10/dist-packages (from chromadb) (0.14.0)\n",
            "Requirement already satisfied: pypika>=0.48.9 in /usr/local/lib/python3.10/dist-packages (from chromadb) (0.48.9)\n",
            "Requirement already satisfied: overrides>=7.3.1 in /usr/local/lib/python3.10/dist-packages (from chromadb) (7.4.0)\n",
            "Requirement already satisfied: importlib-resources in /usr/local/lib/python3.10/dist-packages (from chromadb) (6.0.1)\n",
            "Requirement already satisfied: bcrypt>=4.0.1 in /usr/local/lib/python3.10/dist-packages (from chromadb) (4.0.1)\n",
            "Requirement already satisfied: google-auth in /usr/local/lib/python3.10/dist-packages (from gspread) (2.17.3)\n",
            "Requirement already satisfied: httplib2>=0.9.1 in /usr/local/lib/python3.10/dist-packages (from oauth2client) (0.22.0)\n",
            "Requirement already satisfied: pyasn1>=0.1.7 in /usr/local/lib/python3.10/dist-packages (from oauth2client) (0.5.0)\n",
            "Requirement already satisfied: pyasn1-modules>=0.0.5 in /usr/local/lib/python3.10/dist-packages (from oauth2client) (0.3.0)\n",
            "Requirement already satisfied: rsa>=3.1.4 in /usr/local/lib/python3.10/dist-packages (from oauth2client) (4.9)\n",
            "Requirement already satisfied: six>=1.6.1 in /usr/local/lib/python3.10/dist-packages (from oauth2client) (1.16.0)\n",
            "Requirement already satisfied: click in /usr/local/lib/python3.10/dist-packages (from nltk) (8.1.7)\n",
            "Requirement already satisfied: joblib in /usr/local/lib/python3.10/dist-packages (from nltk) (1.3.2)\n",
            "Requirement already satisfied: attrs>=17.3.0 in /usr/local/lib/python3.10/dist-packages (from aiohttp<4.0.0,>=3.8.3->langchain==0.0.231) (23.1.0)\n",
            "Requirement already satisfied: charset-normalizer<4.0,>=2.0 in /usr/local/lib/python3.10/dist-packages (from aiohttp<4.0.0,>=3.8.3->langchain==0.0.231) (3.2.0)\n",
            "Requirement already satisfied: multidict<7.0,>=4.5 in /usr/local/lib/python3.10/dist-packages (from aiohttp<4.0.0,>=3.8.3->langchain==0.0.231) (6.0.4)\n",
            "Requirement already satisfied: yarl<2.0,>=1.0 in /usr/local/lib/python3.10/dist-packages (from aiohttp<4.0.0,>=3.8.3->langchain==0.0.231) (1.9.2)\n",
            "Requirement already satisfied: frozenlist>=1.1.1 in /usr/local/lib/python3.10/dist-packages (from aiohttp<4.0.0,>=3.8.3->langchain==0.0.231) (1.4.0)\n",
            "Requirement already satisfied: aiosignal>=1.1.2 in /usr/local/lib/python3.10/dist-packages (from aiohttp<4.0.0,>=3.8.3->langchain==0.0.231) (1.3.1)\n",
            "Requirement already satisfied: marshmallow<4.0.0,>=3.18.0 in /usr/local/lib/python3.10/dist-packages (from dataclasses-json<0.6.0,>=0.5.7->langchain==0.0.231) (3.20.1)\n",
            "Requirement already satisfied: typing-inspect<1,>=0.4.0 in /usr/local/lib/python3.10/dist-packages (from dataclasses-json<0.6.0,>=0.5.7->langchain==0.0.231) (0.9.0)\n",
            "Requirement already satisfied: starlette<0.28.0,>=0.27.0 in /usr/local/lib/python3.10/dist-packages (from fastapi<0.100.0,>=0.95.2->chromadb) (0.27.0)\n",
            "Requirement already satisfied: pyparsing!=3.0.0,!=3.0.1,!=3.0.2,!=3.0.3,<4,>=2.4.2 in /usr/local/lib/python3.10/dist-packages (from httplib2>=0.9.1->oauth2client) (3.1.1)\n",
            "Requirement already satisfied: coloredlogs in /usr/local/lib/python3.10/dist-packages (from onnxruntime>=1.14.1->chromadb) (15.0.1)\n",
            "Requirement already satisfied: flatbuffers in /usr/local/lib/python3.10/dist-packages (from onnxruntime>=1.14.1->chromadb) (23.5.26)\n",
            "Requirement already satisfied: packaging in /usr/local/lib/python3.10/dist-packages (from onnxruntime>=1.14.1->chromadb) (23.1)\n",
            "Requirement already satisfied: protobuf in /usr/local/lib/python3.10/dist-packages (from onnxruntime>=1.14.1->chromadb) (3.20.3)\n",
            "Requirement already satisfied: sympy in /usr/local/lib/python3.10/dist-packages (from onnxruntime>=1.14.1->chromadb) (1.12)\n",
            "Requirement already satisfied: monotonic>=1.5 in /usr/local/lib/python3.10/dist-packages (from posthog>=2.4.0->chromadb) (1.6)\n",
            "Requirement already satisfied: backoff>=1.10.0 in /usr/local/lib/python3.10/dist-packages (from posthog>=2.4.0->chromadb) (2.2.1)\n",
            "Requirement already satisfied: python-dateutil>2.1 in /usr/local/lib/python3.10/dist-packages (from posthog>=2.4.0->chromadb) (2.8.2)\n",
            "Requirement already satisfied: certifi in /usr/local/lib/python3.10/dist-packages (from pulsar-client>=3.1.0->chromadb) (2023.7.22)\n",
            "Requirement already satisfied: idna<4,>=2.5 in /usr/local/lib/python3.10/dist-packages (from requests>=2.26.0->tiktoken==0.4.0) (3.4)\n",
            "Requirement already satisfied: urllib3<3,>=1.21.1 in /usr/local/lib/python3.10/dist-packages (from requests>=2.26.0->tiktoken==0.4.0) (2.0.4)\n",
            "Requirement already satisfied: greenlet!=0.4.17 in /usr/local/lib/python3.10/dist-packages (from SQLAlchemy<3,>=1.4->langchain==0.0.231) (2.0.2)\n",
            "Requirement already satisfied: huggingface_hub<0.17,>=0.16.4 in /usr/local/lib/python3.10/dist-packages (from tokenizers>=0.13.2->chromadb) (0.16.4)\n",
            "Requirement already satisfied: h11>=0.8 in /usr/local/lib/python3.10/dist-packages (from uvicorn[standard]>=0.18.3->chromadb) (0.14.0)\n",
            "Requirement already satisfied: httptools>=0.5.0 in /usr/local/lib/python3.10/dist-packages (from uvicorn[standard]>=0.18.3->chromadb) (0.6.0)\n",
            "Requirement already satisfied: python-dotenv>=0.13 in /usr/local/lib/python3.10/dist-packages (from uvicorn[standard]>=0.18.3->chromadb) (1.0.0)\n",
            "Requirement already satisfied: uvloop!=0.15.0,!=0.15.1,>=0.14.0 in /usr/local/lib/python3.10/dist-packages (from uvicorn[standard]>=0.18.3->chromadb) (0.17.0)\n",
            "Requirement already satisfied: watchfiles>=0.13 in /usr/local/lib/python3.10/dist-packages (from uvicorn[standard]>=0.18.3->chromadb) (0.20.0)\n",
            "Requirement already satisfied: websockets>=10.4 in /usr/local/lib/python3.10/dist-packages (from uvicorn[standard]>=0.18.3->chromadb) (11.0.3)\n",
            "Requirement already satisfied: cachetools<6.0,>=2.0.0 in /usr/local/lib/python3.10/dist-packages (from google-auth->gspread) (5.3.1)\n",
            "Requirement already satisfied: filelock in /usr/local/lib/python3.10/dist-packages (from huggingface_hub<0.17,>=0.16.4->tokenizers>=0.13.2->chromadb) (3.12.3)\n",
            "Requirement already satisfied: fsspec in /usr/local/lib/python3.10/dist-packages (from huggingface_hub<0.17,>=0.16.4->tokenizers>=0.13.2->chromadb) (2023.6.0)\n",
            "Requirement already satisfied: anyio<5,>=3.4.0 in /usr/local/lib/python3.10/dist-packages (from starlette<0.28.0,>=0.27.0->fastapi<0.100.0,>=0.95.2->chromadb) (3.7.1)\n",
            "Requirement already satisfied: mypy-extensions>=0.3.0 in /usr/local/lib/python3.10/dist-packages (from typing-inspect<1,>=0.4.0->dataclasses-json<0.6.0,>=0.5.7->langchain==0.0.231) (1.0.0)\n",
            "Requirement already satisfied: humanfriendly>=9.1 in /usr/local/lib/python3.10/dist-packages (from coloredlogs->onnxruntime>=1.14.1->chromadb) (10.0)\n",
            "Requirement already satisfied: mpmath>=0.19 in /usr/local/lib/python3.10/dist-packages (from sympy->onnxruntime>=1.14.1->chromadb) (1.3.0)\n",
            "Requirement already satisfied: sniffio>=1.1 in /usr/local/lib/python3.10/dist-packages (from anyio<5,>=3.4.0->starlette<0.28.0,>=0.27.0->fastapi<0.100.0,>=0.95.2->chromadb) (1.3.0)\n",
            "Requirement already satisfied: exceptiongroup in /usr/local/lib/python3.10/dist-packages (from anyio<5,>=3.4.0->starlette<0.28.0,>=0.27.0->fastapi<0.100.0,>=0.95.2->chromadb) (1.1.3)\n",
            "Requirement already satisfied: diff-match-patch in /usr/local/lib/python3.10/dist-packages (20230430)\n"
          ]
        }
      ]
    },
    {
      "cell_type": "code",
      "source": [
        "import gdown\n",
        "from langchain.llms import OpenAI\n",
        "from langchain.vectorstores import FAISS\n",
        "from langchain.docstore.document import Document\n",
        "import requests\n",
        "from langchain.embeddings.openai import OpenAIEmbeddings\n",
        "from langchain.vectorstores import Chroma\n",
        "from langchain.text_splitter import RecursiveCharacterTextSplitter\n",
        "from langchain.prompts import PromptTemplate\n",
        "import pathlib\n",
        "import subprocess\n",
        "import tempfile\n",
        "import ipywidgets as widgets\n",
        "import os\n",
        "import gspread\n",
        "from oauth2client.service_account import ServiceAccountCredentials\n",
        "import re\n",
        "import getpass\n",
        "import os\n",
        "import openai\n",
        "import tiktoken\n",
        "\n",
        "import json\n",
        "import diff_match_patch as dmp_module\n",
        "from IPython.display import HTML"
      ],
      "metadata": {
        "id": "iO9CMx_FvOOq"
      },
      "execution_count": null,
      "outputs": []
    },
    {
      "cell_type": "code",
      "source": [
        "# Получение ключа API от пользователя и установка его как переменной окружения\n",
        "openai_key = getpass.getpass(\"OpenAI API Key:\")\n",
        "os.environ[\"OPENAI_API_KEY\"] = openai_key\n",
        "openai.api_key = openai_key"
      ],
      "metadata": {
        "colab": {
          "base_uri": "https://localhost:8080/"
        },
        "id": "bTps-NUavORh",
        "outputId": "e73d23e4-3fbc-433b-8462-1a5d64e87ad2"
      },
      "execution_count": null,
      "outputs": [
        {
          "name": "stdout",
          "output_type": "stream",
          "text": [
            "OpenAI API Key:··········\n"
          ]
        }
      ]
    },
    {
      "cell_type": "code",
      "source": [
        "def num_tokens_from_messages(messages, model=\"gpt-3.5-turbo-0613\"):\n",
        "    \"\"\"Returns the number of tokens used by a list of messages.\"\"\"\n",
        "    try:\n",
        "        encoding = tiktoken.encoding_for_model(model)\n",
        "    except KeyError:\n",
        "        encoding = tiktoken.get_encoding(\"cl100k_base\")\n",
        "    if model == \"gpt-3.5-turbo-0613\":  # note: future models may deviate from this\n",
        "        num_tokens = 0\n",
        "        for message in messages:\n",
        "            num_tokens += 4  # every message follows <im_start>{role/name}\\n{content}<im_end>\\n\n",
        "            for key, value in message.items():\n",
        "                num_tokens += len(encoding.encode(value))\n",
        "                if key == \"name\":  # if there's a name, the role is omitted\n",
        "                    num_tokens += -1  # role is always required and always 1 token\n",
        "        num_tokens += 2  # every reply is primed with <im_start>assistant\n",
        "        return num_tokens\n",
        "    else:\n",
        "        raise NotImplementedError(f\"\"\"num_tokens_from_messages() is not presently implemented for model {model}.\"\"\")\n",
        "\n",
        "def insert_newlines11(text: str, max_len: int = 170) -> str:\n",
        "    words = text.split()\n",
        "    lines = []\n",
        "    current_line = \"\"\n",
        "    for word in words:\n",
        "        if len(current_line + \" \" + word) > max_len:\n",
        "            lines.append(current_line)\n",
        "            current_line = \"\"\n",
        "        current_line += \" \" + word\n",
        "    lines.append(current_line)\n",
        "    return \"\\n\".join(lines)\n",
        "\n",
        "def answer_index(system, topic, temp = 0.1, verbose = 0):\n",
        "    messages = [\n",
        "      {\"role\": \"system\", \"content\": system},\n",
        "      {\"role\": \"user\", \"content\": topic}\n",
        "    ]\n",
        "\n",
        "    # example token count from the function defined above\n",
        "    if (verbose): print('\\n===========================================')\n",
        "    if (verbose): print(f\"{num_tokens_from_messages(messages, 'gpt-3.5-turbo-0613')} токенов ориентировочная длина вопроса\")\n",
        "    completion = openai.ChatCompletion.create(\n",
        "        model=\"gpt-3.5-turbo\",\n",
        "        messages=messages,\n",
        "        temperature=temp\n",
        "    )\n",
        "    price = (0.0015*completion[\"usage\"][\"prompt_tokens\"]+0.002*completion[\"usage\"][\"completion_tokens\"])/1000\n",
        "\n",
        "    #if (verbose): print(f'ответ:\\n{json.dumps(completion, indent=4)}')\n",
        "    if (verbose): print('\\n===========================================')\n",
        "    if (verbose): print(f'{completion[\"usage\"][\"prompt_tokens\"]}+{completion[\"usage\"][\"completion_tokens\"]}={completion[\"usage\"][\"total_tokens\"]} токенов использовано всего (вопрос+ответ).')\n",
        "    if (verbose): print('\\n===========================================')\n",
        "    if (verbose): print(f'Цена запроса с ответом : $ {price:.4f}, {price*131.5:.2f} ₽')\n",
        "    if (verbose): print('\\n===========================================')\n",
        "\n",
        "    response = completion.choices[0].message.content\n",
        "    print(f'Исходное резюме:\\n{response}')\n",
        "    print(f'\\n\\n\\nИсправленное резюме:\\n{response}')\n",
        "\n",
        "    return response\n",
        "\n",
        "def display_diff(source_str, result_str):\n",
        "    dmp = dmp_module.diff_match_patch()\n",
        "    diffs = dmp.diff_main(source_str, result_str)\n",
        "    dmp.diff_cleanupSemantic(diffs)\n",
        "    html_diff = dmp.diff_prettyHtml(diffs)\n",
        "    return html_diff"
      ],
      "metadata": {
        "id": "Bb5S1zWWvOhJ"
      },
      "execution_count": null,
      "outputs": []
    },
    {
      "cell_type": "code",
      "source": [
        "chat_promt = '''\n",
        "Ты профессиональный редактор и корректор, с филологическим образованием.\n",
        "Ты работаешь в HR-отделе компании, занимающейяся трудоустройством кандидатов по профилю IT и нейронные сети.\n",
        "Ты занимаешься исправлением и вычиткой текстов резюме и сопроводительных писем к резюме на вакансию.\n",
        "К тебе приходит текст резюме, твоя задача - исправить опечатки, орфографию и пунктуацию, а так же мелкие смысловые и стилистические неточности, такие как несогласованность времен при перечислении навыков. Не меняй форматирование, общий смысла предложений и технические термины. Технические термины по возможности нужно приводить к виду, общепринятому в профессиональной среде.\n",
        "Переносы строки и другое форматирование, такое как html-теги и нумерация пунктов, нужно в точности сохранять, кроме случаев, когда ты исправляешь стилистическую или синтакическую ошибку.\n",
        "В твоем ответе должен быть только исправленный текст, без каких-либо добавлений и пояснений с твоей стороны.\n",
        "'''\n",
        "\n",
        "resume_text = '''\n",
        "<h3>2. Личные качества:</h3>\n",
        "\n",
        "Я спецеалист в области IT, большой опыт работы в сфере информационных тихнологий. Отличные каммуникативные навыки. Высокий организованность и ответственный. Умение работать в команде. Желание дальше развиваться, участвовать в новых проектах и получаю навыки, необходимые для достижения поставленной цели.\n",
        "\n",
        "<h3>3. Профессиональные навыки:</h3>\n",
        "\n",
        "Системное администрирование, программирование, ремонтирую компьютерную технику, консультирование, полное техническое обслуживание и поддержка компаний и частных клиентов, развитие it инфраструктуры, развитие бизнес-процессов -системные интеграции.\n",
        "\n",
        "CRM системы, майнинг фермы, специфическое оборудование. Информационная безопасность, шифрование.\n",
        "\n",
        "Базовые знания технологий и протоколов:\n",
        "<ul>\n",
        "<li>AD,</li> <li>DNS,</li> <li>DHCP,</li> <li>XREGD,</li> <li>FTP,</li> <li>SMTP.</li>\n",
        "</ul>\n",
        "\n",
        "Обслуживание и администрирование: 1с, кассовое оборудование, видеонаблюдение, компьютерная техника, сервера, торговое оборудование, аудио-видео техника.\n",
        "\n",
        "Умение общаться с неопытными пользователями, умею объяснять пользователям сложные вещи простыми словами.\n",
        "\n",
        "Компьютерные навыки:\n",
        "\n",
        "Администрирование MS-DOS, Windows 95, 98, 2000, XP, Windows 7, 8, 10, 11, Linux, Windows Server 2000-2003-2008-2012-2016, 1С.\n",
        "'''\n",
        "resume_text = resume_text.strip()"
      ],
      "metadata": {
        "id": "lS_hValxvpeP"
      },
      "execution_count": null,
      "outputs": []
    },
    {
      "cell_type": "code",
      "source": [
        "ans=answer_index(\n",
        "    chat_promt,\n",
        "    resume_text,\n",
        "    verbose = 1\n",
        ")\n"
      ],
      "metadata": {
        "colab": {
          "base_uri": "https://localhost:8080/"
        },
        "id": "JHJLOxt0lpbj",
        "outputId": "3fa2ebbd-f80d-41a0-839a-cb1a1b3009aa"
      },
      "execution_count": null,
      "outputs": [
        {
          "output_type": "stream",
          "name": "stdout",
          "text": [
            "\n",
            "===========================================: \n",
            "1006 токенов ориентировочная длина вопроса\n",
            "\n",
            "===========================================: \n",
            "1005+557=1562 токенов использовано всего (вопрос+ответ).\n",
            "\n",
            "===========================================: \n",
            "Цена запроса с ответом : $ 0.0026, 0.34 ₽\n",
            "\n",
            "===========================================: \n",
            "Исходное резюме:\n",
            "<h3>2. Личные качества:</h3>\n",
            "\n",
            "Я специалист в области IT, имею большой опыт работы в сфере информационных технологий. Обладаю отличными коммуникативными навыками. Высокоорганизованный и ответственный. Умею работать в команде. Имею желание дальше развиваться, участвовать в новых проектах и получать навыки, необходимые для достижения поставленной цели.\n",
            "\n",
            "<h3>3. Профессиональные навыки:</h3>\n",
            "\n",
            "- Системное администрирование\n",
            "- Программирование\n",
            "- Ремонт компьютерной техники\n",
            "- Консультирование\n",
            "- Полное техническое обслуживание и поддержка компаний и частных клиентов\n",
            "- Развитие IT инфраструктуры\n",
            "- Развитие бизнес-процессов и системные интеграции\n",
            "- CRM системы\n",
            "- Майнинг фермы\n",
            "- Специфическое оборудование\n",
            "- Информационная безопасность и шифрование\n",
            "\n",
            "Базовые знания технологий и протоколов: AD, DNS, DHCP, XREGD, FTP, SMTP.\n",
            "\n",
            "Обслуживание и администрирование: 1С, кассовое оборудование, видеонаблюдение, компьютерная техника, сервера, торговое оборудование, аудио-видео техника.\n",
            "\n",
            "Умение общаться с неопытными пользователями, умею объяснять пользователям сложные вещи простыми словами.\n",
            "\n",
            "Компьютерные навыки:\n",
            "\n",
            "- Администрирование MS-DOS, Windows 95, 98, 2000, XP, Windows 7, 8, 10, 11, Linux, Windows Server 2000-2003-2008-2012-2016\n",
            "- 1С.\n",
            "Исправленное резюме:\n",
            "<h3>2. Личные качества:</h3>\n",
            "\n",
            "Я специалист в области IT, имею большой опыт работы в сфере информационных технологий. Обладаю отличными коммуникативными навыками. Высокоорганизованный и ответственный. Умею работать в команде. Имею желание дальше развиваться, участвовать в новых проектах и получать навыки, необходимые для достижения поставленной цели.\n",
            "\n",
            "<h3>3. Профессиональные навыки:</h3>\n",
            "\n",
            "- Системное администрирование\n",
            "- Программирование\n",
            "- Ремонт компьютерной техники\n",
            "- Консультирование\n",
            "- Полное техническое обслуживание и поддержка компаний и частных клиентов\n",
            "- Развитие IT инфраструктуры\n",
            "- Развитие бизнес-процессов и системные интеграции\n",
            "- CRM системы\n",
            "- Майнинг фермы\n",
            "- Специфическое оборудование\n",
            "- Информационная безопасность и шифрование\n",
            "\n",
            "Базовые знания технологий и протоколов: AD, DNS, DHCP, XREGD, FTP, SMTP.\n",
            "\n",
            "Обслуживание и администрирование: 1С, кассовое оборудование, видеонаблюдение, компьютерная техника, сервера, торговое оборудование, аудио-видео техника.\n",
            "\n",
            "Умение общаться с неопытными пользователями, умею объяснять пользователям сложные вещи простыми словами.\n",
            "\n",
            "Компьютерные навыки:\n",
            "\n",
            "- Администрирование MS-DOS, Windows 95, 98, 2000, XP, Windows 7, 8, 10, 11, Linux, Windows Server 2000-2003-2008-2012-2016\n",
            "- 1С.\n"
          ]
        }
      ]
    },
    {
      "cell_type": "code",
      "source": [
        "display(HTML(display_diff(resume_text, ans)))"
      ],
      "metadata": {
        "colab": {
          "base_uri": "https://localhost:8080/",
          "height": 816
        },
        "id": "iMuhwBID-twS",
        "outputId": "25e4e32f-0fe6-4746-ca3c-c94fa7e2f626"
      },
      "execution_count": null,
      "outputs": [
        {
          "output_type": "display_data",
          "data": {
            "text/plain": [
              "<IPython.core.display.HTML object>"
            ],
            "text/html": [
              "<span>&lt;h3&gt;2. Личные качества:&lt;/h3&gt;&para;<br>&para;<br>Я спец</span><del style=\"background:#ffe6e6;\">е</del><ins style=\"background:#e6ffe6;\">и</ins><span>алист в области IT,</span><ins style=\"background:#e6ffe6;\"> имею</ins><span> большой опыт работы в сфере информационных т</span><del style=\"background:#ffe6e6;\">и</del><ins style=\"background:#e6ffe6;\">е</ins><span>хнологий. О</span><ins style=\"background:#e6ffe6;\">бладаю о</ins><span>тличны</span><del style=\"background:#ffe6e6;\">е</del><ins style=\"background:#e6ffe6;\">ми</ins><span> к</span><del style=\"background:#ffe6e6;\">а</del><ins style=\"background:#e6ffe6;\">о</ins><span>ммуникативны</span><del style=\"background:#ffe6e6;\">е</del><ins style=\"background:#e6ffe6;\">ми</ins><span> навык</span><del style=\"background:#ffe6e6;\">и. В</del><ins style=\"background:#e6ffe6;\">ами, в</ins><span>ысок</span><del style=\"background:#ffe6e6;\">и</del><ins style=\"background:#e6ffe6;\">о</ins><span>й организованность</span><ins style=\"background:#e6ffe6;\">ю</ins><span> и ответственн</span><del style=\"background:#ffe6e6;\">ый</del><ins style=\"background:#e6ffe6;\">остью</ins><span>. Уме</span><del style=\"background:#ffe6e6;\">ние</del><ins style=\"background:#e6ffe6;\">ю</ins><span> работать в команде. </span><del style=\"background:#ffe6e6;\">Ж</del><ins style=\"background:#e6ffe6;\">Имею ж</ins><span>елание дальше развиваться, участвовать в новых проектах и получа</span><del style=\"background:#ffe6e6;\">ю</del><ins style=\"background:#e6ffe6;\">ть</ins><span> навыки, необходимые для достижения поставленной цели.&para;<br>&para;<br>&lt;h3&gt;3. Профессиональные навыки:&lt;/h3&gt;&para;<br>&para;<br></span><ins style=\"background:#e6ffe6;\">- </ins><span>Системное администрирование</span><del style=\"background:#ffe6e6;\">, п</del><ins style=\"background:#e6ffe6;\">&para;<br>- П</ins><span>рограммирование</span><del style=\"background:#ffe6e6;\">, р</del><ins style=\"background:#e6ffe6;\">&para;<br>- Р</ins><span>емонт</span><del style=\"background:#ffe6e6;\">ирую</del><span> компьютерн</span><del style=\"background:#ffe6e6;\">ую</del><ins style=\"background:#e6ffe6;\">ой</ins><span> техник</span><del style=\"background:#ffe6e6;\">у, к</del><ins style=\"background:#e6ffe6;\">и&para;<br>- К</ins><span>онсультирование</span><del style=\"background:#ffe6e6;\">, п</del><ins style=\"background:#e6ffe6;\">&para;<br>- П</ins><span>олное техническое обслуживание и поддержка компаний и частных клиентов</span><del style=\"background:#ffe6e6;\">, р</del><ins style=\"background:#e6ffe6;\">&para;<br>- Р</ins><span>азвитие </span><del style=\"background:#ffe6e6;\">it</del><ins style=\"background:#e6ffe6;\">IT</ins><span> инфраструктуры</span><del style=\"background:#ffe6e6;\">, р</del><ins style=\"background:#e6ffe6;\">&para;<br>- Р</ins><span>азвитие бизнес-процессов </span><del style=\"background:#ffe6e6;\">-</del><ins style=\"background:#e6ffe6;\">и </ins><span>системные интеграции</span><del style=\"background:#ffe6e6;\">. &para;<br>&para;<br></del><ins style=\"background:#e6ffe6;\">&para;<br>- </ins><span>CRM системы</span><del style=\"background:#ffe6e6;\">, м</del><ins style=\"background:#e6ffe6;\">&para;<br>- М</ins><span>айнинг фермы</span><del style=\"background:#ffe6e6;\">, с</del><ins style=\"background:#e6ffe6;\">&para;<br>- С</ins><span>пецифическое оборудование</span><del style=\"background:#ffe6e6;\">.</del><ins style=\"background:#e6ffe6;\">&para;<br>-</ins><span> Информационная безопасность</span><del style=\"background:#ffe6e6;\">,</del><ins style=\"background:#e6ffe6;\"> и</ins><span> шифрование</span><del style=\"background:#ffe6e6;\">. </del><span>&para;<br>&para;<br>Базовые знания технологий и протоколов:&para;<br></span><del style=\"background:#ffe6e6;\">&lt;ul&gt;&para;<br>&lt;li&gt;AD,&lt;/li&gt; &lt;li&gt;DNS,&lt;/li&gt; &lt;li&gt;DHCP,&lt;/li&gt; &lt;li&gt;XREGD,&lt;/li&gt; &lt;li&gt;FTP,&lt;/li&gt; &lt;li&gt;SMTP.&lt;/li&gt;&para;<br>&lt;/ul&gt;</del><ins style=\"background:#e6ffe6;\">- AD&para;<br>- DNS&para;<br>- DHCP&para;<br>- XREGD&para;<br>- FTP&para;<br>- SMTP</ins><span>&para;<br>&para;<br>Обслуживание и администрирование:</span><del style=\"background:#ffe6e6;\"> 1с, к</del><ins style=\"background:#e6ffe6;\">&para;<br>- 1С&para;<br>- К</ins><span>ассовое оборудование</span><del style=\"background:#ffe6e6;\">, в</del><ins style=\"background:#e6ffe6;\">&para;<br>- В</ins><span>идеонаблюдение</span><del style=\"background:#ffe6e6;\">, к</del><ins style=\"background:#e6ffe6;\">&para;<br>- К</ins><span>омпьютерная техника</span><del style=\"background:#ffe6e6;\">, с</del><ins style=\"background:#e6ffe6;\">&para;<br>- С</ins><span>ервера</span><del style=\"background:#ffe6e6;\">, т</del><ins style=\"background:#e6ffe6;\">&para;<br>- Т</ins><span>орговое оборудование</span><del style=\"background:#ffe6e6;\">, а</del><ins style=\"background:#e6ffe6;\">&para;<br>- А</ins><span>удио-видео техника</span><del style=\"background:#ffe6e6;\">. </del><span>&para;<br>&para;<br>Умение общаться с неопытными пользователями, уме</span><del style=\"background:#ffe6e6;\">ю</del><ins style=\"background:#e6ffe6;\">ние</ins><span> объяснять пользователям сложные вещи простыми словами.&para;<br>&para;<br>Компьютерные навыки:&para;<br></span><del style=\"background:#ffe6e6;\">&para;<br></del><ins style=\"background:#e6ffe6;\">- </ins><span>Администрирование MS-DOS, Windows 95, 98, 2000, XP, Windows 7, 8, 10, 11, Linux, Windows Server 2000-2003-2008-2012-2016</span><del style=\"background:#ffe6e6;\">,</del><ins style=\"background:#e6ffe6;\">&para;<br>-</ins><span> 1С</span><del style=\"background:#ffe6e6;\">.</del>"
            ]
          },
          "metadata": {}
        }
      ]
    }
  ]
}