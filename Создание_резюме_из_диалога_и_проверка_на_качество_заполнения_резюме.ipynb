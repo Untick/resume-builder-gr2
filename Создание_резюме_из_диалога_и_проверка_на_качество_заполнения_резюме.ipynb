{
  "nbformat": 4,
  "nbformat_minor": 0,
  "metadata": {
    "colab": {
      "provenance": [],
      "include_colab_link": true
    },
    "kernelspec": {
      "name": "python3",
      "display_name": "Python 3"
    },
    "language_info": {
      "name": "python"
    }
  },
  "cells": [
    {
      "cell_type": "markdown",
      "metadata": {
        "id": "view-in-github",
        "colab_type": "text"
      },
      "source": [
        "<a href=\"https://colab.research.google.com/github/Untick/resume-builder-gr2/blob/Labzin-Vyacheslav-branch/%D0%A1%D0%BE%D0%B7%D0%B4%D0%B0%D0%BD%D0%B8%D0%B5_%D1%80%D0%B5%D0%B7%D1%8E%D0%BC%D0%B5_%D0%B8%D0%B7_%D0%B4%D0%B8%D0%B0%D0%BB%D0%BE%D0%B3%D0%B0_%D0%B8_%D0%BF%D1%80%D0%BE%D0%B2%D0%B5%D1%80%D0%BA%D0%B0_%D0%BD%D0%B0_%D0%BA%D0%B0%D1%87%D0%B5%D1%81%D1%82%D0%B2%D0%BE_%D0%B7%D0%B0%D0%BF%D0%BE%D0%BB%D0%BD%D0%B5%D0%BD%D0%B8%D1%8F_%D1%80%D0%B5%D0%B7%D1%8E%D0%BC%D0%B5.ipynb\" target=\"_parent\"><img src=\"https://colab.research.google.com/assets/colab-badge.svg\" alt=\"Open In Colab\"/></a>"
      ]
    },
    {
      "cell_type": "code",
      "source": [
        "!pip install openai"
      ],
      "metadata": {
        "colab": {
          "base_uri": "https://localhost:8080/"
        },
        "id": "5Q2oeV6mGhxB",
        "outputId": "2cb47129-5a32-4d08-8ca6-bda4b74e11bd"
      },
      "execution_count": 1,
      "outputs": [
        {
          "output_type": "stream",
          "name": "stdout",
          "text": [
            "Collecting openai\n",
            "  Downloading openai-0.28.1-py3-none-any.whl (76 kB)\n",
            "\u001b[?25l     \u001b[90m━━━━━━━━━━━━━━━━━━━━━━━━━━━━━━━━━━━━━━━━\u001b[0m \u001b[32m0.0/77.0 kB\u001b[0m \u001b[31m?\u001b[0m eta \u001b[36m-:--:--\u001b[0m\r\u001b[2K     \u001b[91m━━━━━━━━━━━━━━━━━━━━━━━━━━━━━━━━━━━━━\u001b[0m\u001b[90m╺\u001b[0m\u001b[90m━━\u001b[0m \u001b[32m71.7/77.0 kB\u001b[0m \u001b[31m2.2 MB/s\u001b[0m eta \u001b[36m0:00:01\u001b[0m\r\u001b[2K     \u001b[90m━━━━━━━━━━━━━━━━━━━━━━━━━━━━━━━━━━━━━━━━\u001b[0m \u001b[32m77.0/77.0 kB\u001b[0m \u001b[31m1.9 MB/s\u001b[0m eta \u001b[36m0:00:00\u001b[0m\n",
            "\u001b[?25hRequirement already satisfied: requests>=2.20 in /usr/local/lib/python3.10/dist-packages (from openai) (2.31.0)\n",
            "Requirement already satisfied: tqdm in /usr/local/lib/python3.10/dist-packages (from openai) (4.66.1)\n",
            "Requirement already satisfied: aiohttp in /usr/local/lib/python3.10/dist-packages (from openai) (3.8.6)\n",
            "Requirement already satisfied: charset-normalizer<4,>=2 in /usr/local/lib/python3.10/dist-packages (from requests>=2.20->openai) (3.3.1)\n",
            "Requirement already satisfied: idna<4,>=2.5 in /usr/local/lib/python3.10/dist-packages (from requests>=2.20->openai) (3.4)\n",
            "Requirement already satisfied: urllib3<3,>=1.21.1 in /usr/local/lib/python3.10/dist-packages (from requests>=2.20->openai) (2.0.7)\n",
            "Requirement already satisfied: certifi>=2017.4.17 in /usr/local/lib/python3.10/dist-packages (from requests>=2.20->openai) (2023.7.22)\n",
            "Requirement already satisfied: attrs>=17.3.0 in /usr/local/lib/python3.10/dist-packages (from aiohttp->openai) (23.1.0)\n",
            "Requirement already satisfied: multidict<7.0,>=4.5 in /usr/local/lib/python3.10/dist-packages (from aiohttp->openai) (6.0.4)\n",
            "Requirement already satisfied: async-timeout<5.0,>=4.0.0a3 in /usr/local/lib/python3.10/dist-packages (from aiohttp->openai) (4.0.3)\n",
            "Requirement already satisfied: yarl<2.0,>=1.0 in /usr/local/lib/python3.10/dist-packages (from aiohttp->openai) (1.9.2)\n",
            "Requirement already satisfied: frozenlist>=1.1.1 in /usr/local/lib/python3.10/dist-packages (from aiohttp->openai) (1.4.0)\n",
            "Requirement already satisfied: aiosignal>=1.1.2 in /usr/local/lib/python3.10/dist-packages (from aiohttp->openai) (1.3.1)\n",
            "Installing collected packages: openai\n",
            "\u001b[31mERROR: pip's dependency resolver does not currently take into account all the packages that are installed. This behaviour is the source of the following dependency conflicts.\n",
            "llmx 0.0.15a0 requires cohere, which is not installed.\n",
            "llmx 0.0.15a0 requires tiktoken, which is not installed.\u001b[0m\u001b[31m\n",
            "\u001b[0mSuccessfully installed openai-0.28.1\n"
          ]
        }
      ]
    },
    {
      "cell_type": "code",
      "source": [
        "import openai\n",
        "import getpass\n",
        "import os\n",
        "# Получение ключа API от пользователя и установка его как переменной окружения\n",
        "openai_key = getpass.getpass(\"OpenAI API Key:\")\n",
        "os.environ[\"OPENAI_API_KEY\"] = openai_key\n",
        "openai.api_key = openai_key"
      ],
      "metadata": {
        "colab": {
          "base_uri": "https://localhost:8080/"
        },
        "outputId": "f14518e9-37b1-4e2d-968c-abe1e56491f5",
        "id": "VQuSgQ3M2nBI"
      },
      "execution_count": 2,
      "outputs": [
        {
          "name": "stdout",
          "output_type": "stream",
          "text": [
            "OpenAI API Key:··········\n"
          ]
        }
      ]
    },
    {
      "cell_type": "code",
      "source": [
        "import re\n",
        "import requests"
      ],
      "metadata": {
        "id": "wRmiQUAFa6ig"
      },
      "execution_count": 24,
      "outputs": []
    },
    {
      "cell_type": "markdown",
      "source": [
        "# Создание резюме из диалога"
      ],
      "metadata": {
        "id": "SbyDA99dMd0j"
      }
    },
    {
      "cell_type": "code",
      "source": [
        "# Инструкция для GPT, которая будет подаваться в system\n",
        "system_doc= '''Ты профессиональный рекрутер, который составляет резюме для трудоустройства клиента в IT компанию.\n",
        "У тебя большой опыт по составлению грамотных резюме, чтобы они привлекали внимание работодателей в IT сфере.\n",
        "У тебя есть образец резюме.\n",
        "\n",
        "К тебе будет поступать информация клиента. Информация клиента будет представлена в виде словаря.\n",
        "Из представленной информации составь грамотное резюме.\n",
        "\n",
        "При составлении резюме добавь переносы строк, чтобы резюме выглядело также, как образец резюме.\n",
        " '''"
      ],
      "metadata": {
        "id": "zqpBKTpZ8GY_"
      },
      "execution_count": 11,
      "outputs": []
    },
    {
      "cell_type": "code",
      "source": [
        "with open('resume.txt', 'r') as file:\n",
        "  dialog = file.read()"
      ],
      "metadata": {
        "id": "B96XZEv5N_2P"
      },
      "execution_count": 3,
      "outputs": []
    },
    {
      "cell_type": "code",
      "source": [
        "print (dialog)"
      ],
      "metadata": {
        "colab": {
          "base_uri": "https://localhost:8080/"
        },
        "id": "YATpEU6-RGHP",
        "outputId": "815c7d4b-b4d7-4c00-f8f9-e2bcfb6a9c87"
      },
      "execution_count": 4,
      "outputs": [
        {
          "output_type": "stream",
          "name": "stdout",
          "text": [
            " {\"1 ФИО\": \"Иванов Вячеслав Владимирович\"} {\"2 краткое описание вашей профессиональной роли или цели\": \"Data Scientist\"} \n",
            " {\"3 номер телефона\": \" \"} {\"4 адрес электронной почты\": \"Ivanov@mail.ru\"} {\"5 О себе\": \" \"}\n",
            " {\"6 ключевые технологии, с которыми работал клиент\": \"Python, R, SQL, машинное обучение\"}\n",
            " {\"7 опыт работы - проекты, в которых клиент принимал участие\": \"Создание нейро-консультанта\"} {\"8 достижения - сертификаты, награды, если они есть у клиента\": \"Занял\n",
            " третье место в хакатоне по искусственному интеллекту\"} {\"9 опыт работы - название компании\": \"ПАО ГАЗ\"} {\"10 опыт работы - должность\": \"Главный технолог\"}\n",
            " {\"11 период работы\": \"с июля 2015 года по настоящее время\"} {'12 краткое описание обязанностей и достижений': \" \"}\n",
            " {\"13 образование - название учебного заведения\": \"Южный федеральный университет\"} {\"14 специализация в учебном заведении\": \"Прикладная математика и информатика\"} \n",
            " {\"15 год окончания учебного заведения\": \"2011\"} {\"16 дополнительные курсы или сертификаты, которые относятся к IT\": \"курс по машинному обучению\"}\n"
          ]
        }
      ]
    },
    {
      "cell_type": "code",
      "source": [
        "with open('resume_sample.txt', 'r') as file:\n",
        "  resume_sample = file.read()"
      ],
      "metadata": {
        "id": "2r5eE7syRSFa"
      },
      "execution_count": 28,
      "outputs": []
    },
    {
      "cell_type": "code",
      "source": [
        "print (resume_sample)"
      ],
      "metadata": {
        "colab": {
          "base_uri": "https://localhost:8080/"
        },
        "id": "gcxMOYzRRbc5",
        "outputId": "1565b119-5312-42be-a760-08ff2f94b92d"
      },
      "execution_count": 29,
      "outputs": [
        {
          "output_type": "stream",
          "name": "stdout",
          "text": [
            "﻿Вячеслав Лабзин  \n",
            "Data Scientist\n",
            "КОНТАКТЫ  \n",
            "  \n",
            "\n",
            "+7(499)-123-47-85                  \n",
            "labzin@mail.ru  \n",
            "\n",
            "\n",
            "О СЕБЕ\n",
            "\n",
            "\n",
            "Я Junior специалист в сфере искусственного интеллекта. Имею опыт работы с анализом данных, разработкой нейронных сетей. \n",
            "Активно изучаю и работаю с ChatGPT. \n",
            "\n",
            "\n",
            "НАВЫКИ\n",
            "\n",
            "\n",
            "Python, GPT (языковое моделирование), NumPy, Pandas, Matplotlib, Seaborn, Keras,Tensorflow \n",
            "\n",
            "\n",
            "ПРОФЕССИОНАЛЬНАЯ ДЕЯТЕЛЬНОСТЬ\n",
            "\n",
            "\n",
            "Проект: Создание веб-сайта для генерации резюме и сопроводительных писем\n",
            "\n",
            "\n",
            "\n",
            "Проект: Разработка нейронной сети для обработки данных горного эндоскопа\n",
            "\n",
            "\n",
            "\n",
            "2016 - сейчас\n",
            "ООО «КЗ «Ростсельмаш»\n",
            "\n",
            "\n",
            "ГЛАВНЫЙ СПЕЦИАЛИСТ МАТЕРИАЛЬНО-ТЕХНИЧЕСКОГО СНАБЖЕНИЯ ПО ЦЕНООБРАЗОВАНИЮ\n",
            "\n",
            "\n",
            "* проверка и согласование цен на покупные товарно-материальные ценности\n",
            "\n",
            "\n",
            "\n",
            "\n",
            "ОБРАЗОВАНИЕ\n",
            "\n",
            "\n",
            "2023\n",
            "УНИВЕРСИТЕТ ИСКУССТВЕННОГО ИНТЕЛЛЕКТА\n",
            "* Chat GPT Professional\n",
            "* Data Science и нейронные сети\n",
            "\n"
          ]
        }
      ]
    },
    {
      "cell_type": "code",
      "source": [
        "# Для подачи в user-assistant, чтобы показать пример, какой диалог будет подан в user\n",
        "dialog_sample = '''\n",
        "{'1 ФИО': 'Вячеслав Лабзин'} {'2 краткое описание вашей профессиональной роли или цели, например \"Full Stack разработчик\" или \"Data Scientist\"': 'Data Scientist'}\n",
        "{'3 номер телефона': '+7(499)-123-47-85'} {'4 адрес электронной почты': 'labzin@mail.ru'}\n",
        "{'5 О себе': 'Я Junior специалист в сфере искусственного интеллекта. Имею опыт работы с анализом данных, разработкой нейронных сетей.\n",
        "Активно изучаю и работаю с ChatGPT.'}\n",
        "{'6 ключевые технологии, с которыми работал клиент. Надо выбрать из перечня: Python, R, SQL, базовые знания статистики, машинное обучение, обработка данных, программная разработка': 'Python, GPT (языковое моделирование), NumPy, Pandas, Matplotlib, Seaborn, Keras,Tensorflow'},\n",
        "{'7 опыт работы - проекты, в которых клиент принимал участие': 'Создание веб-сайта для генерации резюме и сопроводительных писем; Разработка нейронной сети для обработки данных горного эндоскопа'},\n",
        "{'8 достижения - сертификаты, награды, если они есть у клиента': ' '} {'9 опыт работы - название компании': 'ООО «КЗ «Ростсельмаш»'}\n",
        "{'10 опыт работы - должность': 'ГЛАВНЫЙ СПЕЦИАЛИСТ МАТЕРИАЛЬНО-ТЕХНИЧЕСКОГО СНАБЖЕНИЯ ПО ЦЕНООБРАЗОВАНИЮ'} {'11 период работы': '2016 - сейчас'}\n",
        "{'12 краткое описание обязанностей и достижений': 'проверка и согласование цен на покупные товарно-материальные ценности'}\n",
        "{'13 образование - название учебного заведения': 'УНИВЕРСИТЕТ ИСКУССТВЕННОГО ИНТЕЛЛЕКТА'} {'14 специализация в учебном заведении': 'Chat GPT Professional; Data Science и нейронные сети'}\n",
        "{'15 год окончания учебного заведения': '2023'}\n",
        "'''"
      ],
      "metadata": {
        "id": "Sy9givuA9XiM"
      },
      "execution_count": 9,
      "outputs": []
    },
    {
      "cell_type": "code",
      "source": [
        "response = openai.ChatCompletion.create(\n",
        "  model=\"gpt-3.5-turbo\",\n",
        "  messages=[\n",
        "        {\"role\": \"system\", \"content\": f'{system_doc} \\n\\nОбразец резюме: {resume_sample}'},\n",
        "        {\"role\": \"user\", \"content\": f\"Составь резюме из диалога: \\n\\n{dialog_sample}. Информацию для резюме бери только из диалога. Если в диалоге информации нет, ставь пропуски. От себя ничего не добавляй.\"},\n",
        "        {\"role\": \"assistant\", \"content\": resume_sample},\n",
        "        {\"role\": \"user\", \"content\": f\"Составь резюме из диалога: \\n\\n{dialog}. Информацию для резюме бери только из диалога. Если в диалоге информации нет, ставь пропуски. От себя ничего не добавляй.\"}\n",
        "    ]\n",
        ")\n",
        "answer = response['choices'][0]['message']['content']\n",
        "print(answer)"
      ],
      "metadata": {
        "colab": {
          "base_uri": "https://localhost:8080/"
        },
        "id": "TmLT3GXqSTas",
        "outputId": "e9e046eb-a619-4887-9720-6adcdfb1678e"
      },
      "execution_count": 17,
      "outputs": [
        {
          "output_type": "stream",
          "name": "stdout",
          "text": [
            "﻿Иванов Вячеслав Владимирович  \n",
            "Data Scientist\n",
            "КОНТАКТЫ  \n",
            "  \n",
            "\n",
            "+7(XXX)XXXXXXX                  \n",
            "Ivanov@mail.ru  \n",
            "\n",
            "\n",
            "О СЕБЕ\n",
            "\n",
            "\n",
            " \n",
            "\n",
            "\n",
            "НАВЫКИ\n",
            "\n",
            "\n",
            "Python, R, SQL, машинное обучение \n",
            "\n",
            "\n",
            "ПРОФЕССИОНАЛЬНАЯ ДЕЯТЕЛЬНОСТЬ\n",
            "\n",
            "\n",
            "Проект: Создание нейро-консультанта\n",
            "\n",
            "\n",
            "\n",
            "Третье место в хакатоне по искусственному интеллекту\n",
            "\n",
            "\n",
            "\n",
            "\n",
            "2015 - настоящее время\n",
            "ПАО ГАЗ\n",
            "\n",
            "\n",
            "Главный технолог\n",
            "\n",
            "\n",
            "* \n",
            "\n",
            "\n",
            "ОБРАЗОВАНИЕ\n",
            "\n",
            "\n",
            "2011\n",
            "Южный федеральный университет\n",
            "* Прикладная математика и информатика\n",
            "\n",
            "\n",
            "ДОПОЛНИТЕЛЬНЫЕ КУРСЫ И СЕРТИФИКАТЫ\n",
            "\n",
            "\n",
            "курс по машинному обучению\n"
          ]
        }
      ]
    },
    {
      "cell_type": "markdown",
      "source": [
        "# Проверка заполнения резюме"
      ],
      "metadata": {
        "id": "LJoYf4yPanN1"
      }
    },
    {
      "cell_type": "code",
      "source": [
        "# функция для загрузки документа по ссылке из гугл драйв\n",
        "def load_document_text(url: str) -> str:\n",
        "    # Extract the document ID from the URL\n",
        "    match_ = re.search('/document/d/([a-zA-Z0-9-_]+)', url)\n",
        "    if match_ is None:\n",
        "        raise ValueError('Invalid Google Docs URL')\n",
        "    doc_id = match_.group(1)\n",
        "\n",
        "    # Download the document as plain text\n",
        "    response = requests.get(f'https://docs.google.com/document/d/{doc_id}/export?format=txt')\n",
        "    response.raise_for_status()\n",
        "    text = response.text\n",
        "\n",
        "    return text"
      ],
      "metadata": {
        "id": "DatlBsWEamlE"
      },
      "execution_count": 19,
      "outputs": []
    },
    {
      "cell_type": "code",
      "source": [
        "# Функция для представления длинного ответа в удобочитаемом виде\n",
        "def insert_newlines(text: str, max_len: int = 170) -> str:\n",
        "    \"\"\"\n",
        "    Функция разбивает длинный текст на строки определенной максимальной длины.\n",
        "    \"\"\"\n",
        "    words = text.split()\n",
        "    lines = []\n",
        "    current_line = \"\"\n",
        "    for word in words:\n",
        "        if len(current_line + \" \" + word) > max_len:\n",
        "            lines.append(current_line)\n",
        "            current_line = \"\"\n",
        "        current_line += \" \" + word\n",
        "    lines.append(current_line)\n",
        "    return \"\\n\".join(lines)"
      ],
      "metadata": {
        "id": "RhLWhQIfazH4"
      },
      "execution_count": 20,
      "outputs": []
    },
    {
      "cell_type": "code",
      "source": [
        "# ПРОМПТ в system\n",
        "system = load_document_text('https://docs.google.com/document/d/12fSAEOmhbkLTHrDq84OCI8Myo0HnHQ575yh02lzCNI8/edit?usp=sharing')"
      ],
      "metadata": {
        "id": "Hs5L1mKDa2E0"
      },
      "execution_count": 25,
      "outputs": []
    },
    {
      "cell_type": "code",
      "source": [
        "# Образец заполненного резюме\n",
        "resume_complet = load_document_text(\n",
        "    'https://docs.google.com/document/d/1UeR8y8husKJCVT5M-mQ_N8rKk-BKVAex/edit?usp=sharing&ouid=113312547144364951406&rtpof=true&sd=true')"
      ],
      "metadata": {
        "id": "BJqzBCovbVSV"
      },
      "execution_count": 30,
      "outputs": []
    },
    {
      "cell_type": "code",
      "source": [
        "# Резюме без образования\n",
        "resume_none_educ = load_document_text(\n",
        "    'https://docs.google.com/document/d/1qBuuFUhOPLqpIhfX5-ZdrhN8YVtzOrF3/edit?usp=sharing&ouid=113312547144364951406&rtpof=true&sd=true')"
      ],
      "metadata": {
        "id": "yOT57gukboBV"
      },
      "execution_count": 27,
      "outputs": []
    },
    {
      "cell_type": "code",
      "source": [
        "response = openai.ChatCompletion.create(\n",
        "  model=\"gpt-3.5-turbo\",\n",
        "  messages=[\n",
        "        {\"role\": \"system\", \"content\": f\"{system} \\n\\nОбразец правильно составленного резюме: {resume_complet}\"},\n",
        "        {\"role\": \"user\", \"content\": f\"Кратко укажи замечания по заполнению резюме: {resume_none_educ}.\"},\n",
        "        {\"role\": \"assistant\", \"content\": \"В резюме не заполнен блок Образование. Добавьте свое образование, связанное с IT специальностями.\"},\n",
        "        {\"role\": \"user\", \"content\": f\"Кратко укажи замечания по заполнению резюме: {answer}.\"}\n",
        "    ]\n",
        ")\n",
        "remarks = insert_newlines(response['choices'][0]['message']['content'])\n",
        "print(remarks)"
      ],
      "metadata": {
        "colab": {
          "base_uri": "https://localhost:8080/"
        },
        "id": "jLhIQph5calV",
        "outputId": "ba3850f8-5308-4386-fb1e-81aa12b819a9"
      },
      "execution_count": 31,
      "outputs": [
        {
          "output_type": "stream",
          "name": "stdout",
          "text": [
            " Замечания по заполнению резюме: - В блоке \"О себе\" не заполнена информация. Добавьте информацию о себе, своих целях и квалификации в сфере Data Science. - В блоке\n",
            " \"Навыки\" нет указания на IT навыки. Укажите, какие конкретно навыки связаны с IT и Data Science. Примеры IT навыков: Python, R, SQL, машинное обучение. - В блоке\n",
            " \"Профессиональная деятельность\" нет описания проекта \"Создание нейро-консультанта\". Добавьте информацию о задачах и результате проекта. - В блоке \"Профессиональная\n",
            " деятельность\" нет описания третьего места в хакатоне по искусственному интеллекту. Добавьте информацию о хакатоне и вашем вкладе в достижение третьего места. - В блоке\n",
            " \"Профессиональная деятельность\" не указаны обязанности и достижения в качестве главного технолога в ПАО ГАЗ. Добавьте информацию о ваших ответственностях и достижениях в\n",
            " данной должности. - В блоке \"Образование\" не указан год окончания университета. Добавьте год окончания. - В блоке \"Дополнительные курсы и сертификаты\" не указано\n",
            " название курса по машинному обучению. Укажите полное название курса и организацию, которая его проводила.\n"
          ]
        }
      ]
    }
  ]
}