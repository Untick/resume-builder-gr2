{
  "nbformat": 4,
  "nbformat_minor": 0,
  "metadata": {
    "colab": {
      "provenance": [],
      "include_colab_link": true
    },
    "kernelspec": {
      "name": "python3",
      "display_name": "Python 3"
    },
    "language_info": {
      "name": "python"
    }
  },
  "cells": [
    {
      "cell_type": "markdown",
      "metadata": {
        "id": "view-in-github",
        "colab_type": "text"
      },
      "source": [
        "<a href=\"https://colab.research.google.com/github/Untick/resume-builder-gr2/blob/Labzin-Vyacheslav-branch/%D0%9F%D1%80%D0%BE%D0%B2%D0%B5%D1%80%D0%BA%D0%B0_%D0%B7%D0%B0%D0%BF%D0%BE%D0%BB%D0%BD%D0%B5%D0%BD%D0%B8%D1%8F_%D1%80%D0%B5%D0%B7%D1%8E%D0%BC%D0%B5.ipynb\" target=\"_parent\"><img src=\"https://colab.research.google.com/assets/colab-badge.svg\" alt=\"Open In Colab\"/></a>"
      ]
    },
    {
      "cell_type": "code",
      "execution_count": null,
      "metadata": {
        "id": "7eAcgw4aCDrw"
      },
      "outputs": [],
      "source": [
        "!pip install tiktoken==0.4.0 openai==0.28.0 langchain==0.0.281 unstructured pdf2image pdfminer.six faiss-cpu==1.7.4"
      ]
    },
    {
      "cell_type": "code",
      "source": [
        "!pip install openai==0.28.0"
      ],
      "metadata": {
        "colab": {
          "base_uri": "https://localhost:8080/"
        },
        "id": "7incO54AoVZE",
        "outputId": "1db394c6-8270-451a-e2b7-3009a3d09e78"
      },
      "execution_count": 1,
      "outputs": [
        {
          "output_type": "stream",
          "name": "stdout",
          "text": [
            "Collecting openai==0.28.0\n",
            "  Downloading openai-0.28.0-py3-none-any.whl (76 kB)\n",
            "\u001b[?25l     \u001b[90m━━━━━━━━━━━━━━━━━━━━━━━━━━━━━━━━━━━━━━━━\u001b[0m \u001b[32m0.0/76.5 kB\u001b[0m \u001b[31m?\u001b[0m eta \u001b[36m-:--:--\u001b[0m\r\u001b[2K     \u001b[91m━━━━━━━━━━━━━━━━━━━━━━━━━━━━━━━━━━━━━\u001b[0m\u001b[90m╺\u001b[0m\u001b[90m━━\u001b[0m \u001b[32m71.7/76.5 kB\u001b[0m \u001b[31m2.2 MB/s\u001b[0m eta \u001b[36m0:00:01\u001b[0m\r\u001b[2K     \u001b[90m━━━━━━━━━━━━━━━━━━━━━━━━━━━━━━━━━━━━━━━━\u001b[0m \u001b[32m76.5/76.5 kB\u001b[0m \u001b[31m1.9 MB/s\u001b[0m eta \u001b[36m0:00:00\u001b[0m\n",
            "\u001b[?25hRequirement already satisfied: requests>=2.20 in /usr/local/lib/python3.10/dist-packages (from openai==0.28.0) (2.31.0)\n",
            "Requirement already satisfied: tqdm in /usr/local/lib/python3.10/dist-packages (from openai==0.28.0) (4.66.1)\n",
            "Requirement already satisfied: aiohttp in /usr/local/lib/python3.10/dist-packages (from openai==0.28.0) (3.8.6)\n",
            "Requirement already satisfied: charset-normalizer<4,>=2 in /usr/local/lib/python3.10/dist-packages (from requests>=2.20->openai==0.28.0) (3.3.1)\n",
            "Requirement already satisfied: idna<4,>=2.5 in /usr/local/lib/python3.10/dist-packages (from requests>=2.20->openai==0.28.0) (3.4)\n",
            "Requirement already satisfied: urllib3<3,>=1.21.1 in /usr/local/lib/python3.10/dist-packages (from requests>=2.20->openai==0.28.0) (2.0.7)\n",
            "Requirement already satisfied: certifi>=2017.4.17 in /usr/local/lib/python3.10/dist-packages (from requests>=2.20->openai==0.28.0) (2023.7.22)\n",
            "Requirement already satisfied: attrs>=17.3.0 in /usr/local/lib/python3.10/dist-packages (from aiohttp->openai==0.28.0) (23.1.0)\n",
            "Requirement already satisfied: multidict<7.0,>=4.5 in /usr/local/lib/python3.10/dist-packages (from aiohttp->openai==0.28.0) (6.0.4)\n",
            "Requirement already satisfied: async-timeout<5.0,>=4.0.0a3 in /usr/local/lib/python3.10/dist-packages (from aiohttp->openai==0.28.0) (4.0.3)\n",
            "Requirement already satisfied: yarl<2.0,>=1.0 in /usr/local/lib/python3.10/dist-packages (from aiohttp->openai==0.28.0) (1.9.2)\n",
            "Requirement already satisfied: frozenlist>=1.1.1 in /usr/local/lib/python3.10/dist-packages (from aiohttp->openai==0.28.0) (1.4.0)\n",
            "Requirement already satisfied: aiosignal>=1.1.2 in /usr/local/lib/python3.10/dist-packages (from aiohttp->openai==0.28.0) (1.3.1)\n",
            "Installing collected packages: openai\n",
            "\u001b[31mERROR: pip's dependency resolver does not currently take into account all the packages that are installed. This behaviour is the source of the following dependency conflicts.\n",
            "llmx 0.0.15a0 requires cohere, which is not installed.\n",
            "llmx 0.0.15a0 requires tiktoken, which is not installed.\u001b[0m\u001b[31m\n",
            "\u001b[0mSuccessfully installed openai-0.28.0\n"
          ]
        }
      ]
    },
    {
      "cell_type": "code",
      "source": [
        "import openai\n",
        "import getpass\n",
        "import re\n",
        "import requests\n",
        "import os\n",
        "openai_key = getpass.getpass(\"OpenAI API Key:\")\n",
        "os.environ[\"OPENAI_API_KEY\"] = openai_key\n",
        "openai.api_key = openai_key"
      ],
      "metadata": {
        "id": "6PF6T1TGGSzn",
        "colab": {
          "base_uri": "https://localhost:8080/"
        },
        "outputId": "3d6c2e44-186c-4e26-cb42-486bdd8059ac"
      },
      "execution_count": 3,
      "outputs": [
        {
          "name": "stdout",
          "output_type": "stream",
          "text": [
            "OpenAI API Key:··········\n"
          ]
        }
      ]
    },
    {
      "cell_type": "code",
      "source": [
        "# функция для загрузки документа по ссылке из гугл драйв\n",
        "def load_document_text(url: str) -> str:\n",
        "    # Extract the document ID from the URL\n",
        "    match_ = re.search('/document/d/([a-zA-Z0-9-_]+)', url)\n",
        "    if match_ is None:\n",
        "        raise ValueError('Invalid Google Docs URL')\n",
        "    doc_id = match_.group(1)\n",
        "\n",
        "    # Download the document as plain text\n",
        "    response = requests.get(f'https://docs.google.com/document/d/{doc_id}/export?format=txt')\n",
        "    response.raise_for_status()\n",
        "    text = response.text\n",
        "\n",
        "    return text"
      ],
      "metadata": {
        "id": "bjq-3lKq2bmX"
      },
      "execution_count": 4,
      "outputs": []
    },
    {
      "cell_type": "code",
      "source": [
        "# Функция для представления длинного ответа в удобочитаемом виде\n",
        "def insert_newlines(text: str, max_len: int = 170) -> str:\n",
        "    \"\"\"\n",
        "    Функция разбивает длинный текст на строки определенной максимальной длины.\n",
        "    \"\"\"\n",
        "    words = text.split()\n",
        "    lines = []\n",
        "    current_line = \"\"\n",
        "    for word in words:\n",
        "        if len(current_line + \" \" + word) > max_len:\n",
        "            lines.append(current_line)\n",
        "            current_line = \"\"\n",
        "        current_line += \" \" + word\n",
        "    lines.append(current_line)\n",
        "    return \"\\n\".join(lines)"
      ],
      "metadata": {
        "id": "Z2SPmDUsnyOE"
      },
      "execution_count": 5,
      "outputs": []
    },
    {
      "cell_type": "code",
      "source": [
        "# ПРОМПТ в system\n",
        "system = load_document_text('https://docs.google.com/document/d/12fSAEOmhbkLTHrDq84OCI8Myo0HnHQ575yh02lzCNI8/edit?usp=sharing')"
      ],
      "metadata": {
        "id": "15CqoF0_2Dud"
      },
      "execution_count": 17,
      "outputs": []
    },
    {
      "cell_type": "code",
      "source": [
        "# Образец резюме\n",
        "resume_sample = load_document_text(\n",
        "    'https://docs.google.com/document/d/1UeR8y8husKJCVT5M-mQ_N8rKk-BKVAex/edit?usp=sharing&ouid=113312547144364951406&rtpof=true&sd=true')"
      ],
      "metadata": {
        "id": "PO15jJ1ywm93"
      },
      "execution_count": 7,
      "outputs": []
    },
    {
      "cell_type": "code",
      "source": [
        "# Резюме без образования\n",
        "resume_none_educ = load_document_text(\n",
        "    'https://docs.google.com/document/d/1qBuuFUhOPLqpIhfX5-ZdrhN8YVtzOrF3/edit?usp=sharing&ouid=113312547144364951406&rtpof=true&sd=true')"
      ],
      "metadata": {
        "id": "kuzAD2QZWc6M"
      },
      "execution_count": 8,
      "outputs": []
    },
    {
      "cell_type": "code",
      "source": [
        "# Резюме без контактов\n",
        "resume_none_cont = load_document_text(\n",
        "    'https://docs.google.com/document/d/1eUx1vIDmLk1frN2h8mHTiRkDY7hqgjc0/edit?usp=sharing&ouid=113312547144364951406&rtpof=true&sd=true')"
      ],
      "metadata": {
        "id": "14hNZDccW_j6"
      },
      "execution_count": 9,
      "outputs": []
    },
    {
      "cell_type": "code",
      "source": [
        "# Резюме без навыков\n",
        "resume_none_skills = load_document_text(\n",
        "    'https://docs.google.com/document/d/1itZcIdHrSe9_SuheJvOx7Qm084WFfEW3/edit?usp=sharing&ouid=113312547144364951406&rtpof=true&sd=true')"
      ],
      "metadata": {
        "id": "VhP0mE2EXcRN"
      },
      "execution_count": 10,
      "outputs": []
    },
    {
      "cell_type": "code",
      "source": [
        "# Другое резюме без навыков\n",
        "resume_none_skills_2 = load_document_text(\n",
        "    'https://docs.google.com/document/d/1IdeQdCB_Yqubn4UDpVGTHEK0IrcKiTey/edit?usp=sharing&ouid=113312547144364951406&rtpof=true&sd=true')"
      ],
      "metadata": {
        "id": "Rc2jrD2wuY8U"
      },
      "execution_count": 22,
      "outputs": []
    },
    {
      "cell_type": "code",
      "source": [
        "# Резюме с нерелевантным образованием\n",
        "resume_fall_educ = load_document_text(\n",
        "    'https://docs.google.com/document/d/1vdIIE7dfBtfDvi3ZjzU-2bOSfLe6Lkq_/edit?usp=sharing&ouid=113312547144364951406&rtpof=true&sd=true')"
      ],
      "metadata": {
        "id": "755eK9tHX0Ml"
      },
      "execution_count": 11,
      "outputs": []
    },
    {
      "cell_type": "code",
      "source": [
        "# Резюме без блока \"О себе\"\n",
        "resume_none_me = load_document_text(\n",
        "    'https://docs.google.com/document/d/1Ije4qmt7Nur1E4zzrIoCWE442X8xOsVf/edit?usp=sharing&ouid=113312547144364951406&rtpof=true&sd=true')"
      ],
      "metadata": {
        "id": "dKkJwvtLYp23"
      },
      "execution_count": 12,
      "outputs": []
    },
    {
      "cell_type": "code",
      "source": [
        "response = openai.ChatCompletion.create(\n",
        "  model=\"gpt-3.5-turbo\",\n",
        "  messages=[\n",
        "        {\"role\": \"system\", \"content\": f\"{system} \\n\\nОбразец правильно составленного резюме: {resume_sample}\"},\n",
        "        {\"role\": \"user\", \"content\": f\"Кратко укажи замечания по заполнению резюме: {resume_none_educ}.\"},\n",
        "        {\"role\": \"assistant\", \"content\": \"В резюме не заполнен блок Образование. Добавьте свое образование, связанное с IT специальностями.\"},\n",
        "        {\"role\": \"user\", \"content\": f\"Кратко укажи замечания по заполнению резюме: {resume_none_cont}.\"}\n",
        "    ]\n",
        ")\n",
        "answer = insert_newlines(response['choices'][0]['message']['content'])\n",
        "print(answer)"
      ],
      "metadata": {
        "colab": {
          "base_uri": "https://localhost:8080/"
        },
        "id": "35zIRPqCsvuG",
        "outputId": "b904bfca-8a97-41fd-cf46-31d389854539"
      },
      "execution_count": 20,
      "outputs": [
        {
          "output_type": "stream",
          "name": "stdout",
          "text": [
            " - В блоке \"КОНТАКТЫ\" не указаны контактные данные, такие как телефон и email. - В блоке \"ОБО МНЕ\" не указано, что ты являешься выпускником IT университета. - Блок\n",
            " \"НАВЫКИ\" заполнен правильно. - В блоке \"ПРОФЕССИОНАЛЬНАЯ ДЕЯТЕЛЬНОСТЬ\" указаны нерелевантные для IT специалиста позиции. - В блоке \"ОБРАЗОВАНИЕ\" отсутствуют данные о\n",
            " твоем образовании в IT сфере.\n"
          ]
        }
      ]
    },
    {
      "cell_type": "code",
      "source": [
        "response = openai.ChatCompletion.create(\n",
        "  model=\"gpt-3.5-turbo\",\n",
        "  messages=[\n",
        "        {\"role\": \"system\", \"content\": f\"{system} \\n\\nОбразец правильно составленного резюме: {resume_sample}\"},\n",
        "        {\"role\": \"user\", \"content\": f\"Кратко укажи замечания по заполнению резюме: {resume_none_educ}.\"},\n",
        "        {\"role\": \"assistant\", \"content\": \"В резюме не заполнен блок Образование. Добавьте свое образование, связанное с IT специальностями.\"},\n",
        "        {\"role\": \"user\", \"content\": f\"Кратко укажи замечания по заполнению резюме: {resume_none_me}.\"}\n",
        "    ]\n",
        ")\n",
        "\n",
        "answer = insert_newlines(response['choices'][0]['message']['content'])\n",
        "print(answer)"
      ],
      "metadata": {
        "colab": {
          "base_uri": "https://localhost:8080/"
        },
        "id": "pD8lWwvoaztx",
        "outputId": "6c4dfce4-a851-4416-ea96-a544037c8423"
      },
      "execution_count": 18,
      "outputs": [
        {
          "output_type": "stream",
          "name": "stdout",
          "text": [
            " В резюме не заполнено поле \"О СЕБЕ\". Добавьте информацию о себе, связанную с IT специальностью, например, ваш опыт работы с анализом данных и разработкой нейронных\n",
            " сетей. Также, блок \"Навыки\" заполнен некорректно. Укажите конкретные IT навыки, такие как Python, GPT (языковое моделирование), NumPy, Pandas, Matplotlib, Seaborn,\n",
            " Keras, TensorFlow.\n"
          ]
        }
      ]
    },
    {
      "cell_type": "code",
      "source": [
        "response = openai.ChatCompletion.create(\n",
        "  model=\"gpt-3.5-turbo\",\n",
        "  messages=[\n",
        "        {\"role\": \"system\", \"content\": f\"{system} \\n\\nОбразец правильно составленного резюме: {resume_sample}\"},\n",
        "        {\"role\": \"user\", \"content\": f\"Кратко укажи замечания по заполнению резюме: {resume_none_educ}.\"},\n",
        "        {\"role\": \"assistant\", \"content\": \"В резюме не заполнен блок Образование. Добавьте свое образование, связанное с IT специальностями.\"},\n",
        "        {\"role\": \"user\", \"content\": f\"Кратко укажи замечания по заполнению резюме: {resume_fall_educ}.\"}\n",
        "    ]\n",
        ")\n",
        "\n",
        "answer = insert_newlines(response['choices'][0]['message']['content'])\n",
        "print(answer)"
      ],
      "metadata": {
        "colab": {
          "base_uri": "https://localhost:8080/"
        },
        "id": "UgmU44-Yh2J_",
        "outputId": "b59faa19-7cdf-4dff-bb0c-070a103a4178"
      },
      "execution_count": 25,
      "outputs": [
        {
          "output_type": "stream",
          "name": "stdout",
          "text": [
            " Замечания по заполнению резюме: 1. В блоке \"О себе\" указано, что вы являетесь Junior специалистом в сфере искусственного интеллекта и имеете опыт работы с анализом\n",
            " данных и разработкой нейронных сетей. Это информация релевантна и соответствует IT специальности. 2. В блоке \"Навыки\" указаны навыки, связанные с IT: Python, GPT\n",
            " (языковое моделирование), NumPy, Pandas, Matplotlib, Seaborn, Keras, TensorFlow. Навыки соответствуют IT специальности. 3. В блоке \"Профессиональная деятельность\"\n",
            " указаны проекты и стажировки, связанные с IT и анализом данных. Это релевантная информация. 4. В блоке \"Образование\" указано ваше высшее образование, связанное с\n",
            " инженерно-технической специальностью. Возможно, стоит добавить информацию о получении образования в области IT или специализированных курсах. Основные замечания к\n",
            " резюме: добавить информацию об образовании, связанном с IT, и более подробно описать проекты и стажировки, связанные с анализом данных и разработкой нейронных сетей.\n"
          ]
        }
      ]
    },
    {
      "cell_type": "code",
      "source": [
        "response = openai.ChatCompletion.create(\n",
        "  model=\"gpt-3.5-turbo\",\n",
        "  messages=[\n",
        "        {\"role\": \"system\", \"content\": f\"{system} \\n\\nОбразец правильно составленного резюме: {resume_sample}\"},\n",
        "        {\"role\": \"user\", \"content\": f\" Кратко укажи замечания по заполнению резюме: {resume_none_educ}.\"},\n",
        "        {\"role\": \"assistant\", \"content\": \"В резюме не заполнен блок Образование. Добавьте свое образование, связанное с IT специальностями.\"},\n",
        "        {\"role\": \"user\", \"content\": f\"Кратко укажи замечания по заполнению резюме: {resume_none_skills}.\"}\n",
        "    ]\n",
        ")\n",
        "\n",
        "answer = insert_newlines(response['choices'][0]['message']['content'])\n",
        "print(answer)"
      ],
      "metadata": {
        "colab": {
          "base_uri": "https://localhost:8080/"
        },
        "id": "L0NDJrv9ctqq",
        "outputId": "c8436f3e-cf76-4536-ed8c-2df9d5029270"
      },
      "execution_count": 19,
      "outputs": [
        {
          "output_type": "stream",
          "name": "stdout",
          "text": [
            " - В блоке \"Навыки\" не указаны конкретные IT навыки. Добавьте IT навыки, такие как Python, GPT (языковое моделирование), NumPy, Pandas, Matplotlib, Seaborn, Keras,\n",
            " Tensorflow. - В блоке \"Образование\" не указано связанное с IT специальностью образование. Добавьте информацию о вашем образовании, связанном с Data Science и нейронными\n",
            " сетями, например, курсы, сертификаты или программы обучения. - В блоках \"Профессиональная деятельность\" указаны опыт работы, не связанный с IT специальностью. Уберите\n",
            " информацию о работе, которая не относится к IT сфере. - В блоке \"О себе\" исчезло описание вашего опыта работы с анализом данных, разработкой нейронных сетей и активного\n",
            " изучения и работы с ChatGPT. Добавьте эту информацию в блок \"О себе\".\n"
          ]
        }
      ]
    },
    {
      "cell_type": "code",
      "source": [
        "# Изменил резюме\n",
        "response = openai.ChatCompletion.create(\n",
        "  model=\"gpt-3.5-turbo\",\n",
        "  messages=[\n",
        "        {\"role\": \"system\", \"content\": f\"{system} \\n\\nОбразец правильно составленного резюме: {resume_sample}\"},\n",
        "        {\"role\": \"user\", \"content\": f\" Кратко укажи замечания по заполнению резюме: {resume_none_educ}.\"},\n",
        "        {\"role\": \"assistant\", \"content\": \"В резюме не заполнен блок Образование. Добавьте свое образование, связанное с IT специальностями.\"},\n",
        "        {\"role\": \"user\", \"content\": f\"Кратко укажи замечания по заполнению резюме: {resume_none_skills_2}.\"}\n",
        "    ]\n",
        ")\n",
        "\n",
        "answer = insert_newlines(response['choices'][0]['message']['content'])\n",
        "print(answer)"
      ],
      "metadata": {
        "colab": {
          "base_uri": "https://localhost:8080/"
        },
        "id": "FQvPE2wrus3s",
        "outputId": "8090c774-2ba6-40e9-c4bb-751312017abe"
      },
      "execution_count": 23,
      "outputs": [
        {
          "output_type": "stream",
          "name": "stdout",
          "text": [
            " Замечания по заполнению резюме: 1. В блоке \"Навыки\" не указаны IT навыки. Укажите конкретные IT навыки, которыми вы владеете, например: Python, C++, Java, NumPy, Pandas,\n",
            " Matplotlib, Seaborn, Librosa, Gensim, Pymorphy2, Scikit-learn, SciPy, Keras, Pytorch. 2. В блоке \"Профессиональная деятельность\" необходимо указать должности и задачи,\n",
            " связанные с IT сферой. Удалите информацию о приеме сотрудников на работу в ООО \"РЖД\" и формировании бюджета в ОАО \"ГАЗ\", так как они не относятся к IT специализации. 3.\n",
            " В блоке \"Образование\" не указано образование, связанное с IT специальностями. Укажите ваше образование в сфере искусственного интеллекта или data science.\n"
          ]
        }
      ]
    }
  ]
}