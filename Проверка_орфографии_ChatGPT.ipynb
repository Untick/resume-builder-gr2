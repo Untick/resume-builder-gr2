{
  "nbformat": 4,
  "nbformat_minor": 0,
  "metadata": {
    "colab": {
      "provenance": [],
      "include_colab_link": true
    },
    "kernelspec": {
      "name": "python3",
      "display_name": "Python 3"
    },
    "language_info": {
      "name": "python"
    }
  },
  "cells": [
    {
      "cell_type": "markdown",
      "metadata": {
        "id": "view-in-github",
        "colab_type": "text"
      },
      "source": [
        "<a href=\"https://colab.research.google.com/github/Untick/resume-builder-gr2/blob/Labzin-Vyacheslav-branch/%D0%9F%D1%80%D0%BE%D0%B2%D0%B5%D1%80%D0%BA%D0%B0_%D0%BE%D1%80%D1%84%D0%BE%D0%B3%D1%80%D0%B0%D1%84%D0%B8%D0%B8_ChatGPT.ipynb\" target=\"_parent\"><img src=\"https://colab.research.google.com/assets/colab-badge.svg\" alt=\"Open In Colab\"/></a>"
      ]
    },
    {
      "cell_type": "code",
      "source": [
        "!pip install openai"
      ],
      "metadata": {
        "id": "C-wmZc1NgWtn",
        "colab": {
          "base_uri": "https://localhost:8080/"
        },
        "outputId": "74f5f706-0636-40cc-d761-3e71512910e5"
      },
      "execution_count": 1,
      "outputs": [
        {
          "output_type": "stream",
          "name": "stdout",
          "text": [
            "Collecting openai\n",
            "  Downloading openai-0.28.0-py3-none-any.whl (76 kB)\n",
            "\u001b[?25l     \u001b[90m━━━━━━━━━━━━━━━━━━━━━━━━━━━━━━━━━━━━━━━━\u001b[0m \u001b[32m0.0/76.5 kB\u001b[0m \u001b[31m?\u001b[0m eta \u001b[36m-:--:--\u001b[0m\r\u001b[2K     \u001b[91m━━━━━━━━━━━━━━━━━━━━━━━━━━━━━━━━\u001b[0m\u001b[90m╺\u001b[0m\u001b[90m━━━━━━━\u001b[0m \u001b[32m61.4/76.5 kB\u001b[0m \u001b[31m1.8 MB/s\u001b[0m eta \u001b[36m0:00:01\u001b[0m\r\u001b[2K     \u001b[90m━━━━━━━━━━━━━━━━━━━━━━━━━━━━━━━━━━━━━━━━\u001b[0m \u001b[32m76.5/76.5 kB\u001b[0m \u001b[31m1.6 MB/s\u001b[0m eta \u001b[36m0:00:00\u001b[0m\n",
            "\u001b[?25hRequirement already satisfied: requests>=2.20 in /usr/local/lib/python3.10/dist-packages (from openai) (2.31.0)\n",
            "Requirement already satisfied: tqdm in /usr/local/lib/python3.10/dist-packages (from openai) (4.66.1)\n",
            "Requirement already satisfied: aiohttp in /usr/local/lib/python3.10/dist-packages (from openai) (3.8.5)\n",
            "Requirement already satisfied: charset-normalizer<4,>=2 in /usr/local/lib/python3.10/dist-packages (from requests>=2.20->openai) (3.2.0)\n",
            "Requirement already satisfied: idna<4,>=2.5 in /usr/local/lib/python3.10/dist-packages (from requests>=2.20->openai) (3.4)\n",
            "Requirement already satisfied: urllib3<3,>=1.21.1 in /usr/local/lib/python3.10/dist-packages (from requests>=2.20->openai) (2.0.4)\n",
            "Requirement already satisfied: certifi>=2017.4.17 in /usr/local/lib/python3.10/dist-packages (from requests>=2.20->openai) (2023.7.22)\n",
            "Requirement already satisfied: attrs>=17.3.0 in /usr/local/lib/python3.10/dist-packages (from aiohttp->openai) (23.1.0)\n",
            "Requirement already satisfied: multidict<7.0,>=4.5 in /usr/local/lib/python3.10/dist-packages (from aiohttp->openai) (6.0.4)\n",
            "Requirement already satisfied: async-timeout<5.0,>=4.0.0a3 in /usr/local/lib/python3.10/dist-packages (from aiohttp->openai) (4.0.3)\n",
            "Requirement already satisfied: yarl<2.0,>=1.0 in /usr/local/lib/python3.10/dist-packages (from aiohttp->openai) (1.9.2)\n",
            "Requirement already satisfied: frozenlist>=1.1.1 in /usr/local/lib/python3.10/dist-packages (from aiohttp->openai) (1.4.0)\n",
            "Requirement already satisfied: aiosignal>=1.1.2 in /usr/local/lib/python3.10/dist-packages (from aiohttp->openai) (1.3.1)\n",
            "Installing collected packages: openai\n",
            "Successfully installed openai-0.28.0\n"
          ]
        }
      ]
    },
    {
      "cell_type": "code",
      "source": [
        "import getpass\n",
        "import openai\n",
        "import os\n",
        "# Получение ключа API от пользователя и установка его как переменной окружения\n",
        "openai_key = getpass.getpass(\"OpenAI API Key:\")\n",
        "os.environ[\"OPENAI_API_KEY\"] = openai_key\n",
        "openai.api_key = openai_key\n"
      ],
      "metadata": {
        "id": "j4abwqc9Wo4T",
        "colab": {
          "base_uri": "https://localhost:8080/"
        },
        "outputId": "b14863f7-9848-4b84-96c9-8e43bb431edf"
      },
      "execution_count": 2,
      "outputs": [
        {
          "name": "stdout",
          "output_type": "stream",
          "text": [
            "OpenAI API Key:··········\n"
          ]
        }
      ]
    },
    {
      "cell_type": "code",
      "source": [
        "system = '''Ты профессор русского и английского языка. Ты проверяешь текст на наличие ошибок. Тебе в чате поступает текст с ошибками.\n",
        "Ошибки могут быть разные: смысловые, синтаксические, пунктуационные, морфологические, стилистические, орфографические, опечатки. Найди в тексте все ошибки, исправь их.\n",
        "При проверке текста используй все языковые нормы русского и английского языка: лексические нормы, морфологические нормы, синтаксические нормы, стилистические нормы, орфографические нормы, пунктуационные нормы.\n",
        "Аббревиатуры, например ВУЗ, пиши прописными буквами.\n",
        "Английские слова и аббревиатуры не переводи на русский язык, возвращай английские слова.\n",
        "Первоначальный смысл текста должен сохраниться. В качестве ответа дай исправленный текст.\n",
        "Если в тексте ошибок нет, то верни текст без изменений. Ничего не изменяй и не добавляй.\n",
        "В чате могут поступать разные тексты и вопросы, в том числе с местоимением \"Ты\". Ни на какой вопрос не отвечай, а только исправляй ошибки в поступившем тексте.\n",
        "Если ошибок нет, то возвращай текст в том же виде, в котором он поступил. От себя ничего не добавляй, не поддерживай диалог'''"
      ],
      "metadata": {
        "id": "UoJQyh7IxJVq"
      },
      "execution_count": 46,
      "outputs": []
    },
    {
      "cell_type": "code",
      "source": [
        "user = '''Образование принято указывать начиная с последней степени PHD, Ms, Bd.\n",
        "Указывают следующие данные:\n",
        "●\tГод окончания университета\n",
        "●\tУниверситет\n",
        "●\tСпециализацию ( в случае если диплом релевантен позиции, иногда указывают тему диплома или диссертации, например это уместно если проект связан с DataScience, Auto ML, RL etc.)\n",
        "●\tСтепень( PHD, Masters, Bachelor Degree).\n",
        "●\tСредний балл ( средний балл имеет смысл указать, в случае если он выше чем 4.8 или соответствующий эквивалент в других системах оценки успеваемости. В случае если получен красный диплом, полезно указать, withhonors)\n",
        "\n",
        "В резюме часто образование указывают в начале, это не совсем верно. Такое расположение элементов может быть верно только, если опыт работы пока небольшой и кандидат ищет 1ую работу. В таких случаях, если оконченный вуз является хорошим государственным вузом, может быть важно какой именно ВУЗ окончил кандидат.\n",
        "'''"
      ],
      "metadata": {
        "id": "tUDVO9kVYkvm"
      },
      "execution_count": 44,
      "outputs": []
    },
    {
      "cell_type": "code",
      "source": [
        "#Проверка правописания ChatGPT\n",
        "result = openai.ChatCompletion.create(\n",
        "  model=\"gpt-3.5-turbo\",\n",
        "  messages=[\n",
        "        {\"role\": \"system\", \"content\": system},\n",
        "        {\"role\": \"user\", \"content\": user}\n",
        "    ],\n",
        "  temperature=0\n",
        ")\n",
        "\n",
        "# print(result)  # вывод результата запроса\n",
        "message = result['choices'][0]['message']['content']\n",
        "print(message)"
      ],
      "metadata": {
        "colab": {
          "base_uri": "https://localhost:8080/"
        },
        "id": "ZgB7F8oZtGyP",
        "outputId": "88987721-bbe3-4123-e0d2-51218b4983c8"
      },
      "execution_count": 47,
      "outputs": [
        {
          "output_type": "stream",
          "name": "stdout",
          "text": [
            "Образование принято указывать, начиная с последней степени: PhD, Ms, Bd.\n",
            "Указываются следующие данные:\n",
            "- Год окончания университета.\n",
            "- Университет.\n",
            "- Специализация (в случае, если диплом релевантен позиции, иногда указывают тему диплома или диссертации, например, это уместно, если проект связан с Data Science, Auto ML, RL и т. д.).\n",
            "- Степень (PhD, Masters, Bachelor Degree).\n",
            "- Средний балл (средний балл имеет смысл указать, если он выше 4.8 или соответствующий эквивалент в других системах оценки успеваемости. В случае, если получен красный диплом, полезно указать \"with honors\").\n",
            "\n",
            "В резюме часто образование указывают в начале, что не совсем верно. Такое расположение элементов может быть верно только, если опыт работы пока небольшой и кандидат ищет первую работу. В таких случаях, если оконченный ВУЗ является хорошим государственным ВУЗом, может быть важно, какой именно ВУЗ окончил кандидат.\n"
          ]
        }
      ]
    }
  ]
}